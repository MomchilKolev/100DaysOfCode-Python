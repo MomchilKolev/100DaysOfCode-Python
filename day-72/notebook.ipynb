{
 "cells": [
  {
   "cell_type": "code",
   "execution_count": 181,
   "id": "66a97dc8-ab11-4b85-bbeb-3efee5c68b0d",
   "metadata": {},
   "outputs": [],
   "source": [
    "#!pip install polars"
   ]
  },
  {
   "cell_type": "code",
   "execution_count": 182,
   "id": "2a09930f-396d-43eb-ae95-f66f9a9df2e2",
   "metadata": {},
   "outputs": [],
   "source": [
    "import polars as pl"
   ]
  },
  {
   "cell_type": "code",
   "execution_count": 183,
   "id": "904e4330-6206-4aa9-a96e-c45b0a4e8a04",
   "metadata": {},
   "outputs": [],
   "source": [
    "df = pl.read_csv('salaries_by_college_major.csv')"
   ]
  },
  {
   "cell_type": "code",
   "execution_count": 184,
   "id": "c87b2fcf-728a-49ec-b015-624932f57011",
   "metadata": {
    "scrolled": true
   },
   "outputs": [
    {
     "data": {
      "text/html": [
       "<div><style>\n",
       ".dataframe > thead > tr,\n",
       ".dataframe > tbody > tr {\n",
       "  text-align: right;\n",
       "  white-space: pre-wrap;\n",
       "}\n",
       "</style>\n",
       "<small>shape: (5, 6)</small><table border=\"1\" class=\"dataframe\"><thead><tr><th>Undergraduate Major</th><th>Starting Median Salary</th><th>Mid-Career Median Salary</th><th>Mid-Career 10th Percentile Salary</th><th>Mid-Career 90th Percentile Salary</th><th>Group</th></tr><tr><td>str</td><td>f64</td><td>f64</td><td>f64</td><td>f64</td><td>str</td></tr></thead><tbody><tr><td>&quot;Accounting&quot;</td><td>46000.0</td><td>77100.0</td><td>42200.0</td><td>152000.0</td><td>&quot;Business&quot;</td></tr><tr><td>&quot;Aerospace Engi…</td><td>57700.0</td><td>101000.0</td><td>64300.0</td><td>161000.0</td><td>&quot;STEM&quot;</td></tr><tr><td>&quot;Agriculture&quot;</td><td>42600.0</td><td>71900.0</td><td>36300.0</td><td>150000.0</td><td>&quot;Business&quot;</td></tr><tr><td>&quot;Anthropology&quot;</td><td>36800.0</td><td>61500.0</td><td>33800.0</td><td>138000.0</td><td>&quot;HASS&quot;</td></tr><tr><td>&quot;Architecture&quot;</td><td>41600.0</td><td>76800.0</td><td>50600.0</td><td>136000.0</td><td>&quot;Business&quot;</td></tr></tbody></table></div>"
      ],
      "text/plain": [
       "shape: (5, 6)\n",
       "┌──────────────────┬──────────────────┬──────────────────┬────────────┬─────────────────┬──────────┐\n",
       "│ Undergraduate    ┆ Starting Median  ┆ Mid-Career       ┆ Mid-Career ┆ Mid-Career 90th ┆ Group    │\n",
       "│ Major            ┆ Salary           ┆ Median Salary    ┆ 10th       ┆ Percentile      ┆ ---      │\n",
       "│ ---              ┆ ---              ┆ ---              ┆ Percentile ┆ Salar…          ┆ str      │\n",
       "│ str              ┆ f64              ┆ f64              ┆ Salar…     ┆ ---             ┆          │\n",
       "│                  ┆                  ┆                  ┆ ---        ┆ f64             ┆          │\n",
       "│                  ┆                  ┆                  ┆ f64        ┆                 ┆          │\n",
       "╞══════════════════╪══════════════════╪══════════════════╪════════════╪═════════════════╪══════════╡\n",
       "│ Accounting       ┆ 46000.0          ┆ 77100.0          ┆ 42200.0    ┆ 152000.0        ┆ Business │\n",
       "│ Aerospace        ┆ 57700.0          ┆ 101000.0         ┆ 64300.0    ┆ 161000.0        ┆ STEM     │\n",
       "│ Engineering      ┆                  ┆                  ┆            ┆                 ┆          │\n",
       "│ Agriculture      ┆ 42600.0          ┆ 71900.0          ┆ 36300.0    ┆ 150000.0        ┆ Business │\n",
       "│ Anthropology     ┆ 36800.0          ┆ 61500.0          ┆ 33800.0    ┆ 138000.0        ┆ HASS     │\n",
       "│ Architecture     ┆ 41600.0          ┆ 76800.0          ┆ 50600.0    ┆ 136000.0        ┆ Business │\n",
       "└──────────────────┴──────────────────┴──────────────────┴────────────┴─────────────────┴──────────┘"
      ]
     },
     "execution_count": 184,
     "metadata": {},
     "output_type": "execute_result"
    }
   ],
   "source": [
    "df.head()"
   ]
  },
  {
   "cell_type": "code",
   "execution_count": 185,
   "id": "5e13fa6f-fd47-41e8-83c7-a01b1d25de47",
   "metadata": {},
   "outputs": [
    {
     "data": {
      "text/plain": [
       "(51, 6)"
      ]
     },
     "execution_count": 185,
     "metadata": {},
     "output_type": "execute_result"
    }
   ],
   "source": [
    "df.shape"
   ]
  },
  {
   "cell_type": "code",
   "execution_count": 186,
   "id": "e1438da3-06e1-47de-89f6-c65ad7006f75",
   "metadata": {},
   "outputs": [
    {
     "data": {
      "text/plain": [
       "['Undergraduate Major',\n",
       " 'Starting Median Salary',\n",
       " 'Mid-Career Median Salary',\n",
       " 'Mid-Career 10th Percentile Salary',\n",
       " 'Mid-Career 90th Percentile Salary',\n",
       " 'Group']"
      ]
     },
     "execution_count": 186,
     "metadata": {},
     "output_type": "execute_result"
    }
   ],
   "source": [
    "df.columns"
   ]
  },
  {
   "cell_type": "code",
   "execution_count": 187,
   "id": "754c08b9-0152-46d2-9024-7454d8d47d0e",
   "metadata": {},
   "outputs": [],
   "source": [
    "#df.isna()"
   ]
  },
  {
   "cell_type": "code",
   "execution_count": 188,
   "id": "ee1b7d79-5a71-4f31-a21a-857f72ff17b6",
   "metadata": {},
   "outputs": [
    {
     "data": {
      "text/html": [
       "<div><style>\n",
       ".dataframe > thead > tr,\n",
       ".dataframe > tbody > tr {\n",
       "  text-align: right;\n",
       "  white-space: pre-wrap;\n",
       "}\n",
       "</style>\n",
       "<small>shape: (1, 6)</small><table border=\"1\" class=\"dataframe\"><thead><tr><th>Undergraduate Major</th><th>Starting Median Salary</th><th>Mid-Career Median Salary</th><th>Mid-Career 10th Percentile Salary</th><th>Mid-Career 90th Percentile Salary</th><th>Group</th></tr><tr><td>u32</td><td>u32</td><td>u32</td><td>u32</td><td>u32</td><td>u32</td></tr></thead><tbody><tr><td>0</td><td>1</td><td>1</td><td>1</td><td>1</td><td>1</td></tr></tbody></table></div>"
      ],
      "text/plain": [
       "shape: (1, 6)\n",
       "┌──────────────────┬─────────────────┬─────────────────┬─────────────────┬─────────────────┬───────┐\n",
       "│ Undergraduate    ┆ Starting Median ┆ Mid-Career      ┆ Mid-Career 10th ┆ Mid-Career 90th ┆ Group │\n",
       "│ Major            ┆ Salary          ┆ Median Salary   ┆ Percentile      ┆ Percentile      ┆ ---   │\n",
       "│ ---              ┆ ---             ┆ ---             ┆ Salar…          ┆ Salar…          ┆ u32   │\n",
       "│ u32              ┆ u32             ┆ u32             ┆ ---             ┆ ---             ┆       │\n",
       "│                  ┆                 ┆                 ┆ u32             ┆ u32             ┆       │\n",
       "╞══════════════════╪═════════════════╪═════════════════╪═════════════════╪═════════════════╪═══════╡\n",
       "│ 0                ┆ 1               ┆ 1               ┆ 1               ┆ 1               ┆ 1     │\n",
       "└──────────────────┴─────────────────┴─────────────────┴─────────────────┴─────────────────┴───────┘"
      ]
     },
     "execution_count": 188,
     "metadata": {},
     "output_type": "execute_result"
    }
   ],
   "source": [
    "df.null_count()"
   ]
  },
  {
   "cell_type": "code",
   "execution_count": 189,
   "id": "8ca581fb-0ada-46c7-a6e0-f7f86dce9bc3",
   "metadata": {
    "scrolled": true
   },
   "outputs": [
    {
     "data": {
      "text/plain": [
       "<bound method DataFrame.tail of shape: (51, 6)\n",
       "┌──────────────────┬──────────────────┬──────────────────┬────────────┬─────────────────┬──────────┐\n",
       "│ Undergraduate    ┆ Starting Median  ┆ Mid-Career       ┆ Mid-Career ┆ Mid-Career 90th ┆ Group    │\n",
       "│ Major            ┆ Salary           ┆ Median Salary    ┆ 10th       ┆ Percentile      ┆ ---      │\n",
       "│ ---              ┆ ---              ┆ ---              ┆ Percentile ┆ Salar…          ┆ str      │\n",
       "│ str              ┆ f64              ┆ f64              ┆ Salar…     ┆ ---             ┆          │\n",
       "│                  ┆                  ┆                  ┆ ---        ┆ f64             ┆          │\n",
       "│                  ┆                  ┆                  ┆ f64        ┆                 ┆          │\n",
       "╞══════════════════╪══════════════════╪══════════════════╪════════════╪═════════════════╪══════════╡\n",
       "│ Accounting       ┆ 46000.0          ┆ 77100.0          ┆ 42200.0    ┆ 152000.0        ┆ Business │\n",
       "│ Aerospace        ┆ 57700.0          ┆ 101000.0         ┆ 64300.0    ┆ 161000.0        ┆ STEM     │\n",
       "│ Engineering      ┆                  ┆                  ┆            ┆                 ┆          │\n",
       "│ Agriculture      ┆ 42600.0          ┆ 71900.0          ┆ 36300.0    ┆ 150000.0        ┆ Business │\n",
       "│ Anthropology     ┆ 36800.0          ┆ 61500.0          ┆ 33800.0    ┆ 138000.0        ┆ HASS     │\n",
       "│ Architecture     ┆ 41600.0          ┆ 76800.0          ┆ 50600.0    ┆ 136000.0        ┆ Business │\n",
       "│ …                ┆ …                ┆ …                ┆ …          ┆ …               ┆ …        │\n",
       "│ Psychology       ┆ 35900.0          ┆ 60400.0          ┆ 31600.0    ┆ 127000.0        ┆ HASS     │\n",
       "│ Religion         ┆ 34100.0          ┆ 52000.0          ┆ 29700.0    ┆ 96400.0         ┆ HASS     │\n",
       "│ Sociology        ┆ 36500.0          ┆ 58200.0          ┆ 30700.0    ┆ 118000.0        ┆ HASS     │\n",
       "│ Spanish          ┆ 34000.0          ┆ 53100.0          ┆ 31000.0    ┆ 96400.0         ┆ HASS     │\n",
       "│ Source: PayScale ┆ null             ┆ null             ┆ null       ┆ null            ┆ null     │\n",
       "│ Inc.             ┆                  ┆                  ┆            ┆                 ┆          │\n",
       "└──────────────────┴──────────────────┴──────────────────┴────────────┴─────────────────┴──────────┘>"
      ]
     },
     "execution_count": 189,
     "metadata": {},
     "output_type": "execute_result"
    }
   ],
   "source": [
    "df.tail"
   ]
  },
  {
   "cell_type": "code",
   "execution_count": 190,
   "id": "ec9a0dee-633c-491d-91cc-c0dafd7caa7f",
   "metadata": {},
   "outputs": [],
   "source": [
    "clean_df = df.drop_nulls()"
   ]
  },
  {
   "cell_type": "code",
   "execution_count": 191,
   "id": "7a504eef-d564-437c-87a0-1d9a828c801e",
   "metadata": {},
   "outputs": [
    {
     "data": {
      "text/html": [
       "<div><style>\n",
       ".dataframe > thead > tr,\n",
       ".dataframe > tbody > tr {\n",
       "  text-align: right;\n",
       "  white-space: pre-wrap;\n",
       "}\n",
       "</style>\n",
       "<small>shape: (5, 6)</small><table border=\"1\" class=\"dataframe\"><thead><tr><th>Undergraduate Major</th><th>Starting Median Salary</th><th>Mid-Career Median Salary</th><th>Mid-Career 10th Percentile Salary</th><th>Mid-Career 90th Percentile Salary</th><th>Group</th></tr><tr><td>str</td><td>f64</td><td>f64</td><td>f64</td><td>f64</td><td>str</td></tr></thead><tbody><tr><td>&quot;Political Scie…</td><td>40800.0</td><td>78200.0</td><td>41200.0</td><td>168000.0</td><td>&quot;HASS&quot;</td></tr><tr><td>&quot;Psychology&quot;</td><td>35900.0</td><td>60400.0</td><td>31600.0</td><td>127000.0</td><td>&quot;HASS&quot;</td></tr><tr><td>&quot;Religion&quot;</td><td>34100.0</td><td>52000.0</td><td>29700.0</td><td>96400.0</td><td>&quot;HASS&quot;</td></tr><tr><td>&quot;Sociology&quot;</td><td>36500.0</td><td>58200.0</td><td>30700.0</td><td>118000.0</td><td>&quot;HASS&quot;</td></tr><tr><td>&quot;Spanish&quot;</td><td>34000.0</td><td>53100.0</td><td>31000.0</td><td>96400.0</td><td>&quot;HASS&quot;</td></tr></tbody></table></div>"
      ],
      "text/plain": [
       "shape: (5, 6)\n",
       "┌──────────────────┬─────────────────┬─────────────────┬─────────────────┬─────────────────┬───────┐\n",
       "│ Undergraduate    ┆ Starting Median ┆ Mid-Career      ┆ Mid-Career 10th ┆ Mid-Career 90th ┆ Group │\n",
       "│ Major            ┆ Salary          ┆ Median Salary   ┆ Percentile      ┆ Percentile      ┆ ---   │\n",
       "│ ---              ┆ ---             ┆ ---             ┆ Salar…          ┆ Salar…          ┆ str   │\n",
       "│ str              ┆ f64             ┆ f64             ┆ ---             ┆ ---             ┆       │\n",
       "│                  ┆                 ┆                 ┆ f64             ┆ f64             ┆       │\n",
       "╞══════════════════╪═════════════════╪═════════════════╪═════════════════╪═════════════════╪═══════╡\n",
       "│ Political        ┆ 40800.0         ┆ 78200.0         ┆ 41200.0         ┆ 168000.0        ┆ HASS  │\n",
       "│ Science          ┆                 ┆                 ┆                 ┆                 ┆       │\n",
       "│ Psychology       ┆ 35900.0         ┆ 60400.0         ┆ 31600.0         ┆ 127000.0        ┆ HASS  │\n",
       "│ Religion         ┆ 34100.0         ┆ 52000.0         ┆ 29700.0         ┆ 96400.0         ┆ HASS  │\n",
       "│ Sociology        ┆ 36500.0         ┆ 58200.0         ┆ 30700.0         ┆ 118000.0        ┆ HASS  │\n",
       "│ Spanish          ┆ 34000.0         ┆ 53100.0         ┆ 31000.0         ┆ 96400.0         ┆ HASS  │\n",
       "└──────────────────┴─────────────────┴─────────────────┴─────────────────┴─────────────────┴───────┘"
      ]
     },
     "execution_count": 191,
     "metadata": {},
     "output_type": "execute_result"
    }
   ],
   "source": [
    "clean_df.tail()"
   ]
  },
  {
   "cell_type": "markdown",
   "id": "3e76e8ad-6b65-40f7-b1ae-237a0d42d7e8",
   "metadata": {},
   "source": [
    "# Accessing Columns and Individual Cells in a Dataframe"
   ]
  },
  {
   "cell_type": "code",
   "execution_count": 192,
   "id": "9002799a-1ab8-4eae-b7d5-d47358fce98c",
   "metadata": {},
   "outputs": [
    {
     "data": {
      "text/html": [
       "<div><style>\n",
       ".dataframe > thead > tr,\n",
       ".dataframe > tbody > tr {\n",
       "  text-align: right;\n",
       "  white-space: pre-wrap;\n",
       "}\n",
       "</style>\n",
       "<small>shape: (50,)</small><table border=\"1\" class=\"dataframe\"><thead><tr><th>Starting Median Salary</th></tr><tr><td>f64</td></tr></thead><tbody><tr><td>46000.0</td></tr><tr><td>57700.0</td></tr><tr><td>42600.0</td></tr><tr><td>36800.0</td></tr><tr><td>41600.0</td></tr><tr><td>35800.0</td></tr><tr><td>38800.0</td></tr><tr><td>43000.0</td></tr><tr><td>63200.0</td></tr><tr><td>42600.0</td></tr><tr><td>53900.0</td></tr><tr><td>38100.0</td></tr><tr><td>&hellip;</td></tr><tr><td>57900.0</td></tr><tr><td>35900.0</td></tr><tr><td>54200.0</td></tr><tr><td>39900.0</td></tr><tr><td>39900.0</td></tr><tr><td>74300.0</td></tr><tr><td>50300.0</td></tr><tr><td>40800.0</td></tr><tr><td>35900.0</td></tr><tr><td>34100.0</td></tr><tr><td>36500.0</td></tr><tr><td>34000.0</td></tr></tbody></table></div>"
      ],
      "text/plain": [
       "shape: (50,)\n",
       "Series: 'Starting Median Salary' [f64]\n",
       "[\n",
       "\t46000.0\n",
       "\t57700.0\n",
       "\t42600.0\n",
       "\t36800.0\n",
       "\t41600.0\n",
       "\t35800.0\n",
       "\t38800.0\n",
       "\t43000.0\n",
       "\t63200.0\n",
       "\t42600.0\n",
       "\t53900.0\n",
       "\t38100.0\n",
       "\t…\n",
       "\t45400.0\n",
       "\t57900.0\n",
       "\t35900.0\n",
       "\t54200.0\n",
       "\t39900.0\n",
       "\t39900.0\n",
       "\t74300.0\n",
       "\t50300.0\n",
       "\t40800.0\n",
       "\t35900.0\n",
       "\t34100.0\n",
       "\t36500.0\n",
       "\t34000.0\n",
       "]"
      ]
     },
     "execution_count": 192,
     "metadata": {},
     "output_type": "execute_result"
    }
   ],
   "source": [
    "clean_df['Starting Median Salary']"
   ]
  },
  {
   "cell_type": "code",
   "execution_count": 193,
   "id": "a24ab6e0-6af8-4443-b303-d5c20a7d9af7",
   "metadata": {},
   "outputs": [
    {
     "data": {
      "text/plain": [
       "74300.0"
      ]
     },
     "execution_count": 193,
     "metadata": {},
     "output_type": "execute_result"
    }
   ],
   "source": [
    "clean_df['Starting Median Salary'].max()"
   ]
  },
  {
   "cell_type": "code",
   "execution_count": 194,
   "id": "c5e06319-509e-4fee-8025-b74988ba984f",
   "metadata": {},
   "outputs": [],
   "source": [
    "#clean_df['Starting Median Salary'].idxman()"
   ]
  },
  {
   "cell_type": "code",
   "execution_count": 195,
   "id": "d5f0eaba-9cc3-4f01-b80c-0d1ed199945f",
   "metadata": {},
   "outputs": [
    {
     "data": {
      "text/html": [
       "<div><style>\n",
       ".dataframe > thead > tr,\n",
       ".dataframe > tbody > tr {\n",
       "  text-align: right;\n",
       "  white-space: pre-wrap;\n",
       "}\n",
       "</style>\n",
       "<small>shape: (1, 1)</small><table border=\"1\" class=\"dataframe\"><thead><tr><th>Starting Median Salary</th></tr><tr><td>u32</td></tr></thead><tbody><tr><td>43</td></tr></tbody></table></div>"
      ],
      "text/plain": [
       "shape: (1, 1)\n",
       "┌────────────────────────┐\n",
       "│ Starting Median Salary │\n",
       "│ ---                    │\n",
       "│ u32                    │\n",
       "╞════════════════════════╡\n",
       "│ 43                     │\n",
       "└────────────────────────┘"
      ]
     },
     "execution_count": 195,
     "metadata": {},
     "output_type": "execute_result"
    }
   ],
   "source": [
    "clean_df.select(pl.col('Starting Median Salary').arg_max())"
   ]
  },
  {
   "cell_type": "code",
   "execution_count": 196,
   "id": "352532b1-a45f-43ed-8adb-a8ac55901fe1",
   "metadata": {},
   "outputs": [
    {
     "data": {
      "text/plain": [
       "43"
      ]
     },
     "execution_count": 196,
     "metadata": {},
     "output_type": "execute_result"
    }
   ],
   "source": [
    "clean_df['Starting Median Salary'].arg_max()"
   ]
  },
  {
   "cell_type": "code",
   "execution_count": 197,
   "id": "c3842c6f-790f-45db-a59b-159e31591655",
   "metadata": {},
   "outputs": [],
   "source": [
    "#clean_df.item(43)"
   ]
  },
  {
   "cell_type": "code",
   "execution_count": 198,
   "id": "80c14b59-545b-42f1-9559-d8ee0ff03031",
   "metadata": {},
   "outputs": [],
   "source": [
    "max_starting_salary_index = clean_df['Starting Median Salary'].arg_max()"
   ]
  },
  {
   "cell_type": "code",
   "execution_count": 199,
   "id": "23155d1d-cc45-4c6f-a36c-e74fb3c81045",
   "metadata": {},
   "outputs": [],
   "source": [
    "max_starting_salary = clean_df['Starting Median Salary'][max_starting_salary_index]"
   ]
  },
  {
   "cell_type": "code",
   "execution_count": 200,
   "id": "b6e60467-63c7-40db-81fd-4f1f06f26641",
   "metadata": {},
   "outputs": [
    {
     "data": {
      "text/plain": [
       "74300.0"
      ]
     },
     "execution_count": 200,
     "metadata": {},
     "output_type": "execute_result"
    }
   ],
   "source": [
    "max_starting_salary"
   ]
  },
  {
   "cell_type": "code",
   "execution_count": 201,
   "id": "41cffa9a-796e-49af-9813-4d2775152668",
   "metadata": {},
   "outputs": [
    {
     "data": {
      "text/plain": [
       "'Physician Assistant'"
      ]
     },
     "execution_count": 201,
     "metadata": {},
     "output_type": "execute_result"
    }
   ],
   "source": [
    "clean_df['Undergraduate Major'][max_starting_salary_index]"
   ]
  },
  {
   "cell_type": "code",
   "execution_count": 202,
   "id": "7dfd1481-529d-490a-8240-e11e729f412f",
   "metadata": {},
   "outputs": [
    {
     "data": {
      "text/plain": [
       "['Undergraduate Major',\n",
       " 'Starting Median Salary',\n",
       " 'Mid-Career Median Salary',\n",
       " 'Mid-Career 10th Percentile Salary',\n",
       " 'Mid-Career 90th Percentile Salary',\n",
       " 'Group']"
      ]
     },
     "execution_count": 202,
     "metadata": {},
     "output_type": "execute_result"
    }
   ],
   "source": [
    "clean_df.columns"
   ]
  },
  {
   "cell_type": "code",
   "execution_count": 203,
   "id": "013dbf75-1c53-42fa-bc59-2f640c3287ed",
   "metadata": {},
   "outputs": [],
   "source": [
    "max_mid_career_index = clean_df['Mid-Career Median Salary'].arg_max()"
   ]
  },
  {
   "cell_type": "code",
   "execution_count": 204,
   "id": "8d466a20-8163-4b56-9fa2-d2b9f2e4099e",
   "metadata": {},
   "outputs": [],
   "source": [
    "max_mid_career = clean_df['Mid-Career Median Salary'][max_mid_career_index]"
   ]
  },
  {
   "cell_type": "code",
   "execution_count": 205,
   "id": "99ad59a9-8d1a-40b8-9853-1dce55806a69",
   "metadata": {},
   "outputs": [
    {
     "data": {
      "text/plain": [
       "107000.0"
      ]
     },
     "execution_count": 205,
     "metadata": {},
     "output_type": "execute_result"
    }
   ],
   "source": [
    "max_mid_career"
   ]
  },
  {
   "cell_type": "code",
   "execution_count": 206,
   "id": "301c7353-c8a5-456c-b48b-bdf9221bedc8",
   "metadata": {},
   "outputs": [],
   "source": [
    "max_mid_career_major = clean_df['Undergraduate Major'][max_mid_career_index]"
   ]
  },
  {
   "cell_type": "code",
   "execution_count": 207,
   "id": "c573e63c-4aed-4695-9efb-fbd34e4ec509",
   "metadata": {},
   "outputs": [
    {
     "data": {
      "text/plain": [
       "'Chemical Engineering'"
      ]
     },
     "execution_count": 207,
     "metadata": {},
     "output_type": "execute_result"
    }
   ],
   "source": [
    "max_mid_career_major"
   ]
  },
  {
   "cell_type": "code",
   "execution_count": 208,
   "id": "b63c94cf-84d6-419c-8c8c-3d4183a7a34a",
   "metadata": {},
   "outputs": [],
   "source": [
    "lowest_starting_salary_index = clean_df['Starting Median Salary'].arg_min()"
   ]
  },
  {
   "cell_type": "code",
   "execution_count": 209,
   "id": "6703931e-7a87-47b2-8367-59fe69fb1514",
   "metadata": {},
   "outputs": [],
   "source": [
    "lowest_starting_salary_major = clean_df['Undergraduate Major'][lowest_starting_salary_index]"
   ]
  },
  {
   "cell_type": "code",
   "execution_count": 210,
   "id": "1c4c5444-7cf6-48a2-a34d-176ba0251f2f",
   "metadata": {},
   "outputs": [
    {
     "data": {
      "text/plain": [
       "'Spanish'"
      ]
     },
     "execution_count": 210,
     "metadata": {},
     "output_type": "execute_result"
    }
   ],
   "source": [
    "lowest_starting_salary_major"
   ]
  },
  {
   "cell_type": "code",
   "execution_count": 211,
   "id": "f0d7b698-236e-4d7e-9546-a11fee4f225a",
   "metadata": {},
   "outputs": [],
   "source": [
    "lowest_starting_salary = clean_df['Starting Median Salary'][lowest_starting_salary_index]"
   ]
  },
  {
   "cell_type": "code",
   "execution_count": 212,
   "id": "679080f4-803d-4e02-91ab-c22d1b0cb807",
   "metadata": {},
   "outputs": [],
   "source": [
    "lowest_mid_career_index = clean_df['Mid-Career Median Salary'].arg_min()"
   ]
  },
  {
   "cell_type": "code",
   "execution_count": 213,
   "id": "2f8eb753-766d-4b95-8462-294bdef6e156",
   "metadata": {},
   "outputs": [],
   "source": [
    "lowest_mid_career_major = clean_df['Undergraduate Major'][lowest_mid_career_index]"
   ]
  },
  {
   "cell_type": "code",
   "execution_count": 214,
   "id": "a43b87ca-9eca-4f21-aca5-374c1194b2e9",
   "metadata": {},
   "outputs": [],
   "source": [
    "lowest_mid_career_salary = clean_df['Mid-Career Median Salary'][lowest_mid_career_index]"
   ]
  },
  {
   "cell_type": "code",
   "execution_count": 215,
   "id": "434b168b-09e3-4ce0-98e9-38746f095c66",
   "metadata": {},
   "outputs": [
    {
     "data": {
      "text/plain": [
       "34000.0"
      ]
     },
     "execution_count": 215,
     "metadata": {},
     "output_type": "execute_result"
    }
   ],
   "source": [
    "lowest_starting_salary"
   ]
  },
  {
   "cell_type": "code",
   "execution_count": 216,
   "id": "8dc8fc55-47f1-4a9e-aabb-3c2f1d81178d",
   "metadata": {},
   "outputs": [
    {
     "data": {
      "text/plain": [
       "'Education'"
      ]
     },
     "execution_count": 216,
     "metadata": {},
     "output_type": "execute_result"
    }
   ],
   "source": [
    "lowest_mid_career_major"
   ]
  },
  {
   "cell_type": "code",
   "execution_count": 217,
   "id": "bdc469da-8df0-4ac9-8705-15a5eda1deab",
   "metadata": {},
   "outputs": [
    {
     "data": {
      "text/plain": [
       "52000.0"
      ]
     },
     "execution_count": 217,
     "metadata": {},
     "output_type": "execute_result"
    }
   ],
   "source": [
    "lowest_mid_career_salary"
   ]
  },
  {
   "cell_type": "code",
   "execution_count": 218,
   "id": "7de372ee-b5e6-4bd7-8e9b-b430b1b4601e",
   "metadata": {
    "scrolled": true
   },
   "outputs": [
    {
     "data": {
      "text/html": [
       "<div><style>\n",
       ".dataframe > thead > tr,\n",
       ".dataframe > tbody > tr {\n",
       "  text-align: right;\n",
       "  white-space: pre-wrap;\n",
       "}\n",
       "</style>\n",
       "<small>shape: (50,)</small><table border=\"1\" class=\"dataframe\"><thead><tr><th>Mid-Career 90th Percentile Salary</th></tr><tr><td>f64</td></tr></thead><tbody><tr><td>109800.0</td></tr><tr><td>96700.0</td></tr><tr><td>113700.0</td></tr><tr><td>104200.0</td></tr><tr><td>85400.0</td></tr><tr><td>96200.0</td></tr><tr><td>98100.0</td></tr><tr><td>108200.0</td></tr><tr><td>122100.0</td></tr><tr><td>102700.0</td></tr><tr><td>84600.0</td></tr><tr><td>105500.0</td></tr><tr><td>&hellip;</td></tr><tr><td>99300.0</td></tr><tr><td>107300.0</td></tr><tr><td>50700.0</td></tr><tr><td>65300.0</td></tr><tr><td>132500.0</td></tr><tr><td>57600.0</td></tr><tr><td>122000.0</td></tr><tr><td>126800.0</td></tr><tr><td>95400.0</td></tr><tr><td>66700.0</td></tr><tr><td>87300.0</td></tr><tr><td>65400.0</td></tr></tbody></table></div>"
      ],
      "text/plain": [
       "shape: (50,)\n",
       "Series: 'Mid-Career 90th Percentile Salary' [f64]\n",
       "[\n",
       "\t109800.0\n",
       "\t96700.0\n",
       "\t113700.0\n",
       "\t104200.0\n",
       "\t85400.0\n",
       "\t96200.0\n",
       "\t98100.0\n",
       "\t108200.0\n",
       "\t122100.0\n",
       "\t102700.0\n",
       "\t84600.0\n",
       "\t105500.0\n",
       "\t…\n",
       "\t137800.0\n",
       "\t99300.0\n",
       "\t107300.0\n",
       "\t50700.0\n",
       "\t65300.0\n",
       "\t132500.0\n",
       "\t57600.0\n",
       "\t122000.0\n",
       "\t126800.0\n",
       "\t95400.0\n",
       "\t66700.0\n",
       "\t87300.0\n",
       "\t65400.0\n",
       "]"
      ]
     },
     "execution_count": 218,
     "metadata": {},
     "output_type": "execute_result"
    }
   ],
   "source": [
    "clean_df['Mid-Career 90th Percentile Salary'] - clean_df['Mid-Career 10th Percentile Salary']"
   ]
  },
  {
   "cell_type": "code",
   "execution_count": 219,
   "id": "d5cfb0f5-76ab-4a40-b130-d8084c488cfd",
   "metadata": {},
   "outputs": [],
   "source": [
    "spread_col = (clean_df['Mid-Career 90th Percentile Salary'] - clean_df['Mid-Career 10th Percentile Salary']).alias('Spread')\n"
   ]
  },
  {
   "cell_type": "code",
   "execution_count": 220,
   "id": "6ef0abd4-5213-435b-a88a-48cf084eeadf",
   "metadata": {},
   "outputs": [],
   "source": [
    "#clean_df.insert(1, 'Spread', spread_col)"
   ]
  },
  {
   "cell_type": "code",
   "execution_count": 221,
   "id": "a07492b3-ba2c-4b3a-80fe-89a65de870f9",
   "metadata": {
    "collapsed": true,
    "jupyter": {
     "outputs_hidden": true
    },
    "scrolled": true
   },
   "outputs": [
    {
     "data": {
      "text/html": [
       "<div><style>\n",
       ".dataframe > thead > tr,\n",
       ".dataframe > tbody > tr {\n",
       "  text-align: right;\n",
       "  white-space: pre-wrap;\n",
       "}\n",
       "</style>\n",
       "<small>shape: (50, 7)</small><table border=\"1\" class=\"dataframe\"><thead><tr><th>Undergraduate Major</th><th>Starting Median Salary</th><th>Mid-Career Median Salary</th><th>Mid-Career 10th Percentile Salary</th><th>Mid-Career 90th Percentile Salary</th><th>Group</th><th>Spread</th></tr><tr><td>str</td><td>f64</td><td>f64</td><td>f64</td><td>f64</td><td>str</td><td>f64</td></tr></thead><tbody><tr><td>&quot;Accounting&quot;</td><td>46000.0</td><td>77100.0</td><td>42200.0</td><td>152000.0</td><td>&quot;Business&quot;</td><td>109800.0</td></tr><tr><td>&quot;Aerospace Engi…</td><td>57700.0</td><td>101000.0</td><td>64300.0</td><td>161000.0</td><td>&quot;STEM&quot;</td><td>96700.0</td></tr><tr><td>&quot;Agriculture&quot;</td><td>42600.0</td><td>71900.0</td><td>36300.0</td><td>150000.0</td><td>&quot;Business&quot;</td><td>113700.0</td></tr><tr><td>&quot;Anthropology&quot;</td><td>36800.0</td><td>61500.0</td><td>33800.0</td><td>138000.0</td><td>&quot;HASS&quot;</td><td>104200.0</td></tr><tr><td>&quot;Architecture&quot;</td><td>41600.0</td><td>76800.0</td><td>50600.0</td><td>136000.0</td><td>&quot;Business&quot;</td><td>85400.0</td></tr><tr><td>&quot;Art History&quot;</td><td>35800.0</td><td>64900.0</td><td>28800.0</td><td>125000.0</td><td>&quot;HASS&quot;</td><td>96200.0</td></tr><tr><td>&quot;Biology&quot;</td><td>38800.0</td><td>64800.0</td><td>36900.0</td><td>135000.0</td><td>&quot;STEM&quot;</td><td>98100.0</td></tr><tr><td>&quot;Business Manag…</td><td>43000.0</td><td>72100.0</td><td>38800.0</td><td>147000.0</td><td>&quot;Business&quot;</td><td>108200.0</td></tr><tr><td>&quot;Chemical Engin…</td><td>63200.0</td><td>107000.0</td><td>71900.0</td><td>194000.0</td><td>&quot;STEM&quot;</td><td>122100.0</td></tr><tr><td>&quot;Chemistry&quot;</td><td>42600.0</td><td>79900.0</td><td>45300.0</td><td>148000.0</td><td>&quot;STEM&quot;</td><td>102700.0</td></tr><tr><td>&quot;Civil Engineer…</td><td>53900.0</td><td>90500.0</td><td>63400.0</td><td>148000.0</td><td>&quot;STEM&quot;</td><td>84600.0</td></tr><tr><td>&quot;Communications…</td><td>38100.0</td><td>70000.0</td><td>37500.0</td><td>143000.0</td><td>&quot;HASS&quot;</td><td>105500.0</td></tr><tr><td>&hellip;</td><td>&hellip;</td><td>&hellip;</td><td>&hellip;</td><td>&hellip;</td><td>&hellip;</td><td>&hellip;</td></tr><tr><td>&quot;Mechanical Eng…</td><td>57900.0</td><td>93600.0</td><td>63700.0</td><td>163000.0</td><td>&quot;STEM&quot;</td><td>99300.0</td></tr><tr><td>&quot;Music&quot;</td><td>35900.0</td><td>55000.0</td><td>26700.0</td><td>134000.0</td><td>&quot;HASS&quot;</td><td>107300.0</td></tr><tr><td>&quot;Nursing&quot;</td><td>54200.0</td><td>67000.0</td><td>47600.0</td><td>98300.0</td><td>&quot;Business&quot;</td><td>50700.0</td></tr><tr><td>&quot;Nutrition&quot;</td><td>39900.0</td><td>55300.0</td><td>33900.0</td><td>99200.0</td><td>&quot;HASS&quot;</td><td>65300.0</td></tr><tr><td>&quot;Philosophy&quot;</td><td>39900.0</td><td>81200.0</td><td>35500.0</td><td>168000.0</td><td>&quot;HASS&quot;</td><td>132500.0</td></tr><tr><td>&quot;Physician Assi…</td><td>74300.0</td><td>91700.0</td><td>66400.0</td><td>124000.0</td><td>&quot;STEM&quot;</td><td>57600.0</td></tr><tr><td>&quot;Physics&quot;</td><td>50300.0</td><td>97300.0</td><td>56000.0</td><td>178000.0</td><td>&quot;STEM&quot;</td><td>122000.0</td></tr><tr><td>&quot;Political Scie…</td><td>40800.0</td><td>78200.0</td><td>41200.0</td><td>168000.0</td><td>&quot;HASS&quot;</td><td>126800.0</td></tr><tr><td>&quot;Psychology&quot;</td><td>35900.0</td><td>60400.0</td><td>31600.0</td><td>127000.0</td><td>&quot;HASS&quot;</td><td>95400.0</td></tr><tr><td>&quot;Religion&quot;</td><td>34100.0</td><td>52000.0</td><td>29700.0</td><td>96400.0</td><td>&quot;HASS&quot;</td><td>66700.0</td></tr><tr><td>&quot;Sociology&quot;</td><td>36500.0</td><td>58200.0</td><td>30700.0</td><td>118000.0</td><td>&quot;HASS&quot;</td><td>87300.0</td></tr><tr><td>&quot;Spanish&quot;</td><td>34000.0</td><td>53100.0</td><td>31000.0</td><td>96400.0</td><td>&quot;HASS&quot;</td><td>65400.0</td></tr></tbody></table></div>"
      ],
      "text/plain": [
       "shape: (50, 7)\n",
       "┌───────────────────┬──────────┬───────────────────┬────────────┬────────────┬──────────┬──────────┐\n",
       "│ Undergraduate     ┆ Starting ┆ Mid-Career Median ┆ Mid-Career ┆ Mid-Career ┆ Group    ┆ Spread   │\n",
       "│ Major             ┆ Median   ┆ Salary            ┆ 10th       ┆ 90th       ┆ ---      ┆ ---      │\n",
       "│ ---               ┆ Salary   ┆ ---               ┆ Percentile ┆ Percentile ┆ str      ┆ f64      │\n",
       "│ str               ┆ ---      ┆ f64               ┆ Salar…     ┆ Salar…     ┆          ┆          │\n",
       "│                   ┆ f64      ┆                   ┆ ---        ┆ ---        ┆          ┆          │\n",
       "│                   ┆          ┆                   ┆ f64        ┆ f64        ┆          ┆          │\n",
       "╞═══════════════════╪══════════╪═══════════════════╪════════════╪════════════╪══════════╪══════════╡\n",
       "│ Accounting        ┆ 46000.0  ┆ 77100.0           ┆ 42200.0    ┆ 152000.0   ┆ Business ┆ 109800.0 │\n",
       "│ Aerospace         ┆ 57700.0  ┆ 101000.0          ┆ 64300.0    ┆ 161000.0   ┆ STEM     ┆ 96700.0  │\n",
       "│ Engineering       ┆          ┆                   ┆            ┆            ┆          ┆          │\n",
       "│ Agriculture       ┆ 42600.0  ┆ 71900.0           ┆ 36300.0    ┆ 150000.0   ┆ Business ┆ 113700.0 │\n",
       "│ Anthropology      ┆ 36800.0  ┆ 61500.0           ┆ 33800.0    ┆ 138000.0   ┆ HASS     ┆ 104200.0 │\n",
       "│ Architecture      ┆ 41600.0  ┆ 76800.0           ┆ 50600.0    ┆ 136000.0   ┆ Business ┆ 85400.0  │\n",
       "│ …                 ┆ …        ┆ …                 ┆ …          ┆ …          ┆ …        ┆ …        │\n",
       "│ Political Science ┆ 40800.0  ┆ 78200.0           ┆ 41200.0    ┆ 168000.0   ┆ HASS     ┆ 126800.0 │\n",
       "│ Psychology        ┆ 35900.0  ┆ 60400.0           ┆ 31600.0    ┆ 127000.0   ┆ HASS     ┆ 95400.0  │\n",
       "│ Religion          ┆ 34100.0  ┆ 52000.0           ┆ 29700.0    ┆ 96400.0    ┆ HASS     ┆ 66700.0  │\n",
       "│ Sociology         ┆ 36500.0  ┆ 58200.0           ┆ 30700.0    ┆ 118000.0   ┆ HASS     ┆ 87300.0  │\n",
       "│ Spanish           ┆ 34000.0  ┆ 53100.0           ┆ 31000.0    ┆ 96400.0    ┆ HASS     ┆ 65400.0  │\n",
       "└───────────────────┴──────────┴───────────────────┴────────────┴────────────┴──────────┴──────────┘"
      ]
     },
     "execution_count": 221,
     "metadata": {},
     "output_type": "execute_result"
    }
   ],
   "source": [
    "clean_df.with_columns(Spread=spread_col)"
   ]
  },
  {
   "cell_type": "code",
   "execution_count": 222,
   "id": "60ed302e-c21e-450f-853c-b0e83352a93d",
   "metadata": {
    "collapsed": true,
    "jupyter": {
     "outputs_hidden": true
    }
   },
   "outputs": [
    {
     "data": {
      "text/html": [
       "<div><style>\n",
       ".dataframe > thead > tr,\n",
       ".dataframe > tbody > tr {\n",
       "  text-align: right;\n",
       "  white-space: pre-wrap;\n",
       "}\n",
       "</style>\n",
       "<small>shape: (50, 7)</small><table border=\"1\" class=\"dataframe\"><thead><tr><th>Undergraduate Major</th><th>Spread</th><th>Starting Median Salary</th><th>Mid-Career Median Salary</th><th>Mid-Career 10th Percentile Salary</th><th>Mid-Career 90th Percentile Salary</th><th>Group</th></tr><tr><td>str</td><td>f64</td><td>f64</td><td>f64</td><td>f64</td><td>f64</td><td>str</td></tr></thead><tbody><tr><td>&quot;Accounting&quot;</td><td>109800.0</td><td>46000.0</td><td>77100.0</td><td>42200.0</td><td>152000.0</td><td>&quot;Business&quot;</td></tr><tr><td>&quot;Aerospace Engi…</td><td>96700.0</td><td>57700.0</td><td>101000.0</td><td>64300.0</td><td>161000.0</td><td>&quot;STEM&quot;</td></tr><tr><td>&quot;Agriculture&quot;</td><td>113700.0</td><td>42600.0</td><td>71900.0</td><td>36300.0</td><td>150000.0</td><td>&quot;Business&quot;</td></tr><tr><td>&quot;Anthropology&quot;</td><td>104200.0</td><td>36800.0</td><td>61500.0</td><td>33800.0</td><td>138000.0</td><td>&quot;HASS&quot;</td></tr><tr><td>&quot;Architecture&quot;</td><td>85400.0</td><td>41600.0</td><td>76800.0</td><td>50600.0</td><td>136000.0</td><td>&quot;Business&quot;</td></tr><tr><td>&quot;Art History&quot;</td><td>96200.0</td><td>35800.0</td><td>64900.0</td><td>28800.0</td><td>125000.0</td><td>&quot;HASS&quot;</td></tr><tr><td>&quot;Biology&quot;</td><td>98100.0</td><td>38800.0</td><td>64800.0</td><td>36900.0</td><td>135000.0</td><td>&quot;STEM&quot;</td></tr><tr><td>&quot;Business Manag…</td><td>108200.0</td><td>43000.0</td><td>72100.0</td><td>38800.0</td><td>147000.0</td><td>&quot;Business&quot;</td></tr><tr><td>&quot;Chemical Engin…</td><td>122100.0</td><td>63200.0</td><td>107000.0</td><td>71900.0</td><td>194000.0</td><td>&quot;STEM&quot;</td></tr><tr><td>&quot;Chemistry&quot;</td><td>102700.0</td><td>42600.0</td><td>79900.0</td><td>45300.0</td><td>148000.0</td><td>&quot;STEM&quot;</td></tr><tr><td>&quot;Civil Engineer…</td><td>84600.0</td><td>53900.0</td><td>90500.0</td><td>63400.0</td><td>148000.0</td><td>&quot;STEM&quot;</td></tr><tr><td>&quot;Communications…</td><td>105500.0</td><td>38100.0</td><td>70000.0</td><td>37500.0</td><td>143000.0</td><td>&quot;HASS&quot;</td></tr><tr><td>&hellip;</td><td>&hellip;</td><td>&hellip;</td><td>&hellip;</td><td>&hellip;</td><td>&hellip;</td><td>&hellip;</td></tr><tr><td>&quot;Mechanical Eng…</td><td>99300.0</td><td>57900.0</td><td>93600.0</td><td>63700.0</td><td>163000.0</td><td>&quot;STEM&quot;</td></tr><tr><td>&quot;Music&quot;</td><td>107300.0</td><td>35900.0</td><td>55000.0</td><td>26700.0</td><td>134000.0</td><td>&quot;HASS&quot;</td></tr><tr><td>&quot;Nursing&quot;</td><td>50700.0</td><td>54200.0</td><td>67000.0</td><td>47600.0</td><td>98300.0</td><td>&quot;Business&quot;</td></tr><tr><td>&quot;Nutrition&quot;</td><td>65300.0</td><td>39900.0</td><td>55300.0</td><td>33900.0</td><td>99200.0</td><td>&quot;HASS&quot;</td></tr><tr><td>&quot;Philosophy&quot;</td><td>132500.0</td><td>39900.0</td><td>81200.0</td><td>35500.0</td><td>168000.0</td><td>&quot;HASS&quot;</td></tr><tr><td>&quot;Physician Assi…</td><td>57600.0</td><td>74300.0</td><td>91700.0</td><td>66400.0</td><td>124000.0</td><td>&quot;STEM&quot;</td></tr><tr><td>&quot;Physics&quot;</td><td>122000.0</td><td>50300.0</td><td>97300.0</td><td>56000.0</td><td>178000.0</td><td>&quot;STEM&quot;</td></tr><tr><td>&quot;Political Scie…</td><td>126800.0</td><td>40800.0</td><td>78200.0</td><td>41200.0</td><td>168000.0</td><td>&quot;HASS&quot;</td></tr><tr><td>&quot;Psychology&quot;</td><td>95400.0</td><td>35900.0</td><td>60400.0</td><td>31600.0</td><td>127000.0</td><td>&quot;HASS&quot;</td></tr><tr><td>&quot;Religion&quot;</td><td>66700.0</td><td>34100.0</td><td>52000.0</td><td>29700.0</td><td>96400.0</td><td>&quot;HASS&quot;</td></tr><tr><td>&quot;Sociology&quot;</td><td>87300.0</td><td>36500.0</td><td>58200.0</td><td>30700.0</td><td>118000.0</td><td>&quot;HASS&quot;</td></tr><tr><td>&quot;Spanish&quot;</td><td>65400.0</td><td>34000.0</td><td>53100.0</td><td>31000.0</td><td>96400.0</td><td>&quot;HASS&quot;</td></tr></tbody></table></div>"
      ],
      "text/plain": [
       "shape: (50, 7)\n",
       "┌───────────────────┬──────────┬──────────┬───────────────────┬────────────┬────────────┬──────────┐\n",
       "│ Undergraduate     ┆ Spread   ┆ Starting ┆ Mid-Career Median ┆ Mid-Career ┆ Mid-Career ┆ Group    │\n",
       "│ Major             ┆ ---      ┆ Median   ┆ Salary            ┆ 10th       ┆ 90th       ┆ ---      │\n",
       "│ ---               ┆ f64      ┆ Salary   ┆ ---               ┆ Percentile ┆ Percentile ┆ str      │\n",
       "│ str               ┆          ┆ ---      ┆ f64               ┆ Salar…     ┆ Salar…     ┆          │\n",
       "│                   ┆          ┆ f64      ┆                   ┆ ---        ┆ ---        ┆          │\n",
       "│                   ┆          ┆          ┆                   ┆ f64        ┆ f64        ┆          │\n",
       "╞═══════════════════╪══════════╪══════════╪═══════════════════╪════════════╪════════════╪══════════╡\n",
       "│ Accounting        ┆ 109800.0 ┆ 46000.0  ┆ 77100.0           ┆ 42200.0    ┆ 152000.0   ┆ Business │\n",
       "│ Aerospace         ┆ 96700.0  ┆ 57700.0  ┆ 101000.0          ┆ 64300.0    ┆ 161000.0   ┆ STEM     │\n",
       "│ Engineering       ┆          ┆          ┆                   ┆            ┆            ┆          │\n",
       "│ Agriculture       ┆ 113700.0 ┆ 42600.0  ┆ 71900.0           ┆ 36300.0    ┆ 150000.0   ┆ Business │\n",
       "│ Anthropology      ┆ 104200.0 ┆ 36800.0  ┆ 61500.0           ┆ 33800.0    ┆ 138000.0   ┆ HASS     │\n",
       "│ Architecture      ┆ 85400.0  ┆ 41600.0  ┆ 76800.0           ┆ 50600.0    ┆ 136000.0   ┆ Business │\n",
       "│ …                 ┆ …        ┆ …        ┆ …                 ┆ …          ┆ …          ┆ …        │\n",
       "│ Political Science ┆ 126800.0 ┆ 40800.0  ┆ 78200.0           ┆ 41200.0    ┆ 168000.0   ┆ HASS     │\n",
       "│ Psychology        ┆ 95400.0  ┆ 35900.0  ┆ 60400.0           ┆ 31600.0    ┆ 127000.0   ┆ HASS     │\n",
       "│ Religion          ┆ 66700.0  ┆ 34100.0  ┆ 52000.0           ┆ 29700.0    ┆ 96400.0    ┆ HASS     │\n",
       "│ Sociology         ┆ 87300.0  ┆ 36500.0  ┆ 58200.0           ┆ 30700.0    ┆ 118000.0   ┆ HASS     │\n",
       "│ Spanish           ┆ 65400.0  ┆ 34000.0  ┆ 53100.0           ┆ 31000.0    ┆ 96400.0    ┆ HASS     │\n",
       "└───────────────────┴──────────┴──────────┴───────────────────┴────────────┴────────────┴──────────┘"
      ]
     },
     "execution_count": 222,
     "metadata": {},
     "output_type": "execute_result"
    }
   ],
   "source": [
    "clean_df.insert_column(1, spread_col)"
   ]
  },
  {
   "cell_type": "code",
   "execution_count": 223,
   "id": "86226b8c-09a0-4e54-a85e-58ca6b123815",
   "metadata": {
    "collapsed": true,
    "jupyter": {
     "outputs_hidden": true
    }
   },
   "outputs": [
    {
     "data": {
      "text/html": [
       "<div><style>\n",
       ".dataframe > thead > tr,\n",
       ".dataframe > tbody > tr {\n",
       "  text-align: right;\n",
       "  white-space: pre-wrap;\n",
       "}\n",
       "</style>\n",
       "<small>shape: (50,)</small><table border=\"1\" class=\"dataframe\"><thead><tr><th>Spread</th></tr><tr><td>f64</td></tr></thead><tbody><tr><td>109800.0</td></tr><tr><td>96700.0</td></tr><tr><td>113700.0</td></tr><tr><td>104200.0</td></tr><tr><td>85400.0</td></tr><tr><td>96200.0</td></tr><tr><td>98100.0</td></tr><tr><td>108200.0</td></tr><tr><td>122100.0</td></tr><tr><td>102700.0</td></tr><tr><td>84600.0</td></tr><tr><td>105500.0</td></tr><tr><td>&hellip;</td></tr><tr><td>99300.0</td></tr><tr><td>107300.0</td></tr><tr><td>50700.0</td></tr><tr><td>65300.0</td></tr><tr><td>132500.0</td></tr><tr><td>57600.0</td></tr><tr><td>122000.0</td></tr><tr><td>126800.0</td></tr><tr><td>95400.0</td></tr><tr><td>66700.0</td></tr><tr><td>87300.0</td></tr><tr><td>65400.0</td></tr></tbody></table></div>"
      ],
      "text/plain": [
       "shape: (50,)\n",
       "Series: 'Spread' [f64]\n",
       "[\n",
       "\t109800.0\n",
       "\t96700.0\n",
       "\t113700.0\n",
       "\t104200.0\n",
       "\t85400.0\n",
       "\t96200.0\n",
       "\t98100.0\n",
       "\t108200.0\n",
       "\t122100.0\n",
       "\t102700.0\n",
       "\t84600.0\n",
       "\t105500.0\n",
       "\t…\n",
       "\t137800.0\n",
       "\t99300.0\n",
       "\t107300.0\n",
       "\t50700.0\n",
       "\t65300.0\n",
       "\t132500.0\n",
       "\t57600.0\n",
       "\t122000.0\n",
       "\t126800.0\n",
       "\t95400.0\n",
       "\t66700.0\n",
       "\t87300.0\n",
       "\t65400.0\n",
       "]"
      ]
     },
     "execution_count": 223,
     "metadata": {},
     "output_type": "execute_result"
    }
   ],
   "source": [
    "spread_col.alias('Spread')"
   ]
  },
  {
   "cell_type": "code",
   "execution_count": 224,
   "id": "7fc3df46-dfc2-46b0-99a6-4b80c5c29410",
   "metadata": {
    "collapsed": true,
    "jupyter": {
     "outputs_hidden": true
    }
   },
   "outputs": [
    {
     "data": {
      "text/html": [
       "<div><style>\n",
       ".dataframe > thead > tr,\n",
       ".dataframe > tbody > tr {\n",
       "  text-align: right;\n",
       "  white-space: pre-wrap;\n",
       "}\n",
       "</style>\n",
       "<small>shape: (50, 7)</small><table border=\"1\" class=\"dataframe\"><thead><tr><th>Undergraduate Major</th><th>Spread</th><th>Starting Median Salary</th><th>Mid-Career Median Salary</th><th>Mid-Career 10th Percentile Salary</th><th>Mid-Career 90th Percentile Salary</th><th>Group</th></tr><tr><td>str</td><td>f64</td><td>f64</td><td>f64</td><td>f64</td><td>f64</td><td>str</td></tr></thead><tbody><tr><td>&quot;Accounting&quot;</td><td>109800.0</td><td>46000.0</td><td>77100.0</td><td>42200.0</td><td>152000.0</td><td>&quot;Business&quot;</td></tr><tr><td>&quot;Aerospace Engi…</td><td>96700.0</td><td>57700.0</td><td>101000.0</td><td>64300.0</td><td>161000.0</td><td>&quot;STEM&quot;</td></tr><tr><td>&quot;Agriculture&quot;</td><td>113700.0</td><td>42600.0</td><td>71900.0</td><td>36300.0</td><td>150000.0</td><td>&quot;Business&quot;</td></tr><tr><td>&quot;Anthropology&quot;</td><td>104200.0</td><td>36800.0</td><td>61500.0</td><td>33800.0</td><td>138000.0</td><td>&quot;HASS&quot;</td></tr><tr><td>&quot;Architecture&quot;</td><td>85400.0</td><td>41600.0</td><td>76800.0</td><td>50600.0</td><td>136000.0</td><td>&quot;Business&quot;</td></tr><tr><td>&quot;Art History&quot;</td><td>96200.0</td><td>35800.0</td><td>64900.0</td><td>28800.0</td><td>125000.0</td><td>&quot;HASS&quot;</td></tr><tr><td>&quot;Biology&quot;</td><td>98100.0</td><td>38800.0</td><td>64800.0</td><td>36900.0</td><td>135000.0</td><td>&quot;STEM&quot;</td></tr><tr><td>&quot;Business Manag…</td><td>108200.0</td><td>43000.0</td><td>72100.0</td><td>38800.0</td><td>147000.0</td><td>&quot;Business&quot;</td></tr><tr><td>&quot;Chemical Engin…</td><td>122100.0</td><td>63200.0</td><td>107000.0</td><td>71900.0</td><td>194000.0</td><td>&quot;STEM&quot;</td></tr><tr><td>&quot;Chemistry&quot;</td><td>102700.0</td><td>42600.0</td><td>79900.0</td><td>45300.0</td><td>148000.0</td><td>&quot;STEM&quot;</td></tr><tr><td>&quot;Civil Engineer…</td><td>84600.0</td><td>53900.0</td><td>90500.0</td><td>63400.0</td><td>148000.0</td><td>&quot;STEM&quot;</td></tr><tr><td>&quot;Communications…</td><td>105500.0</td><td>38100.0</td><td>70000.0</td><td>37500.0</td><td>143000.0</td><td>&quot;HASS&quot;</td></tr><tr><td>&hellip;</td><td>&hellip;</td><td>&hellip;</td><td>&hellip;</td><td>&hellip;</td><td>&hellip;</td><td>&hellip;</td></tr><tr><td>&quot;Mechanical Eng…</td><td>99300.0</td><td>57900.0</td><td>93600.0</td><td>63700.0</td><td>163000.0</td><td>&quot;STEM&quot;</td></tr><tr><td>&quot;Music&quot;</td><td>107300.0</td><td>35900.0</td><td>55000.0</td><td>26700.0</td><td>134000.0</td><td>&quot;HASS&quot;</td></tr><tr><td>&quot;Nursing&quot;</td><td>50700.0</td><td>54200.0</td><td>67000.0</td><td>47600.0</td><td>98300.0</td><td>&quot;Business&quot;</td></tr><tr><td>&quot;Nutrition&quot;</td><td>65300.0</td><td>39900.0</td><td>55300.0</td><td>33900.0</td><td>99200.0</td><td>&quot;HASS&quot;</td></tr><tr><td>&quot;Philosophy&quot;</td><td>132500.0</td><td>39900.0</td><td>81200.0</td><td>35500.0</td><td>168000.0</td><td>&quot;HASS&quot;</td></tr><tr><td>&quot;Physician Assi…</td><td>57600.0</td><td>74300.0</td><td>91700.0</td><td>66400.0</td><td>124000.0</td><td>&quot;STEM&quot;</td></tr><tr><td>&quot;Physics&quot;</td><td>122000.0</td><td>50300.0</td><td>97300.0</td><td>56000.0</td><td>178000.0</td><td>&quot;STEM&quot;</td></tr><tr><td>&quot;Political Scie…</td><td>126800.0</td><td>40800.0</td><td>78200.0</td><td>41200.0</td><td>168000.0</td><td>&quot;HASS&quot;</td></tr><tr><td>&quot;Psychology&quot;</td><td>95400.0</td><td>35900.0</td><td>60400.0</td><td>31600.0</td><td>127000.0</td><td>&quot;HASS&quot;</td></tr><tr><td>&quot;Religion&quot;</td><td>66700.0</td><td>34100.0</td><td>52000.0</td><td>29700.0</td><td>96400.0</td><td>&quot;HASS&quot;</td></tr><tr><td>&quot;Sociology&quot;</td><td>87300.0</td><td>36500.0</td><td>58200.0</td><td>30700.0</td><td>118000.0</td><td>&quot;HASS&quot;</td></tr><tr><td>&quot;Spanish&quot;</td><td>65400.0</td><td>34000.0</td><td>53100.0</td><td>31000.0</td><td>96400.0</td><td>&quot;HASS&quot;</td></tr></tbody></table></div>"
      ],
      "text/plain": [
       "shape: (50, 7)\n",
       "┌───────────────────┬──────────┬──────────┬───────────────────┬────────────┬────────────┬──────────┐\n",
       "│ Undergraduate     ┆ Spread   ┆ Starting ┆ Mid-Career Median ┆ Mid-Career ┆ Mid-Career ┆ Group    │\n",
       "│ Major             ┆ ---      ┆ Median   ┆ Salary            ┆ 10th       ┆ 90th       ┆ ---      │\n",
       "│ ---               ┆ f64      ┆ Salary   ┆ ---               ┆ Percentile ┆ Percentile ┆ str      │\n",
       "│ str               ┆          ┆ ---      ┆ f64               ┆ Salar…     ┆ Salar…     ┆          │\n",
       "│                   ┆          ┆ f64      ┆                   ┆ ---        ┆ ---        ┆          │\n",
       "│                   ┆          ┆          ┆                   ┆ f64        ┆ f64        ┆          │\n",
       "╞═══════════════════╪══════════╪══════════╪═══════════════════╪════════════╪════════════╪══════════╡\n",
       "│ Accounting        ┆ 109800.0 ┆ 46000.0  ┆ 77100.0           ┆ 42200.0    ┆ 152000.0   ┆ Business │\n",
       "│ Aerospace         ┆ 96700.0  ┆ 57700.0  ┆ 101000.0          ┆ 64300.0    ┆ 161000.0   ┆ STEM     │\n",
       "│ Engineering       ┆          ┆          ┆                   ┆            ┆            ┆          │\n",
       "│ Agriculture       ┆ 113700.0 ┆ 42600.0  ┆ 71900.0           ┆ 36300.0    ┆ 150000.0   ┆ Business │\n",
       "│ Anthropology      ┆ 104200.0 ┆ 36800.0  ┆ 61500.0           ┆ 33800.0    ┆ 138000.0   ┆ HASS     │\n",
       "│ Architecture      ┆ 85400.0  ┆ 41600.0  ┆ 76800.0           ┆ 50600.0    ┆ 136000.0   ┆ Business │\n",
       "│ …                 ┆ …        ┆ …        ┆ …                 ┆ …          ┆ …          ┆ …        │\n",
       "│ Political Science ┆ 126800.0 ┆ 40800.0  ┆ 78200.0           ┆ 41200.0    ┆ 168000.0   ┆ HASS     │\n",
       "│ Psychology        ┆ 95400.0  ┆ 35900.0  ┆ 60400.0           ┆ 31600.0    ┆ 127000.0   ┆ HASS     │\n",
       "│ Religion          ┆ 66700.0  ┆ 34100.0  ┆ 52000.0           ┆ 29700.0    ┆ 96400.0    ┆ HASS     │\n",
       "│ Sociology         ┆ 87300.0  ┆ 36500.0  ┆ 58200.0           ┆ 30700.0    ┆ 118000.0   ┆ HASS     │\n",
       "│ Spanish           ┆ 65400.0  ┆ 34000.0  ┆ 53100.0           ┆ 31000.0    ┆ 96400.0    ┆ HASS     │\n",
       "└───────────────────┴──────────┴──────────┴───────────────────┴────────────┴────────────┴──────────┘"
      ]
     },
     "execution_count": 224,
     "metadata": {},
     "output_type": "execute_result"
    }
   ],
   "source": [
    "clean_df"
   ]
  },
  {
   "cell_type": "code",
   "execution_count": 225,
   "id": "9dc2a171-9bff-452e-9f10-3bbc1ce1508e",
   "metadata": {},
   "outputs": [],
   "source": [
    "low_risk = clean_df.sort('Spread')"
   ]
  },
  {
   "cell_type": "code",
   "execution_count": 226,
   "id": "5032c967-f947-4019-aafc-2faab6c32815",
   "metadata": {
    "collapsed": true,
    "jupyter": {
     "outputs_hidden": true
    }
   },
   "outputs": [
    {
     "data": {
      "text/html": [
       "<div><style>\n",
       ".dataframe > thead > tr,\n",
       ".dataframe > tbody > tr {\n",
       "  text-align: right;\n",
       "  white-space: pre-wrap;\n",
       "}\n",
       "</style>\n",
       "<small>shape: (50, 7)</small><table border=\"1\" class=\"dataframe\"><thead><tr><th>Undergraduate Major</th><th>Spread</th><th>Starting Median Salary</th><th>Mid-Career Median Salary</th><th>Mid-Career 10th Percentile Salary</th><th>Mid-Career 90th Percentile Salary</th><th>Group</th></tr><tr><td>str</td><td>f64</td><td>f64</td><td>f64</td><td>f64</td><td>f64</td><td>str</td></tr></thead><tbody><tr><td>&quot;Nursing&quot;</td><td>50700.0</td><td>54200.0</td><td>67000.0</td><td>47600.0</td><td>98300.0</td><td>&quot;Business&quot;</td></tr><tr><td>&quot;Physician Assi…</td><td>57600.0</td><td>74300.0</td><td>91700.0</td><td>66400.0</td><td>124000.0</td><td>&quot;STEM&quot;</td></tr><tr><td>&quot;Nutrition&quot;</td><td>65300.0</td><td>39900.0</td><td>55300.0</td><td>33900.0</td><td>99200.0</td><td>&quot;HASS&quot;</td></tr><tr><td>&quot;Spanish&quot;</td><td>65400.0</td><td>34000.0</td><td>53100.0</td><td>31000.0</td><td>96400.0</td><td>&quot;HASS&quot;</td></tr><tr><td>&quot;Health Care Ad…</td><td>66400.0</td><td>38800.0</td><td>60600.0</td><td>34600.0</td><td>101000.0</td><td>&quot;Business&quot;</td></tr><tr><td>&quot;Religion&quot;</td><td>66700.0</td><td>34100.0</td><td>52000.0</td><td>29700.0</td><td>96400.0</td><td>&quot;HASS&quot;</td></tr><tr><td>&quot;Forestry&quot;</td><td>70000.0</td><td>39100.0</td><td>62600.0</td><td>41000.0</td><td>111000.0</td><td>&quot;Business&quot;</td></tr><tr><td>&quot;Interior Desig…</td><td>71300.0</td><td>36100.0</td><td>53200.0</td><td>35700.0</td><td>107000.0</td><td>&quot;HASS&quot;</td></tr><tr><td>&quot;Education&quot;</td><td>72700.0</td><td>34900.0</td><td>52000.0</td><td>29300.0</td><td>102000.0</td><td>&quot;HASS&quot;</td></tr><tr><td>&quot;Criminal Justi…</td><td>74800.0</td><td>35000.0</td><td>56300.0</td><td>32200.0</td><td>107000.0</td><td>&quot;HASS&quot;</td></tr><tr><td>&quot;Graphic Design…</td><td>76000.0</td><td>35700.0</td><td>59800.0</td><td>36000.0</td><td>112000.0</td><td>&quot;HASS&quot;</td></tr><tr><td>&quot;Information Te…</td><td>84500.0</td><td>49100.0</td><td>74800.0</td><td>44500.0</td><td>129000.0</td><td>&quot;STEM&quot;</td></tr><tr><td>&hellip;</td><td>&hellip;</td><td>&hellip;</td><td>&hellip;</td><td>&hellip;</td><td>&hellip;</td><td>&hellip;</td></tr><tr><td>&quot;Construction&quot;</td><td>114700.0</td><td>53700.0</td><td>88900.0</td><td>56300.0</td><td>171000.0</td><td>&quot;Business&quot;</td></tr><tr><td>&quot;Industrial Eng…</td><td>115900.0</td><td>57700.0</td><td>94700.0</td><td>57100.0</td><td>173000.0</td><td>&quot;STEM&quot;</td></tr><tr><td>&quot;Drama&quot;</td><td>116300.0</td><td>35900.0</td><td>56900.0</td><td>36700.0</td><td>153000.0</td><td>&quot;HASS&quot;</td></tr><tr><td>&quot;International …</td><td>118800.0</td><td>40900.0</td><td>80900.0</td><td>38200.0</td><td>157000.0</td><td>&quot;HASS&quot;</td></tr><tr><td>&quot;Physics&quot;</td><td>122000.0</td><td>50300.0</td><td>97300.0</td><td>56000.0</td><td>178000.0</td><td>&quot;STEM&quot;</td></tr><tr><td>&quot;Chemical Engin…</td><td>122100.0</td><td>63200.0</td><td>107000.0</td><td>71900.0</td><td>194000.0</td><td>&quot;STEM&quot;</td></tr><tr><td>&quot;Political Scie…</td><td>126800.0</td><td>40800.0</td><td>78200.0</td><td>41200.0</td><td>168000.0</td><td>&quot;HASS&quot;</td></tr><tr><td>&quot;Philosophy&quot;</td><td>132500.0</td><td>39900.0</td><td>81200.0</td><td>35500.0</td><td>168000.0</td><td>&quot;HASS&quot;</td></tr><tr><td>&quot;Marketing&quot;</td><td>132900.0</td><td>40800.0</td><td>79600.0</td><td>42100.0</td><td>175000.0</td><td>&quot;Business&quot;</td></tr><tr><td>&quot;Math&quot;</td><td>137800.0</td><td>45400.0</td><td>92400.0</td><td>45200.0</td><td>183000.0</td><td>&quot;STEM&quot;</td></tr><tr><td>&quot;Finance&quot;</td><td>147800.0</td><td>47900.0</td><td>88300.0</td><td>47200.0</td><td>195000.0</td><td>&quot;Business&quot;</td></tr><tr><td>&quot;Economics&quot;</td><td>159400.0</td><td>50100.0</td><td>98600.0</td><td>50600.0</td><td>210000.0</td><td>&quot;Business&quot;</td></tr></tbody></table></div>"
      ],
      "text/plain": [
       "shape: (50, 7)\n",
       "┌────────────────┬──────────┬──────────┬───────────────────┬────────────┬────────────┬──────────┐\n",
       "│ Undergraduate  ┆ Spread   ┆ Starting ┆ Mid-Career Median ┆ Mid-Career ┆ Mid-Career ┆ Group    │\n",
       "│ Major          ┆ ---      ┆ Median   ┆ Salary            ┆ 10th       ┆ 90th       ┆ ---      │\n",
       "│ ---            ┆ f64      ┆ Salary   ┆ ---               ┆ Percentile ┆ Percentile ┆ str      │\n",
       "│ str            ┆          ┆ ---      ┆ f64               ┆ Salar…     ┆ Salar…     ┆          │\n",
       "│                ┆          ┆ f64      ┆                   ┆ ---        ┆ ---        ┆          │\n",
       "│                ┆          ┆          ┆                   ┆ f64        ┆ f64        ┆          │\n",
       "╞════════════════╪══════════╪══════════╪═══════════════════╪════════════╪════════════╪══════════╡\n",
       "│ Nursing        ┆ 50700.0  ┆ 54200.0  ┆ 67000.0           ┆ 47600.0    ┆ 98300.0    ┆ Business │\n",
       "│ Physician      ┆ 57600.0  ┆ 74300.0  ┆ 91700.0           ┆ 66400.0    ┆ 124000.0   ┆ STEM     │\n",
       "│ Assistant      ┆          ┆          ┆                   ┆            ┆            ┆          │\n",
       "│ Nutrition      ┆ 65300.0  ┆ 39900.0  ┆ 55300.0           ┆ 33900.0    ┆ 99200.0    ┆ HASS     │\n",
       "│ Spanish        ┆ 65400.0  ┆ 34000.0  ┆ 53100.0           ┆ 31000.0    ┆ 96400.0    ┆ HASS     │\n",
       "│ Health Care    ┆ 66400.0  ┆ 38800.0  ┆ 60600.0           ┆ 34600.0    ┆ 101000.0   ┆ Business │\n",
       "│ Administration ┆          ┆          ┆                   ┆            ┆            ┆          │\n",
       "│ …              ┆ …        ┆ …        ┆ …                 ┆ …          ┆ …          ┆ …        │\n",
       "│ Philosophy     ┆ 132500.0 ┆ 39900.0  ┆ 81200.0           ┆ 35500.0    ┆ 168000.0   ┆ HASS     │\n",
       "│ Marketing      ┆ 132900.0 ┆ 40800.0  ┆ 79600.0           ┆ 42100.0    ┆ 175000.0   ┆ Business │\n",
       "│ Math           ┆ 137800.0 ┆ 45400.0  ┆ 92400.0           ┆ 45200.0    ┆ 183000.0   ┆ STEM     │\n",
       "│ Finance        ┆ 147800.0 ┆ 47900.0  ┆ 88300.0           ┆ 47200.0    ┆ 195000.0   ┆ Business │\n",
       "│ Economics      ┆ 159400.0 ┆ 50100.0  ┆ 98600.0           ┆ 50600.0    ┆ 210000.0   ┆ Business │\n",
       "└────────────────┴──────────┴──────────┴───────────────────┴────────────┴────────────┴──────────┘"
      ]
     },
     "execution_count": 226,
     "metadata": {},
     "output_type": "execute_result"
    }
   ],
   "source": [
    "low_risk"
   ]
  },
  {
   "cell_type": "code",
   "execution_count": 229,
   "id": "5dd3c91c-a647-47ef-a148-d023bba9753f",
   "metadata": {
    "collapsed": true,
    "jupyter": {
     "outputs_hidden": true
    }
   },
   "outputs": [
    {
     "data": {
      "text/html": [
       "<div><style>\n",
       ".dataframe > thead > tr,\n",
       ".dataframe > tbody > tr {\n",
       "  text-align: right;\n",
       "  white-space: pre-wrap;\n",
       "}\n",
       "</style>\n",
       "<small>shape: (50, 2)</small><table border=\"1\" class=\"dataframe\"><thead><tr><th>Undergraduate Major</th><th>Spread</th></tr><tr><td>str</td><td>f64</td></tr></thead><tbody><tr><td>&quot;Nursing&quot;</td><td>50700.0</td></tr><tr><td>&quot;Physician Assi…</td><td>57600.0</td></tr><tr><td>&quot;Nutrition&quot;</td><td>65300.0</td></tr><tr><td>&quot;Spanish&quot;</td><td>65400.0</td></tr><tr><td>&quot;Health Care Ad…</td><td>66400.0</td></tr><tr><td>&quot;Religion&quot;</td><td>66700.0</td></tr><tr><td>&quot;Forestry&quot;</td><td>70000.0</td></tr><tr><td>&quot;Interior Desig…</td><td>71300.0</td></tr><tr><td>&quot;Education&quot;</td><td>72700.0</td></tr><tr><td>&quot;Criminal Justi…</td><td>74800.0</td></tr><tr><td>&quot;Graphic Design…</td><td>76000.0</td></tr><tr><td>&quot;Information Te…</td><td>84500.0</td></tr><tr><td>&hellip;</td><td>&hellip;</td></tr><tr><td>&quot;Construction&quot;</td><td>114700.0</td></tr><tr><td>&quot;Industrial Eng…</td><td>115900.0</td></tr><tr><td>&quot;Drama&quot;</td><td>116300.0</td></tr><tr><td>&quot;International …</td><td>118800.0</td></tr><tr><td>&quot;Physics&quot;</td><td>122000.0</td></tr><tr><td>&quot;Chemical Engin…</td><td>122100.0</td></tr><tr><td>&quot;Political Scie…</td><td>126800.0</td></tr><tr><td>&quot;Philosophy&quot;</td><td>132500.0</td></tr><tr><td>&quot;Marketing&quot;</td><td>132900.0</td></tr><tr><td>&quot;Math&quot;</td><td>137800.0</td></tr><tr><td>&quot;Finance&quot;</td><td>147800.0</td></tr><tr><td>&quot;Economics&quot;</td><td>159400.0</td></tr></tbody></table></div>"
      ],
      "text/plain": [
       "shape: (50, 2)\n",
       "┌────────────────────────────┬──────────┐\n",
       "│ Undergraduate Major        ┆ Spread   │\n",
       "│ ---                        ┆ ---      │\n",
       "│ str                        ┆ f64      │\n",
       "╞════════════════════════════╪══════════╡\n",
       "│ Nursing                    ┆ 50700.0  │\n",
       "│ Physician Assistant        ┆ 57600.0  │\n",
       "│ Nutrition                  ┆ 65300.0  │\n",
       "│ Spanish                    ┆ 65400.0  │\n",
       "│ Health Care Administration ┆ 66400.0  │\n",
       "│ …                          ┆ …        │\n",
       "│ Philosophy                 ┆ 132500.0 │\n",
       "│ Marketing                  ┆ 132900.0 │\n",
       "│ Math                       ┆ 137800.0 │\n",
       "│ Finance                    ┆ 147800.0 │\n",
       "│ Economics                  ┆ 159400.0 │\n",
       "└────────────────────────────┴──────────┘"
      ]
     },
     "execution_count": 229,
     "metadata": {},
     "output_type": "execute_result"
    }
   ],
   "source": [
    "low_risk.select(pl.col(['Undergraduate Major', 'Spread'])).sort('Spread')"
   ]
  },
  {
   "cell_type": "code",
   "execution_count": null,
   "id": "21f0ebc7-06fa-4a82-98e4-14f96583ddce",
   "metadata": {},
   "outputs": [],
   "source": [
    "clean_df.sort"
   ]
  },
  {
   "cell_type": "markdown",
   "id": "3740c47c-5288-4ac4-b665-477df0e189c9",
   "metadata": {},
   "source": [
    "Using the .sort_values() method, can you find the degrees with the highest potential? Find the top 5 degrees with the highest values in the 90th percentile. \n",
    "\n",
    "Also, find the degrees with the greatest spread in salaries. Which majors have the largest difference between high and low earners after graduation. "
   ]
  },
  {
   "cell_type": "code",
   "execution_count": 234,
   "id": "5f8bf85a-a34c-41fe-81ec-842594960925",
   "metadata": {},
   "outputs": [],
   "source": [
    "highest_spread = low_risk.select(pl.col(['Undergraduate Major', 'Spread'])).sort('Spread').tail()"
   ]
  },
  {
   "cell_type": "code",
   "execution_count": 240,
   "id": "8ad76284-d798-4d26-9e16-5cb1e6ff59f7",
   "metadata": {},
   "outputs": [],
   "source": [
    "highest_potential = clean_df.select(pl.col(['Undergraduate Major', 'Mid-Career 90th Percentile Salary'])).sort('Mid-Career 90th Percentile Salary').tail()"
   ]
  },
  {
   "cell_type": "code",
   "execution_count": 241,
   "id": "3bc093e1-3504-4c4b-8074-30f545e21e75",
   "metadata": {},
   "outputs": [
    {
     "data": {
      "text/html": [
       "<div><style>\n",
       ".dataframe > thead > tr,\n",
       ".dataframe > tbody > tr {\n",
       "  text-align: right;\n",
       "  white-space: pre-wrap;\n",
       "}\n",
       "</style>\n",
       "<small>shape: (5, 2)</small><table border=\"1\" class=\"dataframe\"><thead><tr><th>Undergraduate Major</th><th>Mid-Career 90th Percentile Salary</th></tr><tr><td>str</td><td>f64</td></tr></thead><tbody><tr><td>&quot;Physics&quot;</td><td>178000.0</td></tr><tr><td>&quot;Math&quot;</td><td>183000.0</td></tr><tr><td>&quot;Chemical Engin…</td><td>194000.0</td></tr><tr><td>&quot;Finance&quot;</td><td>195000.0</td></tr><tr><td>&quot;Economics&quot;</td><td>210000.0</td></tr></tbody></table></div>"
      ],
      "text/plain": [
       "shape: (5, 2)\n",
       "┌──────────────────────┬───────────────────────────────────┐\n",
       "│ Undergraduate Major  ┆ Mid-Career 90th Percentile Salar… │\n",
       "│ ---                  ┆ ---                               │\n",
       "│ str                  ┆ f64                               │\n",
       "╞══════════════════════╪═══════════════════════════════════╡\n",
       "│ Physics              ┆ 178000.0                          │\n",
       "│ Math                 ┆ 183000.0                          │\n",
       "│ Chemical Engineering ┆ 194000.0                          │\n",
       "│ Finance              ┆ 195000.0                          │\n",
       "│ Economics            ┆ 210000.0                          │\n",
       "└──────────────────────┴───────────────────────────────────┘"
      ]
     },
     "execution_count": 241,
     "metadata": {},
     "output_type": "execute_result"
    }
   ],
   "source": [
    "highest_potential"
   ]
  },
  {
   "cell_type": "code",
   "execution_count": 242,
   "id": "ba595181-a87f-4d15-b398-63f15abdeb9e",
   "metadata": {},
   "outputs": [
    {
     "data": {
      "text/html": [
       "<div><style>\n",
       ".dataframe > thead > tr,\n",
       ".dataframe > tbody > tr {\n",
       "  text-align: right;\n",
       "  white-space: pre-wrap;\n",
       "}\n",
       "</style>\n",
       "<small>shape: (5, 2)</small><table border=\"1\" class=\"dataframe\"><thead><tr><th>Undergraduate Major</th><th>Spread</th></tr><tr><td>str</td><td>f64</td></tr></thead><tbody><tr><td>&quot;Philosophy&quot;</td><td>132500.0</td></tr><tr><td>&quot;Marketing&quot;</td><td>132900.0</td></tr><tr><td>&quot;Math&quot;</td><td>137800.0</td></tr><tr><td>&quot;Finance&quot;</td><td>147800.0</td></tr><tr><td>&quot;Economics&quot;</td><td>159400.0</td></tr></tbody></table></div>"
      ],
      "text/plain": [
       "shape: (5, 2)\n",
       "┌─────────────────────┬──────────┐\n",
       "│ Undergraduate Major ┆ Spread   │\n",
       "│ ---                 ┆ ---      │\n",
       "│ str                 ┆ f64      │\n",
       "╞═════════════════════╪══════════╡\n",
       "│ Philosophy          ┆ 132500.0 │\n",
       "│ Marketing           ┆ 132900.0 │\n",
       "│ Math                ┆ 137800.0 │\n",
       "│ Finance             ┆ 147800.0 │\n",
       "│ Economics           ┆ 159400.0 │\n",
       "└─────────────────────┴──────────┘"
      ]
     },
     "execution_count": 242,
     "metadata": {},
     "output_type": "execute_result"
    }
   ],
   "source": [
    "highest_spread"
   ]
  },
  {
   "cell_type": "markdown",
   "id": "626cd825-5a5a-45e0-a9a9-daf1d593f330",
   "metadata": {},
   "source": [
    "# Grouping and Pivoting Data with Pandas"
   ]
  },
  {
   "cell_type": "code",
   "execution_count": 245,
   "id": "1be0e99c-bfc9-484b-932c-48570b39a724",
   "metadata": {},
   "outputs": [
    {
     "data": {
      "text/html": [
       "<div><style>\n",
       ".dataframe > thead > tr,\n",
       ".dataframe > tbody > tr {\n",
       "  text-align: right;\n",
       "  white-space: pre-wrap;\n",
       "}\n",
       "</style>\n",
       "<small>shape: (3, 7)</small><table border=\"1\" class=\"dataframe\"><thead><tr><th>Group</th><th>Undergraduate Major</th><th>Spread</th><th>Starting Median Salary</th><th>Mid-Career Median Salary</th><th>Mid-Career 10th Percentile Salary</th><th>Mid-Career 90th Percentile Salary</th></tr><tr><td>str</td><td>str</td><td>f64</td><td>f64</td><td>f64</td><td>f64</td><td>f64</td></tr></thead><tbody><tr><td>&quot;HASS&quot;</td><td>null</td><td>95218.181818</td><td>37186.363636</td><td>62968.181818</td><td>34145.454545</td><td>129363.636364</td></tr><tr><td>&quot;STEM&quot;</td><td>null</td><td>101600.0</td><td>53862.5</td><td>90812.5</td><td>56025.0</td><td>157625.0</td></tr><tr><td>&quot;Business&quot;</td><td>null</td><td>103958.333333</td><td>44633.333333</td><td>75083.333333</td><td>43566.666667</td><td>147525.0</td></tr></tbody></table></div>"
      ],
      "text/plain": [
       "shape: (3, 7)\n",
       "┌──────────┬──────────────┬──────────────┬──────────────┬──────────────┬─────────────┬─────────────┐\n",
       "│ Group    ┆ Undergraduat ┆ Spread       ┆ Starting     ┆ Mid-Career   ┆ Mid-Career  ┆ Mid-Career  │\n",
       "│ ---      ┆ e Major      ┆ ---          ┆ Median       ┆ Median       ┆ 10th        ┆ 90th        │\n",
       "│ str      ┆ ---          ┆ f64          ┆ Salary       ┆ Salary       ┆ Percentile  ┆ Percentile  │\n",
       "│          ┆ str          ┆              ┆ ---          ┆ ---          ┆ Salar…      ┆ Salar…      │\n",
       "│          ┆              ┆              ┆ f64          ┆ f64          ┆ ---         ┆ ---         │\n",
       "│          ┆              ┆              ┆              ┆              ┆ f64         ┆ f64         │\n",
       "╞══════════╪══════════════╪══════════════╪══════════════╪══════════════╪═════════════╪═════════════╡\n",
       "│ HASS     ┆ null         ┆ 95218.181818 ┆ 37186.363636 ┆ 62968.181818 ┆ 34145.45454 ┆ 129363.6363 │\n",
       "│          ┆              ┆              ┆              ┆              ┆ 5           ┆ 64          │\n",
       "│ STEM     ┆ null         ┆ 101600.0     ┆ 53862.5      ┆ 90812.5      ┆ 56025.0     ┆ 157625.0    │\n",
       "│ Business ┆ null         ┆ 103958.33333 ┆ 44633.333333 ┆ 75083.333333 ┆ 43566.66666 ┆ 147525.0    │\n",
       "│          ┆              ┆ 3            ┆              ┆              ┆ 7           ┆             │\n",
       "└──────────┴──────────────┴──────────────┴──────────────┴──────────────┴─────────────┴─────────────┘"
      ]
     },
     "execution_count": 245,
     "metadata": {},
     "output_type": "execute_result"
    }
   ],
   "source": [
    "clean_df.group_by('Group').mean()"
   ]
  },
  {
   "cell_type": "markdown",
   "id": "c4b92812-61d1-4078-b8d4-b3d7a344fcee",
   "metadata": {},
   "source": [
    "## New data"
   ]
  },
  {
   "cell_type": "code",
   "execution_count": 246,
   "id": "d507db40-becf-45bc-af3f-7f425c9a3bfc",
   "metadata": {},
   "outputs": [
    {
     "name": "stdout",
     "output_type": "stream",
     "text": [
      "Collecting bs4\n",
      "  Downloading bs4-0.0.2-py2.py3-none-any.whl.metadata (411 bytes)\n",
      "Requirement already satisfied: beautifulsoup4 in ./.venv/lib/python3.10/site-packages (from bs4) (4.12.3)\n",
      "Requirement already satisfied: soupsieve>1.2 in ./.venv/lib/python3.10/site-packages (from beautifulsoup4->bs4) (2.5)\n",
      "Downloading bs4-0.0.2-py2.py3-none-any.whl (1.2 kB)\n",
      "Installing collected packages: bs4\n",
      "Successfully installed bs4-0.0.2\n"
     ]
    }
   ],
   "source": [
    "!pip install bs4"
   ]
  },
  {
   "cell_type": "code",
   "execution_count": 247,
   "id": "5fc594e5-9ba2-4037-bcba-7bd3877ebf40",
   "metadata": {},
   "outputs": [],
   "source": [
    "from bs4 import BeautifulSoup"
   ]
  },
  {
   "cell_type": "code",
   "execution_count": 250,
   "id": "ea92372f-84c0-4f96-96fa-d53c1c6efd10",
   "metadata": {},
   "outputs": [],
   "source": [
    "# get table\n",
    "# get table from each page"
   ]
  },
  {
   "cell_type": "code",
   "execution_count": 253,
   "id": "af71e01f-320d-4fad-bd89-1802bafe6ce5",
   "metadata": {},
   "outputs": [],
   "source": [
    "import requests"
   ]
  },
  {
   "cell_type": "code",
   "execution_count": 254,
   "id": "79f71e94-66d4-4450-9403-6e1a0ad37a68",
   "metadata": {},
   "outputs": [],
   "source": [
    "response = requests.get('https://www.payscale.com/college-salary-report/majors-that-pay-you-back/bachelors')"
   ]
  },
  {
   "cell_type": "code",
   "execution_count": 256,
   "id": "0661c906-2be7-4f33-95f2-b8ec8fb7e6b8",
   "metadata": {
    "collapsed": true,
    "jupyter": {
     "outputs_hidden": true
    },
    "scrolled": true
   },
   "outputs": [
    {
     "data": {
      "text/plain": [
       "'<!DOCTYPE html><html><script async=\"\" src=\"https://www.googletagservices.com/tag/js/gpt.js\"></script><script>\\n          var googletag = googletag || {};\\n          googletag.cmd = googletag.cmd || [];</script><script type=\"text/plain\" class=\"optanon-category-C0002\">\\nvar appInsights=window.appInsights||function(a){\\n  function b(a){c[a]=function(){var b=arguments;c.queue.push(function(){c[a].apply(c,b)})}}var c={config:a},d=document,e=window;setTimeout(function(){var b=d.createElement(\"script\");b.src=a.url||\"https://az416426.vo.msecnd.net/scripts/a/ai.0.js\",d.getElementsByTagName(\"script\")[0].parentNode.appendChild(b)});try{c.cookie=d.cookie}catch(a){}c.queue=[];for(var f=[\"Event\",\"Exception\",\"Metric\",\"PageView\",\"Trace\",\"Dependency\"];f.length;)b(\"track\"+f.pop());if(b(\"setAuthenticatedUserContext\"),b(\"clearAuthenticatedUserContext\"),b(\"startTrackEvent\"),b(\"stopTrackEvent\"),b(\"startTrackPage\"),b(\"stopTrackPage\"),b(\"flush\"),!a.disableExceptionTracking){f=\"onerror\",b(\"_\"+f);var g=e[f];e[f]=function(a,b,d,e,h){var i=g&&g(a,b,d,e,h);return!0!==i&&c[\"_\"+f](a,b,d,e,h),i}}return c\\n  }({\\n    instrumentationKey:\"74765b30-d4b5-4a9c-9c36-255b58d6c120\",\\n    disableExceptionTracking: false,\\n    verboseLogging: true\\n  });\\nwindow.appInsights=appInsights,appInsights.queue&&0===appInsights.queue.length&&appInsights.trackPageView();</script><head><link rel=\"preconnect\" href=\"https://cdn-payscale.com\" crossorigin=\"anonymous\"/><link rel=\"preconnect\" href=\"https://adservice.google.com\" crossorigin=\"true\"/><link rel=\"preconnect\" href=\"https://fonts.gstatic.com\" crossorigin=\"anonymous\"/><link rel=\"preconnect\" href=\"https://fonts.googleapis.com\" crossorigin=\"anonymous\"/><meta name=\"viewport\" content=\"width=device-width\"/><meta charSet=\"utf-8\"/><title>The Highest-Paying Careers with a Bachelor&#x27;s Degree for 2018 | Payscale</title><meta name=\"description\" content=\"What you study in college affects your salary more than where you go. So choose wisely! Payscale ranks the highest-paying jobs for gradutes with a bachelor&#x27;s degree.\"/><link rel=\"canonical\" href=\"https://www.payscale.com/college-salary-report/majors-that-pay-you-back/bachelors\"/><script async=\"\" crossorigin=\"anonymous\" type=\"text/javascript\">\\n          !function(e){var t=new XMLHttpRequest;t.open(\"GET\",\"https://fonts.googleapis.com/css?family=Roboto:300,400,700,900\",!0),t.onreadystatechange=function(){if(4==t.readyState&&200==t.status){var e=t.responseText;e=e.replace(/}/g,\"font-display: swap; }\");var a=document.getElementsByTagName(\"head\")[0],n=document.createElement(\"style\");n.appendChild(document.createTextNode(e)),a.appendChild(n)}},t.send()}();\\n          </script><link rel=\"icon\" href=\"https://cdn-payscale.com/content/favicon/favicon-32x32.png\" sizes=\"32x32\" type=\"image/png\"/><script>!function(t){var o={};function r(e){if(o[e])return o[e].exports;var n=o[e]={i:e,l:!1,exports:{}};return t[e].call(n.exports,n,n.exports,r),n.l=!0,n.exports}r.m=t,r.c=o,r.d=function(e,n,t){r.o(e,n)||Object.defineProperty(e,n,{enumerable:!0,get:t})},r.r=function(e){\"undefined\"!=typeof Symbol&&Symbol.toStringTag&&Object.defineProperty(e,Symbol.toStringTag,{value:\"Module\"}),Object.defineProperty(e,\"__esModule\",{value:!0})},r.t=function(n,e){if(1&e&&(n=r(n)),8&e)return n;if(4&e&&\"object\"==typeof n&&n&&n.__esModule)return n;var t=Object.create(null);if(r.r(t),Object.defineProperty(t,\"default\",{enumerable:!0,value:n}),2&e&&\"string\"!=typeof n)for(var o in n)r.d(t,o,function(e){return n[e]}.bind(null,o));return t},r.n=function(e){var n=e&&e.__esModule?function(){return e.default}:function(){return e};return r.d(n,\"a\",n),n},r.o=function(e,n){return Object.prototype.hasOwnProperty.call(e,n)},r.p=\"\",r(r.s=17)}({0:function(e,n,t){\"use strict\";t.r(n),t.d(n,\"hasAcceptedCookiePolicy\",function(){return r}),t.d(n,\"createNecessaryCookie\",function(){return c}),t.d(n,\"createCookie\",function(){return i}),t.d(n,\"readCookie\",function(){return o}),t.d(n,\"eraseCookie\",function(){return u});var r=function(){var e=o(\"accept-cookie\"),n=o(\"client-origin\");return\"yes\"===e||\"na\"===e||\"non-eu\"===n&&(c(\"accept-cookie\",\"na\",\".payscale.com\",365),!0)},c=function(e,n,t,o){var r=\"\";if(o){var c=new Date;c.setTime(c.getTime()+24*o*60*60*1e3),r=\"; expires=\".concat(c.toGMTString())}var i=t?\"\".concat(e,\"=\").concat(n).concat(r,\"; domain=\").concat(t,\"; path=/\"):\"\".concat(e,\"=\").concat(n).concat(r,\"; path=/\");document.cookie=i},i=function(e,n,t,o){(r()||-1===o)&&c(e,n,t,o)},o=function(e){for(var n=\"\".concat(e,\"=\"),t=document.cookie.split(\";\"),o=0;o<t.length;o++){for(var r=t[o];\" \"===r.charAt(0);)r=r.substring(1,r.length);if(0===r.indexOf(n))return r.substring(n.length,r.length)}return null},u=function(e,n){if(n)i(e,\"\",n,-1);else for(var t=document.domain.split(\".\"),o=0;o<t.length;o++){var r=\"\".concat(t.slice(o,t.length).join(\".\"));i(e,\"\",r,-1),i(e,\"\",\".\".concat(r),-1)}}},17:function(e,n,t){\"use strict\";t.r(n);var o=t(0);\"undefined\"!=typeof window&&Object.keys(o).forEach(function(e){window[e]=o[e]})}});</script><script>(function(w,d,s,l,i){w[l]=w[l]||[];w[l].push({\\'gtm.start\\':\\n  new Date().getTime(),event:\\'gtm.js\\'});var f=d.getElementsByTagName(s)[0],\\n  j=d.createElement(s),dl=l!=\\'dataLayer\\'?\\'&l=\\'+l:\\'\\';j.async=true;j.src=\\n  \\'https://www.googletagmanager.com/gtm.js?id=\\'+i+dl;f.parentNode.insertBefore(j,f);\\n  })(window,document,\\'script\\',\\'dataLayer\\',\\'GTM-P3CVWR\\');</script><meta property=\"og:locale\" content=\"en_US\"/><meta property=\"og:type\" content=\"website\"/><meta property=\"og:title\" content=\"The Highest-Paying Careers with a Bachelor&#x27;s Degree for 2018 | Payscale\"/><meta property=\"og:description\" content=\"What you study in college affects your salary more than where you go. So choose wisely! Payscale ranks the highest-paying jobs for gradutes with a bachelor&#x27;s degree.\"/><meta property=\"og:url\" content=\"/college-salary-report/majors-that-pay-you-back/bachelors\"/><meta property=\"og:site_name\" content=\"Payscale\"/><meta property=\"og:image\" content=\"https://payscale-content-prod.s3-us-west-2.amazonaws.com/content/college-salary-report/csr_ogImg.jpg\"/><meta name=\"twitter:card\" content=\"summary_large_image\"/><meta name=\"twitter:image\" content=\"https://payscale-content-prod.s3-us-west-2.amazonaws.com/content/college-salary-report/csr_twitterImg.jpg\"/><meta name=\"twitter:description\" content=\"What you study in college affects your salary more than where you go. So choose wisely! Payscale ranks the highest-paying jobs for gradutes with a bachelor&#x27;s degree.\"/><meta name=\"twitter:title\" content=\"The Highest-Paying Careers with a Bachelor&#x27;s Degree for 2018 | Payscale\"/><meta name=\"next-head-count\" content=\"20\"/><link rel=\"preload\" href=\"https://cdn-payscale.com/content/data-packages-app/prod/2023.1020.1738.156-master/_next/static/css/b391e9567dafc8ade898.css\" as=\"style\"/><link rel=\"stylesheet\" href=\"https://cdn-payscale.com/content/data-packages-app/prod/2023.1020.1738.156-master/_next/static/css/b391e9567dafc8ade898.css\" data-n-g=\"\"/><link rel=\"preload\" href=\"https://cdn-payscale.com/content/data-packages-app/prod/2023.1020.1738.156-master/_next/static/css/7aeb8e9f57a458b80fbe.css\" as=\"style\"/><link rel=\"stylesheet\" href=\"https://cdn-payscale.com/content/data-packages-app/prod/2023.1020.1738.156-master/_next/static/css/7aeb8e9f57a458b80fbe.css\" data-n-p=\"\"/><noscript data-n-css=\"\"></noscript><link rel=\"preload\" href=\"https://cdn-payscale.com/content/data-packages-app/prod/2023.1020.1738.156-master/_next/static/chunks/webpack-3f4f1f08b0192a1a62c7.js\" as=\"script\"/><link rel=\"preload\" href=\"https://cdn-payscale.com/content/data-packages-app/prod/2023.1020.1738.156-master/_next/static/chunks/433-bd5c079d657fa88c5df3.js\" as=\"script\"/><link rel=\"preload\" href=\"https://cdn-payscale.com/content/data-packages-app/prod/2023.1020.1738.156-master/_next/static/chunks/main-7b7853e03bfa21337f9e.js\" as=\"script\"/><link rel=\"preload\" href=\"https://cdn-payscale.com/content/data-packages-app/prod/2023.1020.1738.156-master/_next/static/chunks/pages/_app-1d79d716dcc1b00fccd5.js\" as=\"script\"/><link rel=\"preload\" href=\"https://cdn-payscale.com/content/data-packages-app/prod/2023.1020.1738.156-master/_next/static/chunks/framework-8f9633a846c26a15a502.js\" as=\"script\"/><link rel=\"preload\" href=\"https://cdn-payscale.com/content/data-packages-app/prod/2023.1020.1738.156-master/_next/static/chunks/793-850f28db69e1a4b41f03.js\" as=\"script\"/><link rel=\"preload\" href=\"https://cdn-payscale.com/content/data-packages-app/prod/2023.1020.1738.156-master/_next/static/chunks/707-8ce6a707c182322192c2.js\" as=\"script\"/><link rel=\"preload\" href=\"https://cdn-payscale.com/content/data-packages-app/prod/2023.1020.1738.156-master/_next/static/chunks/369-45409b97fdb9a50854d7.js\" as=\"script\"/><link rel=\"preload\" href=\"https://cdn-payscale.com/content/data-packages-app/prod/2023.1020.1738.156-master/_next/static/chunks/229-081e70fb6581d82e742a.js\" as=\"script\"/><link rel=\"preload\" href=\"https://cdn-payscale.com/content/data-packages-app/prod/2023.1020.1738.156-master/_next/static/chunks/669-25716c429181a2069bd7.js\" as=\"script\"/><link rel=\"preload\" href=\"https://cdn-payscale.com/content/data-packages-app/prod/2023.1020.1738.156-master/_next/static/chunks/pages/college-salary-report/Grid-408a0c82148f0f16a2b2.js\" as=\"script\"/></head><body><div id=\"__next\"><style>\\n      .__react_component_tooltip { background: #222; color: #fff }\\n    </style><div class=\"page page--full-width csr-home\"><nav id=\"navbar\" class=\"pxl-navbar pxl-navbar--dark\"><div class=\"pxl-navbar__branding\"><a href=\"/\"><svg xmlns=\"http://www.w3.org/2000/svg\" class=\"pxl-navbar__logo\" viewBox=\"0 0 329.143 95.108\"><g id=\"Group_11812\" data-name=\"Group 11812\" transform=\"translate(0.001)\"><g id=\"Group_11269\" data-name=\"Group 11269\" transform=\"translate(-0.001)\"><path id=\"Path_17404\" data-name=\"Path 17404\" d=\"M92.714,6.113A6.114,6.114,0,1,1,86.6,0h0a6.114,6.114,0,0,1,6.114,6.113\" transform=\"translate(-28.081)\" fill=\"#fff\"></path><path id=\"Path_17405\" data-name=\"Path 17405\" d=\"M92.714,59.768A6.114,6.114,0,1,1,86.6,53.657h0a6.114,6.114,0,0,1,6.114,6.111\" transform=\"translate(-28.081 -18.721)\" fill=\"#fff\"></path><path id=\"Path_17406\" data-name=\"Path 17406\" d=\"M92.714,32.945A6.114,6.114,0,1,1,86.6,26.832h0a6.115,6.115,0,0,1,6.114,6.113\" transform=\"translate(-28.081 -9.362)\" fill=\"#fff\"></path><path id=\"Path_17407\" data-name=\"Path 17407\" d=\"M92.714,86.6A6.114,6.114,0,1,1,86.6,80.49h0A6.12,6.12,0,0,1,92.714,86.6\" transform=\"translate(-28.081 -28.083)\" fill=\"#fff\"></path><path id=\"Path_17408\" data-name=\"Path 17408\" d=\"M92.715,113.428a6.117,6.117,0,0,1-6.12,6.113c-.059,0-.118,0-.178,0a6.18,6.18,0,0,1-5.925-5.948,6.113,6.113,0,1,1,12.222-.309q0,.073,0,.146\" transform=\"translate(-28.082 -37.445)\" fill=\"#fff\"></path><path id=\"Path_17409\" data-name=\"Path 17409\" d=\"M65.885,59.768a6.114,6.114,0,1,1-6.116-6.111h0a6.114,6.114,0,0,1,6.113,6.111\" transform=\"translate(-18.72 -18.721)\" fill=\"#fff\"></path><path id=\"Path_17410\" data-name=\"Path 17410\" d=\"M65.885,86.6a6.114,6.114,0,1,1-6.114-6.114h0A6.12,6.12,0,0,1,65.885,86.6\" transform=\"translate(-18.72 -28.083)\" fill=\"#fff\"></path><path id=\"Path_17411\" data-name=\"Path 17411\" d=\"M65.885,113.436a6.114,6.114,0,1,1-6.115-6.113h0a6.116,6.116,0,0,1,6.113,6.113\" transform=\"translate(-18.72 -37.445)\" fill=\"#fff\"></path><path id=\"Path_17412\" data-name=\"Path 17412\" d=\"M39.056,86.6a6.114,6.114,0,1,1-6.114-6.114h0A6.12,6.12,0,0,1,39.056,86.6\" transform=\"translate(-9.36 -28.083)\" fill=\"#fff\"></path><path id=\"Path_17413\" data-name=\"Path 17413\" d=\"M39.056,113.436a6.114,6.114,0,1,1-6.115-6.113h0a6.116,6.116,0,0,1,6.114,6.113\" transform=\"translate(-9.36 -37.445)\" fill=\"#fff\"></path><path id=\"Path_17414\" data-name=\"Path 17414\" d=\"M12.227,59.768A6.114,6.114,0,1,1,6.11,53.657h0a6.114,6.114,0,0,1,6.113,6.111\" transform=\"translate(0.001 -18.721)\" fill=\"#fff\"></path><path id=\"Path_17415\" data-name=\"Path 17415\" d=\"M12.227,86.6A6.114,6.114,0,1,1,6.113,80.49h0A6.121,6.121,0,0,1,12.227,86.6\" transform=\"translate(0.001 -28.083)\" fill=\"#fff\"></path><path id=\"Path_17416\" data-name=\"Path 17416\" d=\"M12.227,113.436a6.114,6.114,0,1,1-6.115-6.113h0a6.116,6.116,0,0,1,6.113,6.113\" transform=\"translate(0.001 -37.445)\" fill=\"#fff\"></path></g><path id=\"Path_17511\" data-name=\"Path 17511\" d=\"M159.483,93.262c0,9.089-6.895,16.045-15.192,16.045a12.654,12.654,0,0,1-10.678-5.124v17.834h-6.587V78.01h6.59V82.4a12.537,12.537,0,0,1,10.678-5.185C152.588,77.217,159.483,84.232,159.483,93.262Zm-6.59,0a9.637,9.637,0,1,0-9.636,9.761A9.426,9.426,0,0,0,152.893,93.262Z\" transform=\"translate(-44.319 -26.94)\" fill=\"#fff\"></path><path id=\"Path_17512\" data-name=\"Path 17512\" d=\"M214.957,78.01v30.5h-6.588v-4.392a12.537,12.537,0,0,1-10.678,5.185c-8.3,0-15.192-7.016-15.192-16.045,0-9.09,6.894-16.045,15.192-16.045a12.654,12.654,0,0,1,10.678,5.124V78.01Zm-6.588,15.252a9.637,9.637,0,1,0-9.636,9.761A9.426,9.426,0,0,0,208.369,93.262Z\" transform=\"translate(-63.674 -26.94)\" fill=\"#fff\"></path><path id=\"Path_17642\" data-name=\"Path 17642\" d=\"M262.834,78.434l-8.9,21.782-8.941-21.785h-7.2l12.865,29.8-5.821,14.243h6.684l18.513-44.038Z\" transform=\"translate(-82.965 -27.364)\" fill=\"#fff\"></path><path id=\"Path_17514\" data-name=\"Path 17514\" d=\"M312.266,99.911c0,6.1-5.307,9.4-11.9,9.4-6.1,0-10.492-2.746-12.445-7.137l5.674-3.294c.977,2.744,3.416,4.392,6.771,4.392,2.93,0,5.186-.977,5.186-3.417,0-5.43-16.408-2.38-16.408-13.3,0-5.736,4.941-9.334,11.164-9.334,5,0,9.151,2.319,11.286,6.344l-5.553,3.112a5.944,5.944,0,0,0-5.733-3.478c-2.38,0-4.454,1.037-4.454,3.234C295.856,91.98,312.266,88.625,312.266,99.911Z\" transform=\"translate(-100.456 -26.94)\" fill=\"#fff\"></path><path id=\"Path_17515\" data-name=\"Path 17515\" d=\"M329.44,93.262a15.739,15.739,0,0,1,16.106-16.045,15.069,15.069,0,0,1,13.6,7.87l-5.673,3.295a8.532,8.532,0,0,0-7.992-4.7,9.3,9.3,0,0,0-9.459,9.149c0,.143,0,.286,0,.43a9.305,9.305,0,0,0,9.026,9.576c.143,0,.286.005.43,0a8.953,8.953,0,0,0,8.114-4.7l5.673,3.233a15.336,15.336,0,0,1-13.727,7.932,15.774,15.774,0,0,1-16.1-15.438C329.437,93.666,329.437,93.464,329.44,93.262Z\" transform=\"translate(-114.94 -26.941)\" fill=\"#fff\"></path><path id=\"Path_17516\" data-name=\"Path 17516\" d=\"M410.718,78.01v30.5H404.13v-4.392a12.538,12.538,0,0,1-10.678,5.185c-8.3,0-15.191-7.016-15.191-16.045,0-9.09,6.894-16.045,15.191-16.045A12.653,12.653,0,0,1,404.13,82.34V78.01ZM404.13,93.262a9.637,9.637,0,1,0-9.636,9.761A9.427,9.427,0,0,0,404.13,93.262Z\" transform=\"translate(-131.975 -26.94)\" fill=\"#fff\"></path><path id=\"Path_17517\" data-name=\"Path 17517\" d=\"M438.988,56.01h6.589v45.1h-6.589Z\" transform=\"translate(-153.162 -19.542)\" fill=\"#fff\"></path><path id=\"Path_17518\" data-name=\"Path 17518\" d=\"M473.915,103.269a9.311,9.311,0,0,0,7.87-3.783l5.43,3.173c-2.806,4.148-7.382,6.65-13.36,6.65-10.067,0-16.594-6.894-16.594-16.045,0-9.029,6.527-16.045,16.106-16.045,9.09,0,15.313,7.321,15.313,16.106a19.981,19.981,0,0,1-.244,2.744H464.154C465.191,100.827,469.034,103.269,473.915,103.269ZM482.03,90.7a8.489,8.489,0,0,0-8.725-7.5,8.869,8.869,0,0,0-9.212,7.5Z\" transform=\"translate(-159.538 -26.941)\" fill=\"#fff\"></path></g></svg></a></div><div class=\"pxl-navbar__content\"><ul class=\"pxl-navbar__nav\"><li id=\"products-nav\" class=\"pxl-navbar__nav-item \"><div class=\"pxl-navbar__nav-item-content\"><a class=\"pxl-navbar__nav-link\" href=\"/products/\">Products</a><div class=\"pxl-navbar__nav-x--container\" role=\"button\" tabindex=\"0\"><span class=\"pxl-navbar__nav-x\"></span></div></div><div class=\"pxl-navbar__subnav\"><div class=\"pxl-navbar__subnav-container\"><div class=\"pxl-navbar__subnav-sections\"><div id=\"software\" class=\"pxl-navbar__subnav-section\"><a class=\"pxl-navbar__subnav-header pxl-navbar__subnav-header--link\" href=\"/products/software/\">Software<i class=\"sub-nav-icon icon-right\"></i></a><div class=\"pxl-navbar__subnav-subheader\">Streamlined solutions for every step of the compensation management journey</div><div class=\"pxl-navbar__subnav-items\"><a href=\"/products/software/marketpay/\" class=\"pxl-navbar__subnav-item pxl-navbar__subnav-item--desc\"><img src=\"https://cdn-payscale.com/content/wpengine/marketpay.svg\" class=\"pxl-navbar__subnav-icon\"/><div class=\"pxl-navbar__subnav-text\"><div class=\"pxl-navbar__subnav-link\">MarketPay</div><p class=\"pxl-navbar__subnav-desc\">Transform pay with our enterprise-grade comp platform</p></div></a><a href=\"/products/software/payfactors/\" class=\"pxl-navbar__subnav-item pxl-navbar__subnav-item--desc\"><img src=\"https://cdn-payscale.com/content/wpengine/payfactors.svg\" class=\"pxl-navbar__subnav-icon\"/><div class=\"pxl-navbar__subnav-text\"><div class=\"pxl-navbar__subnav-link\">Payfactors</div><p class=\"pxl-navbar__subnav-desc\">Automate compensation with our full-suite solution</p></div></a></div></div><div id=\"data\" class=\"pxl-navbar__subnav-section\"><a class=\"pxl-navbar__subnav-header pxl-navbar__subnav-header--link\" href=\"/products/data/\">Data<i class=\"sub-nav-icon icon-right\"></i></a><div class=\"pxl-navbar__subnav-subheader\">Continuously updated compensation datasets from Payscale and our partners</div><div class=\"pxl-navbar__subnav-items\"><a href=\"/products/data/peer-data/\" class=\"pxl-navbar__subnav-item pxl-navbar__subnav-item--desc\"><img src=\"https://cdn-payscale.com/content/wpengine/peer.svg\" class=\"pxl-navbar__subnav-icon\"/><div class=\"pxl-navbar__subnav-text\"><div class=\"pxl-navbar__subnav-link\">Peer Data</div><p class=\"pxl-navbar__subnav-desc\">Payscale&#x27;s employer-reported salary data network</p></div></a><a href=\"/products/data/employee-reported/\" class=\"pxl-navbar__subnav-item pxl-navbar__subnav-item--desc\"><img src=\"https://cdn-payscale.com/content/wpengine/crowdsourced.svg\" class=\"pxl-navbar__subnav-icon\"/><div class=\"pxl-navbar__subnav-text\"><div class=\"pxl-navbar__subnav-link\">Employee Reported</div><p class=\"pxl-navbar__subnav-desc\">The world`s largest employee-submitted pay database</p></div></a><a href=\"/products/data/survey-publishers/\" class=\"pxl-navbar__subnav-item pxl-navbar__subnav-item--desc\"><img src=\"https://cdn-payscale.com/content/wpengine/surveypublishers.svg\" class=\"pxl-navbar__subnav-icon\"/><div class=\"pxl-navbar__subnav-text\"><div class=\"pxl-navbar__subnav-link\">Survey Publishers</div><p class=\"pxl-navbar__subnav-desc\">Annual survey salary data from HR industry publishers</p></div></a><a href=\"/products/data/data-api/\" class=\"pxl-navbar__subnav-item pxl-navbar__subnav-item--desc\"><img src=\"https://cdn-payscale.com/content/wpengine/dataapi.svg\" class=\"pxl-navbar__subnav-icon\"/><div class=\"pxl-navbar__subnav-text\"><div class=\"pxl-navbar__subnav-link\">Data API</div><p class=\"pxl-navbar__subnav-desc\">The crowdsourced compensation data API for developers</p></div></a><a href=\"/products/data/payscale-compensation-surveys/\" class=\"pxl-navbar__subnav-item pxl-navbar__subnav-item--desc\"><img src=\"https://cdn-payscale.com/content/wpengine/compensationsurvey.svg\" class=\"pxl-navbar__subnav-icon\"/><div class=\"pxl-navbar__subnav-text\"><div class=\"pxl-navbar__subnav-link\">Payscale Compensation Surveys</div><p class=\"pxl-navbar__subnav-desc\">100% company submitted data from 2,000+ businesses</p></div></a><a href=\"/products/data/hr-market-analysis/\" class=\"pxl-navbar__subnav-item pxl-navbar__subnav-item--desc\"><img src=\"https://cdn-payscale.com/content/wpengine/marketdata.svg\" class=\"pxl-navbar__subnav-icon\"/><div class=\"pxl-navbar__subnav-text\"><div class=\"pxl-navbar__subnav-link\">HR Market Analysis Data</div><p class=\"pxl-navbar__subnav-desc\">Aggregated, HR-reported market data</p></div></a></div></div><div id=\"services\" class=\"pxl-navbar__subnav-section\"><a class=\"pxl-navbar__subnav-header pxl-navbar__subnav-header--link\" href=\"/products/services/\">Services<i class=\"sub-nav-icon icon-right\"></i></a><div class=\"pxl-navbar__subnav-subheader\">Flexible, customizable services and support for Payscale customers</div></div></div><div class=\"pxl-navbar__cta\"><div class=\"pxl-navbar__cta-item\" id=\"products-nav-request-demo-btn\"><div class=\"pxl-navbar__cta-desktop\"><div class=\"pxl-navbar__cta-header\">Request a Demo</div><p class=\"pxl-navbar__cta-copy\">Schedule a personalized demo to feel the power of Payscale</p><a href=\"https://resources.payscale.com/hr-request-a-demo.html\" id=\"products-nav-request-demo-btncta\" class=\"pxl-navbar__cta-btn pxl-navbar__cta-btn--consumer\">Get a Demo</a></div><a href=\"https://resources.payscale.com/hr-request-a-demo.html\" id=\"products-nav-request-demo-btnctaMobile\" class=\"pxl-navbar__cta-btn pxl-navbar__cta-mobile pxl-navbar__cta-btn--consumer\">Get a Demo</a></div><div class=\"pxl-navbar__cta-item\" id=\"products-nav-price-a-job-btn\"><div class=\"pxl-navbar__cta-desktop\"><div class=\"pxl-navbar__cta-header\">Price a Job for Free</div><p class=\"pxl-navbar__cta-copy\">Find salary information for similar job titles and locations</p><a href=\"https://www.payscale.com/price-a-job\" id=\"products-nav-price-a-job-btncta\" class=\"pxl-navbar__cta-btn\">Price a Job</a></div><a href=\"https://www.payscale.com/price-a-job\" id=\"products-nav-price-a-job-btnctaMobile\" class=\"pxl-navbar__cta-btn pxl-navbar__cta-mobile\">Price a Job</a></div></div></div></div></li><li id=\"solutions-nav\" class=\"pxl-navbar__nav-item \"><div class=\"pxl-navbar__nav-item-content\"><a class=\"pxl-navbar__nav-link\" href=\"/solutions/\">Solutions</a><div class=\"pxl-navbar__nav-x--container\" role=\"button\" tabindex=\"0\"><span class=\"pxl-navbar__nav-x\"></span></div></div><div class=\"pxl-navbar__subnav\"><div class=\"pxl-navbar__subnav-container\"><div class=\"pxl-navbar__subnav-sections\"><div id=\"by-topic\" class=\"pxl-navbar__subnav-section\"><div class=\"pxl-navbar__subnav-header\">By Topic</div><div class=\"pxl-navbar__subnav-items\"><a href=\"/solutions/pay-equity/\" class=\"pxl-navbar__subnav-item\"><img src=\"https://cdn-payscale.com/content/wpengine/payequity.svg\" class=\"pxl-navbar__subnav-icon\"/><div class=\"pxl-navbar__subnav-text\"><div class=\"pxl-navbar__subnav-link\">Pay Equity</div></div></a><a href=\"/solutions/comp-planning/\" class=\"pxl-navbar__subnav-item\"><img src=\"https://cdn-payscale.com/content/wpengine/remotework.svg\" class=\"pxl-navbar__subnav-icon\"/><div class=\"pxl-navbar__subnav-text\"><div class=\"pxl-navbar__subnav-link\">Compensation Planning</div></div></a><a href=\"/solutions/pay-communications/\" class=\"pxl-navbar__subnav-item\"><img src=\"https://cdn-payscale.com/content/wpengine/paycommunication.svg\" class=\"pxl-navbar__subnav-icon\"/><div class=\"pxl-navbar__subnav-text\"><div class=\"pxl-navbar__subnav-link\">Pay Communications</div></div></a><a href=\"/solutions/job-management/\" class=\"pxl-navbar__subnav-item\"><img src=\"https://cdn-payscale.com/content/wpengine/jobmanagement.svg\" class=\"pxl-navbar__subnav-icon\"/><div class=\"pxl-navbar__subnav-text\"><div class=\"pxl-navbar__subnav-link\">Job Management</div></div></a><a href=\"/solutions/location-based-pay/\" class=\"pxl-navbar__subnav-item\"><img src=\"https://cdn-payscale.com/content/wpengine/location.svg\" class=\"pxl-navbar__subnav-icon\"/><div class=\"pxl-navbar__subnav-text\"><div class=\"pxl-navbar__subnav-link\">Location Based Pay</div></div></a></div></div><div id=\"by-industry\" class=\"pxl-navbar__subnav-section\"><div class=\"pxl-navbar__subnav-header\">By Industry</div><div class=\"pxl-navbar__subnav-items\"><a href=\"/solutions/retail-and-customer-service/\" class=\"pxl-navbar__subnav-item\"><img src=\"https://cdn-payscale.com/content/wpengine/retail.svg\" class=\"pxl-navbar__subnav-icon\"/><div class=\"pxl-navbar__subnav-text\"><div class=\"pxl-navbar__subnav-link\">Retail and Customer Service</div></div></a><a href=\"/solutions/energy/\" class=\"pxl-navbar__subnav-item\"><img src=\"https://cdn-payscale.com/content/wpengine/energy.svg\" class=\"pxl-navbar__subnav-icon\"/><div class=\"pxl-navbar__subnav-text\"><div class=\"pxl-navbar__subnav-link\">Energy</div></div></a><a href=\"/solutions/technology/\" class=\"pxl-navbar__subnav-item\"><img src=\"https://cdn-payscale.com/content/wpengine/technology.svg\" class=\"pxl-navbar__subnav-icon\"/><div class=\"pxl-navbar__subnav-text\"><div class=\"pxl-navbar__subnav-link\">Technology</div></div></a><a href=\"/solutions/agencies-and-consultancies/\" class=\"pxl-navbar__subnav-item\"><img src=\"https://cdn-payscale.com/content/wpengine/agencies.svg\" class=\"pxl-navbar__subnav-icon\"/><div class=\"pxl-navbar__subnav-text\"><div class=\"pxl-navbar__subnav-link\">Agencies and Consultancies</div></div></a><a href=\"/solutions/healthcare/\" class=\"pxl-navbar__subnav-item\"><img src=\"https://cdn-payscale.com/content/wpengine/healthcare.svg\" class=\"pxl-navbar__subnav-icon\"/><div class=\"pxl-navbar__subnav-text\"><div class=\"pxl-navbar__subnav-link\">Healthcare</div></div></a></div></div></div><div class=\"pxl-navbar__cta\"><div class=\"pxl-navbar__cta-item\" id=\"products-nav-request-demo-btn\"><div class=\"pxl-navbar__cta-desktop\"><div class=\"pxl-navbar__cta-header\">Request a Demo</div><p class=\"pxl-navbar__cta-copy\">Schedule a personalized demo to feel the power of Payscale</p><a href=\"https://resources.payscale.com/hr-request-a-demo.html\" id=\"products-nav-request-demo-btncta\" class=\"pxl-navbar__cta-btn pxl-navbar__cta-btn--consumer\">Get a Demo</a></div><a href=\"https://resources.payscale.com/hr-request-a-demo.html\" id=\"products-nav-request-demo-btnctaMobile\" class=\"pxl-navbar__cta-btn pxl-navbar__cta-mobile pxl-navbar__cta-btn--consumer\">Get a Demo</a></div><div class=\"pxl-navbar__cta-item\" id=\"products-nav-price-a-job-btn\"><div class=\"pxl-navbar__cta-desktop\"><div class=\"pxl-navbar__cta-header\">Price a Job for Free</div><p class=\"pxl-navbar__cta-copy\">Find salary information for similar job titles and locations</p><a href=\"https://www.payscale.com/price-a-job\" id=\"products-nav-price-a-job-btncta\" class=\"pxl-navbar__cta-btn\">Price a Job</a></div><a href=\"https://www.payscale.com/price-a-job\" id=\"products-nav-price-a-job-btnctaMobile\" class=\"pxl-navbar__cta-btn pxl-navbar__cta-mobile\">Price a Job</a></div></div></div><div class=\"pxl-navbar__subnav-all\"><a class=\"pxl-navbar__subnav-all--link\" href=\"/solutions/\">Browse all solutions<i class=\"browse-all-icon icon-right \"></i></a></div><div class=\"pxl-navbar__subnav-bottom\"><div class=\"pxl-navbar__subnav-bottom--header\">End comp guesswork with our free job-pricing tool</div><a href=\"https://www.payscale.com/price-a-job\" id=\"solutions-nav-cta-bot-btncta\" class=\"pxl-navbar__cta-btn\">Price a Job</a></div></div></li><li id=\"whypayscale-nav\" class=\"pxl-navbar__nav-item \"><div class=\"pxl-navbar__nav-item-content\"><a class=\"pxl-navbar__nav-link\" href=\"/why-payscale/\">Why Payscale?</a><div class=\"pxl-navbar__nav-x--container\" role=\"button\" tabindex=\"0\"><span class=\"pxl-navbar__nav-x\"></span></div></div><div class=\"pxl-navbar__subnav\"><div class=\"pxl-navbar__subnav-container\"><div class=\"pxl-navbar__subnav-sections\"><div id=\"data-methodology\" class=\"pxl-navbar__subnav-section\"><a class=\"pxl-navbar__subnav-header pxl-navbar__subnav-header--link\" href=\"/why-payscale/data-methodology/\">Data Methodology<i class=\"sub-nav-icon icon-right\"></i></a><div class=\"pxl-navbar__subnav-subheader\">From collection to validation, our data methodology delivers certainty</div></div><div id=\"executive-leadership\" class=\"pxl-navbar__subnav-section\"><a class=\"pxl-navbar__subnav-header pxl-navbar__subnav-header--link\" href=\"/why-payscale/executive-leadership/\">Executive Leadership<i class=\"sub-nav-icon icon-right\"></i></a><div class=\"pxl-navbar__subnav-subheader\">Meet the leaders dedicated to empowering better conversations around pay</div></div><div id=\"customer-stories\" class=\"pxl-navbar__subnav-section\"><a class=\"pxl-navbar__subnav-header pxl-navbar__subnav-header--link\" href=\"/why-payscale/customer-stories/\">Customer Stories<i class=\"sub-nav-icon icon-right\"></i></a><div class=\"pxl-navbar__articles\"><div class=\"pxl-navbar__articles--container\"></div><a class=\"pxl-navbar__articles--seeall\" href=\"/why-payscale/customer-stories/\">Browse all customer stories<i class=\"browse-all-icon icon-right\"></i></a></div></div></div></div></div></li><li id=\"researchandinsights-nav\" class=\"pxl-navbar__nav-item \"><div class=\"pxl-navbar__nav-item-content\"><a class=\"pxl-navbar__nav-link\" href=\"/research-and-insights/\">Research &amp; Insights</a><div class=\"pxl-navbar__nav-x--container\" role=\"button\" tabindex=\"0\"><span class=\"pxl-navbar__nav-x\"></span></div></div><div class=\"pxl-navbar__subnav\"><div class=\"pxl-navbar__subnav-container\"><div class=\"pxl-navbar__subnav-sections\"><div id=\"by-topic-research-and-insights\" class=\"pxl-navbar__subnav-section\"><div class=\"pxl-navbar__subnav-header\">By Topic</div><div class=\"pxl-navbar__subnav-items\"><a href=\"/research-and-insights/?_topic=pay-equity\" class=\"pxl-navbar__subnav-item\"><img src=\"https://cdn-payscale.com/content/wpengine/payequity.svg\" class=\"pxl-navbar__subnav-icon\"/><div class=\"pxl-navbar__subnav-text\"><div class=\"pxl-navbar__subnav-link\">Pay Equity</div></div></a><a href=\"/research-and-insights/?_topic=comp-strategy-structure\" class=\"pxl-navbar__subnav-item\"><img src=\"https://cdn-payscale.com/content/wpengine/compstrategy.svg\" class=\"pxl-navbar__subnav-icon\"/><div class=\"pxl-navbar__subnav-text\"><div class=\"pxl-navbar__subnav-link\">Comp Strategy &amp; Structure</div></div></a><a href=\"/research-and-insights/?_topic=salary-data-market-pricing\" class=\"pxl-navbar__subnav-item\"><img src=\"https://cdn-payscale.com/content/wpengine/salarydata.svg\" class=\"pxl-navbar__subnav-icon\"/><div class=\"pxl-navbar__subnav-text\"><div class=\"pxl-navbar__subnav-link\">Salary Data &amp; Market Pricing</div></div></a></div></div><div id=\"by-type\" class=\"pxl-navbar__subnav-section\"><div class=\"pxl-navbar__subnav-header\">By Type</div><div class=\"pxl-navbar__subnav-items\"><a href=\"/research-and-insights/?_type=research-reports\" class=\"pxl-navbar__subnav-item\"><img src=\"https://cdn-payscale.com/content/wpengine/whitepapers.svg\" class=\"pxl-navbar__subnav-icon\"/><div class=\"pxl-navbar__subnav-text\"><div class=\"pxl-navbar__subnav-link\">Research Reports</div></div></a><a href=\"/research-and-insights/?_type=whitepapers\" class=\"pxl-navbar__subnav-item\"><img src=\"https://cdn-payscale.com/content/wpengine/surveys.svg\" class=\"pxl-navbar__subnav-icon\"/><div class=\"pxl-navbar__subnav-text\"><div class=\"pxl-navbar__subnav-link\">Whitepapers</div></div></a><a href=\"/research-and-insights/?_type=ebooks\" class=\"pxl-navbar__subnav-item\"><img src=\"https://cdn-payscale.com/content/wpengine/ebooks.svg\" class=\"pxl-navbar__subnav-icon\"/><div class=\"pxl-navbar__subnav-text\"><div class=\"pxl-navbar__subnav-link\">eBooks</div></div></a><a href=\"/research-and-insights/?_type=data-visualizations\" class=\"pxl-navbar__subnav-item\"><img src=\"https://cdn-payscale.com/content/wpengine/infographics.svg\" class=\"pxl-navbar__subnav-icon\"/><div class=\"pxl-navbar__subnav-text\"><div class=\"pxl-navbar__subnav-link\">Data Visualizations</div></div></a></div></div><div id=\"recent-research-and-insights-reports\" class=\"pxl-navbar__subnav-section\"><div class=\"pxl-navbar__subnav-header\">Recent Research &amp; Insights Reports</div><div class=\"pxl-navbar__articles\"><div class=\"pxl-navbar__articles--container\"><article class=\"pxl-navbar__articles__item\"><a href=\"/research-and-insights/comp-planning-business-case-pitch-deck/\" class=\"pxl-navbar__articles__item--img-link\"><img class=\"pxl-navbar__articles__item--img\" src=\"/wp-content/uploads/2021/12/Landing-page-Compensation-Managment-Business-Case-594x364.png\" alt=\"Default Payscale Thumbnail\"/></a><a href=\"/research-and-insights/comp-planning-business-case-pitch-deck/\" class=\"pxl-navbar__articles__item--header\">Comp Planning Business Case Pitch Deck</a><p class=\"pxl-navbar__articles__item--subtext\">Comp Planning Business Case Pitch Deck By clicking Download Pitch Deck, you</p></article><article class=\"pxl-navbar__articles__item\"><a href=\"/research-and-insights/step-by-step-pay-equity-analysis-guide/\" class=\"pxl-navbar__articles__item--img-link\"><img class=\"pxl-navbar__articles__item--img\" src=\"/wp-content/uploads/2021/12/LandingPage_Step-by-Step-Guide-594x364.png\" alt=\"Default Payscale Thumbnail\"/></a><a href=\"/research-and-insights/step-by-step-pay-equity-analysis-guide/\" class=\"pxl-navbar__articles__item--header\">Step-By-Step Pay Equity Analysis Guide</a><p class=\"pxl-navbar__articles__item--subtext\">Step-By-Step Pay Equity Analysis Guide Product Guide By clicking Download Product Guide,</p></article></div></div></div><div id=\"payscale-index\" class=\"pxl-navbar__subnav-section\"><a class=\"pxl-navbar__subnav-header pxl-navbar__subnav-header--link\" href=\"/payscale-index\">Payscale Index<i class=\"sub-nav-icon icon-right\"></i></a><div class=\"pxl-navbar__subnav-subheader\">Track and compare wage-growth by city, industry, company size, and job category</div></div></div></div><div class=\"pxl-navbar__subnav-all\"><a class=\"pxl-navbar__subnav-all--link\" href=\"/research-and-insights/\">Browse all Research &amp; Insight Reports<i class=\"browse-all-icon icon-right \"></i></a></div></div></li><li id=\"compensationtrends-nav\" class=\"pxl-navbar__nav-item \"><div class=\"pxl-navbar__nav-item-content\"><a class=\"pxl-navbar__nav-link\" href=\"/compensation-trends/\">Compensation Trends</a><div class=\"pxl-navbar__nav-x--container\" role=\"button\" tabindex=\"0\"><span class=\"pxl-navbar__nav-x\"></span></div></div><div class=\"pxl-navbar__subnav\"><div class=\"pxl-navbar__subnav-container\"><div class=\"pxl-navbar__subnav-sections\"><div id=\"by-topic-compensation\" class=\"pxl-navbar__subnav-section\"><div class=\"pxl-navbar__subnav-header\">By Topic</div><div class=\"pxl-navbar__subnav-items\"><a href=\"/compensation-trends/?_topic=pay-trends-hot-topics\" class=\"pxl-navbar__subnav-item\"><img src=\"https://cdn-payscale.com/content/wpengine/paytrends.svg\" class=\"pxl-navbar__subnav-icon\"/><div class=\"pxl-navbar__subnav-text\"><div class=\"pxl-navbar__subnav-link\">Pay Trends &amp; Hot Topics</div></div></a><a href=\"/compensation-trends/?_topic=salary-data-market-pricing\" class=\"pxl-navbar__subnav-item\"><img src=\"https://cdn-payscale.com/content/wpengine/salarydata.svg\" class=\"pxl-navbar__subnav-icon\"/><div class=\"pxl-navbar__subnav-text\"><div class=\"pxl-navbar__subnav-link\">Salary Data &amp; Market Pricing</div></div></a><a href=\"/compensation-trends/?_topic=pay-equity\" class=\"pxl-navbar__subnav-item\"><img src=\"https://cdn-payscale.com/content/wpengine/payequity.svg\" class=\"pxl-navbar__subnav-icon\"/><div class=\"pxl-navbar__subnav-text\"><div class=\"pxl-navbar__subnav-link\">Pay Equity</div></div></a><a href=\"/compensation-trends/?_topic=comp-strategy-structure\" class=\"pxl-navbar__subnav-item\"><img src=\"https://cdn-payscale.com/content/wpengine/compstrategy.svg\" class=\"pxl-navbar__subnav-icon\"/><div class=\"pxl-navbar__subnav-text\"><div class=\"pxl-navbar__subnav-link\">Comp Strategy &amp; Structure</div></div></a></div></div><div id=\"recent-compensation-trends-articles\" class=\"pxl-navbar__subnav-section\"><div class=\"pxl-navbar__subnav-header\">Recent Compensation Trends Articles</div><div class=\"pxl-navbar__articles\"><div class=\"pxl-navbar__articles--container\"><article class=\"pxl-navbar__articles__item\"><a href=\"/compensation-trends/pay-increases-are-a-top-concern-for-2022-to-attract-and-retain-talent/\" class=\"pxl-navbar__articles__item--img-link\"><img class=\"pxl-navbar__articles__item--img\" src=\"/wp-content/uploads/2021/12/Landing-page-Compensation-Managment-Business-Case-594x364.png\" alt=\"default Payscale thumbnail\"/></a><a href=\"/compensation-trends/pay-increases-are-a-top-concern-for-2022-to-attract-and-retain-talent/\" class=\"pxl-navbar__articles__item--header\">Pay increases are a top concern for 2022 to attract and retain talent</a><p class=\"pxl-navbar__articles__item--subtext\">Do you know what your employees really want for the holidays? Pay</p></article><article class=\"pxl-navbar__articles__item\"><a href=\"/compensation-trends/new-hire-forms-to-include/\" class=\"pxl-navbar__articles__item--img-link\"><img class=\"pxl-navbar__articles__item--img\" src=\"/wp-content/uploads/2021/12/women-shaking-hands-at-work-594x364.jpg\" alt=\"default Payscale thumbnail\"/></a><a href=\"/compensation-trends/new-hire-forms-to-include/\" class=\"pxl-navbar__articles__item--header\">New hire forms to include</a><p class=\"pxl-navbar__articles__item--subtext\">Whether you are hiring a single employee , or an entire department of</p></article><article class=\"pxl-navbar__articles__item\"><a href=\"/compensation-trends/temporary-employee-laws-a-guide-to-hiring-contract-roles/\" class=\"pxl-navbar__articles__item--img-link\"><img class=\"pxl-navbar__articles__item--img\" src=\"/wp-content/uploads/2021/12/woman-at-desk-in-busy-office-594x364.jpg\" alt=\"default Payscale thumbnail\"/></a><a href=\"/compensation-trends/temporary-employee-laws-a-guide-to-hiring-contract-roles/\" class=\"pxl-navbar__articles__item--header\">Temporary employee laws: A guide to hiring contract roles</a><p class=\"pxl-navbar__articles__item--subtext\">The labor market is a strange place right now. A shift towards</p></article><article class=\"pxl-navbar__articles__item\"><a href=\"/compensation-trends/what-to-include-in-a-termination-letter-template-and-examples/\" class=\"pxl-navbar__articles__item--img-link\"><img class=\"pxl-navbar__articles__item--img\" src=\"/wp-content/uploads/2021/12/group-of-people-from-above-594x364.jpg\" alt=\"default Payscale thumbnail\"/></a><a href=\"/compensation-trends/what-to-include-in-a-termination-letter-template-and-examples/\" class=\"pxl-navbar__articles__item--header\">What to include in a termination letter: Template and examples</a><p class=\"pxl-navbar__articles__item--subtext\">Handling involuntary termination is a likely occurrence for human resources managers and</p></article></div></div></div></div></div><div class=\"pxl-navbar__subnav-all\"><a class=\"pxl-navbar__subnav-all--link\" href=\"/compensation-trends/\">Browse all Compensation Trends Articles<i class=\"browse-all-icon icon-right \"></i></a></div></div></li><li id=\"forindividuals-nav\" class=\"pxl-navbar__nav-item \"><div class=\"pxl-navbar__nav-item-content\"><a class=\"pxl-navbar__nav-link\" href=\"/for-individuals/\">For Individuals</a><div class=\"pxl-navbar__nav-x--container\" role=\"button\" tabindex=\"0\"><span class=\"pxl-navbar__nav-x\"></span></div></div><div class=\"pxl-navbar__subnav\"><div class=\"pxl-navbar__subnav-container\"><div class=\"pxl-navbar__subnav-sections\"><div id=\"career-resources\" class=\"pxl-navbar__subnav-section\"><a class=\"pxl-navbar__subnav-header pxl-navbar__subnav-header--link\" href=\"/for-individuals/career-resources/\">Career Resources<i class=\"sub-nav-icon icon-right\"></i></a><div class=\"pxl-navbar__subnav-subheader\">Access helpful tools and insights for career planning and salary negotiation</div><div class=\"pxl-navbar__subnav-items\"><a href=\"/job-search-engine\" class=\"pxl-navbar__subnav-item pxl-navbar__subnav-item--desc\"><img src=\"https://cdn-payscale.com/content/wpengine/jobs.svg\" class=\"pxl-navbar__subnav-icon\"/><div class=\"pxl-navbar__subnav-text\"><div class=\"pxl-navbar__subnav-link\">Find a Job</div><p class=\"pxl-navbar__subnav-desc\">Return better results with Payscale job search</p></div></a><a href=\"/salary-negotiation-guide\" class=\"pxl-navbar__subnav-item pxl-navbar__subnav-item--desc\"><img src=\"https://cdn-payscale.com/content/wpengine/salarynegotiation.svg\" class=\"pxl-navbar__subnav-icon\"/><div class=\"pxl-navbar__subnav-text\"><div class=\"pxl-navbar__subnav-link\">Salary Negotiation Guide</div><p class=\"pxl-navbar__subnav-desc\">Learn successful salary negotiation tips</p></div></a><a href=\"/cost-of-living-calculator\" class=\"pxl-navbar__subnav-item pxl-navbar__subnav-item--desc\"><img src=\"https://cdn-payscale.com/content/wpengine/costofliving.svg\" class=\"pxl-navbar__subnav-icon\"/><div class=\"pxl-navbar__subnav-text\"><div class=\"pxl-navbar__subnav-link\">Cost of Living Calculator</div><p class=\"pxl-navbar__subnav-desc\">Compare real living costs across different states</p></div></a><a href=\"/career-path-planner\" class=\"pxl-navbar__subnav-item pxl-navbar__subnav-item--desc\"><img src=\"https://cdn-payscale.com/content/wpengine/careerpathplanner.svg\" class=\"pxl-navbar__subnav-icon\"/><div class=\"pxl-navbar__subnav-text\"><div class=\"pxl-navbar__subnav-link\">Career Path Planner</div><p class=\"pxl-navbar__subnav-desc\">Consider potential directions your career can take</p></div></a><a href=\"/college-roi\" class=\"pxl-navbar__subnav-item pxl-navbar__subnav-item--desc\"><img src=\"https://cdn-payscale.com/content/wpengine/collegeroi.svg\" class=\"pxl-navbar__subnav-icon\"/><div class=\"pxl-navbar__subnav-text\"><div class=\"pxl-navbar__subnav-link\">College ROI</div><p class=\"pxl-navbar__subnav-desc\">Calculate the 20-year net ROI for US-based colleges</p></div></a></div></div><div id=\"career-advice\" class=\"pxl-navbar__subnav-section\"><a class=\"pxl-navbar__subnav-header pxl-navbar__subnav-header--link\" href=\"/for-individuals/career-advice/\">Career Advice<i class=\"sub-nav-icon icon-right\"></i></a><div class=\"pxl-navbar__subnav-subheader\">Explore real-world career trends and advice from the leaders in compensation</div><div class=\"pxl-navbar__articles\"><div class=\"pxl-navbar__articles--container\"><article class=\"pxl-navbar__articles__item\"><a href=\"/career-advice/how-to-manage-your-time-and-prioritize-your-workload/\" class=\"pxl-navbar__articles__item--img-link\"><img class=\"pxl-navbar__articles__item--img\" src=\"/wp-content/uploads/2021/10/GettyImages-4858417361-e1517852222328.jpg\" alt=\"Default Payscale Thumbnail\"/></a><a href=\"/career-advice/how-to-manage-your-time-and-prioritize-your-workload/\" class=\"pxl-navbar__articles__item--header\">How to Manage Your Time and Prioritize Your Workload</a><p class=\"pxl-navbar__articles__item--subtext\">Are you the kind of person who struggles to get a handle</p></article></div><a class=\"pxl-navbar__articles--seeall\" href=\"/for-individuals/career-advice/\">Browse all Career Advice Articles<i class=\"browse-all-icon icon-right\"></i></a></div></div><div id=\"career-advice-by-topic\" class=\"pxl-navbar__subnav-section\"><div class=\"pxl-navbar__subnav-header\">Career Advice By Topic</div><div class=\"pxl-navbar__subnav-items\"><a href=\"/for-individuals/career-advice/?_topic=career-advice\" class=\"pxl-navbar__subnav-item\"><img src=\"https://cdn-payscale.com/content/wpengine/careeradvice.svg\" class=\"pxl-navbar__subnav-icon\"/><div class=\"pxl-navbar__subnav-text\"><div class=\"pxl-navbar__subnav-link\">Career Advice</div></div></a><a href=\"/for-individuals/career-advice/?_topic=career-profiles\" class=\"pxl-navbar__subnav-item\"><img src=\"https://cdn-payscale.com/content/wpengine/careerprofiles.svg\" class=\"pxl-navbar__subnav-icon\"/><div class=\"pxl-navbar__subnav-text\"><div class=\"pxl-navbar__subnav-link\">Career Profiles</div></div></a><a href=\"/for-individuals/career-advice/?_topic=current-events\" class=\"pxl-navbar__subnav-item\"><img src=\"https://cdn-payscale.com/content/wpengine/currentevents.svg\" class=\"pxl-navbar__subnav-icon\"/><div class=\"pxl-navbar__subnav-text\"><div class=\"pxl-navbar__subnav-link\">Current Events</div></div></a><a href=\"/for-individuals/career-advice/?_topic=data-research\" class=\"pxl-navbar__subnav-item\"><img src=\"https://cdn-payscale.com/content/wpengine/benchmark.svg\" class=\"pxl-navbar__subnav-icon\"/><div class=\"pxl-navbar__subnav-text\"><div class=\"pxl-navbar__subnav-link\">Data &amp; Research</div></div></a><a href=\"/for-individuals/career-advice/?_topic=negotiation\" class=\"pxl-navbar__subnav-item\"><img src=\"https://cdn-payscale.com/content/wpengine/negotiation.svg\" class=\"pxl-navbar__subnav-icon\"/><div class=\"pxl-navbar__subnav-text\"><div class=\"pxl-navbar__subnav-link\">Negotiation</div></div></a><a href=\"/for-individuals/career-advice/?_topic=work-culture\" class=\"pxl-navbar__subnav-item\"><img src=\"https://cdn-payscale.com/content/wpengine/workculture.svg\" class=\"pxl-navbar__subnav-icon\"/><div class=\"pxl-navbar__subnav-text\"><div class=\"pxl-navbar__subnav-link\">Work Culture</div></div></a></div></div><div id=\"salary-research\" class=\"pxl-navbar__subnav-section\"><a class=\"pxl-navbar__subnav-header pxl-navbar__subnav-header--link\" href=\"https://payscale.com/research/US/Country=United_States/Salary\">Salary Research<i class=\"sub-nav-icon icon-right\"></i></a><div class=\"pxl-navbar__subnav-subheader\">Uncover detailed salary data for specific jobs, employers, schools, and more</div><div class=\"pxl-navbar__subnav-items\"><a href=\"/research/US/Employer\" class=\"pxl-navbar__subnav-item\"><div class=\"pxl-navbar__subnav-text\"><div class=\"pxl-navbar__subnav-link\">By Company</div></div></a><a href=\"/research/US/Job\" class=\"pxl-navbar__subnav-item\"><div class=\"pxl-navbar__subnav-text\"><div class=\"pxl-navbar__subnav-link\">By Job Title</div></div></a><a href=\"/research/US/Degree\" class=\"pxl-navbar__subnav-item\"><div class=\"pxl-navbar__subnav-text\"><div class=\"pxl-navbar__subnav-link\">By Degree</div></div></a><a href=\"/research/US/Certification\" class=\"pxl-navbar__subnav-item\"><div class=\"pxl-navbar__subnav-text\"><div class=\"pxl-navbar__subnav-link\">By Certification</div></div></a><a href=\"/research/US/Skill\" class=\"pxl-navbar__subnav-item\"><div class=\"pxl-navbar__subnav-text\"><div class=\"pxl-navbar__subnav-link\">By Skill</div></div></a><a href=\"/research/US/Industry\" class=\"pxl-navbar__subnav-item\"><div class=\"pxl-navbar__subnav-text\"><div class=\"pxl-navbar__subnav-link\">By Industry</div></div></a><a href=\"/research/US/School\" class=\"pxl-navbar__subnav-item\"><div class=\"pxl-navbar__subnav-text\"><div class=\"pxl-navbar__subnav-link\">By School</div></div></a><a href=\"/college-salary-report\" class=\"pxl-navbar__subnav-item pxl-navbar__subnav-item--desc\"><img src=\"https://cdn-payscale.com/content/wpengine/collegesalaryreport.svg\" class=\"pxl-navbar__subnav-icon\"/><div class=\"pxl-navbar__subnav-text\"><div class=\"pxl-navbar__subnav-link\">College Salary Report</div><p class=\"pxl-navbar__subnav-desc\">Learn where the best career earners attended college</p></div></a></div></div></div></div><div class=\"pxl-navbar__subnav-bottom\"><div class=\"pxl-navbar__subnav-bottom--header\">Take our salary survey to see what you should be earning</div><a href=\"https://www.payscale.com/survey?from=header-ps\" id=\"solutions-nav-cta-bot-btncta\" class=\"pxl-navbar__cta-btn\">Salary Survey</a></div></div></li></ul><div id=\"ps-navbar-logging-link\" class=\"pxl-navbar__logging pxl-navbar__logging--out\"><a class=\"pxl-navbar__logging-link\" href=\"/login.aspx\">Login</a></div><div class=\"pxl-navbar__mobilecta\"><a class=\"pxl-navbar__cta-btn pxl-navbar__cta-btn--b2b\" href=\"/solutions\">Get a Demo</a><a class=\"pxl-navbar__cta-btn\" href=\"/solutions\">Price a Job</a></div><a id=\"psNavGetADemo\" href=\"http://resources.payscale.com/hr-request-a-demo.html?src=ps-navbar\" class=\"pxl-navbar__demo-btn--mobile hidden\">Get a Demo</a></div><div class=\"pxl-navbar__right\"><a id=\"psNavGetADemo\" href=\"http://resources.payscale.com/hr-request-a-demo.html?src=ps-navbar\" class=\"pxl-navbar__demo-btn hidden\">Get a Demo</a><li id=\"psNavBarMyAccount\" class=\"pxl-navbar__nav-item pxl-navbar__account hidden\"><div class=\"pxl-navbar__nav-item-content\"><a class=\"pxl-navbar__nav-link\">My Account</a></div><div class=\"pxl-navbar__subnav pxl-navbar__subnav--account\"><a class=\"pxl-navbar__subnav-link\" href=\"/myaccount.aspx\">My Account</a><a class=\"pxl-navbar__subnav-link\" href=\"/mypayscale.aspx\">My Salary Reports</a><a class=\"pxl-navbar__subnav-link\" href=\"/logout.aspx\">Logout</a></div></li><a id=\"psNavBarLogin\" href=\"/login.aspx\" class=\"pxl-navbar__login\">Log In</a><a id=\"psNavBarMyReports\" href=\"/mypayscale.aspx\" class=\"pxl-navbar__myreports hidden\">My Reports</a><a id=\"psNavBarLogout\" href=\"/logout.aspx\" class=\"pxl-navbar__logout hidden\">Log Out</a><div role=\"button\" tabindex=\"0\" class=\"pxl-navbar__hamburger hamburger hamburger--squeeze\"><div class=\"hamburger__slice\"></div><div class=\"hamburger__slice\"></div><div class=\"hamburger__slice\"></div></div></div></nav><div class=\"content--full-width\"><div class=\"csr-gridpage__nav\"><div class=\"container \"><div class=\"nested-subnav-bar \"><ul class=\"nested-subnav-bar__nav\" tabindex=\"-1\"><li class=\"nested-subnav-bar__link \"><a href=\"/college-salary-report/bachelors\" class=\"nested-subnav-bar__menu \">Bachelor&#x27;s<!-- --> <i class=\"icon-down-open\"></i></a><div class=\"nested-subnav-dropdown nested-subnav-bar__dropdown \"><ul><li><a href=\"/college-salary-report/bachelors\">Full List<!-- --> </a></li><li><a href=\"/college-salary-report/best-schools-by-state\">By State<!-- --> </a></li><li class=\"nested-subnav-dropdown__list\"><a href=\"/college-salary-report/best-schools-by-type\">By Type<!-- --> <i class=\"icon-down-open\"></i></a></li></ul></div></li><li class=\"nested-subnav-bar__link \"><a href=\"/college-salary-report/2-year-colleges\" class=\"nested-subnav-bar__menu \">Associate<!-- --> <i class=\"icon-down-open\"></i></a><div class=\"nested-subnav-dropdown nested-subnav-bar__dropdown \"><ul><li><a href=\"/college-salary-report/2-year-colleges\">Full List<!-- --> </a></li><li><a href=\"/college-salary-report/best-schools-by-state\">By State<!-- --> </a></li><li class=\"nested-subnav-dropdown__list\"><a href=\"/college-salary-report/best-schools-by-type\">By Type<!-- --> <i class=\"icon-down-open\"></i></a></li></ul></div></li><li class=\"nested-subnav-bar__link \"><a href=\"/college-salary-report/best-schools-by-majors\" class=\"nested-subnav-bar__menu \">Majors<!-- --> <i class=\"icon-down-open\"></i></a><div class=\"nested-subnav-dropdown nested-subnav-bar__dropdown \"><ul><li><a href=\"/college-salary-report/most-meaningful-majors\">Most Meaningful Majors<!-- --> </a></li><li class=\"nested-subnav-dropdown__list\"><a href=\"/college-salary-report/majors-that-pay-you-back\">Majors that Pay You Back<!-- --> <i class=\"icon-down-open\"></i></a></li><li class=\"\"><a href=\"/college-salary-report/best-schools-by-majors\">Best Schools for Majors<!-- --> <i class=\"icon-down-open\"></i></a></li><li class=\"\"><a href=\"/college-salary-report/common-jobs-for-majors\">Common Jobs for Majors<!-- --> <i class=\"icon-down-open\"></i></a></li></ul></div></li></ul></div></div></div><div class=\"container \"><a href=\"/college-salary-report\"><img class=\"csr-gridpage__logo\" src=\"https://payscale.com/content/csr-2023/college-salary-report-logo.svg\" alt=\"College Salary Report\"/></a></div><article><header><div class=\"container csr-gridpage__header-container\"><h1 class=\"csr-gridpage__header\">Highest Paying Jobs With a Bachelor’s Degree</h1><div class=\"csr-gridpage__copy\"><p>Your major can have an even bigger impact on future earnings than choice of school. Find out which majors pay you back, and which make it hard to pay back student loans.</p>\\n</div></div></header><div class=\"container csr-gridpage__controls\"><div class=\"csr-gridpage__filter-container\"><input type=\"text\" class=\"csr-gridpage__filter pxl-form-control\" placeholder=\"Search Majors\" tabindex=\"0\"/> <i class=\"csr-gridpage__filter-icon icon-search\"></i></div></div><div class=\"container csr-gridpage__grid\"><table class=\"data-table\"><thead><tr><th class=\"csr-col--rank data-table__header data-table__header--active data-table__header--sortable\">Rank<i class=\"icon-sort-up\"></i></th><th class=\"csr-col--school-name data-table__header data-table__header--sortable\">Major<i class=\"icon-sort\"></i></th><th class=\"csr-col--school-type data-table__header\">Degree Type</th><th class=\"csr-col--right data-table__header data-table__header--sortable\"><span class=\"pxl-tooltip  \" data-tip=\"Median salary for alumni with 0-5 years experience\" data-for=\"earlyCareerMedianPay\">Early Career Pay<span class=\"icon-reverse icon-circle\"><i class=\"icon-info\"></i></span></span><div class=\"__react_component_tooltip t8454ce2-7cc1-4a41-933b-568a52ccb92b place-top type-dark\" id=\"earlyCareerMedianPay\" data-id=\"tooltip\"><style>\\n  \\t.t8454ce2-7cc1-4a41-933b-568a52ccb92b {\\n\\t    color: #fff;\\n\\t    background: #222;\\n\\t    border: 1px solid transparent;\\n  \\t}\\n\\n  \\t.t8454ce2-7cc1-4a41-933b-568a52ccb92b.place-top {\\n        margin-top: -10px;\\n    }\\n    .t8454ce2-7cc1-4a41-933b-568a52ccb92b.place-top::before {\\n        border-top: 8px solid transparent;\\n    }\\n    .t8454ce2-7cc1-4a41-933b-568a52ccb92b.place-top::after {\\n        border-left: 8px solid transparent;\\n        border-right: 8px solid transparent;\\n        bottom: -6px;\\n        left: 50%;\\n        margin-left: -8px;\\n        border-top-color: #222;\\n        border-top-style: solid;\\n        border-top-width: 6px;\\n    }\\n\\n    .t8454ce2-7cc1-4a41-933b-568a52ccb92b.place-bottom {\\n        margin-top: 10px;\\n    }\\n    .t8454ce2-7cc1-4a41-933b-568a52ccb92b.place-bottom::before {\\n        border-bottom: 8px solid transparent;\\n    }\\n    .t8454ce2-7cc1-4a41-933b-568a52ccb92b.place-bottom::after {\\n        border-left: 8px solid transparent;\\n        border-right: 8px solid transparent;\\n        top: -6px;\\n        left: 50%;\\n        margin-left: -8px;\\n        border-bottom-color: #222;\\n        border-bottom-style: solid;\\n        border-bottom-width: 6px;\\n    }\\n\\n    .t8454ce2-7cc1-4a41-933b-568a52ccb92b.place-left {\\n        margin-left: -10px;\\n    }\\n    .t8454ce2-7cc1-4a41-933b-568a52ccb92b.place-left::before {\\n        border-left: 8px solid transparent;\\n    }\\n    .t8454ce2-7cc1-4a41-933b-568a52ccb92b.place-left::after {\\n        border-top: 5px solid transparent;\\n        border-bottom: 5px solid transparent;\\n        right: -6px;\\n        top: 50%;\\n        margin-top: -4px;\\n        border-left-color: #222;\\n        border-left-style: solid;\\n        border-left-width: 6px;\\n    }\\n\\n    .t8454ce2-7cc1-4a41-933b-568a52ccb92b.place-right {\\n        margin-left: 10px;\\n    }\\n    .t8454ce2-7cc1-4a41-933b-568a52ccb92b.place-right::before {\\n        border-right: 8px solid transparent;\\n    }\\n    .t8454ce2-7cc1-4a41-933b-568a52ccb92b.place-right::after {\\n        border-top: 5px solid transparent;\\n        border-bottom: 5px solid transparent;\\n        left: -6px;\\n        top: 50%;\\n        margin-top: -4px;\\n        border-right-color: #222;\\n        border-right-style: solid;\\n        border-right-width: 6px;\\n    }\\n  </style></div><i class=\"icon-sort\"></i></th><th class=\"csr-col--right data-table__header data-table__header--sortable\"><span class=\"pxl-tooltip  \" data-tip=\"Median salary for alumni with 10+ years experience\" data-for=\"midCareerMedianPay\">Mid-Career Pay<span class=\"icon-reverse icon-circle\"><i class=\"icon-info\"></i></span></span><div class=\"__react_component_tooltip t7cd37fa-f137-496f-9519-2533b6937a4c place-top type-dark\" id=\"midCareerMedianPay\" data-id=\"tooltip\"><style>\\n  \\t.t7cd37fa-f137-496f-9519-2533b6937a4c {\\n\\t    color: #fff;\\n\\t    background: #222;\\n\\t    border: 1px solid transparent;\\n  \\t}\\n\\n  \\t.t7cd37fa-f137-496f-9519-2533b6937a4c.place-top {\\n        margin-top: -10px;\\n    }\\n    .t7cd37fa-f137-496f-9519-2533b6937a4c.place-top::before {\\n        border-top: 8px solid transparent;\\n    }\\n    .t7cd37fa-f137-496f-9519-2533b6937a4c.place-top::after {\\n        border-left: 8px solid transparent;\\n        border-right: 8px solid transparent;\\n        bottom: -6px;\\n        left: 50%;\\n        margin-left: -8px;\\n        border-top-color: #222;\\n        border-top-style: solid;\\n        border-top-width: 6px;\\n    }\\n\\n    .t7cd37fa-f137-496f-9519-2533b6937a4c.place-bottom {\\n        margin-top: 10px;\\n    }\\n    .t7cd37fa-f137-496f-9519-2533b6937a4c.place-bottom::before {\\n        border-bottom: 8px solid transparent;\\n    }\\n    .t7cd37fa-f137-496f-9519-2533b6937a4c.place-bottom::after {\\n        border-left: 8px solid transparent;\\n        border-right: 8px solid transparent;\\n        top: -6px;\\n        left: 50%;\\n        margin-left: -8px;\\n        border-bottom-color: #222;\\n        border-bottom-style: solid;\\n        border-bottom-width: 6px;\\n    }\\n\\n    .t7cd37fa-f137-496f-9519-2533b6937a4c.place-left {\\n        margin-left: -10px;\\n    }\\n    .t7cd37fa-f137-496f-9519-2533b6937a4c.place-left::before {\\n        border-left: 8px solid transparent;\\n    }\\n    .t7cd37fa-f137-496f-9519-2533b6937a4c.place-left::after {\\n        border-top: 5px solid transparent;\\n        border-bottom: 5px solid transparent;\\n        right: -6px;\\n        top: 50%;\\n        margin-top: -4px;\\n        border-left-color: #222;\\n        border-left-style: solid;\\n        border-left-width: 6px;\\n    }\\n\\n    .t7cd37fa-f137-496f-9519-2533b6937a4c.place-right {\\n        margin-left: 10px;\\n    }\\n    .t7cd37fa-f137-496f-9519-2533b6937a4c.place-right::before {\\n        border-right: 8px solid transparent;\\n    }\\n    .t7cd37fa-f137-496f-9519-2533b6937a4c.place-right::after {\\n        border-top: 5px solid transparent;\\n        border-bottom: 5px solid transparent;\\n        left: -6px;\\n        top: 50%;\\n        margin-top: -4px;\\n        border-right-color: #222;\\n        border-right-style: solid;\\n        border-right-width: 6px;\\n    }\\n  </style></div><i class=\"icon-sort\"></i></th><th class=\"csr-col--right data-table__header data-table__header--sortable\"><span class=\"pxl-tooltip  \" data-tip=\"% alumni who say their work makes the world a better place\" data-for=\"percentHighMeaning\">% High Meaning<span class=\"icon-reverse icon-circle\"><i class=\"icon-info\"></i></span></span><div class=\"__react_component_tooltip tb88e6d3-80cc-4057-82cc-6b023b684fe4 place-top type-dark\" id=\"percentHighMeaning\" data-id=\"tooltip\"><style>\\n  \\t.tb88e6d3-80cc-4057-82cc-6b023b684fe4 {\\n\\t    color: #fff;\\n\\t    background: #222;\\n\\t    border: 1px solid transparent;\\n  \\t}\\n\\n  \\t.tb88e6d3-80cc-4057-82cc-6b023b684fe4.place-top {\\n        margin-top: -10px;\\n    }\\n    .tb88e6d3-80cc-4057-82cc-6b023b684fe4.place-top::before {\\n        border-top: 8px solid transparent;\\n    }\\n    .tb88e6d3-80cc-4057-82cc-6b023b684fe4.place-top::after {\\n        border-left: 8px solid transparent;\\n        border-right: 8px solid transparent;\\n        bottom: -6px;\\n        left: 50%;\\n        margin-left: -8px;\\n        border-top-color: #222;\\n        border-top-style: solid;\\n        border-top-width: 6px;\\n    }\\n\\n    .tb88e6d3-80cc-4057-82cc-6b023b684fe4.place-bottom {\\n        margin-top: 10px;\\n    }\\n    .tb88e6d3-80cc-4057-82cc-6b023b684fe4.place-bottom::before {\\n        border-bottom: 8px solid transparent;\\n    }\\n    .tb88e6d3-80cc-4057-82cc-6b023b684fe4.place-bottom::after {\\n        border-left: 8px solid transparent;\\n        border-right: 8px solid transparent;\\n        top: -6px;\\n        left: 50%;\\n        margin-left: -8px;\\n        border-bottom-color: #222;\\n        border-bottom-style: solid;\\n        border-bottom-width: 6px;\\n    }\\n\\n    .tb88e6d3-80cc-4057-82cc-6b023b684fe4.place-left {\\n        margin-left: -10px;\\n    }\\n    .tb88e6d3-80cc-4057-82cc-6b023b684fe4.place-left::before {\\n        border-left: 8px solid transparent;\\n    }\\n    .tb88e6d3-80cc-4057-82cc-6b023b684fe4.place-left::after {\\n        border-top: 5px solid transparent;\\n        border-bottom: 5px solid transparent;\\n        right: -6px;\\n        top: 50%;\\n        margin-top: -4px;\\n        border-left-color: #222;\\n        border-left-style: solid;\\n        border-left-width: 6px;\\n    }\\n\\n    .tb88e6d3-80cc-4057-82cc-6b023b684fe4.place-right {\\n        margin-left: 10px;\\n    }\\n    .tb88e6d3-80cc-4057-82cc-6b023b684fe4.place-right::before {\\n        border-right: 8px solid transparent;\\n    }\\n    .tb88e6d3-80cc-4057-82cc-6b023b684fe4.place-right::after {\\n        border-top: 5px solid transparent;\\n        border-bottom: 5px solid transparent;\\n        left: -6px;\\n        top: 50%;\\n        margin-top: -4px;\\n        border-right-color: #222;\\n        border-right-style: solid;\\n        border-right-width: 6px;\\n    }\\n  </style></div><i class=\"icon-sort\"></i></th></tr></thead><tbody><tr class=\"data-table__row\"><td class=\"data-table__cell csr-col--rank \"><span class=\"data-table__title\">Rank<!-- -->:</span><span class=\"data-table__value\">1</span></td><td class=\"data-table__cell csr-col--school-name \"><span class=\"data-table__title\">Major<!-- -->:</span><span class=\"data-table__value\">Petroleum Engineering</span></td><td class=\"data-table__cell csr-col--school-type data-table__cell--hidden-mobile\"><span class=\"data-table__title\">Degree Type<!-- -->:</span><span class=\"data-table__value\">Bachelors</span></td><td class=\"data-table__cell csr-col--right \"><span class=\"data-table__title\">Early Career Pay<!-- -->:</span><span class=\"data-table__value\">$97,500</span></td><td class=\"data-table__cell csr-col--right \"><span class=\"data-table__title\">Mid-Career Pay<!-- -->:</span><span class=\"data-table__value\">$212,500</span></td><td class=\"data-table__cell csr-col--right \"><span class=\"data-table__title\">% High Meaning<!-- -->:</span><span class=\"data-table__value\">61%</span></td></tr><tr class=\"data-table__row\"><td class=\"data-table__cell csr-col--rank \"><span class=\"data-table__title\">Rank<!-- -->:</span><span class=\"data-table__value\">2</span></td><td class=\"data-table__cell csr-col--school-name \"><span class=\"data-table__title\">Major<!-- -->:</span><span class=\"data-table__value\">Operations Research &amp; Industrial Engineering</span></td><td class=\"data-table__cell csr-col--school-type data-table__cell--hidden-mobile\"><span class=\"data-table__title\">Degree Type<!-- -->:</span><span class=\"data-table__value\">Bachelors</span></td><td class=\"data-table__cell csr-col--right \"><span class=\"data-table__title\">Early Career Pay<!-- -->:</span><span class=\"data-table__value\">$98,300</span></td><td class=\"data-table__cell csr-col--right \"><span class=\"data-table__title\">Mid-Career Pay<!-- -->:</span><span class=\"data-table__value\">$191,800</span></td><td class=\"data-table__cell csr-col--right \"><span class=\"data-table__title\">% High Meaning<!-- -->:</span><span class=\"data-table__value\">21%</span></td></tr><tr class=\"data-table__row\"><td class=\"data-table__cell csr-col--rank \"><span class=\"data-table__title\">Rank<!-- -->:</span><span class=\"data-table__value\">3</span></td><td class=\"data-table__cell csr-col--school-name \"><span class=\"data-table__title\">Major<!-- -->:</span><span class=\"data-table__value\">Interaction Design</span></td><td class=\"data-table__cell csr-col--school-type data-table__cell--hidden-mobile\"><span class=\"data-table__title\">Degree Type<!-- -->:</span><span class=\"data-table__value\">Bachelors</span></td><td class=\"data-table__cell csr-col--right \"><span class=\"data-table__title\">Early Career Pay<!-- -->:</span><span class=\"data-table__value\">$74,700</span></td><td class=\"data-table__cell csr-col--right \"><span class=\"data-table__title\">Mid-Career Pay<!-- -->:</span><span class=\"data-table__value\">$173,600</span></td><td class=\"data-table__cell csr-col--right \"><span class=\"data-table__title\">% High Meaning<!-- -->:</span><span class=\"data-table__value\">54%</span></td></tr><tr class=\"data-table__row\"><td class=\"data-table__cell csr-col--rank \"><span class=\"data-table__title\">Rank<!-- -->:</span><span class=\"data-table__value\">4</span></td><td class=\"data-table__cell csr-col--school-name \"><span class=\"data-table__title\">Major<!-- -->:</span><span class=\"data-table__value\">Applied Economics and Management</span></td><td class=\"data-table__cell csr-col--school-type data-table__cell--hidden-mobile\"><span class=\"data-table__title\">Degree Type<!-- -->:</span><span class=\"data-table__value\">Bachelors</span></td><td class=\"data-table__cell csr-col--right \"><span class=\"data-table__title\">Early Career Pay<!-- -->:</span><span class=\"data-table__value\">$76,500</span></td><td class=\"data-table__cell csr-col--right \"><span class=\"data-table__title\">Mid-Career Pay<!-- -->:</span><span class=\"data-table__value\">$164,400</span></td><td class=\"data-table__cell csr-col--right \"><span class=\"data-table__title\">% High Meaning<!-- -->:</span><span class=\"data-table__value\">54%</span></td></tr><tr class=\"data-table__row\"><td class=\"data-table__cell csr-col--rank \"><span class=\"data-table__title\">Rank<!-- -->:</span><span class=\"data-table__value\">5</span></td><td class=\"data-table__cell csr-col--school-name \"><span class=\"data-table__title\">Major<!-- -->:</span><span class=\"data-table__value\">Building Science</span></td><td class=\"data-table__cell csr-col--school-type data-table__cell--hidden-mobile\"><span class=\"data-table__title\">Degree Type<!-- -->:</span><span class=\"data-table__value\">Bachelors</span></td><td class=\"data-table__cell csr-col--right \"><span class=\"data-table__title\">Early Career Pay<!-- -->:</span><span class=\"data-table__value\">$69,000</span></td><td class=\"data-table__cell csr-col--right \"><span class=\"data-table__title\">Mid-Career Pay<!-- -->:</span><span class=\"data-table__value\">$163,100</span></td><td class=\"data-table__cell csr-col--right \"><span class=\"data-table__title\">% High Meaning<!-- -->:</span><span class=\"data-table__value\">47%</span></td></tr><tr class=\"data-table__row\"><td class=\"data-table__cell csr-col--rank \"><span class=\"data-table__title\">Rank<!-- -->:</span><span class=\"data-table__value\">6</span></td><td class=\"data-table__cell csr-col--school-name \"><span class=\"data-table__title\">Major<!-- -->:</span><span class=\"data-table__value\">Actuarial Mathematics</span></td><td class=\"data-table__cell csr-col--school-type data-table__cell--hidden-mobile\"><span class=\"data-table__title\">Degree Type<!-- -->:</span><span class=\"data-table__value\">Bachelors</span></td><td class=\"data-table__cell csr-col--right \"><span class=\"data-table__title\">Early Career Pay<!-- -->:</span><span class=\"data-table__value\">$70,700</span></td><td class=\"data-table__cell csr-col--right \"><span class=\"data-table__title\">Mid-Career Pay<!-- -->:</span><span class=\"data-table__value\">$160,000</span></td><td class=\"data-table__cell csr-col--right \"><span class=\"data-table__title\">% High Meaning<!-- -->:</span><span class=\"data-table__value\">52%</span></td></tr><tr class=\"data-table__row\"><td class=\"data-table__cell csr-col--rank \"><span class=\"data-table__title\">Rank<!-- -->:</span><span class=\"data-table__value\">6</span></td><td class=\"data-table__cell csr-col--school-name \"><span class=\"data-table__title\">Major<!-- -->:</span><span class=\"data-table__value\">Operations Research</span></td><td class=\"data-table__cell csr-col--school-type data-table__cell--hidden-mobile\"><span class=\"data-table__title\">Degree Type<!-- -->:</span><span class=\"data-table__value\">Bachelors</span></td><td class=\"data-table__cell csr-col--right \"><span class=\"data-table__title\">Early Career Pay<!-- -->:</span><span class=\"data-table__value\">$92,200</span></td><td class=\"data-table__cell csr-col--right \"><span class=\"data-table__title\">Mid-Career Pay<!-- -->:</span><span class=\"data-table__value\">$160,000</span></td><td class=\"data-table__cell csr-col--right \"><span class=\"data-table__title\">% High Meaning<!-- -->:</span><span class=\"data-table__value\">57%</span></td></tr><tr class=\"data-table__row\"><td class=\"data-table__cell csr-col--rank \"><span class=\"data-table__title\">Rank<!-- -->:</span><span class=\"data-table__value\">8</span></td><td class=\"data-table__cell csr-col--school-name \"><span class=\"data-table__title\">Major<!-- -->:</span><span class=\"data-table__value\">Systems Engineering</span></td><td class=\"data-table__cell csr-col--school-type data-table__cell--hidden-mobile\"><span class=\"data-table__title\">Degree Type<!-- -->:</span><span class=\"data-table__value\">Bachelors</span></td><td class=\"data-table__cell csr-col--right \"><span class=\"data-table__title\">Early Career Pay<!-- -->:</span><span class=\"data-table__value\">$87,000</span></td><td class=\"data-table__cell csr-col--right \"><span class=\"data-table__title\">Mid-Career Pay<!-- -->:</span><span class=\"data-table__value\">$159,100</span></td><td class=\"data-table__cell csr-col--right \"><span class=\"data-table__title\">% High Meaning<!-- -->:</span><span class=\"data-table__value\">58%</span></td></tr><tr class=\"data-table__row\"><td class=\"data-table__cell csr-col--rank \"><span class=\"data-table__title\">Rank<!-- -->:</span><span class=\"data-table__value\">9</span></td><td class=\"data-table__cell csr-col--school-name \"><span class=\"data-table__title\">Major<!-- -->:</span><span class=\"data-table__value\">Optical Science &amp; Engineering</span></td><td class=\"data-table__cell csr-col--school-type data-table__cell--hidden-mobile\"><span class=\"data-table__title\">Degree Type<!-- -->:</span><span class=\"data-table__value\">Bachelors</span></td><td class=\"data-table__cell csr-col--right \"><span class=\"data-table__title\">Early Career Pay<!-- -->:</span><span class=\"data-table__value\">$79,600</span></td><td class=\"data-table__cell csr-col--right \"><span class=\"data-table__title\">Mid-Career Pay<!-- -->:</span><span class=\"data-table__value\">$158,300</span></td><td class=\"data-table__cell csr-col--right \"><span class=\"data-table__title\">% High Meaning<!-- -->:</span><span class=\"data-table__value\">73%</span></td></tr><tr class=\"data-table__row\"><td class=\"data-table__cell csr-col--rank \"><span class=\"data-table__title\">Rank<!-- -->:</span><span class=\"data-table__value\">10</span></td><td class=\"data-table__cell csr-col--school-name \"><span class=\"data-table__title\">Major<!-- -->:</span><span class=\"data-table__value\">Information &amp; Computer Science</span></td><td class=\"data-table__cell csr-col--school-type data-table__cell--hidden-mobile\"><span class=\"data-table__title\">Degree Type<!-- -->:</span><span class=\"data-table__value\">Bachelors</span></td><td class=\"data-table__cell csr-col--right \"><span class=\"data-table__title\">Early Career Pay<!-- -->:</span><span class=\"data-table__value\">$76,000</span></td><td class=\"data-table__cell csr-col--right \"><span class=\"data-table__title\">Mid-Career Pay<!-- -->:</span><span class=\"data-table__value\">$157,800</span></td><td class=\"data-table__cell csr-col--right \"><span class=\"data-table__title\">% High Meaning<!-- -->:</span><span class=\"data-table__value\">63%</span></td></tr><tr class=\"data-table__row\"><td class=\"data-table__cell csr-col--rank \"><span class=\"data-table__title\">Rank<!-- -->:</span><span class=\"data-table__value\">11</span></td><td class=\"data-table__cell csr-col--school-name \"><span class=\"data-table__title\">Major<!-- -->:</span><span class=\"data-table__value\">Aeronautics &amp; Astronautics</span></td><td class=\"data-table__cell csr-col--school-type data-table__cell--hidden-mobile\"><span class=\"data-table__title\">Degree Type<!-- -->:</span><span class=\"data-table__value\">Bachelors</span></td><td class=\"data-table__cell csr-col--right \"><span class=\"data-table__title\">Early Career Pay<!-- -->:</span><span class=\"data-table__value\">$88,200</span></td><td class=\"data-table__cell csr-col--right \"><span class=\"data-table__title\">Mid-Career Pay<!-- -->:</span><span class=\"data-table__value\">$156,900</span></td><td class=\"data-table__cell csr-col--right \"><span class=\"data-table__title\">% High Meaning<!-- -->:</span><span class=\"data-table__value\">56%</span></td></tr><tr class=\"data-table__row\"><td class=\"data-table__cell csr-col--rank \"><span class=\"data-table__title\">Rank<!-- -->:</span><span class=\"data-table__value\">12</span></td><td class=\"data-table__cell csr-col--school-name \"><span class=\"data-table__title\">Major<!-- -->:</span><span class=\"data-table__value\">Aerospace Studies</span></td><td class=\"data-table__cell csr-col--school-type data-table__cell--hidden-mobile\"><span class=\"data-table__title\">Degree Type<!-- -->:</span><span class=\"data-table__value\">Bachelors</span></td><td class=\"data-table__cell csr-col--right \"><span class=\"data-table__title\">Early Career Pay<!-- -->:</span><span class=\"data-table__value\">$62,600</span></td><td class=\"data-table__cell csr-col--right \"><span class=\"data-table__title\">Mid-Career Pay<!-- -->:</span><span class=\"data-table__value\">$154,300</span></td><td class=\"data-table__cell csr-col--right \"><span class=\"data-table__title\">% High Meaning<!-- -->:</span><span class=\"data-table__value\">-</span></td></tr><tr class=\"data-table__row\"><td class=\"data-table__cell csr-col--rank \"><span class=\"data-table__title\">Rank<!-- -->:</span><span class=\"data-table__value\">13</span></td><td class=\"data-table__cell csr-col--school-name \"><span class=\"data-table__title\">Major<!-- -->:</span><span class=\"data-table__value\">Pharmacy</span></td><td class=\"data-table__cell csr-col--school-type data-table__cell--hidden-mobile\"><span class=\"data-table__title\">Degree Type<!-- -->:</span><span class=\"data-table__value\">Bachelors</span></td><td class=\"data-table__cell csr-col--right \"><span class=\"data-table__title\">Early Career Pay<!-- -->:</span><span class=\"data-table__value\">$69,400</span></td><td class=\"data-table__cell csr-col--right \"><span class=\"data-table__title\">Mid-Career Pay<!-- -->:</span><span class=\"data-table__value\">$154,000</span></td><td class=\"data-table__cell csr-col--right \"><span class=\"data-table__title\">% High Meaning<!-- -->:</span><span class=\"data-table__value\">79%</span></td></tr><tr class=\"data-table__row\"><td class=\"data-table__cell csr-col--rank \"><span class=\"data-table__title\">Rank<!-- -->:</span><span class=\"data-table__value\">14</span></td><td class=\"data-table__cell csr-col--school-name \"><span class=\"data-table__title\">Major<!-- -->:</span><span class=\"data-table__value\">Cognitive Science</span></td><td class=\"data-table__cell csr-col--school-type data-table__cell--hidden-mobile\"><span class=\"data-table__title\">Degree Type<!-- -->:</span><span class=\"data-table__value\">Bachelors</span></td><td class=\"data-table__cell csr-col--right \"><span class=\"data-table__title\">Early Career Pay<!-- -->:</span><span class=\"data-table__value\">$78,000</span></td><td class=\"data-table__cell csr-col--right \"><span class=\"data-table__title\">Mid-Career Pay<!-- -->:</span><span class=\"data-table__value\">$153,800</span></td><td class=\"data-table__cell csr-col--right \"><span class=\"data-table__title\">% High Meaning<!-- -->:</span><span class=\"data-table__value\">43%</span></td></tr><tr class=\"data-table__row\"><td class=\"data-table__cell csr-col--rank \"><span class=\"data-table__title\">Rank<!-- -->:</span><span class=\"data-table__value\">15</span></td><td class=\"data-table__cell csr-col--school-name \"><span class=\"data-table__title\">Major<!-- -->:</span><span class=\"data-table__value\">Managerial Economics</span></td><td class=\"data-table__cell csr-col--school-type data-table__cell--hidden-mobile\"><span class=\"data-table__title\">Degree Type<!-- -->:</span><span class=\"data-table__value\">Bachelors</span></td><td class=\"data-table__cell csr-col--right \"><span class=\"data-table__title\">Early Career Pay<!-- -->:</span><span class=\"data-table__value\">$74,700</span></td><td class=\"data-table__cell csr-col--right \"><span class=\"data-table__title\">Mid-Career Pay<!-- -->:</span><span class=\"data-table__value\">$153,300</span></td><td class=\"data-table__cell csr-col--right \"><span class=\"data-table__title\">% High Meaning<!-- -->:</span><span class=\"data-table__value\">38%</span></td></tr><tr class=\"data-table__row\"><td class=\"data-table__cell csr-col--rank \"><span class=\"data-table__title\">Rank<!-- -->:</span><span class=\"data-table__value\">16</span></td><td class=\"data-table__cell csr-col--school-name \"><span class=\"data-table__title\">Major<!-- -->:</span><span class=\"data-table__value\">Quantitative Economics</span></td><td class=\"data-table__cell csr-col--school-type data-table__cell--hidden-mobile\"><span class=\"data-table__title\">Degree Type<!-- -->:</span><span class=\"data-table__value\">Bachelors</span></td><td class=\"data-table__cell csr-col--right \"><span class=\"data-table__title\">Early Career Pay<!-- -->:</span><span class=\"data-table__value\">$74,500</span></td><td class=\"data-table__cell csr-col--right \"><span class=\"data-table__title\">Mid-Career Pay<!-- -->:</span><span class=\"data-table__value\">$152,700</span></td><td class=\"data-table__cell csr-col--right \"><span class=\"data-table__title\">% High Meaning<!-- -->:</span><span class=\"data-table__value\">43%</span></td></tr><tr class=\"data-table__row\"><td class=\"data-table__cell csr-col--rank \"><span class=\"data-table__title\">Rank<!-- -->:</span><span class=\"data-table__value\">17</span></td><td class=\"data-table__cell csr-col--school-name \"><span class=\"data-table__title\">Major<!-- -->:</span><span class=\"data-table__value\">Econometrics</span></td><td class=\"data-table__cell csr-col--school-type data-table__cell--hidden-mobile\"><span class=\"data-table__title\">Degree Type<!-- -->:</span><span class=\"data-table__value\">Bachelors</span></td><td class=\"data-table__cell csr-col--right \"><span class=\"data-table__title\">Early Career Pay<!-- -->:</span><span class=\"data-table__value\">$72,000</span></td><td class=\"data-table__cell csr-col--right \"><span class=\"data-table__title\">Mid-Career Pay<!-- -->:</span><span class=\"data-table__value\">$152,100</span></td><td class=\"data-table__cell csr-col--right \"><span class=\"data-table__title\">% High Meaning<!-- -->:</span><span class=\"data-table__value\">35%</span></td></tr><tr class=\"data-table__row\"><td class=\"data-table__cell csr-col--rank \"><span class=\"data-table__title\">Rank<!-- -->:</span><span class=\"data-table__value\">18</span></td><td class=\"data-table__cell csr-col--school-name \"><span class=\"data-table__title\">Major<!-- -->:</span><span class=\"data-table__value\">Foreign Affairs</span></td><td class=\"data-table__cell csr-col--school-type data-table__cell--hidden-mobile\"><span class=\"data-table__title\">Degree Type<!-- -->:</span><span class=\"data-table__value\">Bachelors</span></td><td class=\"data-table__cell csr-col--right \"><span class=\"data-table__title\">Early Career Pay<!-- -->:</span><span class=\"data-table__value\">$62,900</span></td><td class=\"data-table__cell csr-col--right \"><span class=\"data-table__title\">Mid-Career Pay<!-- -->:</span><span class=\"data-table__value\">$152,000</span></td><td class=\"data-table__cell csr-col--right \"><span class=\"data-table__title\">% High Meaning<!-- -->:</span><span class=\"data-table__value\">32%</span></td></tr><tr class=\"data-table__row\"><td class=\"data-table__cell csr-col--rank \"><span class=\"data-table__title\">Rank<!-- -->:</span><span class=\"data-table__value\">19</span></td><td class=\"data-table__cell csr-col--school-name \"><span class=\"data-table__title\">Major<!-- -->:</span><span class=\"data-table__value\">Chemical Engineering</span></td><td class=\"data-table__cell csr-col--school-type data-table__cell--hidden-mobile\"><span class=\"data-table__title\">Degree Type<!-- -->:</span><span class=\"data-table__value\">Bachelors</span></td><td class=\"data-table__cell csr-col--right \"><span class=\"data-table__title\">Early Career Pay<!-- -->:</span><span class=\"data-table__value\">$85,600</span></td><td class=\"data-table__cell csr-col--right \"><span class=\"data-table__title\">Mid-Career Pay<!-- -->:</span><span class=\"data-table__value\">$151,800</span></td><td class=\"data-table__cell csr-col--right \"><span class=\"data-table__title\">% High Meaning<!-- -->:</span><span class=\"data-table__value\">55%</span></td></tr><tr class=\"data-table__row\"><td class=\"data-table__cell csr-col--rank \"><span class=\"data-table__title\">Rank<!-- -->:</span><span class=\"data-table__value\">20</span></td><td class=\"data-table__cell csr-col--school-name \"><span class=\"data-table__title\">Major<!-- -->:</span><span class=\"data-table__value\">Public Accounting</span></td><td class=\"data-table__cell csr-col--school-type data-table__cell--hidden-mobile\"><span class=\"data-table__title\">Degree Type<!-- -->:</span><span class=\"data-table__value\">Bachelors</span></td><td class=\"data-table__cell csr-col--right \"><span class=\"data-table__title\">Early Career Pay<!-- -->:</span><span class=\"data-table__value\">$69,700</span></td><td class=\"data-table__cell csr-col--right \"><span class=\"data-table__title\">Mid-Career Pay<!-- -->:</span><span class=\"data-table__value\">$151,200</span></td><td class=\"data-table__cell csr-col--right \"><span class=\"data-table__title\">% High Meaning<!-- -->:</span><span class=\"data-table__value\">47%</span></td></tr><tr class=\"data-table__row\"><td class=\"data-table__cell csr-col--rank \"><span class=\"data-table__title\">Rank<!-- -->:</span><span class=\"data-table__value\">21</span></td><td class=\"data-table__cell csr-col--school-name \"><span class=\"data-table__title\">Major<!-- -->:</span><span class=\"data-table__value\">Political Economy</span></td><td class=\"data-table__cell csr-col--school-type data-table__cell--hidden-mobile\"><span class=\"data-table__title\">Degree Type<!-- -->:</span><span class=\"data-table__value\">Bachelors</span></td><td class=\"data-table__cell csr-col--right \"><span class=\"data-table__title\">Early Career Pay<!-- -->:</span><span class=\"data-table__value\">$73,100</span></td><td class=\"data-table__cell csr-col--right \"><span class=\"data-table__title\">Mid-Career Pay<!-- -->:</span><span class=\"data-table__value\">$150,600</span></td><td class=\"data-table__cell csr-col--right \"><span class=\"data-table__title\">% High Meaning<!-- -->:</span><span class=\"data-table__value\">31%</span></td></tr><tr class=\"data-table__row\"><td class=\"data-table__cell csr-col--rank \"><span class=\"data-table__title\">Rank<!-- -->:</span><span class=\"data-table__value\">22</span></td><td class=\"data-table__cell csr-col--school-name \"><span class=\"data-table__title\">Major<!-- -->:</span><span class=\"data-table__value\">Corporate Accounting &amp; Finance</span></td><td class=\"data-table__cell csr-col--school-type data-table__cell--hidden-mobile\"><span class=\"data-table__title\">Degree Type<!-- -->:</span><span class=\"data-table__value\">Bachelors</span></td><td class=\"data-table__cell csr-col--right \"><span class=\"data-table__title\">Early Career Pay<!-- -->:</span><span class=\"data-table__value\">$76,800</span></td><td class=\"data-table__cell csr-col--right \"><span class=\"data-table__title\">Mid-Career Pay<!-- -->:</span><span class=\"data-table__value\">$149,600</span></td><td class=\"data-table__cell csr-col--right \"><span class=\"data-table__title\">% High Meaning<!-- -->:</span><span class=\"data-table__value\">50%</span></td></tr><tr class=\"data-table__row\"><td class=\"data-table__cell csr-col--rank \"><span class=\"data-table__title\">Rank<!-- -->:</span><span class=\"data-table__value\">23</span></td><td class=\"data-table__cell csr-col--school-name \"><span class=\"data-table__title\">Major<!-- -->:</span><span class=\"data-table__value\">Actuarial Science</span></td><td class=\"data-table__cell csr-col--school-type data-table__cell--hidden-mobile\"><span class=\"data-table__title\">Degree Type<!-- -->:</span><span class=\"data-table__value\">Bachelors</span></td><td class=\"data-table__cell csr-col--right \"><span class=\"data-table__title\">Early Career Pay<!-- -->:</span><span class=\"data-table__value\">$76,700</span></td><td class=\"data-table__cell csr-col--right \"><span class=\"data-table__title\">Mid-Career Pay<!-- -->:</span><span class=\"data-table__value\">$149,000</span></td><td class=\"data-table__cell csr-col--right \"><span class=\"data-table__title\">% High Meaning<!-- -->:</span><span class=\"data-table__value\">42%</span></td></tr><tr class=\"data-table__row\"><td class=\"data-table__cell csr-col--rank \"><span class=\"data-table__title\">Rank<!-- -->:</span><span class=\"data-table__value\">24</span></td><td class=\"data-table__cell csr-col--school-name \"><span class=\"data-table__title\">Major<!-- -->:</span><span class=\"data-table__value\">Computer Engineering (CE)</span></td><td class=\"data-table__cell csr-col--school-type data-table__cell--hidden-mobile\"><span class=\"data-table__title\">Degree Type<!-- -->:</span><span class=\"data-table__value\">Bachelors</span></td><td class=\"data-table__cell csr-col--right \"><span class=\"data-table__title\">Early Career Pay<!-- -->:</span><span class=\"data-table__value\">$89,100</span></td><td class=\"data-table__cell csr-col--right \"><span class=\"data-table__title\">Mid-Career Pay<!-- -->:</span><span class=\"data-table__value\">$148,500</span></td><td class=\"data-table__cell csr-col--right \"><span class=\"data-table__title\">% High Meaning<!-- -->:</span><span class=\"data-table__value\">46%</span></td></tr><tr class=\"data-table__row\"><td class=\"data-table__cell csr-col--rank \"><span class=\"data-table__title\">Rank<!-- -->:</span><span class=\"data-table__value\">25</span></td><td class=\"data-table__cell csr-col--school-name \"><span class=\"data-table__title\">Major<!-- -->:</span><span class=\"data-table__value\">Electrical Power Engineering</span></td><td class=\"data-table__cell csr-col--school-type data-table__cell--hidden-mobile\"><span class=\"data-table__title\">Degree Type<!-- -->:</span><span class=\"data-table__value\">Bachelors</span></td><td class=\"data-table__cell csr-col--right \"><span class=\"data-table__title\">Early Career Pay<!-- -->:</span><span class=\"data-table__value\">$84,700</span></td><td class=\"data-table__cell csr-col--right \"><span class=\"data-table__title\">Mid-Career Pay<!-- -->:</span><span class=\"data-table__value\">$148,300</span></td><td class=\"data-table__cell csr-col--right \"><span class=\"data-table__title\">% High Meaning<!-- -->:</span><span class=\"data-table__value\">72%</span></td></tr></tbody></table></div><div class=\"pagination csr-gridpage__pagination\"><a class=\"pagination__btn pagination__prev-btn pagination__btn--off\"><div class=\"pagination__btn--inner\"><i class=\"icon-left-open\"></i></div></a><a class=\"pagination__btn pagination__btn--active\"><div class=\"pagination__btn--inner\">1</div></a><a class=\"pagination__btn\" href=\"/college-salary-report/majors-that-pay-you-back/bachelors/page/2\"><div class=\"pagination__btn--inner\">2</div></a><a class=\"pagination__btn\" href=\"/college-salary-report/majors-that-pay-you-back/bachelors/page/3\"><div class=\"pagination__btn--inner\">3</div></a><a class=\"pagination__btn pagination__ellipsis pagination__btn--off\"><div class=\"pagination__btn--inner\">…</div></a><a class=\"pagination__btn\" href=\"/college-salary-report/majors-that-pay-you-back/bachelors/page/32\"><div class=\"pagination__btn--inner\">32</div></a><a class=\"pagination__btn pagination__next-btn\" href=\"/college-salary-report/majors-that-pay-you-back/bachelors/page/2\"><div class=\"pagination__btn--inner\"><i class=\"icon-right-open\"></i></div></a></div><div class=\"csr-gridpage__survey-container\"><div class=\"container \"><div class=\"simple-cta\"><div class=\"simple-cta__content\"><h2 class=\"simple-cta__header\">What are you worth?</h2><p class=\"simple-cta__para\">Take our free salary survey to find out</p><a class=\"simple-cta__btn\" href=\"/survey/?from=simplesurveystart-ps-csr-list page\">Get your free report</a></div><div class=\"simple-cta__image-container\"><img class=\"simple-cta__image\" src=\"https://cdn-payscale.com/content/college-salary-report-cta.svg\" alt=\"College Student\"/></div></div></div></div><div class=\"container csr-gridpage__bottom\"><aside class=\"csr-gridpage__side\"><div class=\"ranking-badge\"><a class=\"ranking-badge__widget-link\" href=\"/college-salary-report/products-for-educators\"><div class=\"ranking-badge__title\">Show off your ranking!</div><div class=\"ranking-badge__subtitle\">Get a Badge</div><div class=\"ranking-badge__image-container\"><img src=\"https://cdn-payscale.com/content/csr-2023/2023-24-csr-badge-4yr.png\" alt=\"show off your ranking\"/></div></a><div class=\"ranking-badge__link\"><a href=\"/college-salary-report/methodology\">FAQs and Methodology</a></div></div></aside></div></article></div><div id=\"footer-survey-start\" class=\"footer-survey-start \"><div class=\"footer-survey-start__header\">WHAT AM I WORTH?</div><div class=\"footer-survey-start__subheader\">What your skills are worth in the job market is constantly changing.</div><form class=\"footer-survey-start__form survey-start__form\"><input type=\"hidden\" value=\"\" name=\"city\"/><input type=\"hidden\" value=\"\" name=\"state\"/><input type=\"hidden\" value=\"United States\" name=\"confCountry\"/><input type=\"hidden\" value=\"\" name=\"location\"/><input type=\"hidden\" value=\"\" name=\"job\"/><input type=\"hidden\" value=\"\" name=\"yearsexp\"/><div id=\"\" class=\"pxl-form-group footer-survey-start__form-group\"><label class=\" pxl-control-label\" for=\"\">Job Title:</label><input type=\"text\" class=\" pxl-form-control\" value=\"\" placeholder=\"\" tabindex=\"0\"/></div><div id=\"\" class=\"pxl-form-group footer-survey-start__form-group footer-survey-start__location\"><label class=\" pxl-control-label\" for=\"\">Location:</label><div class=\"survey-start__location\"><div class=\"survey-start__citystate\"><div role=\"combobox\" aria-haspopup=\"listbox\" aria-owns=\"react-autowhatever-footer-survey-startCityState\" aria-expanded=\"false\" class=\"react-autosuggest__container\"><input type=\"text\" value=\"\" autoComplete=\"off\" aria-autocomplete=\"list\" aria-controls=\"react-autowhatever-footer-survey-startCityState\" class=\"pxl-form-control survey-start__citystate-ac\" tabindex=\"0\" id=\"footer-survey-startCityState\"/><div id=\"react-autowhatever-footer-survey-startCityState\" role=\"listbox\" class=\"react-autosuggest__suggestions-container\"></div></div></div><div class=\"survey-start__country\"><div class=\"survey-start__country-label\">United States<!-- --> <a class=\"survey-start__country-link\">(change)</a></div><div role=\"combobox\" aria-haspopup=\"listbox\" aria-owns=\"react-autowhatever-footer-survey-startCountry\" aria-expanded=\"false\" class=\"react-autosuggest__container\"><input type=\"text\" value=\"United States\" autoComplete=\"off\" aria-autocomplete=\"list\" aria-controls=\"react-autowhatever-footer-survey-startCountry\" class=\"pxl-form-control survey-start__country-ac survey-start--hidden\" id=\"footer-survey-startCountry\"/><div id=\"react-autowhatever-footer-survey-startCountry\" role=\"listbox\" class=\"react-autosuggest__suggestions-container\"></div></div></div></div></div><div class=\"footer-survey-start__btn\"><input type=\"submit\" class=\"footer-survey-start__btn-input\" value=\"Get your salary report »\"/></div></form></div><footer id=\"pxl-footer\" class=\"footer\"><div class=\"footer__content\"><div class=\"footer__main\"><div class=\"footer__logo-wrapper\"><img src=\"//cdn-payscale.com/content/ps-logos/payscale_logo_white.svg\" class=\"footer__logo\" alt=\"PayScale\"/></div><div class=\"footer__row\"><div class=\"footer__col\"><a href=\"/products/\" class=\"footer__col-item\">Products</a></div><div class=\"footer__col\"><a href=\"/compensation-trends/\" class=\"footer__col-item\">Compensation Trends</a></div><div class=\"footer__col\"><a href=\"/press-releases/\" class=\"footer__col-item\">Press Releases</a></div><div class=\"footer__col\"><a href=\"/about/\" class=\"footer__col-item\">About Us</a></div><div class=\"footer__col\"><a href=\"/solutions/\" class=\"footer__col-item\">Solutions</a></div><div class=\"footer__col\"><a href=\"/for-individuals/\" class=\"footer__col-item\">For Individuals</a></div><div class=\"footer__col\"><a href=\"/in-the-news/\" class=\"footer__col-item\">In The News</a></div><div class=\"footer__col\"><a href=\"/about/careers-at-payscale/\" class=\"footer__col-item\">Careers at Payscale</a></div><div class=\"footer__col\"><a href=\"/why-payscale/\" class=\"footer__col-item\">Why Payscale</a></div><div class=\"footer__col\"><a href=\"/events/\" class=\"footer__col-item\">Events</a></div><div class=\"footer__col\"><a href=\"/compference/\" class=\"footer__col-item\">Compference</a></div><div class=\"footer__col\"><a href=\"/about/contact-us/\" class=\"footer__col-item\">Contact Us</a></div><div class=\"footer__col\"><a href=\"/research-and-insights/\" class=\"footer__col-item\">Research &amp; Insights</a></div></div></div><div class=\"footer__social\"><a class=\"footer__social-link\" href=\"https://www.linkedin.com/company/payscale-inc-\" rel=\"nofollow\"><img class=\"footer__icon\" src=\"//cdn-payscale.com/content/wpengine/linkedin-in.svg\" height=\"15px\" alt=\"LinkedIn\"/></a><a class=\"footer__social-link\" href=\"https://www.facebook.com/PayScale/\" rel=\"nofollow\"><img class=\"footer__icon\" src=\"//cdn-payscale.com/content/wpengine/facebook-f.svg\" height=\"15px\" alt=\"Facebook\"/></a><a class=\"footer__social-link\" href=\"https://twitter.com/payscale\" rel=\"nofollow\"><img class=\"footer__icon\" src=\"//cdn-payscale.com/content/wpengine/twitter.svg\" height=\"15px\" alt=\"Twitter\"/></a><a class=\"footer__social-link\" href=\"https://www.instagram.com/payscale/\" rel=\"nofollow\"><img class=\"footer__icon\" src=\"//cdn-payscale.com/content/wpengine/instagram.svg\" height=\"15px\" alt=\"Instagram\"/></a></div><div class=\"footer__bottom\"><div class=\"footer__copyright\">© <span>2024</span> PayScale, Inc. All rights reserved.</div><ul class=\"footer__privacy\"><li class=\"footer__privacy-item\"><a class=\"footer__privacy-link\" href=\"/about/data-protection/\">Data Protection</a></li><li class=\"footer__privacy-item\"><a class=\"footer__privacy-link\" href=\"/about/privacy-policy/\">Privacy Policy</a></li><li class=\"footer__privacy-item\"><a class=\"footer__privacy-link\" href=\"/about/terms-of-use/\">Terms of Use</a></li><li class=\"footer__privacy-item\"><a class=\"footer__privacy-link\" href=\"/about/cookies-and-similar-technologies/\">Cookies Policy</a></li></ul><div class=\"footer__sublinks\"><a href=\"/research/US/Country=United_States/Salary\" class=\"footer__sublinks-title\">Research Careers</a><a class=\"footer__sublink-item\" href=\"/research/US/Job\">Jobs</a><a class=\"footer__sublink-item\" href=\"/research/US/Employer\">Employers</a><a class=\"footer__sublink-item\" href=\"/research/US/Degree\">Degrees</a></div></div></div></footer></div></div><script crossorigin=\"anonymous\" src=\"https://polyfill.io/v3/polyfill.min.js?features=Array.prototype.includes%2CString.prototype.includes%2CArray.prototype.find\"></script><script crossorigin=\"true\" src=\"https://unpkg.com/react@16.14.0/umd/react.production.min.js\"></script><script crossorigin=\"true\" src=\"https://unpkg.com/react-dom@16.14.0/umd/react-dom.production.min.js\"></script><script id=\"__NEXT_DATA__\" type=\"application/json\">{\"props\":{\"pageProps\":{\"status\":200,\"data\":[{\"id\":5088,\"degreeType\":\"Bachelors\",\"major\":\"Petroleum Engineering\",\"earlyCareerMedianPay\":97500,\"midCareerMedianPay\":212500,\"fiveToTenYearMedianPay\":151800,\"tenToTwentyYearMedianPay\":197600,\"twentyPlusYearMedianPay\":226100,\"percentHighMeaning\":0.61,\"year\":2023,\"url\":\"/research/US/Degree=Bachelor%27s_Degree%2C_Petroleum_Engineering/Salary\",\"rank\":1,\"tie\":false},{\"id\":5614,\"degreeType\":\"Bachelors\",\"major\":\"Operations Research \\\\u0026 Industrial Engineering\",\"earlyCareerMedianPay\":98300,\"midCareerMedianPay\":191800,\"fiveToTenYearMedianPay\":153700,\"tenToTwentyYearMedianPay\":188500,\"twentyPlusYearMedianPay\":null,\"percentHighMeaning\":0.21,\"year\":2023,\"url\":\"/research/US/Degree=Bachelor%27s_Degree%2C_Operations_Research_%26_Industrial_Engineering/Salary\",\"rank\":2,\"tie\":false},{\"id\":5615,\"degreeType\":\"Bachelors\",\"major\":\"Interaction Design\",\"earlyCareerMedianPay\":74700,\"midCareerMedianPay\":173600,\"fiveToTenYearMedianPay\":118400,\"tenToTwentyYearMedianPay\":173600,\"twentyPlusYearMedianPay\":null,\"percentHighMeaning\":0.54,\"year\":2023,\"url\":\"/research/US/Degree=Bachelor%27s_Degree%2C_Interaction_Design/Salary\",\"rank\":3,\"tie\":false},{\"id\":5616,\"degreeType\":\"Bachelors\",\"major\":\"Applied Economics and Management\",\"earlyCareerMedianPay\":76500,\"midCareerMedianPay\":164400,\"fiveToTenYearMedianPay\":112800,\"tenToTwentyYearMedianPay\":164400,\"twentyPlusYearMedianPay\":null,\"percentHighMeaning\":0.54,\"year\":2023,\"url\":\"/research/US/Degree=Bachelor%27s_Degree%2C_Applied_Economics_and_Management/Salary\",\"rank\":4,\"tie\":false},{\"id\":5617,\"degreeType\":\"Bachelors\",\"major\":\"Building Science\",\"earlyCareerMedianPay\":69000,\"midCareerMedianPay\":163100,\"fiveToTenYearMedianPay\":99100,\"tenToTwentyYearMedianPay\":152600,\"twentyPlusYearMedianPay\":179000,\"percentHighMeaning\":0.47,\"year\":2023,\"url\":\"/research/US/Degree=Bachelor%27s_Degree%2C_Building_Science/Salary\",\"rank\":5,\"tie\":false},{\"id\":5618,\"degreeType\":\"Bachelors\",\"major\":\"Actuarial Mathematics\",\"earlyCareerMedianPay\":70700,\"midCareerMedianPay\":160000,\"fiveToTenYearMedianPay\":104900,\"tenToTwentyYearMedianPay\":178600,\"twentyPlusYearMedianPay\":null,\"percentHighMeaning\":0.52,\"year\":2023,\"url\":\"/research/US/Degree=Bachelor%27s_Degree%2C_Actuarial_Mathematics/Salary\",\"rank\":6,\"tie\":true},{\"id\":5619,\"degreeType\":\"Bachelors\",\"major\":\"Operations Research\",\"earlyCareerMedianPay\":92200,\"midCareerMedianPay\":160000,\"fiveToTenYearMedianPay\":123300,\"tenToTwentyYearMedianPay\":161800,\"twentyPlusYearMedianPay\":null,\"percentHighMeaning\":0.57,\"year\":2023,\"url\":\"/research/US/Degree=Bachelor%27s_Degree%2C_Operations_Research/Salary\",\"rank\":6,\"tie\":true},{\"id\":5620,\"degreeType\":\"Bachelors\",\"major\":\"Systems Engineering\",\"earlyCareerMedianPay\":87000,\"midCareerMedianPay\":159100,\"fiveToTenYearMedianPay\":118900,\"tenToTwentyYearMedianPay\":145500,\"twentyPlusYearMedianPay\":165900,\"percentHighMeaning\":0.58,\"year\":2023,\"url\":\"/research/US/Degree=Bachelor%27s_Degree%2C_Systems_Engineering/Salary\",\"rank\":8,\"tie\":false},{\"id\":5621,\"degreeType\":\"Bachelors\",\"major\":\"Optical Science \\\\u0026 Engineering\",\"earlyCareerMedianPay\":79600,\"midCareerMedianPay\":158300,\"fiveToTenYearMedianPay\":112200,\"tenToTwentyYearMedianPay\":149600,\"twentyPlusYearMedianPay\":null,\"percentHighMeaning\":0.73,\"year\":2023,\"url\":\"/research/US/Degree=Bachelor%27s_Degree%2C_Optical_Science_%26_Engineering/Salary\",\"rank\":9,\"tie\":false},{\"id\":5622,\"degreeType\":\"Bachelors\",\"major\":\"Information \\\\u0026 Computer Science\",\"earlyCareerMedianPay\":76000,\"midCareerMedianPay\":157800,\"fiveToTenYearMedianPay\":131700,\"tenToTwentyYearMedianPay\":146700,\"twentyPlusYearMedianPay\":171200,\"percentHighMeaning\":0.63,\"year\":2023,\"url\":\"/research/US/Degree=Bachelor%27s_Degree%2C_Information_%26_Computer_Science/Salary\",\"rank\":10,\"tie\":false},{\"id\":5623,\"degreeType\":\"Bachelors\",\"major\":\"Aeronautics \\\\u0026 Astronautics\",\"earlyCareerMedianPay\":88200,\"midCareerMedianPay\":156900,\"fiveToTenYearMedianPay\":108500,\"tenToTwentyYearMedianPay\":136000,\"twentyPlusYearMedianPay\":null,\"percentHighMeaning\":0.56,\"year\":2023,\"url\":\"/research/US/Degree=Bachelor%27s_Degree%2C_Aeronautics_%26_Astronautics/Salary\",\"rank\":11,\"tie\":false},{\"id\":5624,\"degreeType\":\"Bachelors\",\"major\":\"Aerospace Studies\",\"earlyCareerMedianPay\":62600,\"midCareerMedianPay\":154300,\"fiveToTenYearMedianPay\":76000,\"tenToTwentyYearMedianPay\":153800,\"twentyPlusYearMedianPay\":null,\"percentHighMeaning\":null,\"year\":2023,\"url\":\"/research/US/Degree=Bachelor%27s_Degree%2C_Aerospace_Studies/Salary\",\"rank\":12,\"tie\":false},{\"id\":5625,\"degreeType\":\"Bachelors\",\"major\":\"Pharmacy\",\"earlyCareerMedianPay\":69400,\"midCareerMedianPay\":154000,\"fiveToTenYearMedianPay\":130100,\"tenToTwentyYearMedianPay\":153800,\"twentyPlusYearMedianPay\":154300,\"percentHighMeaning\":0.79,\"year\":2023,\"url\":\"/research/US/Degree=Bachelor%27s_Degree%2C_Pharmacy/Salary\",\"rank\":13,\"tie\":false},{\"id\":5626,\"degreeType\":\"Bachelors\",\"major\":\"Cognitive Science\",\"earlyCareerMedianPay\":78000,\"midCareerMedianPay\":153800,\"fiveToTenYearMedianPay\":111000,\"tenToTwentyYearMedianPay\":139400,\"twentyPlusYearMedianPay\":179000,\"percentHighMeaning\":0.43,\"year\":2023,\"url\":\"/research/US/Degree=Bachelor%27s_Degree%2C_Cognitive_Science/Salary\",\"rank\":14,\"tie\":false},{\"id\":5627,\"degreeType\":\"Bachelors\",\"major\":\"Managerial Economics\",\"earlyCareerMedianPay\":74700,\"midCareerMedianPay\":153300,\"fiveToTenYearMedianPay\":103700,\"tenToTwentyYearMedianPay\":138800,\"twentyPlusYearMedianPay\":228400,\"percentHighMeaning\":0.38,\"year\":2023,\"url\":\"/research/US/Degree=Bachelor%27s_Degree%2C_Managerial_Economics/Salary\",\"rank\":15,\"tie\":false},{\"id\":5628,\"degreeType\":\"Bachelors\",\"major\":\"Quantitative Economics\",\"earlyCareerMedianPay\":74500,\"midCareerMedianPay\":152700,\"fiveToTenYearMedianPay\":101400,\"tenToTwentyYearMedianPay\":null,\"twentyPlusYearMedianPay\":null,\"percentHighMeaning\":0.43,\"year\":2023,\"url\":\"/research/US/Degree=Bachelor%27s_Degree%2C_Quantitative_Economics/Salary\",\"rank\":16,\"tie\":false},{\"id\":5629,\"degreeType\":\"Bachelors\",\"major\":\"Econometrics\",\"earlyCareerMedianPay\":72000,\"midCareerMedianPay\":152100,\"fiveToTenYearMedianPay\":97300,\"tenToTwentyYearMedianPay\":138400,\"twentyPlusYearMedianPay\":null,\"percentHighMeaning\":0.35,\"year\":2023,\"url\":\"/research/US/Degree=Bachelor%27s_Degree%2C_Econometrics/Salary\",\"rank\":17,\"tie\":false},{\"id\":5630,\"degreeType\":\"Bachelors\",\"major\":\"Foreign Affairs\",\"earlyCareerMedianPay\":62900,\"midCareerMedianPay\":152000,\"fiveToTenYearMedianPay\":94400,\"tenToTwentyYearMedianPay\":null,\"twentyPlusYearMedianPay\":null,\"percentHighMeaning\":0.32,\"year\":2023,\"url\":\"/research/US/Degree=Bachelor%27s_Degree%2C_Foreign_Affairs/Salary\",\"rank\":18,\"tie\":false},{\"id\":5631,\"degreeType\":\"Bachelors\",\"major\":\"Chemical Engineering\",\"earlyCareerMedianPay\":85600,\"midCareerMedianPay\":151800,\"fiveToTenYearMedianPay\":111000,\"tenToTwentyYearMedianPay\":141600,\"twentyPlusYearMedianPay\":170200,\"percentHighMeaning\":0.55,\"year\":2023,\"url\":\"/research/US/Degree=Bachelor%27s_Degree%2C_Chemical_Engineering/Salary\",\"rank\":19,\"tie\":false},{\"id\":5632,\"degreeType\":\"Bachelors\",\"major\":\"Public Accounting\",\"earlyCareerMedianPay\":69700,\"midCareerMedianPay\":151200,\"fiveToTenYearMedianPay\":77600,\"tenToTwentyYearMedianPay\":101200,\"twentyPlusYearMedianPay\":203600,\"percentHighMeaning\":0.47,\"year\":2023,\"url\":\"/research/US/Degree=Bachelor%27s_Degree%2C_Public_Accounting/Salary\",\"rank\":20,\"tie\":false},{\"id\":5633,\"degreeType\":\"Bachelors\",\"major\":\"Political Economy\",\"earlyCareerMedianPay\":73100,\"midCareerMedianPay\":150600,\"fiveToTenYearMedianPay\":118300,\"tenToTwentyYearMedianPay\":147400,\"twentyPlusYearMedianPay\":null,\"percentHighMeaning\":0.31,\"year\":2023,\"url\":\"/research/US/Degree=Bachelor%27s_Degree%2C_Political_Economy/Salary\",\"rank\":21,\"tie\":false},{\"id\":5634,\"degreeType\":\"Bachelors\",\"major\":\"Corporate Accounting \\\\u0026 Finance\",\"earlyCareerMedianPay\":76800,\"midCareerMedianPay\":149600,\"fiveToTenYearMedianPay\":98000,\"tenToTwentyYearMedianPay\":null,\"twentyPlusYearMedianPay\":null,\"percentHighMeaning\":0.5,\"year\":2023,\"url\":\"/research/US/Degree=Bachelor%27s_Degree%2C_Corporate_Accounting_%26_Finance/Salary\",\"rank\":22,\"tie\":false},{\"id\":5613,\"degreeType\":\"Bachelors\",\"major\":\"Actuarial Science\",\"earlyCareerMedianPay\":76700,\"midCareerMedianPay\":149000,\"fiveToTenYearMedianPay\":109000,\"tenToTwentyYearMedianPay\":143900,\"twentyPlusYearMedianPay\":156500,\"percentHighMeaning\":0.42,\"year\":2023,\"url\":\"/research/US/Degree=Bachelor%27s_Degree%2C_Actuarial_Science/Salary\",\"rank\":23,\"tie\":false},{\"id\":5635,\"degreeType\":\"Bachelors\",\"major\":\"Computer Engineering (CE)\",\"earlyCareerMedianPay\":89100,\"midCareerMedianPay\":148500,\"fiveToTenYearMedianPay\":113800,\"tenToTwentyYearMedianPay\":143200,\"twentyPlusYearMedianPay\":166900,\"percentHighMeaning\":0.46,\"year\":2023,\"url\":\"/research/US/Degree=Bachelor%27s_Degree%2C_Computer_Engineering_(CE)/Salary\",\"rank\":24,\"tie\":false},{\"id\":5612,\"degreeType\":\"Bachelors\",\"major\":\"Electrical Power Engineering\",\"earlyCareerMedianPay\":84700,\"midCareerMedianPay\":148300,\"fiveToTenYearMedianPay\":111700,\"tenToTwentyYearMedianPay\":128500,\"twentyPlusYearMedianPay\":170200,\"percentHighMeaning\":0.72,\"year\":2023,\"url\":\"/research/US/Degree=Bachelor%27s_Degree%2C_Electrical_Power_Engineering/Salary\",\"rank\":25,\"tie\":false}],\"total\":799,\"pageNum\":1,\"path\":\"/college-salary-report/majors-that-pay-you-back/bachelors\",\"title\":\"The Highest-Paying Careers with a Bachelor\\'s Degree for 2018 | Payscale\",\"description\":\"What you study in college affects your salary more than where you go. So choose wisely! Payscale ranks the highest-paying jobs for gradutes with a bachelor\\'s degree.\",\"pageTitle\":\"Highest Paying Jobs With a Bachelor’s Degree\",\"bottomContent\":\"\\\\u003cp\\\\u003eA bachelor\\\\u0026#8217;s degree is a great investment in your future, and one of the most common degrees earned by college students. Some degrees pay you back, but others don\\\\u0026#8217;t do much to increase your earning potential. Your course of study influences your earning potential, so in order to plan your financial future, use Payscale\\\\u0026#8217;s College Salary Report to rank how different majors for bachelor\\\\u0026#8217;s degrees compare based on alumni salaries.\\\\u003c/p\\\\u003e\\\\n\\\\u003ch2\\\\u003e\\\\u003cb\\\\u003eTop Bachelor Degrees\\\\u003c/b\\\\u003e\\\\u003c/h2\\\\u003e\\\\n\\\\u003cp\\\\u003eIn keeping with current trends, the College Salary Report shows that the best bachelor degrees are mostly STEM-focused, meaning they are focused on science, technology, engineering or math. STEM degrees continue to be some of the highest paying degrees on the College Salary Report year after year. The top three highest-paying college majors are\\\\u003c/p\\\\u003e\\\\n\\\\u003cp\\\\u003e\\\\u003ca href=\\\\\"https://www.payscale.com/research/US/Job=Petroleum_Engineer/Salary\\\\\"\\\\u003e\\\\u003cb\\\\u003ePetroleum Engineer\\\\u003c/b\\\\u003e\\\\u003c/a\\\\u003e \\\\u0026#8211; \\\\u003cb\\\\u003eMid Career Salary: $176,900\\\\u003c/b\\\\u003e\\\\u003c/p\\\\u003e\\\\n\\\\u003cp\\\\u003eA focus in this type of engineering will show you how to oversee production methods for retrieving oil and natural gas from the earth. Common employers of petroleum engineers include Chevron Corporation, British Petroleum, ConocoPhillips, Exxon, and more. Petroleum engineering is a male-dominated field, with women representing only 11 percent.\\\\u003c/p\\\\u003e\\\\n\\\\u003cp\\\\u003e\\\\u003ca href=\\\\\"https://www.payscale.com/research/US/Degree=Bachelor_of_Science_(BS_%2F_BSc)%2C_Electrical_Engineering_%26_Computer_Science_(EECS)/Salary\\\\\"\\\\u003e\\\\u003cb\\\\u003eElectrical Engineering and Computer Science\\\\u003c/b\\\\u003e\\\\u003c/a\\\\u003e\\\\u003cb\\\\u003e \\\\u0026#8211; Mid-Career Salary: $142,200\\\\u003c/b\\\\u003e\\\\u003c/p\\\\u003e\\\\n\\\\u003cp\\\\u003eThis degree prepares students to design and build software and hardware and software for a number of applications and devices.\\\\u003c/p\\\\u003e\\\\n\\\\u003cp\\\\u003e\\\\u003ca href=\\\\\"https://www.payscale.com/research/US/Degree=Bachelor_of_Science_(BS_%2F_BSc)%2C_Applied_Economics_and_Management/Salary\\\\\"\\\\u003e\\\\u003cb\\\\u003eApplied Economics and Management\\\\u003c/b\\\\u003e\\\\u003c/a\\\\u003e \\\\u0026#8211; \\\\u003cb\\\\u003eMid-Career Salary: $140,000\\\\u003c/b\\\\u003e\\\\u003c/p\\\\u003e\\\\n\\\\u003cp\\\\u003eA degree in Applied Economics and Management enables students to gain an understanding of how economic principles are applied in the real world. Coursework would include classes in microeconomics, macroeconomics and econometrics.\\\\u003c/p\\\\u003e\\\\n\\\\u003cp\\\\u003eIn today\\\\u0026#8217;s job market, having a bachelor\\\\u0026#8217;s degree is nearly a necessity to land a rewarding, well-paying job with any possibility for advancement; a bachelor\\\\u0026#8217;s degree is almost essential for entry into most professional careers. In certain lines of work, like teaching and engineering, you cannot enter the field without holding at least a bachelor\\\\u0026#8217;s degree.\\\\u003c/p\\\\u003e\\\\n\",\"listType\":\"majorsThatPayYouBack\",\"degreeType\":\"bachelors\",\"topContent\":\"\\\\u003cp\\\\u003eYour major can have an even bigger impact on future earnings than choice of school. Find out which majors pay you back, and which make it hard to pay back student loans.\\\\u003c/p\\\\u003e\\\\n\",\"subnavLinks\":[{\"url\":\"/college-salary-report/bachelors\",\"title\":\"Bachelor\\'s\",\"list\":[{\"url\":\"/college-salary-report/bachelors\",\"title\":\"Full List\",\"type\":\"no-links\"},{\"url\":\"/college-salary-report/best-schools-by-state\",\"title\":\"By State\",\"type\":\"no-links\"},{\"url\":\"/college-salary-report/best-schools-by-type\",\"title\":\"By Type\",\"type\":\"links\",\"links\":[{\"url\":\"/college-salary-report/best-schools-by-type\",\"title\":\"All Types\"},{\"url\":\"/college-salary-report/best-schools-by-type/bachelors/art-schools\",\"title\":\"Art\"},{\"url\":\"/college-salary-report/best-schools-by-type/bachelors/business-schools\",\"title\":\"Business\"},{\"url\":\"/college-salary-report/best-schools-by-type/bachelors/engineering-schools\",\"title\":\"Engineering\"},{\"url\":\"/college-salary-report/best-schools-by-type/bachelors/schools-for-sports-fans\",\"title\":\"For Sports Fans\"},{\"url\":\"/college-salary-report/best-schools-by-type/bachelors/ivy-league-schools\",\"title\":\"Ivy League\"},{\"url\":\"/college-salary-report/best-schools-by-type/bachelors/liberal-arts-schools\",\"title\":\"Liberal Arts\"},{\"url\":\"/college-salary-report/best-schools-by-type/bachelors/party-schools\",\"title\":\"Party\"},{\"url\":\"/college-salary-report/best-schools-by-type/bachelors/private-schools\",\"title\":\"Private\"},{\"url\":\"/college-salary-report/best-schools-by-type/bachelors/public-schools\",\"title\":\"Public\"},{\"url\":\"/college-salary-report/best-schools-by-type/bachelors/religious-schools\",\"title\":\"Religious\"},{\"url\":\"/college-salary-report/best-schools-by-type/bachelors/research-universities\",\"title\":\"Research\"},{\"url\":\"/college-salary-report/best-schools-by-type/bachelors/sober-schools\",\"title\":\"Sober\"}]}]},{\"url\":\"/college-salary-report/2-year-colleges\",\"title\":\"Associate\",\"list\":[{\"url\":\"/college-salary-report/2-year-colleges\",\"title\":\"Full List\",\"type\":\"no-links\"},{\"url\":\"/college-salary-report/best-schools-by-state\",\"title\":\"By State\",\"type\":\"no-links\"},{\"url\":\"/college-salary-report/best-schools-by-type\",\"title\":\"By Type\",\"type\":\"links\",\"links\":[{\"url\":\"/college-salary-report/best-schools-by-type\",\"title\":\"All Types\"},{\"url\":\"/college-salary-report/best-schools-by-type/2-year-colleges/career-colleges\",\"title\":\"Private Career Colleges\"},{\"url\":\"/college-salary-report/best-schools-by-type/2-year-colleges/community-colleges\",\"title\":\"Public Community Colleges\"}]}]},{\"url\":\"/college-salary-report/best-schools-by-majors\",\"title\":\"Majors\",\"list\":[{\"url\":\"/college-salary-report/most-meaningful-majors\",\"title\":\"Most Meaningful Majors\",\"type\":\"no-links\"},{\"url\":\"/college-salary-report/majors-that-pay-you-back\",\"title\":\"Majors that Pay You Back\",\"type\":\"links\",\"links\":[{\"url\":\"/college-salary-report/majors-that-pay-you-back\",\"title\":\"All Degree Levels\"},{\"url\":\"/college-salary-report/majors-that-pay-you-back/associate\",\"title\":\"Associate Degrees\"},{\"url\":\"/college-salary-report/majors-that-pay-you-back/bachelors\",\"title\":\"Bachelor Degrees\"}]},{\"url\":\"/college-salary-report/best-schools-by-majors\",\"title\":\"Best Schools for Majors\",\"type\":\"links\",\"links\":[{\"url\":\"/college-salary-report/best-schools-by-majors\",\"title\":\"All Majors\"},{\"url\":\"/college-salary-report/best-schools-by-majors/art\",\"title\":\"Arts\"},{\"url\":\"/college-salary-report/best-schools-by-majors/business\",\"title\":\"Business\"},{\"url\":\"/college-salary-report/best-schools-by-majors/communication\",\"title\":\"Communication\"},{\"url\":\"/college-salary-report/best-schools-by-majors/computer-science\",\"title\":\"Computer Science\"},{\"url\":\"/college-salary-report/best-schools-by-majors/education\",\"title\":\"Education\"},{\"url\":\"/college-salary-report/best-schools-by-majors/engineering\",\"title\":\"Engineering\"},{\"url\":\"/college-salary-report/best-schools-by-majors/health-science\",\"title\":\"Health Science\"},{\"url\":\"/college-salary-report/best-schools-by-majors/humanities\",\"title\":\"Humanities\"},{\"url\":\"/college-salary-report/best-schools-by-majors/math\",\"title\":\"Math\"},{\"url\":\"/college-salary-report/best-schools-by-majors/physical-and-life-sciences\",\"title\":\"Physical \\\\u0026 Life Science\"},{\"url\":\"/college-salary-report/best-schools-by-majors/social-sciences\",\"title\":\"Social Science\"}]},{\"url\":\"/college-salary-report/common-jobs-for-majors\",\"title\":\"Common Jobs for Majors\",\"type\":\"links\",\"links\":[{\"url\":\"/college-salary-report/common-jobs-for-majors\",\"title\":\"All Majors\"},{\"url\":\"/college-salary-report/common-jobs-for-majors/art\",\"title\":\"Arts\"},{\"url\":\"/college-salary-report/common-jobs-for-majors/business\",\"title\":\"Business\"},{\"url\":\"/college-salary-report/common-jobs-for-majors/communication\",\"title\":\"Communication\"},{\"url\":\"/college-salary-report/common-jobs-for-majors/computer-science\",\"title\":\"Computer Science\"},{\"url\":\"/college-salary-report/common-jobs-for-majors/education\",\"title\":\"Education\"},{\"url\":\"/college-salary-report/common-jobs-for-majors/engineering\",\"title\":\"Engineering\"},{\"url\":\"/college-salary-report/common-jobs-for-majors/health-science\",\"title\":\"Health Science\"},{\"url\":\"/college-salary-report/common-jobs-for-majors/humanities\",\"title\":\"Humanities\"},{\"url\":\"/college-salary-report/common-jobs-for-majors/math\",\"title\":\"Math\"},{\"url\":\"/college-salary-report/common-jobs-for-majors/physical-and-life-sciences\",\"title\":\"Physical \\\\u0026 Life Science\"},{\"url\":\"/college-salary-report/common-jobs-for-majors/social-sciences\",\"title\":\"Social Science\"}]}]}],\"logoUrl\":\"https://payscale.com/content/csr-2023/college-salary-report-logo.svg\",\"badgeUrl\":\"https://cdn-payscale.com/content/csr-2023/2023-24-csr-badge-4yr.png\"},\"__N_SSP\":true},\"page\":\"/college-salary-report/Grid\",\"query\":{},\"buildId\":\"app\",\"assetPrefix\":\"https://cdn-payscale.com/content/data-packages-app/prod/2023.1020.1738.156-master\",\"isFallback\":false,\"gssp\":true,\"customServer\":true}</script><script nomodule=\"\" src=\"https://cdn-payscale.com/content/data-packages-app/prod/2023.1020.1738.156-master/_next/static/chunks/polyfills-8683bd742a84c1edd48c.js\"></script><script src=\"https://cdn-payscale.com/content/data-packages-app/prod/2023.1020.1738.156-master/_next/static/chunks/webpack-3f4f1f08b0192a1a62c7.js\" async=\"\"></script><script src=\"https://cdn-payscale.com/content/data-packages-app/prod/2023.1020.1738.156-master/_next/static/chunks/433-bd5c079d657fa88c5df3.js\" async=\"\"></script><script src=\"https://cdn-payscale.com/content/data-packages-app/prod/2023.1020.1738.156-master/_next/static/chunks/main-7b7853e03bfa21337f9e.js\" async=\"\"></script><script src=\"https://cdn-payscale.com/content/data-packages-app/prod/2023.1020.1738.156-master/_next/static/chunks/pages/_app-1d79d716dcc1b00fccd5.js\" async=\"\"></script><script src=\"https://cdn-payscale.com/content/data-packages-app/prod/2023.1020.1738.156-master/_next/static/chunks/framework-8f9633a846c26a15a502.js\" async=\"\"></script><script src=\"https://cdn-payscale.com/content/data-packages-app/prod/2023.1020.1738.156-master/_next/static/chunks/793-850f28db69e1a4b41f03.js\" async=\"\"></script><script src=\"https://cdn-payscale.com/content/data-packages-app/prod/2023.1020.1738.156-master/_next/static/chunks/707-8ce6a707c182322192c2.js\" async=\"\"></script><script src=\"https://cdn-payscale.com/content/data-packages-app/prod/2023.1020.1738.156-master/_next/static/chunks/369-45409b97fdb9a50854d7.js\" async=\"\"></script><script src=\"https://cdn-payscale.com/content/data-packages-app/prod/2023.1020.1738.156-master/_next/static/chunks/229-081e70fb6581d82e742a.js\" async=\"\"></script><script src=\"https://cdn-payscale.com/content/data-packages-app/prod/2023.1020.1738.156-master/_next/static/chunks/669-25716c429181a2069bd7.js\" async=\"\"></script><script src=\"https://cdn-payscale.com/content/data-packages-app/prod/2023.1020.1738.156-master/_next/static/chunks/pages/college-salary-report/Grid-408a0c82148f0f16a2b2.js\" async=\"\"></script><script src=\"https://cdn-payscale.com/content/data-packages-app/prod/2023.1020.1738.156-master/_next/static/app/_buildManifest.js\" async=\"\"></script><script src=\"https://cdn-payscale.com/content/data-packages-app/prod/2023.1020.1738.156-master/_next/static/app/_ssgManifest.js\" async=\"\"></script></body></html>'"
      ]
     },
     "execution_count": 256,
     "metadata": {},
     "output_type": "execute_result"
    }
   ],
   "source": [
    "response.text"
   ]
  },
  {
   "cell_type": "code",
   "execution_count": 257,
   "id": "e17b3a33-14cc-4340-9eb3-dad4bbb65907",
   "metadata": {},
   "outputs": [],
   "source": [
    "soup = BeautifulSoup(response.text)"
   ]
  },
  {
   "cell_type": "code",
   "execution_count": 261,
   "id": "b4b569aa-3e29-4fcf-b36b-138bb73bed4e",
   "metadata": {
    "scrolled": true
   },
   "outputs": [],
   "source": [
    "trs = soup.select(selector='.data-table tbody tr')"
   ]
  },
  {
   "cell_type": "code",
   "execution_count": 267,
   "id": "a1443aa5-82ed-4ba4-b6bd-b397ac77119c",
   "metadata": {
    "scrolled": true
   },
   "outputs": [
    {
     "name": "stdout",
     "output_type": "stream",
     "text": [
      "Rank:1\n",
      "Major:Petroleum Engineering\n",
      "Degree Type:Bachelors\n",
      "Early Career Pay:$97,500\n",
      "Mid-Career Pay:$212,500\n",
      "% High Meaning:61%\n",
      "Rank:2\n",
      "Major:Operations Research & Industrial Engineering\n",
      "Degree Type:Bachelors\n",
      "Early Career Pay:$98,300\n",
      "Mid-Career Pay:$191,800\n",
      "% High Meaning:21%\n",
      "Rank:3\n",
      "Major:Interaction Design\n",
      "Degree Type:Bachelors\n",
      "Early Career Pay:$74,700\n",
      "Mid-Career Pay:$173,600\n",
      "% High Meaning:54%\n",
      "Rank:4\n",
      "Major:Applied Economics and Management\n",
      "Degree Type:Bachelors\n",
      "Early Career Pay:$76,500\n",
      "Mid-Career Pay:$164,400\n",
      "% High Meaning:54%\n",
      "Rank:5\n",
      "Major:Building Science\n",
      "Degree Type:Bachelors\n",
      "Early Career Pay:$69,000\n",
      "Mid-Career Pay:$163,100\n",
      "% High Meaning:47%\n",
      "Rank:6\n",
      "Major:Actuarial Mathematics\n",
      "Degree Type:Bachelors\n",
      "Early Career Pay:$70,700\n",
      "Mid-Career Pay:$160,000\n",
      "% High Meaning:52%\n",
      "Rank:6\n",
      "Major:Operations Research\n",
      "Degree Type:Bachelors\n",
      "Early Career Pay:$92,200\n",
      "Mid-Career Pay:$160,000\n",
      "% High Meaning:57%\n",
      "Rank:8\n",
      "Major:Systems Engineering\n",
      "Degree Type:Bachelors\n",
      "Early Career Pay:$87,000\n",
      "Mid-Career Pay:$159,100\n",
      "% High Meaning:58%\n",
      "Rank:9\n",
      "Major:Optical Science & Engineering\n",
      "Degree Type:Bachelors\n",
      "Early Career Pay:$79,600\n",
      "Mid-Career Pay:$158,300\n",
      "% High Meaning:73%\n",
      "Rank:10\n",
      "Major:Information & Computer Science\n",
      "Degree Type:Bachelors\n",
      "Early Career Pay:$76,000\n",
      "Mid-Career Pay:$157,800\n",
      "% High Meaning:63%\n",
      "Rank:11\n",
      "Major:Aeronautics & Astronautics\n",
      "Degree Type:Bachelors\n",
      "Early Career Pay:$88,200\n",
      "Mid-Career Pay:$156,900\n",
      "% High Meaning:56%\n",
      "Rank:12\n",
      "Major:Aerospace Studies\n",
      "Degree Type:Bachelors\n",
      "Early Career Pay:$62,600\n",
      "Mid-Career Pay:$154,300\n",
      "% High Meaning:-\n",
      "Rank:13\n",
      "Major:Pharmacy\n",
      "Degree Type:Bachelors\n",
      "Early Career Pay:$69,400\n",
      "Mid-Career Pay:$154,000\n",
      "% High Meaning:79%\n",
      "Rank:14\n",
      "Major:Cognitive Science\n",
      "Degree Type:Bachelors\n",
      "Early Career Pay:$78,000\n",
      "Mid-Career Pay:$153,800\n",
      "% High Meaning:43%\n",
      "Rank:15\n",
      "Major:Managerial Economics\n",
      "Degree Type:Bachelors\n",
      "Early Career Pay:$74,700\n",
      "Mid-Career Pay:$153,300\n",
      "% High Meaning:38%\n",
      "Rank:16\n",
      "Major:Quantitative Economics\n",
      "Degree Type:Bachelors\n",
      "Early Career Pay:$74,500\n",
      "Mid-Career Pay:$152,700\n",
      "% High Meaning:43%\n",
      "Rank:17\n",
      "Major:Econometrics\n",
      "Degree Type:Bachelors\n",
      "Early Career Pay:$72,000\n",
      "Mid-Career Pay:$152,100\n",
      "% High Meaning:35%\n",
      "Rank:18\n",
      "Major:Foreign Affairs\n",
      "Degree Type:Bachelors\n",
      "Early Career Pay:$62,900\n",
      "Mid-Career Pay:$152,000\n",
      "% High Meaning:32%\n",
      "Rank:19\n",
      "Major:Chemical Engineering\n",
      "Degree Type:Bachelors\n",
      "Early Career Pay:$85,600\n",
      "Mid-Career Pay:$151,800\n",
      "% High Meaning:55%\n",
      "Rank:20\n",
      "Major:Public Accounting\n",
      "Degree Type:Bachelors\n",
      "Early Career Pay:$69,700\n",
      "Mid-Career Pay:$151,200\n",
      "% High Meaning:47%\n",
      "Rank:21\n",
      "Major:Political Economy\n",
      "Degree Type:Bachelors\n",
      "Early Career Pay:$73,100\n",
      "Mid-Career Pay:$150,600\n",
      "% High Meaning:31%\n",
      "Rank:22\n",
      "Major:Corporate Accounting & Finance\n",
      "Degree Type:Bachelors\n",
      "Early Career Pay:$76,800\n",
      "Mid-Career Pay:$149,600\n",
      "% High Meaning:50%\n",
      "Rank:23\n",
      "Major:Actuarial Science\n",
      "Degree Type:Bachelors\n",
      "Early Career Pay:$76,700\n",
      "Mid-Career Pay:$149,000\n",
      "% High Meaning:42%\n",
      "Rank:24\n",
      "Major:Computer Engineering (CE)\n",
      "Degree Type:Bachelors\n",
      "Early Career Pay:$89,100\n",
      "Mid-Career Pay:$148,500\n",
      "% High Meaning:46%\n",
      "Rank:25\n",
      "Major:Electrical Power Engineering\n",
      "Degree Type:Bachelors\n",
      "Early Career Pay:$84,700\n",
      "Mid-Career Pay:$148,300\n",
      "% High Meaning:72%\n"
     ]
    }
   ],
   "source": [
    "for tr in trs:\n",
    "    for td in tr.select('td'):\n",
    "        print(td.get_text())"
   ]
  },
  {
   "cell_type": "code",
   "execution_count": 290,
   "id": "dbb5674d-5f11-45c1-8781-3d747af7229c",
   "metadata": {},
   "outputs": [],
   "source": [
    "def parse_and_save():\n",
    "    with open('new_salaries_by_college_major.csv', 'w') as data_file:\n",
    "        # for each page\n",
    "        rows = []\n",
    "        for n in range(1, 32):\n",
    "            # pull page\n",
    "            # parse data\n",
    "            # add data to csv\n",
    "            response = requests.get(f'https://www.payscale.com/college-salary-report/majors-that-pay-you-back/bachelors/page/{n}')\n",
    "            soup = BeautifulSoup(response.text)\n",
    "            trs = soup.select(selector='.data-table tbody tr')\n",
    "            \n",
    "            for tr in trs:\n",
    "                dict = {}\n",
    "                for td in tr.select('td'):\n",
    "                    key, value = td.get_text().split(':')\n",
    "                    dict[key] = value\n",
    "                rows.append(dict)\n",
    "\n",
    "    result = pl.DataFrame(rows, orient='row')\n",
    "    result.write_csv('new_salaries_by_college_major.csv')\n",
    "    print(result)"
   ]
  },
  {
   "cell_type": "code",
   "execution_count": 291,
   "id": "89be654f-e67d-4fec-b037-0c8ce5e2606b",
   "metadata": {},
   "outputs": [],
   "source": [
    "#parse_and_save()"
   ]
  },
  {
   "cell_type": "code",
   "execution_count": 293,
   "id": "c7ada307-2482-4025-b479-6540ff52b0bf",
   "metadata": {},
   "outputs": [],
   "source": [
    "new_df = pl.read_csv('new_salaries_by_college_major.csv')"
   ]
  },
  {
   "cell_type": "code",
   "execution_count": 312,
   "id": "fe3c6b13-cc64-4a1e-985e-095b34ae8ff4",
   "metadata": {},
   "outputs": [
    {
     "data": {
      "text/html": [
       "<div><style>\n",
       ".dataframe > thead > tr,\n",
       ".dataframe > tbody > tr {\n",
       "  text-align: right;\n",
       "  white-space: pre-wrap;\n",
       "}\n",
       "</style>\n",
       "<small>shape: (20, 6)</small><table border=\"1\" class=\"dataframe\"><thead><tr><th>Rank</th><th>Major</th><th>Degree Type</th><th>Early Career Pay</th><th>Mid-Career Pay</th><th>% High Meaning</th></tr><tr><td>i64</td><td>str</td><td>str</td><td>str</td><td>str</td><td>str</td></tr></thead><tbody><tr><td>56</td><td>&quot;Physician Assi…</td><td>&quot;Bachelors&quot;</td><td>&quot;$109,600&quot;</td><td>&quot;$136,500&quot;</td><td>&quot;83%&quot;</td></tr><tr><td>570</td><td>&quot;Medical Labora…</td><td>&quot;Bachelors&quot;</td><td>&quot;$64,300&quot;</td><td>&quot;$83,000&quot;</td><td>&quot;83%&quot;</td></tr><tr><td>617</td><td>&quot;Radiography&quot;</td><td>&quot;Bachelors&quot;</td><td>&quot;$62,400&quot;</td><td>&quot;$80,300&quot;</td><td>&quot;83%&quot;</td></tr><tr><td>619</td><td>&quot;Respiratory Th…</td><td>&quot;Bachelors&quot;</td><td>&quot;$61,800&quot;</td><td>&quot;$80,200&quot;</td><td>&quot;83%&quot;</td></tr><tr><td>387</td><td>&quot;Nursing Scienc…</td><td>&quot;Bachelors&quot;</td><td>&quot;$75,600&quot;</td><td>&quot;$95,200&quot;</td><td>&quot;84%&quot;</td></tr><tr><td>625</td><td>&quot;Art Therapy&quot;</td><td>&quot;Bachelors&quot;</td><td>&quot;$46,100&quot;</td><td>&quot;$79,000&quot;</td><td>&quot;84%&quot;</td></tr><tr><td>457</td><td>&quot;Bachelor of Sc…</td><td>&quot;Bachelors&quot;</td><td>&quot;$72,000&quot;</td><td>&quot;$90,700&quot;</td><td>&quot;85%&quot;</td></tr><tr><td>597</td><td>&quot;Respiratory Ca…</td><td>&quot;Bachelors&quot;</td><td>&quot;$61,800&quot;</td><td>&quot;$81,500&quot;</td><td>&quot;85%&quot;</td></tr><tr><td>446</td><td>&quot;Diagnostic Med…</td><td>&quot;Bachelors&quot;</td><td>&quot;$71,700&quot;</td><td>&quot;$91,800&quot;</td><td>&quot;86%&quot;</td></tr><tr><td>535</td><td>&quot;Cytotechnology…</td><td>&quot;Bachelors&quot;</td><td>&quot;$66,800&quot;</td><td>&quot;$85,600&quot;</td><td>&quot;86%&quot;</td></tr><tr><td>602</td><td>&quot;Medical Labora…</td><td>&quot;Bachelors&quot;</td><td>&quot;$62,700&quot;</td><td>&quot;$81,000&quot;</td><td>&quot;86%&quot;</td></tr><tr><td>300</td><td>&quot;Occupational T…</td><td>&quot;Bachelors&quot;</td><td>&quot;$60,700&quot;</td><td>&quot;$103,200&quot;</td><td>&quot;87%&quot;</td></tr><tr><td>464</td><td>&quot;American Sign …</td><td>&quot;Bachelors&quot;</td><td>&quot;$49,400&quot;</td><td>&quot;$89,900&quot;</td><td>&quot;87%&quot;</td></tr><tr><td>716</td><td>&quot;Health Service…</td><td>&quot;Bachelors&quot;</td><td>&quot;$47,400&quot;</td><td>&quot;$71,000&quot;</td><td>&quot;87%&quot;</td></tr><tr><td>232</td><td>&quot;Physical Thera…</td><td>&quot;Bachelors&quot;</td><td>&quot;$54,900&quot;</td><td>&quot;$109,300&quot;</td><td>&quot;88%&quot;</td></tr><tr><td>621</td><td>&quot;Applied Behavi…</td><td>&quot;Bachelors&quot;</td><td>&quot;$43,400&quot;</td><td>&quot;$80,000&quot;</td><td>&quot;88%&quot;</td></tr><tr><td>304</td><td>&quot;Radiation Ther…</td><td>&quot;Bachelors&quot;</td><td>&quot;$76,100&quot;</td><td>&quot;$102,600&quot;</td><td>&quot;91%&quot;</td></tr><tr><td>568</td><td>&quot;Cardiopulmonar…</td><td>&quot;Bachelors&quot;</td><td>&quot;$56,500&quot;</td><td>&quot;$83,200&quot;</td><td>&quot;92%&quot;</td></tr><tr><td>108</td><td>&quot;Medicine&quot;</td><td>&quot;Bachelors&quot;</td><td>&quot;$88,700&quot;</td><td>&quot;$124,700&quot;</td><td>&quot;94%&quot;</td></tr><tr><td>767</td><td>&quot;Music Therapy&quot;</td><td>&quot;Bachelors&quot;</td><td>&quot;$48,500&quot;</td><td>&quot;$63,500&quot;</td><td>&quot;95%&quot;</td></tr></tbody></table></div>"
      ],
      "text/plain": [
       "shape: (20, 6)\n",
       "┌──────┬─────────────────────┬─────────────┬──────────────────┬────────────────┬────────────────┐\n",
       "│ Rank ┆ Major               ┆ Degree Type ┆ Early Career Pay ┆ Mid-Career Pay ┆ % High Meaning │\n",
       "│ ---  ┆ ---                 ┆ ---         ┆ ---              ┆ ---            ┆ ---            │\n",
       "│ i64  ┆ str                 ┆ str         ┆ str              ┆ str            ┆ str            │\n",
       "╞══════╪═════════════════════╪═════════════╪══════════════════╪════════════════╪════════════════╡\n",
       "│ 56   ┆ Physician Assistant ┆ Bachelors   ┆ $109,600         ┆ $136,500       ┆ 83%            │\n",
       "│      ┆ Studies             ┆             ┆                  ┆                ┆                │\n",
       "│ 570  ┆ Medical Laboratory  ┆ Bachelors   ┆ $64,300          ┆ $83,000        ┆ 83%            │\n",
       "│      ┆ Technology          ┆             ┆                  ┆                ┆                │\n",
       "│ 617  ┆ Radiography         ┆ Bachelors   ┆ $62,400          ┆ $80,300        ┆ 83%            │\n",
       "│ 619  ┆ Respiratory Therapy ┆ Bachelors   ┆ $61,800          ┆ $80,200        ┆ 83%            │\n",
       "│ 387  ┆ Nursing Science     ┆ Bachelors   ┆ $75,600          ┆ $95,200        ┆ 84%            │\n",
       "│ …    ┆ …                   ┆ …           ┆ …                ┆ …              ┆ …              │\n",
       "│ 621  ┆ Applied Behavior    ┆ Bachelors   ┆ $43,400          ┆ $80,000        ┆ 88%            │\n",
       "│      ┆ Analysis            ┆             ┆                  ┆                ┆                │\n",
       "│ 304  ┆ Radiation Therapy   ┆ Bachelors   ┆ $76,100          ┆ $102,600       ┆ 91%            │\n",
       "│ 568  ┆ Cardiopulmonary     ┆ Bachelors   ┆ $56,500          ┆ $83,200        ┆ 92%            │\n",
       "│      ┆ Science             ┆             ┆                  ┆                ┆                │\n",
       "│ 108  ┆ Medicine            ┆ Bachelors   ┆ $88,700          ┆ $124,700       ┆ 94%            │\n",
       "│ 767  ┆ Music Therapy       ┆ Bachelors   ┆ $48,500          ┆ $63,500        ┆ 95%            │\n",
       "└──────┴─────────────────────┴─────────────┴──────────────────┴────────────────┴────────────────┘"
      ]
     },
     "execution_count": 312,
     "metadata": {},
     "output_type": "execute_result"
    }
   ],
   "source": [
    "new_df.sort('% High Meaning').tail(20)"
   ]
  },
  {
   "cell_type": "code",
   "execution_count": null,
   "id": "f928c37d-5872-497c-9765-0ae5c91e582a",
   "metadata": {},
   "outputs": [],
   "source": []
  }
 ],
 "metadata": {
  "kernelspec": {
   "display_name": "Python 3 (ipykernel)",
   "language": "python",
   "name": "python3"
  },
  "language_info": {
   "codemirror_mode": {
    "name": "ipython",
    "version": 3
   },
   "file_extension": ".py",
   "mimetype": "text/x-python",
   "name": "python",
   "nbconvert_exporter": "python",
   "pygments_lexer": "ipython3",
   "version": "3.10.12"
  }
 },
 "nbformat": 4,
 "nbformat_minor": 5
}
