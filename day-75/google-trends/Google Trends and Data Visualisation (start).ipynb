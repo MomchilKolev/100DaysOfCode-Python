{
 "cells": [
  {
   "cell_type": "markdown",
   "metadata": {},
   "source": [
    "# Introduction"
   ]
  },
  {
   "cell_type": "markdown",
   "metadata": {},
   "source": [
    "Google Trends gives us an estimate of search volume. Let's explore if search popularity relates to other kinds of data. Perhaps there are patterns in Google's search volume and the price of Bitcoin or a hot stock like Tesla. Perhaps search volume for the term \"Unemployment Benefits\" can tell us something about the actual unemployment rate? \n",
    "\n",
    "Data Sources: <br>\n",
    "<ul>\n",
    "<li> <a href=\"https://fred.stlouisfed.org/series/UNRATE/\">Unemployment Rate from FRED</a></li>\n",
    "<li> <a href=\"https://trends.google.com/trends/explore\">Google Trends</a> </li>  \n",
    "<li> <a href=\"https://finance.yahoo.com/quote/TSLA/history?p=TSLA\">Yahoo Finance for Tesla Stock Price</a> </li>    \n",
    "<li> <a href=\"https://finance.yahoo.com/quote/BTC-USD/history?p=BTC-USD\">Yahoo Finance for Bitcoin Stock Price</a> </li>\n",
    "</ul>"
   ]
  },
  {
   "cell_type": "markdown",
   "metadata": {},
   "source": [
    "# Import Statements"
   ]
  },
  {
   "cell_type": "code",
   "execution_count": null,
   "metadata": {
    "collapsed": true,
    "jupyter": {
     "outputs_hidden": true
    },
    "scrolled": true
   },
   "outputs": [],
   "source": [
    "!pip install \"polars[all]\""
   ]
  },
  {
   "cell_type": "code",
   "execution_count": 41,
   "metadata": {},
   "outputs": [],
   "source": [
    "import pandas as pd\n",
    "#import matplotlib.pyplot as plt"
   ]
  },
  {
   "cell_type": "code",
   "execution_count": 42,
   "metadata": {},
   "outputs": [],
   "source": [
    "import polars as pl"
   ]
  },
  {
   "cell_type": "markdown",
   "metadata": {},
   "source": [
    "# Read the Data\n",
    "\n",
    "Download and add the .csv files to the same folder as your notebook."
   ]
  },
  {
   "cell_type": "code",
   "execution_count": 43,
   "metadata": {},
   "outputs": [],
   "source": [
    "df_tesla = pl.read_csv('TESLA Search Trend vs Price.csv')\n",
    "\n",
    "df_btc_search = pl.read_csv('Bitcoin Search Trend.csv')\n",
    "df_btc_price = pl.read_csv('Daily Bitcoin Price.csv', ignore_errors=True)\n",
    "\n",
    "df_unemployment = pl.read_csv('UE Benefits Search vs UE Rate 2004-19.csv')"
   ]
  },
  {
   "cell_type": "markdown",
   "metadata": {},
   "source": [
    "# Data Exploration"
   ]
  },
  {
   "cell_type": "markdown",
   "metadata": {},
   "source": [
    "### Tesla"
   ]
  },
  {
   "cell_type": "markdown",
   "metadata": {},
   "source": [
    "**Challenge**: <br>\n",
    "<ul>\n",
    "<li>What are the shapes of the dataframes? </li>\n",
    "<li>How many rows and columns? </li>\n",
    "<li>What are the column names? </li>\n",
    "<li>Complete the f-string to show the largest/smallest number in the search data column</li> \n",
    "<li>Try the <code>.describe()</code> function to see some useful descriptive statistics</li>\n",
    "<li>What is the periodicity of the time series data (daily, weekly, monthly)? </li>\n",
    "<li>What does a value of 100 in the Google Trend search popularity actually mean?</li>\n",
    "</ul>"
   ]
  },
  {
   "cell_type": "code",
   "execution_count": 44,
   "metadata": {},
   "outputs": [
    {
     "data": {
      "text/plain": [
       "['MONTH', 'TSLA_WEB_SEARCH', 'TSLA_USD_CLOSE']"
      ]
     },
     "execution_count": 44,
     "metadata": {},
     "output_type": "execute_result"
    }
   ],
   "source": [
    "# df_tesla.shape\n",
    "df_tesla.columns"
   ]
  },
  {
   "cell_type": "code",
   "execution_count": 45,
   "metadata": {},
   "outputs": [
    {
     "data": {
      "text/plain": [
       "['MONTH', 'BTC_NEWS_SEARCH']"
      ]
     },
     "execution_count": 45,
     "metadata": {},
     "output_type": "execute_result"
    }
   ],
   "source": [
    "# df_btc_search.shape\n",
    "df_btc_search.columns"
   ]
  },
  {
   "cell_type": "code",
   "execution_count": 46,
   "metadata": {},
   "outputs": [
    {
     "data": {
      "text/plain": [
       "['DATE', 'CLOSE', 'VOLUME']"
      ]
     },
     "execution_count": 46,
     "metadata": {},
     "output_type": "execute_result"
    }
   ],
   "source": [
    "df_btc_price.shape\n",
    "df_btc_price.columns"
   ]
  },
  {
   "cell_type": "code",
   "execution_count": 47,
   "metadata": {},
   "outputs": [
    {
     "data": {
      "text/plain": [
       "['MONTH', 'UE_BENEFITS_WEB_SEARCH', 'UNRATE']"
      ]
     },
     "execution_count": 47,
     "metadata": {},
     "output_type": "execute_result"
    }
   ],
   "source": [
    "df_unemployment.shape\n",
    "df_unemployment.columns"
   ]
  },
  {
   "cell_type": "code",
   "execution_count": 48,
   "metadata": {},
   "outputs": [
    {
     "name": "stdout",
     "output_type": "stream",
     "text": [
      "Largest value for Tesla in Web Search: 31\n",
      "Smallest value for Tesla in Web Search: 2\n"
     ]
    }
   ],
   "source": [
    "largest_tesla_search = df_tesla.max()['TSLA_WEB_SEARCH'].item()\n",
    "smallest_tesla_search = df_tesla.min()['TSLA_WEB_SEARCH'].item()\n",
    "\n",
    "\n",
    "print(f'Largest value for Tesla in Web Search: {largest_tesla_search}')\n",
    "print(f'Smallest value for Tesla in Web Search: {smallest_tesla_search}')"
   ]
  },
  {
   "cell_type": "code",
   "execution_count": 49,
   "metadata": {},
   "outputs": [
    {
     "data": {
      "text/html": [
       "<div><style>\n",
       ".dataframe > thead > tr,\n",
       ".dataframe > tbody > tr {\n",
       "  text-align: right;\n",
       "  white-space: pre-wrap;\n",
       "}\n",
       "</style>\n",
       "<small>shape: (9, 4)</small><table border=\"1\" class=\"dataframe\"><thead><tr><th>statistic</th><th>MONTH</th><th>TSLA_WEB_SEARCH</th><th>TSLA_USD_CLOSE</th></tr><tr><td>str</td><td>str</td><td>f64</td><td>f64</td></tr></thead><tbody><tr><td>&quot;count&quot;</td><td>&quot;124&quot;</td><td>124.0</td><td>124.0</td></tr><tr><td>&quot;null_count&quot;</td><td>&quot;0&quot;</td><td>0.0</td><td>0.0</td></tr><tr><td>&quot;mean&quot;</td><td>null</td><td>8.725806</td><td>50.962145</td></tr><tr><td>&quot;std&quot;</td><td>null</td><td>5.870332</td><td>65.908389</td></tr><tr><td>&quot;min&quot;</td><td>&quot;2010-06-01&quot;</td><td>2.0</td><td>3.896</td></tr><tr><td>&quot;25%&quot;</td><td>null</td><td>4.0</td><td>7.448</td></tr><tr><td>&quot;50%&quot;</td><td>null</td><td>8.0</td><td>44.66</td></tr><tr><td>&quot;75%&quot;</td><td>null</td><td>12.0</td><td>58.779999</td></tr><tr><td>&quot;max&quot;</td><td>&quot;2020-09-01&quot;</td><td>31.0</td><td>498.320007</td></tr></tbody></table></div>"
      ],
      "text/plain": [
       "shape: (9, 4)\n",
       "┌────────────┬────────────┬─────────────────┬────────────────┐\n",
       "│ statistic  ┆ MONTH      ┆ TSLA_WEB_SEARCH ┆ TSLA_USD_CLOSE │\n",
       "│ ---        ┆ ---        ┆ ---             ┆ ---            │\n",
       "│ str        ┆ str        ┆ f64             ┆ f64            │\n",
       "╞════════════╪════════════╪═════════════════╪════════════════╡\n",
       "│ count      ┆ 124        ┆ 124.0           ┆ 124.0          │\n",
       "│ null_count ┆ 0          ┆ 0.0             ┆ 0.0            │\n",
       "│ mean       ┆ null       ┆ 8.725806        ┆ 50.962145      │\n",
       "│ std        ┆ null       ┆ 5.870332        ┆ 65.908389      │\n",
       "│ min        ┆ 2010-06-01 ┆ 2.0             ┆ 3.896          │\n",
       "│ 25%        ┆ null       ┆ 4.0             ┆ 7.448          │\n",
       "│ 50%        ┆ null       ┆ 8.0             ┆ 44.66          │\n",
       "│ 75%        ┆ null       ┆ 12.0            ┆ 58.779999      │\n",
       "│ max        ┆ 2020-09-01 ┆ 31.0            ┆ 498.320007     │\n",
       "└────────────┴────────────┴─────────────────┴────────────────┘"
      ]
     },
     "execution_count": 49,
     "metadata": {},
     "output_type": "execute_result"
    }
   ],
   "source": [
    "df_tesla.describe()"
   ]
  },
  {
   "cell_type": "code",
   "execution_count": 50,
   "metadata": {},
   "outputs": [
    {
     "data": {
      "text/html": [
       "<div><style>\n",
       ".dataframe > thead > tr,\n",
       ".dataframe > tbody > tr {\n",
       "  text-align: right;\n",
       "  white-space: pre-wrap;\n",
       "}\n",
       "</style>\n",
       "<small>shape: (124, 3)</small><table border=\"1\" class=\"dataframe\"><thead><tr><th>MONTH</th><th>TSLA_WEB_SEARCH</th><th>TSLA_USD_CLOSE</th></tr><tr><td>str</td><td>i64</td><td>f64</td></tr></thead><tbody><tr><td>&quot;2010-06-01&quot;</td><td>3</td><td>4.766</td></tr><tr><td>&quot;2010-07-01&quot;</td><td>3</td><td>3.988</td></tr><tr><td>&quot;2010-08-01&quot;</td><td>2</td><td>3.896</td></tr><tr><td>&quot;2010-09-01&quot;</td><td>2</td><td>4.082</td></tr><tr><td>&quot;2010-10-01&quot;</td><td>2</td><td>4.368</td></tr><tr><td>&quot;2010-11-01&quot;</td><td>2</td><td>7.066</td></tr><tr><td>&quot;2010-12-01&quot;</td><td>2</td><td>5.326</td></tr><tr><td>&quot;2011-01-01&quot;</td><td>3</td><td>4.82</td></tr><tr><td>&quot;2011-02-01&quot;</td><td>2</td><td>4.778</td></tr><tr><td>&quot;2011-03-01&quot;</td><td>3</td><td>5.55</td></tr><tr><td>&quot;2011-04-01&quot;</td><td>3</td><td>5.52</td></tr><tr><td>&quot;2011-05-01&quot;</td><td>2</td><td>6.028</td></tr><tr><td>&hellip;</td><td>&hellip;</td><td>&hellip;</td></tr><tr><td>&quot;2019-10-01&quot;</td><td>15</td><td>62.984001</td></tr><tr><td>&quot;2019-11-01&quot;</td><td>30</td><td>65.987999</td></tr><tr><td>&quot;2019-12-01&quot;</td><td>19</td><td>83.666</td></tr><tr><td>&quot;2020-01-01&quot;</td><td>20</td><td>130.113998</td></tr><tr><td>&quot;2020-02-01&quot;</td><td>23</td><td>133.598007</td></tr><tr><td>&quot;2020-03-01&quot;</td><td>17</td><td>104.800003</td></tr><tr><td>&quot;2020-04-01&quot;</td><td>13</td><td>156.376007</td></tr><tr><td>&quot;2020-05-01&quot;</td><td>16</td><td>167.0</td></tr><tr><td>&quot;2020-06-01&quot;</td><td>17</td><td>215.962006</td></tr><tr><td>&quot;2020-07-01&quot;</td><td>24</td><td>286.152008</td></tr><tr><td>&quot;2020-08-01&quot;</td><td>23</td><td>498.320007</td></tr><tr><td>&quot;2020-09-01&quot;</td><td>31</td><td>407.339996</td></tr></tbody></table></div>"
      ],
      "text/plain": [
       "shape: (124, 3)\n",
       "┌────────────┬─────────────────┬────────────────┐\n",
       "│ MONTH      ┆ TSLA_WEB_SEARCH ┆ TSLA_USD_CLOSE │\n",
       "│ ---        ┆ ---             ┆ ---            │\n",
       "│ str        ┆ i64             ┆ f64            │\n",
       "╞════════════╪═════════════════╪════════════════╡\n",
       "│ 2010-06-01 ┆ 3               ┆ 4.766          │\n",
       "│ 2010-07-01 ┆ 3               ┆ 3.988          │\n",
       "│ 2010-08-01 ┆ 2               ┆ 3.896          │\n",
       "│ 2010-09-01 ┆ 2               ┆ 4.082          │\n",
       "│ 2010-10-01 ┆ 2               ┆ 4.368          │\n",
       "│ …          ┆ …               ┆ …              │\n",
       "│ 2020-05-01 ┆ 16              ┆ 167.0          │\n",
       "│ 2020-06-01 ┆ 17              ┆ 215.962006     │\n",
       "│ 2020-07-01 ┆ 24              ┆ 286.152008     │\n",
       "│ 2020-08-01 ┆ 23              ┆ 498.320007     │\n",
       "│ 2020-09-01 ┆ 31              ┆ 407.339996     │\n",
       "└────────────┴─────────────────┴────────────────┘"
      ]
     },
     "execution_count": 50,
     "metadata": {},
     "output_type": "execute_result"
    }
   ],
   "source": [
    "df_tesla"
   ]
  },
  {
   "cell_type": "markdown",
   "metadata": {},
   "source": [
    "### Unemployment Data"
   ]
  },
  {
   "cell_type": "code",
   "execution_count": 51,
   "metadata": {},
   "outputs": [],
   "source": [
    "largest_unemployment_search = df_unemployment['UE_BENEFITS_WEB_SEARCH'].max()"
   ]
  },
  {
   "cell_type": "code",
   "execution_count": 52,
   "metadata": {},
   "outputs": [
    {
     "name": "stdout",
     "output_type": "stream",
     "text": [
      "Largest value for \"Unemployemnt Benefits\" in Web Search: 100\n"
     ]
    }
   ],
   "source": [
    "print('Largest value for \"Unemployemnt Benefits\" '\n",
    "      f'in Web Search: {largest_unemployment_search}')"
   ]
  },
  {
   "cell_type": "markdown",
   "metadata": {},
   "source": [
    "### Bitcoin"
   ]
  },
  {
   "cell_type": "code",
   "execution_count": 53,
   "metadata": {},
   "outputs": [],
   "source": [
    "largest_btc_search = df_btc_search['BTC_NEWS_SEARCH'].max()"
   ]
  },
  {
   "cell_type": "code",
   "execution_count": null,
   "metadata": {},
   "outputs": [],
   "source": []
  },
  {
   "cell_type": "code",
   "execution_count": 54,
   "metadata": {},
   "outputs": [
    {
     "name": "stdout",
     "output_type": "stream",
     "text": [
      "largest BTC News Search: 100\n"
     ]
    }
   ],
   "source": [
    "print(f'largest BTC News Search: {largest_btc_search}')"
   ]
  },
  {
   "cell_type": "markdown",
   "metadata": {},
   "source": [
    "# Data Cleaning"
   ]
  },
  {
   "cell_type": "markdown",
   "metadata": {},
   "source": [
    "### Check for Missing Values"
   ]
  },
  {
   "cell_type": "markdown",
   "metadata": {},
   "source": [
    "**Challenge**: Are there any missing values in any of the dataframes? If so, which row/rows have missing values? How many missing values are there?"
   ]
  },
  {
   "cell_type": "code",
   "execution_count": 55,
   "metadata": {},
   "outputs": [
    {
     "name": "stdout",
     "output_type": "stream",
     "text": [
      "Missing values for Tesla?: shape: (1, 3)\n",
      "┌───────┬─────────────────┬────────────────┐\n",
      "│ MONTH ┆ TSLA_WEB_SEARCH ┆ TSLA_USD_CLOSE │\n",
      "│ ---   ┆ ---             ┆ ---            │\n",
      "│ u32   ┆ u32             ┆ u32            │\n",
      "╞═══════╪═════════════════╪════════════════╡\n",
      "│ 0     ┆ 0               ┆ 0              │\n",
      "└───────┴─────────────────┴────────────────┘\n",
      "Missing values for U/E?: shape: (1, 3)\n",
      "┌───────┬────────────────────────┬────────┐\n",
      "│ MONTH ┆ UE_BENEFITS_WEB_SEARCH ┆ UNRATE │\n",
      "│ ---   ┆ ---                    ┆ ---    │\n",
      "│ u32   ┆ u32                    ┆ u32    │\n",
      "╞═══════╪════════════════════════╪════════╡\n",
      "│ 0     ┆ 0                      ┆ 0      │\n",
      "└───────┴────────────────────────┴────────┘\n",
      "Missing values for BTC Search?: shape: (1, 2)\n",
      "┌───────┬─────────────────┐\n",
      "│ MONTH ┆ BTC_NEWS_SEARCH │\n",
      "│ ---   ┆ ---             │\n",
      "│ u32   ┆ u32             │\n",
      "╞═══════╪═════════════════╡\n",
      "│ 0     ┆ 0               │\n",
      "└───────┴─────────────────┘\n"
     ]
    }
   ],
   "source": [
    "missing_tesla = df_tesla.null_count()\n",
    "missing_unemployment = df_unemployment.null_count()\n",
    "missing_btc_search = df_btc_search.null_count()\n",
    "\n",
    "\n",
    "print(f'Missing values for Tesla?: {missing_tesla}')\n",
    "print(f'Missing values for U/E?: {missing_unemployment}')\n",
    "print(f'Missing values for BTC Search?: {missing_btc_search}')"
   ]
  },
  {
   "cell_type": "code",
   "execution_count": 56,
   "metadata": {},
   "outputs": [
    {
     "name": "stdout",
     "output_type": "stream",
     "text": [
      "Missing values for BTC price?: shape: (1, 3)\n",
      "┌──────┬───────┬────────┐\n",
      "│ DATE ┆ CLOSE ┆ VOLUME │\n",
      "│ ---  ┆ ---   ┆ ---    │\n",
      "│ u32  ┆ u32   ┆ u32    │\n",
      "╞══════╪═══════╪════════╡\n",
      "│ 0    ┆ 1     ┆ 1      │\n",
      "└──────┴───────┴────────┘\n"
     ]
    }
   ],
   "source": [
    "missing_btc_price = df_btc_price.null_count()\n",
    "\n",
    "print(f'Missing values for BTC price?: {missing_btc_price}')"
   ]
  },
  {
   "cell_type": "code",
   "execution_count": 57,
   "metadata": {},
   "outputs": [
    {
     "name": "stdout",
     "output_type": "stream",
     "text": [
      "Number of missing values: shape: (1, 3)\n",
      "┌──────┬───────┬────────┐\n",
      "│ DATE ┆ CLOSE ┆ VOLUME │\n",
      "│ ---  ┆ ---   ┆ ---    │\n",
      "│ u32  ┆ u32   ┆ u32    │\n",
      "╞══════╪═══════╪════════╡\n",
      "│ 0    ┆ 1     ┆ 1      │\n",
      "└──────┴───────┴────────┘\n"
     ]
    }
   ],
   "source": [
    "print(f'Number of missing values: {missing_btc_price}')"
   ]
  },
  {
   "cell_type": "markdown",
   "metadata": {},
   "source": [
    "**Challenge**: Remove any missing values that you found. "
   ]
  },
  {
   "cell_type": "code",
   "execution_count": 58,
   "metadata": {},
   "outputs": [],
   "source": [
    "df_btc_price = df_btc_price.filter(pl.col('CLOSE').is_not_null())"
   ]
  },
  {
   "cell_type": "markdown",
   "metadata": {},
   "source": [
    "### Convert Strings to DateTime Objects"
   ]
  },
  {
   "cell_type": "markdown",
   "metadata": {},
   "source": [
    "**Challenge**: Check the data type of the entries in the DataFrame MONTH or DATE columns. Convert any strings in to Datetime objects. Do this for all 4 DataFrames. Double check if your type conversion was successful."
   ]
  },
  {
   "cell_type": "code",
   "execution_count": 59,
   "metadata": {},
   "outputs": [],
   "source": [
    "df_tesla = df_tesla.with_columns(pl.col('MONTH').str.to_date('%Y-%m-%d'))"
   ]
  },
  {
   "cell_type": "code",
   "execution_count": 60,
   "metadata": {},
   "outputs": [],
   "source": [
    "df_btc_price = df_btc_price.with_columns(pl.col('DATE').str.to_date('%Y-%m-%d'))"
   ]
  },
  {
   "cell_type": "code",
   "execution_count": 61,
   "metadata": {},
   "outputs": [],
   "source": [
    "df_btc_search = df_btc_search.with_columns(pl.col('MONTH').str.to_date('%Y-%m'))"
   ]
  },
  {
   "cell_type": "code",
   "execution_count": 62,
   "metadata": {},
   "outputs": [],
   "source": [
    "df_unemployment = df_unemployment.with_columns(pl.col('MONTH').str.to_date('%Y-%m'))"
   ]
  },
  {
   "cell_type": "markdown",
   "metadata": {},
   "source": [
    "### Converting from Daily to Monthly Data\n",
    "\n",
    "[Pandas .resample() documentation](https://pandas.pydata.org/pandas-docs/stable/reference/api/pandas.DataFrame.resample.html) <br>"
   ]
  },
  {
   "cell_type": "code",
   "execution_count": 63,
   "metadata": {},
   "outputs": [
    {
     "data": {
      "text/html": [
       "<div><style>\n",
       ".dataframe > thead > tr,\n",
       ".dataframe > tbody > tr {\n",
       "  text-align: right;\n",
       "  white-space: pre-wrap;\n",
       "}\n",
       "</style>\n",
       "<small>shape: (73, 2)</small><table border=\"1\" class=\"dataframe\"><thead><tr><th>DATE</th><th>CLOSE</th></tr><tr><td>date</td><td>f64</td></tr></thead><tbody><tr><td>2014-09-01</td><td>386.944</td></tr><tr><td>2014-10-01</td><td>338.321014</td></tr><tr><td>2014-11-01</td><td>378.046997</td></tr><tr><td>2014-12-01</td><td>320.192993</td></tr><tr><td>2015-01-01</td><td>217.464005</td></tr><tr><td>2015-02-01</td><td>254.263</td></tr><tr><td>2015-03-01</td><td>244.223999</td></tr><tr><td>2015-04-01</td><td>236.145004</td></tr><tr><td>2015-05-01</td><td>230.190002</td></tr><tr><td>2015-06-01</td><td>263.071991</td></tr><tr><td>2015-07-01</td><td>284.649994</td></tr><tr><td>2015-08-01</td><td>230.056</td></tr><tr><td>&hellip;</td><td>&hellip;</td></tr><tr><td>2019-10-01</td><td>9199.584961</td></tr><tr><td>2019-11-01</td><td>7569.629883</td></tr><tr><td>2019-12-01</td><td>7193.599121</td></tr><tr><td>2020-01-01</td><td>9350.529297</td></tr><tr><td>2020-02-01</td><td>8599.508789</td></tr><tr><td>2020-03-01</td><td>6438.644531</td></tr><tr><td>2020-04-01</td><td>8658.553711</td></tr><tr><td>2020-05-01</td><td>9461.058594</td></tr><tr><td>2020-06-01</td><td>9137.993164</td></tr><tr><td>2020-07-01</td><td>11323.466797</td></tr><tr><td>2020-08-01</td><td>11680.820313</td></tr><tr><td>2020-09-01</td><td>10912.536133</td></tr></tbody></table></div>"
      ],
      "text/plain": [
       "shape: (73, 2)\n",
       "┌────────────┬──────────────┐\n",
       "│ DATE       ┆ CLOSE        │\n",
       "│ ---        ┆ ---          │\n",
       "│ date       ┆ f64          │\n",
       "╞════════════╪══════════════╡\n",
       "│ 2014-09-01 ┆ 386.944      │\n",
       "│ 2014-10-01 ┆ 338.321014   │\n",
       "│ 2014-11-01 ┆ 378.046997   │\n",
       "│ 2014-12-01 ┆ 320.192993   │\n",
       "│ 2015-01-01 ┆ 217.464005   │\n",
       "│ …          ┆ …            │\n",
       "│ 2020-05-01 ┆ 9461.058594  │\n",
       "│ 2020-06-01 ┆ 9137.993164  │\n",
       "│ 2020-07-01 ┆ 11323.466797 │\n",
       "│ 2020-08-01 ┆ 11680.820313 │\n",
       "│ 2020-09-01 ┆ 10912.536133 │\n",
       "└────────────┴──────────────┘"
      ]
     },
     "execution_count": 63,
     "metadata": {},
     "output_type": "execute_result"
    }
   ],
   "source": [
    "df_btc_price.set_sorted('DATE').group_by_dynamic('DATE', every='1mo').agg(pl.col('CLOSE').last())"
   ]
  },
  {
   "cell_type": "code",
   "execution_count": null,
   "metadata": {},
   "outputs": [],
   "source": []
  },
  {
   "cell_type": "markdown",
   "metadata": {},
   "source": [
    "# Data Visualisation"
   ]
  },
  {
   "cell_type": "markdown",
   "metadata": {},
   "source": [
    "### Notebook Formatting & Style Helpers"
   ]
  },
  {
   "cell_type": "code",
   "execution_count": 64,
   "metadata": {},
   "outputs": [],
   "source": [
    "# Create locators for ticks on the time axis"
   ]
  },
  {
   "cell_type": "code",
   "execution_count": 65,
   "metadata": {},
   "outputs": [],
   "source": [
    "# Register date converters to avoid warning messages"
   ]
  },
  {
   "cell_type": "markdown",
   "metadata": {},
   "source": [
    "### Tesla Stock Price v.s. Search Volume"
   ]
  },
  {
   "cell_type": "markdown",
   "metadata": {},
   "source": [
    "**Challenge:** Plot the Tesla stock price against the Tesla search volume using a line chart and two different axes. Label one axis 'TSLA Stock Price' and the other 'Search Trend'. "
   ]
  },
  {
   "cell_type": "code",
   "execution_count": 71,
   "metadata": {},
   "outputs": [],
   "source": [
    "import hvplot as plt"
   ]
  },
  {
   "cell_type": "code",
   "execution_count": 73,
   "metadata": {},
   "outputs": [
    {
     "data": {},
     "metadata": {},
     "output_type": "display_data"
    },
    {
     "data": {
      "application/vnd.holoviews_exec.v0+json": "",
      "text/html": [
       "<div id='p2020'>\n",
       "  <div id=\"a835dbad-ec20-4ab3-a8b6-4357483654df\" data-root-id=\"p2020\" style=\"display: contents;\"></div>\n",
       "</div>\n",
       "<script type=\"application/javascript\">(function(root) {\n",
       "  var docs_json = {\"abd1ec29-c1fd-4c97-9d8d-b59f9f02ee22\":{\"version\":\"3.3.4\",\"title\":\"Bokeh Application\",\"roots\":[{\"type\":\"object\",\"name\":\"Row\",\"id\":\"p2020\",\"attributes\":{\"name\":\"Row03565\",\"tags\":[\"embedded\"],\"stylesheets\":[\"\\n:host(.pn-loading.pn-arc):before, .pn-loading.pn-arc:before {\\n  background-image: url(\\\"data:image/svg+xml;base64,PHN2ZyB4bWxucz0iaHR0cDovL3d3dy53My5vcmcvMjAwMC9zdmciIHN0eWxlPSJtYXJnaW46IGF1dG87IGJhY2tncm91bmQ6IG5vbmU7IGRpc3BsYXk6IGJsb2NrOyBzaGFwZS1yZW5kZXJpbmc6IGF1dG87IiB2aWV3Qm94PSIwIDAgMTAwIDEwMCIgcHJlc2VydmVBc3BlY3RSYXRpbz0ieE1pZFlNaWQiPiAgPGNpcmNsZSBjeD0iNTAiIGN5PSI1MCIgZmlsbD0ibm9uZSIgc3Ryb2tlPSIjYzNjM2MzIiBzdHJva2Utd2lkdGg9IjEwIiByPSIzNSIgc3Ryb2tlLWRhc2hhcnJheT0iMTY0LjkzMzYxNDMxMzQ2NDE1IDU2Ljk3Nzg3MTQzNzgyMTM4Ij4gICAgPGFuaW1hdGVUcmFuc2Zvcm0gYXR0cmlidXRlTmFtZT0idHJhbnNmb3JtIiB0eXBlPSJyb3RhdGUiIHJlcGVhdENvdW50PSJpbmRlZmluaXRlIiBkdXI9IjFzIiB2YWx1ZXM9IjAgNTAgNTA7MzYwIDUwIDUwIiBrZXlUaW1lcz0iMDsxIj48L2FuaW1hdGVUcmFuc2Zvcm0+ICA8L2NpcmNsZT48L3N2Zz4=\\\");\\n  background-size: auto calc(min(50%, 400px));\\n}\",{\"type\":\"object\",\"name\":\"ImportedStyleSheet\",\"id\":\"p2023\",\"attributes\":{\"url\":\"https://cdn.holoviz.org/panel/1.3.8/dist/css/loading.css\"}},{\"type\":\"object\",\"name\":\"ImportedStyleSheet\",\"id\":\"p2113\",\"attributes\":{\"url\":\"https://cdn.holoviz.org/panel/1.3.8/dist/css/listpanel.css\"}},{\"type\":\"object\",\"name\":\"ImportedStyleSheet\",\"id\":\"p2021\",\"attributes\":{\"url\":\"https://cdn.holoviz.org/panel/1.3.8/dist/bundled/theme/default.css\"}},{\"type\":\"object\",\"name\":\"ImportedStyleSheet\",\"id\":\"p2022\",\"attributes\":{\"url\":\"https://cdn.holoviz.org/panel/1.3.8/dist/bundled/theme/native.css\"}}],\"min_width\":700,\"margin\":0,\"sizing_mode\":\"stretch_width\",\"align\":\"start\",\"children\":[{\"type\":\"object\",\"name\":\"Spacer\",\"id\":\"p2024\",\"attributes\":{\"name\":\"HSpacer03572\",\"stylesheets\":[\"\\n:host(.pn-loading.pn-arc):before, .pn-loading.pn-arc:before {\\n  background-image: url(\\\"data:image/svg+xml;base64,PHN2ZyB4bWxucz0iaHR0cDovL3d3dy53My5vcmcvMjAwMC9zdmciIHN0eWxlPSJtYXJnaW46IGF1dG87IGJhY2tncm91bmQ6IG5vbmU7IGRpc3BsYXk6IGJsb2NrOyBzaGFwZS1yZW5kZXJpbmc6IGF1dG87IiB2aWV3Qm94PSIwIDAgMTAwIDEwMCIgcHJlc2VydmVBc3BlY3RSYXRpbz0ieE1pZFlNaWQiPiAgPGNpcmNsZSBjeD0iNTAiIGN5PSI1MCIgZmlsbD0ibm9uZSIgc3Ryb2tlPSIjYzNjM2MzIiBzdHJva2Utd2lkdGg9IjEwIiByPSIzNSIgc3Ryb2tlLWRhc2hhcnJheT0iMTY0LjkzMzYxNDMxMzQ2NDE1IDU2Ljk3Nzg3MTQzNzgyMTM4Ij4gICAgPGFuaW1hdGVUcmFuc2Zvcm0gYXR0cmlidXRlTmFtZT0idHJhbnNmb3JtIiB0eXBlPSJyb3RhdGUiIHJlcGVhdENvdW50PSJpbmRlZmluaXRlIiBkdXI9IjFzIiB2YWx1ZXM9IjAgNTAgNTA7MzYwIDUwIDUwIiBrZXlUaW1lcz0iMDsxIj48L2FuaW1hdGVUcmFuc2Zvcm0+ICA8L2NpcmNsZT48L3N2Zz4=\\\");\\n  background-size: auto calc(min(50%, 400px));\\n}\",{\"id\":\"p2023\"},{\"id\":\"p2021\"},{\"id\":\"p2022\"}],\"margin\":0,\"sizing_mode\":\"stretch_width\",\"align\":\"start\"}},{\"type\":\"object\",\"name\":\"Figure\",\"id\":\"p2037\",\"attributes\":{\"width\":700,\"height\":300,\"margin\":[5,10],\"sizing_mode\":\"fixed\",\"align\":\"start\",\"x_range\":{\"type\":\"object\",\"name\":\"Range1d\",\"id\":\"p2025\",\"attributes\":{\"tags\":[[[\"MONTH\",\"MONTH\",null]],[]],\"start\":1275350400000.0,\"end\":1598918400000.0,\"reset_start\":1275350400000.0,\"reset_end\":1598918400000.0}},\"y_range\":{\"type\":\"object\",\"name\":\"Range1d\",\"id\":\"p2026\",\"attributes\":{\"name\":\"TSLA_WEB_SEARCH\",\"tags\":[[[\"TSLA_WEB_SEARCH\",\"TSLA_WEB_SEARCH\",null]],{\"type\":\"map\",\"entries\":[[\"invert_yaxis\",false],[\"autorange\",false]]}],\"start\":-0.9000000000000004,\"end\":33.9,\"reset_start\":-0.9000000000000004,\"reset_end\":33.9}},\"x_scale\":{\"type\":\"object\",\"name\":\"LinearScale\",\"id\":\"p2047\"},\"y_scale\":{\"type\":\"object\",\"name\":\"LinearScale\",\"id\":\"p2048\"},\"extra_y_ranges\":{\"type\":\"map\",\"entries\":[[\"TSLA_USD_CLOSE\",{\"type\":\"object\",\"name\":\"Range1d\",\"id\":\"p2027\",\"attributes\":{\"name\":\"TSLA_USD_CLOSE\",\"tags\":[[[\"TSLA_USD_CLOSE\",\"TSLA_USD_CLOSE\",null]],{\"type\":\"map\",\"entries\":[[\"invert_yaxis\",false],[\"autorange\",false]]}],\"start\":-45.5464007,\"end\":547.7624076999999,\"reset_start\":-45.5464007,\"reset_end\":547.7624076999999}}]]},\"extra_y_scales\":{\"type\":\"map\",\"entries\":[[\"TSLA_USD_CLOSE\",{\"type\":\"object\",\"name\":\"LinearScale\",\"id\":\"p2030\"}]]},\"title\":{\"type\":\"object\",\"name\":\"Title\",\"id\":\"p2040\",\"attributes\":{\"text\":\"Tesla Web Search vs Price\",\"text_color\":\"black\",\"text_font_size\":\"15pt\"}},\"renderers\":[{\"type\":\"object\",\"name\":\"GlyphRenderer\",\"id\":\"p2093\",\"attributes\":{\"data_source\":{\"type\":\"object\",\"name\":\"ColumnDataSource\",\"id\":\"p2084\",\"attributes\":{\"selected\":{\"type\":\"object\",\"name\":\"Selection\",\"id\":\"p2085\",\"attributes\":{\"indices\":[],\"line_indices\":[]}},\"selection_policy\":{\"type\":\"object\",\"name\":\"UnionRenderers\",\"id\":\"p2086\"},\"data\":{\"type\":\"map\",\"entries\":[[\"MONTH\",{\"type\":\"ndarray\",\"array\":{\"type\":\"bytes\",\"data\":\"AADA6wyPckIAAEDYtJhyQgAAgCqvonJCAADAfKmsckIAAEBpUbZyQgAAgLtLwHJCAAAAqPPJckIAAED67dNyQgAAgEzo3XJCAACAbevmckIAAMC/5fByQgAAQKyN+nJCAACA/ocEc0IAAADrLw5zQgAAQD0qGHNCAACAjyQic0IAAAB8zCtzQgAAQM7GNXNCAADAum4/c0IAAAANaUlzQgAAQF9jU3NCAAAA5rhcc0IAAEA4s2ZzQgAAwCRbcHNCAAAAd1V6c0IAAIBj/YNzQgAAwLX3jXNCAAAACPKXc0IAAID0maFzQgAAwEaUq3NCAABAMzy1c0IAAICFNr9zQgAAwNcwyXNCAADA+DPSc0IAAABLLtxzQgAAgDfW5XNCAADAidDvc0IAAEB2ePlzQgAAgMhyA3RCAADAGm0NdEIAAEAHFRd0QgAAgFkPIXRCAAAARrcqdEIAAECYsTR0QgAAgOqrPnRCAACAC69HdEIAAMBdqVF0QgAAQEpRW3RCAACAnEtldEIAAACJ8250QgAAQNvteHRCAACALeiCdEIAAAAakIx0QgAAQGyKlnRCAADAWDKgdEIAAACrLKp0QgAAQP0mtHRCAABAHiq9dEIAAIBwJMd0QgAAAF3M0HRCAABAr8badEIAAMCbbuR0QgAAAO5o7nRCAABAQGP4dEIAAMAsCwJ1QgAAAH8FDHVCAACAa60VdUIAAMC9px91QgAAABCiKXVCAADAlvcydUIAAADp8Tx1QgAAgNWZRnVCAADAJ5RQdUIAAEAUPFp1QgAAgGY2ZHVCAADAuDBudUIAAECl2Hd1QgAAgPfSgXVCAAAA5HqLdUIAAEA2dZV1QgAAgIhvn3VCAACAqXKodUIAAMD7bLJ1QgAAQOgUvHVCAACAOg/GdUIAAAAnt891QgAAQHmx2XVCAACAy6vjdUIAAAC4U+11QgAAQApO93VCAADA9vUAdkIAAABJ8Ap2QgAAQJvqFHZCAABAvO0ddkIAAIAO6Cd2QgAAAPuPMXZCAABATYo7dkIAAMA5MkV2QgAAAIwsT3ZCAABA3iZZdkIAAMDKzmJ2QgAAAB3JbHZCAACACXF2dkIAAMBba4B2QgAAAK5linZCAAAAz2iTdkIAAEAhY512QgAAwA0Lp3ZCAAAAYAWxdkIAAIBMrbp2QgAAwJ6nxHZCAAAA8aHOdkIAAIDdSdh2QgAAwC9E4nZCAABAHOzrdkIAAIBu5vV2QgAAwMDg/3ZCAACARzYJd0IAAMCZMBN3QgAAQIbYHHdCAACA2NImd0IAAADFejB3QgAAQBd1OndCAACAaW9Ed0I=\"},\"shape\":[124],\"dtype\":\"float64\",\"order\":\"little\"}],[\"TSLA_WEB_SEARCH\",{\"type\":\"ndarray\",\"array\":{\"type\":\"bytes\",\"data\":\"AwAAAAMAAAACAAAAAgAAAAIAAAACAAAAAgAAAAMAAAACAAAAAwAAAAMAAAACAAAAAgAAAAIAAAACAAAAAgAAAAMAAAACAAAAAgAAAAIAAAADAAAAAwAAAAMAAAADAAAAAwAAAAMAAAADAAAAAwAAAAMAAAAEAAAAAwAAAAMAAAAEAAAABAAAAAQAAAAGAAAABQAAAAUAAAAHAAAABgAAAAYAAAAGAAAABQAAAAUAAAAGAAAABgAAAAYAAAAGAAAABgAAAAcAAAAGAAAABgAAAAgAAAAGAAAABgAAAAcAAAAHAAAABwAAAAcAAAAKAAAABwAAAAgAAAAIAAAACQAAAAkAAAAIAAAABwAAAAcAAAAIAAAACQAAABIAAAAJAAAACAAAAAkAAAAIAAAACAAAAAoAAAAJAAAACQAAAAkAAAAJAAAACQAAAAsAAAAKAAAACgAAAA8AAAAMAAAACwAAAAsAAAAQAAAADAAAAAwAAAAPAAAACwAAAAwAAAAMAAAACwAAAAwAAAAOAAAADgAAAA4AAAALAAAADAAAAAwAAAAMAAAAEQAAAA8AAAAPAAAADwAAAA4AAAAOAAAADgAAAA8AAAAeAAAAEwAAABQAAAAXAAAAEQAAAA0AAAAQAAAAEQAAABgAAAAXAAAAHwAAAA==\"},\"shape\":[124],\"dtype\":\"int32\",\"order\":\"little\"}]]}}},\"view\":{\"type\":\"object\",\"name\":\"CDSView\",\"id\":\"p2094\",\"attributes\":{\"filter\":{\"type\":\"object\",\"name\":\"AllIndices\",\"id\":\"p2095\"}}},\"glyph\":{\"type\":\"object\",\"name\":\"Line\",\"id\":\"p2090\",\"attributes\":{\"tags\":[\"apply_ranges\"],\"x\":{\"type\":\"field\",\"field\":\"MONTH\"},\"y\":{\"type\":\"field\",\"field\":\"TSLA_WEB_SEARCH\"},\"line_color\":\"#30a2da\",\"line_width\":2}},\"selection_glyph\":{\"type\":\"object\",\"name\":\"Line\",\"id\":\"p2096\",\"attributes\":{\"tags\":[\"apply_ranges\"],\"x\":{\"type\":\"field\",\"field\":\"MONTH\"},\"y\":{\"type\":\"field\",\"field\":\"TSLA_WEB_SEARCH\"},\"line_color\":\"#30a2da\",\"line_width\":2}},\"nonselection_glyph\":{\"type\":\"object\",\"name\":\"Line\",\"id\":\"p2091\",\"attributes\":{\"tags\":[\"apply_ranges\"],\"x\":{\"type\":\"field\",\"field\":\"MONTH\"},\"y\":{\"type\":\"field\",\"field\":\"TSLA_WEB_SEARCH\"},\"line_color\":\"#30a2da\",\"line_alpha\":0.1,\"line_width\":2}},\"muted_glyph\":{\"type\":\"object\",\"name\":\"Line\",\"id\":\"p2092\",\"attributes\":{\"tags\":[\"apply_ranges\"],\"x\":{\"type\":\"field\",\"field\":\"MONTH\"},\"y\":{\"type\":\"field\",\"field\":\"TSLA_WEB_SEARCH\"},\"line_color\":\"#30a2da\",\"line_alpha\":0.2,\"line_width\":2}}}},{\"type\":\"object\",\"name\":\"GlyphRenderer\",\"id\":\"p2106\",\"attributes\":{\"y_range_name\":\"TSLA_USD_CLOSE\",\"data_source\":{\"type\":\"object\",\"name\":\"ColumnDataSource\",\"id\":\"p2097\",\"attributes\":{\"selected\":{\"type\":\"object\",\"name\":\"Selection\",\"id\":\"p2098\",\"attributes\":{\"indices\":[],\"line_indices\":[]}},\"selection_policy\":{\"type\":\"object\",\"name\":\"UnionRenderers\",\"id\":\"p2099\"},\"data\":{\"type\":\"map\",\"entries\":[[\"MONTH\",{\"type\":\"ndarray\",\"array\":{\"type\":\"bytes\",\"data\":\"AADA6wyPckIAAEDYtJhyQgAAgCqvonJCAADAfKmsckIAAEBpUbZyQgAAgLtLwHJCAAAAqPPJckIAAED67dNyQgAAgEzo3XJCAACAbevmckIAAMC/5fByQgAAQKyN+nJCAACA/ocEc0IAAADrLw5zQgAAQD0qGHNCAACAjyQic0IAAAB8zCtzQgAAQM7GNXNCAADAum4/c0IAAAANaUlzQgAAQF9jU3NCAAAA5rhcc0IAAEA4s2ZzQgAAwCRbcHNCAAAAd1V6c0IAAIBj/YNzQgAAwLX3jXNCAAAACPKXc0IAAID0maFzQgAAwEaUq3NCAABAMzy1c0IAAICFNr9zQgAAwNcwyXNCAADA+DPSc0IAAABLLtxzQgAAgDfW5XNCAADAidDvc0IAAEB2ePlzQgAAgMhyA3RCAADAGm0NdEIAAEAHFRd0QgAAgFkPIXRCAAAARrcqdEIAAECYsTR0QgAAgOqrPnRCAACAC69HdEIAAMBdqVF0QgAAQEpRW3RCAACAnEtldEIAAACJ8250QgAAQNvteHRCAACALeiCdEIAAAAakIx0QgAAQGyKlnRCAADAWDKgdEIAAACrLKp0QgAAQP0mtHRCAABAHiq9dEIAAIBwJMd0QgAAAF3M0HRCAABAr8badEIAAMCbbuR0QgAAAO5o7nRCAABAQGP4dEIAAMAsCwJ1QgAAAH8FDHVCAACAa60VdUIAAMC9px91QgAAABCiKXVCAADAlvcydUIAAADp8Tx1QgAAgNWZRnVCAADAJ5RQdUIAAEAUPFp1QgAAgGY2ZHVCAADAuDBudUIAAECl2Hd1QgAAgPfSgXVCAAAA5HqLdUIAAEA2dZV1QgAAgIhvn3VCAACAqXKodUIAAMD7bLJ1QgAAQOgUvHVCAACAOg/GdUIAAAAnt891QgAAQHmx2XVCAACAy6vjdUIAAAC4U+11QgAAQApO93VCAADA9vUAdkIAAABJ8Ap2QgAAQJvqFHZCAABAvO0ddkIAAIAO6Cd2QgAAAPuPMXZCAABATYo7dkIAAMA5MkV2QgAAAIwsT3ZCAABA3iZZdkIAAMDKzmJ2QgAAAB3JbHZCAACACXF2dkIAAMBba4B2QgAAAK5linZCAAAAz2iTdkIAAEAhY512QgAAwA0Lp3ZCAAAAYAWxdkIAAIBMrbp2QgAAwJ6nxHZCAAAA8aHOdkIAAIDdSdh2QgAAwC9E4nZCAABAHOzrdkIAAIBu5vV2QgAAwMDg/3ZCAACARzYJd0IAAMCZMBN3QgAAQIbYHHdCAACA2NImd0IAAADFejB3QgAAQBd1OndCAACAaW9Ed0I=\"},\"shape\":[124],\"dtype\":\"float64\",\"order\":\"little\"}],[\"TSLA_USD_CLOSE\",{\"type\":\"ndarray\",\"array\":{\"type\":\"bytes\",\"data\":\"qvHSTWIQE0CBlUOLbOcPQF66SQwCKw9AhxbZzvdTEEBGtvP91HgRQN0kBoGVQxxA5/up8dJNFUBI4XoUrkcTQOkmMQisHBNAMzMzMzMzFkAUrkfhehQWQOkmMQisHBhA5/up8dJNF0Dwp8ZLN4kWQJhuEoPAyhNAUI2XbhKDE0Dl0CLb+X4XQP7UeOkmMRpADAIrhxbZFkCoxks3iUEXQO58PzVeuhpAmG4Sg8DKHUAbL90kBoEaQJqZmZmZmRdA1XjpJjEIGUBWDi2yne8VQDeJQWDl0BZABoGVQ4tsF0AbL90kBoEWQHWTGARWDhtAf2q8dJMYG0A1XrpJDAIeQHe+nxov3RtAHVpkO99PHkB/arx0k5glQFpkO99PjTNARrbz/dR4NUDiV6zhIts6QJbqAl5m5kBAg8DKoUVWQ0BRai+i7fw/QDoCuFm8dDlAvHSTGAQWPkA7ONibGCRCQOJXrOEie0hA6KIh41HYREBzDwnf+8lEQMR5OIHpxkRAeEKvP4kBSEAUrkfhelRGQOiiIeNR+EpAJ9h/nZtESEDsUbgehStIQPBOPj22c0hAY15HHLI9RkAtCyb+KFxEQF9hwf2AVURALo81I4PgQkCrmEo/4ZpGQBSuR+F6FElA+n5qvHTTSkA9CtejcJ1KQA4tsp3v50hA16NwPQrXSEBlGHeDaLFEQIy61t6nBkdA9s/TgEEASEC/fLJiuB5DQGUYd4NoMUNAV7Wkoxz6RkD6fmq8dBNIQKabxCCwUkZAvviiPV46RUC0yHa+n3pHQPp+arx0M0VAukkMAitnRECpSltc48VDQEG5bd+j8EJAiL1QwHZeRUBlGHeDaDFJQAowLH++/0hAFK5H4XrUS0AF/YUeMWhPQGms/Z3tDFFAEJaxoZsUUkAj2/l+aixQQOxRuB6Fy1FAlgUTfxQOUUDdJAaBlZNQQMP1KFyP4k5Aw/UoXI8iT0C6SQwCK7dRQLpJDAIrJ1FAUWovou2cSkDT9NkB12NNQDyGx34WeUxAVTGVfsIlUUAJ+gs9YtBNQKGePgJ/Kk5AV7Wkoxx6SkBMHHkgst1QQIjYYOEkhlFA0/TZAdejUEDwTj49trNOQFFqL6Lt/E9AI9v5fmr8S0CIvVDAdt5HQDs42JsYhEJAT+YffZNYRkAfLGNDNylIQPcF9MKdj0ZAg8DKoUUWSECbHam+831PQMReKGA7f1BAtMh2vp/qVEDnOSLfpUNgQO54k98is2BA7GzIPzMzWkAlAtU/CIxjQAAAAAAA4GRAyZHOwMj+akCwy/CfbuJxQNv3qL8eJX9AVUyln3B1eUA=\"},\"shape\":[124],\"dtype\":\"float64\",\"order\":\"little\"}]]}}},\"view\":{\"type\":\"object\",\"name\":\"CDSView\",\"id\":\"p2107\",\"attributes\":{\"filter\":{\"type\":\"object\",\"name\":\"AllIndices\",\"id\":\"p2108\"}}},\"glyph\":{\"type\":\"object\",\"name\":\"Line\",\"id\":\"p2103\",\"attributes\":{\"tags\":[\"apply_ranges\"],\"x\":{\"type\":\"field\",\"field\":\"MONTH\"},\"y\":{\"type\":\"field\",\"field\":\"TSLA_USD_CLOSE\"},\"line_color\":\"#fc4f30\",\"line_width\":2}},\"selection_glyph\":{\"type\":\"object\",\"name\":\"Line\",\"id\":\"p2109\",\"attributes\":{\"tags\":[\"apply_ranges\"],\"x\":{\"type\":\"field\",\"field\":\"MONTH\"},\"y\":{\"type\":\"field\",\"field\":\"TSLA_USD_CLOSE\"},\"line_color\":\"#fc4f30\",\"line_width\":2}},\"nonselection_glyph\":{\"type\":\"object\",\"name\":\"Line\",\"id\":\"p2104\",\"attributes\":{\"tags\":[\"apply_ranges\"],\"x\":{\"type\":\"field\",\"field\":\"MONTH\"},\"y\":{\"type\":\"field\",\"field\":\"TSLA_USD_CLOSE\"},\"line_color\":\"#fc4f30\",\"line_alpha\":0.1,\"line_width\":2}},\"muted_glyph\":{\"type\":\"object\",\"name\":\"Line\",\"id\":\"p2105\",\"attributes\":{\"tags\":[\"apply_ranges\"],\"x\":{\"type\":\"field\",\"field\":\"MONTH\"},\"y\":{\"type\":\"field\",\"field\":\"TSLA_USD_CLOSE\"},\"line_color\":\"#fc4f30\",\"line_alpha\":0.2,\"line_width\":2}}}}],\"toolbar\":{\"type\":\"object\",\"name\":\"Toolbar\",\"id\":\"p2046\",\"attributes\":{\"tools\":[{\"type\":\"object\",\"name\":\"WheelZoomTool\",\"id\":\"p2032\",\"attributes\":{\"tags\":[\"hv_created\"],\"renderers\":\"auto\",\"zoom_together\":\"none\"}},{\"type\":\"object\",\"name\":\"HoverTool\",\"id\":\"p2033\",\"attributes\":{\"tags\":[\"hv_created\"],\"renderers\":[{\"id\":\"p2093\"}],\"tooltips\":[[\"MONTH\",\"@{MONTH}{%F %T}\"],[\"TSLA_WEB_SEARCH\",\"@{TSLA_WEB_SEARCH}\"]],\"formatters\":{\"type\":\"map\",\"entries\":[[\"@{MONTH}\",\"datetime\"]]}}},{\"type\":\"object\",\"name\":\"HoverTool\",\"id\":\"p2036\",\"attributes\":{\"tags\":[\"hv_created\"],\"renderers\":[{\"id\":\"p2106\"}],\"tooltips\":[[\"MONTH\",\"@{MONTH}{%F %T}\"],[\"TSLA_USD_CLOSE\",\"@{TSLA_USD_CLOSE}\"]],\"formatters\":{\"type\":\"map\",\"entries\":[[\"@{MONTH}\",\"datetime\"]]}}},{\"type\":\"object\",\"name\":\"SaveTool\",\"id\":\"p2071\"},{\"type\":\"object\",\"name\":\"PanTool\",\"id\":\"p2072\"},{\"type\":\"object\",\"name\":\"BoxZoomTool\",\"id\":\"p2073\",\"attributes\":{\"overlay\":{\"type\":\"object\",\"name\":\"BoxAnnotation\",\"id\":\"p2074\",\"attributes\":{\"syncable\":false,\"level\":\"overlay\",\"visible\":false,\"left\":{\"type\":\"number\",\"value\":\"nan\"},\"right\":{\"type\":\"number\",\"value\":\"nan\"},\"top\":{\"type\":\"number\",\"value\":\"nan\"},\"bottom\":{\"type\":\"number\",\"value\":\"nan\"},\"left_units\":\"canvas\",\"right_units\":\"canvas\",\"top_units\":\"canvas\",\"bottom_units\":\"canvas\",\"line_color\":\"black\",\"line_alpha\":1.0,\"line_width\":2,\"line_dash\":[4,4],\"fill_color\":\"lightgrey\",\"fill_alpha\":0.5}}}},{\"type\":\"object\",\"name\":\"ResetTool\",\"id\":\"p2079\"}],\"active_drag\":{\"id\":\"p2072\"},\"active_scroll\":{\"id\":\"p2032\"}}},\"left\":[{\"type\":\"object\",\"name\":\"LinearAxis\",\"id\":\"p2066\",\"attributes\":{\"ticker\":{\"type\":\"object\",\"name\":\"BasicTicker\",\"id\":\"p2067\",\"attributes\":{\"mantissas\":[1,2,5]}},\"formatter\":{\"type\":\"object\",\"name\":\"BasicTickFormatter\",\"id\":\"p2068\"},\"axis_label\":\"TSLA_WEB_SEARCH\",\"axis_label_text_font_size\":\"16.25px\",\"major_label_policy\":{\"type\":\"object\",\"name\":\"AllLabels\",\"id\":\"p2069\"},\"major_label_text_font_size\":\"13.75px\"}}],\"right\":[{\"type\":\"object\",\"name\":\"LinearAxis\",\"id\":\"p2080\",\"attributes\":{\"y_range_name\":\"TSLA_USD_CLOSE\",\"ticker\":{\"type\":\"object\",\"name\":\"BasicTicker\",\"id\":\"p2081\",\"attributes\":{\"mantissas\":[1,2,5]}},\"formatter\":{\"type\":\"object\",\"name\":\"BasicTickFormatter\",\"id\":\"p2082\"},\"axis_label\":\"TSLA_USD_CLOSE\",\"axis_label_text_font_size\":\"16.25px\",\"major_label_policy\":{\"type\":\"object\",\"name\":\"AllLabels\",\"id\":\"p2083\"},\"major_label_text_font_size\":\"13.75px\"}}],\"below\":[{\"type\":\"object\",\"name\":\"DatetimeAxis\",\"id\":\"p2049\",\"attributes\":{\"ticker\":{\"type\":\"object\",\"name\":\"DatetimeTicker\",\"id\":\"p2050\",\"attributes\":{\"num_minor_ticks\":5,\"tickers\":[{\"type\":\"object\",\"name\":\"AdaptiveTicker\",\"id\":\"p2051\",\"attributes\":{\"num_minor_ticks\":0,\"mantissas\":[1,2,5],\"max_interval\":500.0}},{\"type\":\"object\",\"name\":\"AdaptiveTicker\",\"id\":\"p2052\",\"attributes\":{\"num_minor_ticks\":0,\"base\":60,\"mantissas\":[1,2,5,10,15,20,30],\"min_interval\":1000.0,\"max_interval\":1800000.0}},{\"type\":\"object\",\"name\":\"AdaptiveTicker\",\"id\":\"p2053\",\"attributes\":{\"num_minor_ticks\":0,\"base\":24,\"mantissas\":[1,2,4,6,8,12],\"min_interval\":3600000.0,\"max_interval\":43200000.0}},{\"type\":\"object\",\"name\":\"DaysTicker\",\"id\":\"p2054\",\"attributes\":{\"days\":[1,2,3,4,5,6,7,8,9,10,11,12,13,14,15,16,17,18,19,20,21,22,23,24,25,26,27,28,29,30,31]}},{\"type\":\"object\",\"name\":\"DaysTicker\",\"id\":\"p2055\",\"attributes\":{\"days\":[1,4,7,10,13,16,19,22,25,28]}},{\"type\":\"object\",\"name\":\"DaysTicker\",\"id\":\"p2056\",\"attributes\":{\"days\":[1,8,15,22]}},{\"type\":\"object\",\"name\":\"DaysTicker\",\"id\":\"p2057\",\"attributes\":{\"days\":[1,15]}},{\"type\":\"object\",\"name\":\"MonthsTicker\",\"id\":\"p2058\",\"attributes\":{\"months\":[0,1,2,3,4,5,6,7,8,9,10,11]}},{\"type\":\"object\",\"name\":\"MonthsTicker\",\"id\":\"p2059\",\"attributes\":{\"months\":[0,2,4,6,8,10]}},{\"type\":\"object\",\"name\":\"MonthsTicker\",\"id\":\"p2060\",\"attributes\":{\"months\":[0,4,8]}},{\"type\":\"object\",\"name\":\"MonthsTicker\",\"id\":\"p2061\",\"attributes\":{\"months\":[0,6]}},{\"type\":\"object\",\"name\":\"YearsTicker\",\"id\":\"p2062\"}]}},\"formatter\":{\"type\":\"object\",\"name\":\"DatetimeTickFormatter\",\"id\":\"p2063\"},\"axis_label\":\"MONTH\",\"major_label_policy\":{\"type\":\"object\",\"name\":\"AllLabels\",\"id\":\"p2064\"}}}],\"center\":[{\"type\":\"object\",\"name\":\"Grid\",\"id\":\"p2065\",\"attributes\":{\"axis\":{\"id\":\"p2049\"},\"grid_line_color\":null}},{\"type\":\"object\",\"name\":\"Grid\",\"id\":\"p2070\",\"attributes\":{\"dimension\":1,\"axis\":{\"id\":\"p2066\"},\"grid_line_color\":null}}],\"min_border_top\":10,\"min_border_bottom\":10,\"min_border_left\":10,\"min_border_right\":10,\"output_backend\":\"webgl\"}},{\"type\":\"object\",\"name\":\"Spacer\",\"id\":\"p2111\",\"attributes\":{\"name\":\"HSpacer03573\",\"stylesheets\":[\"\\n:host(.pn-loading.pn-arc):before, .pn-loading.pn-arc:before {\\n  background-image: url(\\\"data:image/svg+xml;base64,PHN2ZyB4bWxucz0iaHR0cDovL3d3dy53My5vcmcvMjAwMC9zdmciIHN0eWxlPSJtYXJnaW46IGF1dG87IGJhY2tncm91bmQ6IG5vbmU7IGRpc3BsYXk6IGJsb2NrOyBzaGFwZS1yZW5kZXJpbmc6IGF1dG87IiB2aWV3Qm94PSIwIDAgMTAwIDEwMCIgcHJlc2VydmVBc3BlY3RSYXRpbz0ieE1pZFlNaWQiPiAgPGNpcmNsZSBjeD0iNTAiIGN5PSI1MCIgZmlsbD0ibm9uZSIgc3Ryb2tlPSIjYzNjM2MzIiBzdHJva2Utd2lkdGg9IjEwIiByPSIzNSIgc3Ryb2tlLWRhc2hhcnJheT0iMTY0LjkzMzYxNDMxMzQ2NDE1IDU2Ljk3Nzg3MTQzNzgyMTM4Ij4gICAgPGFuaW1hdGVUcmFuc2Zvcm0gYXR0cmlidXRlTmFtZT0idHJhbnNmb3JtIiB0eXBlPSJyb3RhdGUiIHJlcGVhdENvdW50PSJpbmRlZmluaXRlIiBkdXI9IjFzIiB2YWx1ZXM9IjAgNTAgNTA7MzYwIDUwIDUwIiBrZXlUaW1lcz0iMDsxIj48L2FuaW1hdGVUcmFuc2Zvcm0+ICA8L2NpcmNsZT48L3N2Zz4=\\\");\\n  background-size: auto calc(min(50%, 400px));\\n}\",{\"id\":\"p2023\"},{\"id\":\"p2021\"},{\"id\":\"p2022\"}],\"margin\":0,\"sizing_mode\":\"stretch_width\",\"align\":\"start\"}}]}}],\"defs\":[{\"type\":\"model\",\"name\":\"ReactiveHTML1\"},{\"type\":\"model\",\"name\":\"FlexBox1\",\"properties\":[{\"name\":\"align_content\",\"kind\":\"Any\",\"default\":\"flex-start\"},{\"name\":\"align_items\",\"kind\":\"Any\",\"default\":\"flex-start\"},{\"name\":\"flex_direction\",\"kind\":\"Any\",\"default\":\"row\"},{\"name\":\"flex_wrap\",\"kind\":\"Any\",\"default\":\"wrap\"},{\"name\":\"justify_content\",\"kind\":\"Any\",\"default\":\"flex-start\"}]},{\"type\":\"model\",\"name\":\"FloatPanel1\",\"properties\":[{\"name\":\"config\",\"kind\":\"Any\",\"default\":{\"type\":\"map\"}},{\"name\":\"contained\",\"kind\":\"Any\",\"default\":true},{\"name\":\"position\",\"kind\":\"Any\",\"default\":\"right-top\"},{\"name\":\"offsetx\",\"kind\":\"Any\",\"default\":null},{\"name\":\"offsety\",\"kind\":\"Any\",\"default\":null},{\"name\":\"theme\",\"kind\":\"Any\",\"default\":\"primary\"},{\"name\":\"status\",\"kind\":\"Any\",\"default\":\"normalized\"}]},{\"type\":\"model\",\"name\":\"GridStack1\",\"properties\":[{\"name\":\"mode\",\"kind\":\"Any\",\"default\":\"warn\"},{\"name\":\"ncols\",\"kind\":\"Any\",\"default\":null},{\"name\":\"nrows\",\"kind\":\"Any\",\"default\":null},{\"name\":\"allow_resize\",\"kind\":\"Any\",\"default\":true},{\"name\":\"allow_drag\",\"kind\":\"Any\",\"default\":true},{\"name\":\"state\",\"kind\":\"Any\",\"default\":[]}]},{\"type\":\"model\",\"name\":\"drag1\",\"properties\":[{\"name\":\"slider_width\",\"kind\":\"Any\",\"default\":5},{\"name\":\"slider_color\",\"kind\":\"Any\",\"default\":\"black\"},{\"name\":\"value\",\"kind\":\"Any\",\"default\":50}]},{\"type\":\"model\",\"name\":\"click1\",\"properties\":[{\"name\":\"terminal_output\",\"kind\":\"Any\",\"default\":\"\"},{\"name\":\"debug_name\",\"kind\":\"Any\",\"default\":\"\"},{\"name\":\"clears\",\"kind\":\"Any\",\"default\":0}]},{\"type\":\"model\",\"name\":\"copy_to_clipboard1\",\"properties\":[{\"name\":\"fill\",\"kind\":\"Any\",\"default\":\"none\"},{\"name\":\"value\",\"kind\":\"Any\",\"default\":null}]},{\"type\":\"model\",\"name\":\"FastWrapper1\",\"properties\":[{\"name\":\"object\",\"kind\":\"Any\",\"default\":null},{\"name\":\"style\",\"kind\":\"Any\",\"default\":null}]},{\"type\":\"model\",\"name\":\"NotificationAreaBase1\",\"properties\":[{\"name\":\"js_events\",\"kind\":\"Any\",\"default\":{\"type\":\"map\"}},{\"name\":\"position\",\"kind\":\"Any\",\"default\":\"bottom-right\"},{\"name\":\"_clear\",\"kind\":\"Any\",\"default\":0}]},{\"type\":\"model\",\"name\":\"NotificationArea1\",\"properties\":[{\"name\":\"js_events\",\"kind\":\"Any\",\"default\":{\"type\":\"map\"}},{\"name\":\"notifications\",\"kind\":\"Any\",\"default\":[]},{\"name\":\"position\",\"kind\":\"Any\",\"default\":\"bottom-right\"},{\"name\":\"_clear\",\"kind\":\"Any\",\"default\":0},{\"name\":\"types\",\"kind\":\"Any\",\"default\":[{\"type\":\"map\",\"entries\":[[\"type\",\"warning\"],[\"background\",\"#ffc107\"],[\"icon\",{\"type\":\"map\",\"entries\":[[\"className\",\"fas fa-exclamation-triangle\"],[\"tagName\",\"i\"],[\"color\",\"white\"]]}]]},{\"type\":\"map\",\"entries\":[[\"type\",\"info\"],[\"background\",\"#007bff\"],[\"icon\",{\"type\":\"map\",\"entries\":[[\"className\",\"fas fa-info-circle\"],[\"tagName\",\"i\"],[\"color\",\"white\"]]}]]}]}]},{\"type\":\"model\",\"name\":\"Notification\",\"properties\":[{\"name\":\"background\",\"kind\":\"Any\",\"default\":null},{\"name\":\"duration\",\"kind\":\"Any\",\"default\":3000},{\"name\":\"icon\",\"kind\":\"Any\",\"default\":null},{\"name\":\"message\",\"kind\":\"Any\",\"default\":\"\"},{\"name\":\"notification_type\",\"kind\":\"Any\",\"default\":null},{\"name\":\"_destroyed\",\"kind\":\"Any\",\"default\":false}]},{\"type\":\"model\",\"name\":\"TemplateActions1\",\"properties\":[{\"name\":\"open_modal\",\"kind\":\"Any\",\"default\":0},{\"name\":\"close_modal\",\"kind\":\"Any\",\"default\":0}]},{\"type\":\"model\",\"name\":\"BootstrapTemplateActions1\",\"properties\":[{\"name\":\"open_modal\",\"kind\":\"Any\",\"default\":0},{\"name\":\"close_modal\",\"kind\":\"Any\",\"default\":0}]},{\"type\":\"model\",\"name\":\"MaterialTemplateActions1\",\"properties\":[{\"name\":\"open_modal\",\"kind\":\"Any\",\"default\":0},{\"name\":\"close_modal\",\"kind\":\"Any\",\"default\":0}]}]}};\n",
       "  var render_items = [{\"docid\":\"abd1ec29-c1fd-4c97-9d8d-b59f9f02ee22\",\"roots\":{\"p2020\":\"a835dbad-ec20-4ab3-a8b6-4357483654df\"},\"root_ids\":[\"p2020\"]}];\n",
       "  var docs = Object.values(docs_json)\n",
       "  if (!docs) {\n",
       "    return\n",
       "  }\n",
       "  const py_version = docs[0].version.replace('rc', '-rc.').replace('.dev', '-dev.')\n",
       "  function embed_document(root) {\n",
       "    var Bokeh = get_bokeh(root)\n",
       "    Bokeh.embed.embed_items_notebook(docs_json, render_items);\n",
       "    for (const render_item of render_items) {\n",
       "      for (const root_id of render_item.root_ids) {\n",
       "\tconst id_el = document.getElementById(root_id)\n",
       "\tif (id_el.children.length && (id_el.children[0].className === 'bk-root')) {\n",
       "\t  const root_el = id_el.children[0]\n",
       "\t  root_el.id = root_el.id + '-rendered'\n",
       "\t}\n",
       "      }\n",
       "    }\n",
       "  }\n",
       "  function get_bokeh(root) {\n",
       "    if (root.Bokeh === undefined) {\n",
       "      return null\n",
       "    } else if (root.Bokeh.version !== py_version) {\n",
       "      if (root.Bokeh.versions === undefined || !root.Bokeh.versions.has(py_version)) {\n",
       "\treturn null\n",
       "      }\n",
       "      return root.Bokeh.versions.get(py_version);\n",
       "    } else if (root.Bokeh.version === py_version) {\n",
       "      return root.Bokeh\n",
       "    }\n",
       "    return null\n",
       "  }\n",
       "  function is_loaded(root) {\n",
       "    var Bokeh = get_bokeh(root)\n",
       "    return (Bokeh != null && Bokeh.Panel !== undefined)\n",
       "  }\n",
       "  if (is_loaded(root)) {\n",
       "    embed_document(root);\n",
       "  } else {\n",
       "    var attempts = 0;\n",
       "    var timer = setInterval(function(root) {\n",
       "      if (is_loaded(root)) {\n",
       "        clearInterval(timer);\n",
       "        embed_document(root);\n",
       "      } else if (document.readyState == \"complete\") {\n",
       "        attempts++;\n",
       "        if (attempts > 200) {\n",
       "          clearInterval(timer);\n",
       "\t  var Bokeh = get_bokeh(root)\n",
       "\t  if (Bokeh == null || Bokeh.Panel == null) {\n",
       "            console.warn(\"Panel: ERROR: Unable to run Panel code because Bokeh or Panel library is missing\");\n",
       "\t  } else {\n",
       "\t    console.warn(\"Panel: WARNING: Attempting to render but not all required libraries could be resolved.\")\n",
       "\t    embed_document(root)\n",
       "\t  }\n",
       "        }\n",
       "      }\n",
       "    }, 25, root)\n",
       "  }\n",
       "})(window);</script>"
      ],
      "text/plain": [
       ":Overlay\n",
       "   .Curve.I  :Curve   [MONTH]   (TSLA_WEB_SEARCH)\n",
       "   .Curve.II :Curve   [MONTH]   (TSLA_USD_CLOSE)"
      ]
     },
     "execution_count": 73,
     "metadata": {
      "application/vnd.holoviews_exec.v0+json": {
       "id": "p2020"
      }
     },
     "output_type": "execute_result"
    }
   ],
   "source": [
    "plt.extension('bokeh')\n",
    "plot1 = df_tesla.plot(x='MONTH', y='TSLA_WEB_SEARCH')\n",
    "plot2 = df_tesla.plot(x='MONTH', y='TSLA_USD_CLOSE')\n",
    "(plot1 * plot2).opts(multi_y=True, fontscale=1.25, title=\"Tesla Web Search vs Price\", autorange='x')"
   ]
  },
  {
   "cell_type": "markdown",
   "metadata": {},
   "source": [
    "##### df_tesla"
   ]
  },
  {
   "cell_type": "markdown",
   "metadata": {},
   "source": [
    "**Challenge**: Add colours to style the chart. This will help differentiate the two lines and the axis labels. Try using one of the blue [colour names](https://matplotlib.org/3.1.1/gallery/color/named_colors.html) for the search volume and a HEX code for a red colour for the stock price. \n",
    "<br>\n",
    "<br>\n",
    "Hint: you can colour both the [axis labels](https://matplotlib.org/3.3.2/api/text_api.html#matplotlib.text.Text) and the [lines](https://matplotlib.org/3.2.1/api/_as_gen/matplotlib.lines.Line2D.html#matplotlib.lines.Line2D) on the chart using keyword arguments (kwargs).  "
   ]
  },
  {
   "cell_type": "code",
   "execution_count": null,
   "metadata": {},
   "outputs": [],
   "source": []
  },
  {
   "cell_type": "markdown",
   "metadata": {},
   "source": [
    "**Challenge**: Make the chart larger and easier to read. \n",
    "1. Increase the figure size (e.g., to 14 by 8). \n",
    "2. Increase the font sizes for the labels and the ticks on the x-axis to 14. \n",
    "3. Rotate the text on the x-axis by 45 degrees. \n",
    "4. Make the lines on the chart thicker. \n",
    "5. Add a title that reads 'Tesla Web Search vs Price'\n",
    "6. Keep the chart looking sharp by changing the dots-per-inch or [DPI value](https://matplotlib.org/3.1.1/api/_as_gen/matplotlib.pyplot.figure.html). \n",
    "7. Set minimum and maximum values for the y and x axis. Hint: check out methods like [set_xlim()](https://matplotlib.org/3.1.1/api/_as_gen/matplotlib.axes.Axes.set_xlim.html). \n",
    "8. Finally use [plt.show()](https://matplotlib.org/3.2.1/api/_as_gen/matplotlib.pyplot.show.html) to display the chart below the cell instead of relying on the automatic notebook output."
   ]
  },
  {
   "cell_type": "code",
   "execution_count": null,
   "metadata": {},
   "outputs": [],
   "source": [
    "from bokeh.models.formatters import DatetimeTickFormatter\n",
    "formatter = DatetimeTickFormatter(months='%m %Y')"
   ]
  },
  {
   "cell_type": "markdown",
   "metadata": {},
   "source": [
    "How to add tick formatting for dates on the x-axis. "
   ]
  },
  {
   "cell_type": "code",
   "execution_count": 36,
   "metadata": {},
   "outputs": [
    {
     "data": {},
     "metadata": {},
     "output_type": "display_data"
    },
    {
     "data": {
      "application/vnd.holoviews_exec.v0+json": "",
      "text/html": [
       "<div id='p1382'>\n",
       "  <div id=\"b4294ca5-5161-432d-b935-c9ff189512e7\" data-root-id=\"p1382\" style=\"display: contents;\"></div>\n",
       "</div>\n",
       "<script type=\"application/javascript\">(function(root) {\n",
       "  var docs_json = {\"87dd1669-daac-402e-b02a-0b80c0098b0a\":{\"version\":\"3.3.4\",\"title\":\"Bokeh Application\",\"roots\":[{\"type\":\"object\",\"name\":\"Row\",\"id\":\"p1382\",\"attributes\":{\"name\":\"Row01645\",\"tags\":[\"embedded\"],\"stylesheets\":[\"\\n:host(.pn-loading.pn-arc):before, .pn-loading.pn-arc:before {\\n  background-image: url(\\\"data:image/svg+xml;base64,PHN2ZyB4bWxucz0iaHR0cDovL3d3dy53My5vcmcvMjAwMC9zdmciIHN0eWxlPSJtYXJnaW46IGF1dG87IGJhY2tncm91bmQ6IG5vbmU7IGRpc3BsYXk6IGJsb2NrOyBzaGFwZS1yZW5kZXJpbmc6IGF1dG87IiB2aWV3Qm94PSIwIDAgMTAwIDEwMCIgcHJlc2VydmVBc3BlY3RSYXRpbz0ieE1pZFlNaWQiPiAgPGNpcmNsZSBjeD0iNTAiIGN5PSI1MCIgZmlsbD0ibm9uZSIgc3Ryb2tlPSIjYzNjM2MzIiBzdHJva2Utd2lkdGg9IjEwIiByPSIzNSIgc3Ryb2tlLWRhc2hhcnJheT0iMTY0LjkzMzYxNDMxMzQ2NDE1IDU2Ljk3Nzg3MTQzNzgyMTM4Ij4gICAgPGFuaW1hdGVUcmFuc2Zvcm0gYXR0cmlidXRlTmFtZT0idHJhbnNmb3JtIiB0eXBlPSJyb3RhdGUiIHJlcGVhdENvdW50PSJpbmRlZmluaXRlIiBkdXI9IjFzIiB2YWx1ZXM9IjAgNTAgNTA7MzYwIDUwIDUwIiBrZXlUaW1lcz0iMDsxIj48L2FuaW1hdGVUcmFuc2Zvcm0+ICA8L2NpcmNsZT48L3N2Zz4=\\\");\\n  background-size: auto calc(min(50%, 400px));\\n}\",{\"type\":\"object\",\"name\":\"ImportedStyleSheet\",\"id\":\"p1385\",\"attributes\":{\"url\":\"https://cdn.holoviz.org/panel/1.3.8/dist/css/loading.css\"}},{\"type\":\"object\",\"name\":\"ImportedStyleSheet\",\"id\":\"p1478\",\"attributes\":{\"url\":\"https://cdn.holoviz.org/panel/1.3.8/dist/css/listpanel.css\"}},{\"type\":\"object\",\"name\":\"ImportedStyleSheet\",\"id\":\"p1383\",\"attributes\":{\"url\":\"https://cdn.holoviz.org/panel/1.3.8/dist/bundled/theme/default.css\"}},{\"type\":\"object\",\"name\":\"ImportedStyleSheet\",\"id\":\"p1384\",\"attributes\":{\"url\":\"https://cdn.holoviz.org/panel/1.3.8/dist/bundled/theme/native.css\"}}],\"min_width\":700,\"margin\":0,\"sizing_mode\":\"stretch_width\",\"align\":\"start\",\"children\":[{\"type\":\"object\",\"name\":\"Spacer\",\"id\":\"p1386\",\"attributes\":{\"name\":\"HSpacer01652\",\"stylesheets\":[\"\\n:host(.pn-loading.pn-arc):before, .pn-loading.pn-arc:before {\\n  background-image: url(\\\"data:image/svg+xml;base64,PHN2ZyB4bWxucz0iaHR0cDovL3d3dy53My5vcmcvMjAwMC9zdmciIHN0eWxlPSJtYXJnaW46IGF1dG87IGJhY2tncm91bmQ6IG5vbmU7IGRpc3BsYXk6IGJsb2NrOyBzaGFwZS1yZW5kZXJpbmc6IGF1dG87IiB2aWV3Qm94PSIwIDAgMTAwIDEwMCIgcHJlc2VydmVBc3BlY3RSYXRpbz0ieE1pZFlNaWQiPiAgPGNpcmNsZSBjeD0iNTAiIGN5PSI1MCIgZmlsbD0ibm9uZSIgc3Ryb2tlPSIjYzNjM2MzIiBzdHJva2Utd2lkdGg9IjEwIiByPSIzNSIgc3Ryb2tlLWRhc2hhcnJheT0iMTY0LjkzMzYxNDMxMzQ2NDE1IDU2Ljk3Nzg3MTQzNzgyMTM4Ij4gICAgPGFuaW1hdGVUcmFuc2Zvcm0gYXR0cmlidXRlTmFtZT0idHJhbnNmb3JtIiB0eXBlPSJyb3RhdGUiIHJlcGVhdENvdW50PSJpbmRlZmluaXRlIiBkdXI9IjFzIiB2YWx1ZXM9IjAgNTAgNTA7MzYwIDUwIDUwIiBrZXlUaW1lcz0iMDsxIj48L2FuaW1hdGVUcmFuc2Zvcm0+ICA8L2NpcmNsZT48L3N2Zz4=\\\");\\n  background-size: auto calc(min(50%, 400px));\\n}\",{\"id\":\"p1385\"},{\"id\":\"p1383\"},{\"id\":\"p1384\"}],\"margin\":0,\"sizing_mode\":\"stretch_width\",\"align\":\"start\"}},{\"type\":\"object\",\"name\":\"Figure\",\"id\":\"p1399\",\"attributes\":{\"width\":700,\"height\":300,\"margin\":[5,10],\"sizing_mode\":\"fixed\",\"align\":\"start\",\"x_range\":{\"type\":\"object\",\"name\":\"Range1d\",\"id\":\"p1387\",\"attributes\":{\"tags\":[[[\"DATE\",\"DATE\",null]],[]],\"start\":1410912000000.0,\"end\":1601251200000.0,\"reset_start\":1410912000000.0,\"reset_end\":1601251200000.0}},\"y_range\":{\"type\":\"object\",\"name\":\"Range1d\",\"id\":\"p1388\",\"attributes\":{\"name\":\"CLOSE\",\"tags\":[[[\"CLOSE\",\"CLOSE\",null]],{\"type\":\"map\",\"entries\":[[\"invert_yaxis\",false],[\"autorange\",false]]}],\"start\":-1753.8267423999998,\"end\":21429.330130399998,\"reset_start\":-1753.8267423999998,\"reset_end\":21429.330130399998}},\"x_scale\":{\"type\":\"object\",\"name\":\"LinearScale\",\"id\":\"p1409\"},\"y_scale\":{\"type\":\"object\",\"name\":\"LinearScale\",\"id\":\"p1410\"},\"extra_y_ranges\":{\"type\":\"map\",\"entries\":[[\"BTC_NEWS_SEARCH\",{\"type\":\"object\",\"name\":\"Range1d\",\"id\":\"p1389\",\"attributes\":{\"name\":\"BTC_NEWS_SEARCH\",\"tags\":[[[\"BTC_NEWS_SEARCH\",\"BTC_NEWS_SEARCH\",null]],{\"type\":\"map\",\"entries\":[[\"invert_yaxis\",false],[\"autorange\",false]]}],\"start\":-6.700000000000001,\"end\":109.7,\"reset_start\":-6.700000000000001,\"reset_end\":109.7}}]]},\"extra_y_scales\":{\"type\":\"map\",\"entries\":[[\"BTC_NEWS_SEARCH\",{\"type\":\"object\",\"name\":\"LinearScale\",\"id\":\"p1392\"}]]},\"title\":{\"type\":\"object\",\"name\":\"Title\",\"id\":\"p1402\",\"attributes\":{\"text\":\"Tesla Web Search vs Price\",\"text_color\":\"black\",\"text_font_size\":\"15pt\"}},\"renderers\":[{\"type\":\"object\",\"name\":\"GlyphRenderer\",\"id\":\"p1455\",\"attributes\":{\"name\":\"Price\",\"data_source\":{\"type\":\"object\",\"name\":\"ColumnDataSource\",\"id\":\"p1446\",\"attributes\":{\"selected\":{\"type\":\"object\",\"name\":\"Selection\",\"id\":\"p1447\",\"attributes\":{\"indices\":[],\"line_indices\":[]}},\"selection_policy\":{\"type\":\"object\",\"name\":\"UnionRenderers\",\"id\":\"p1448\"},\"data\":{\"type\":\"map\",\"entries\":[[\"DATE\",{\"type\":\"ndarray\",\"array\":{\"type\":\"bytes\",\"data\":\"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\"},\"shape\":[2203],\"dtype\":\"float64\",\"order\":\"little\"}],[\"CLOSE\",{\"type\":\"ndarray\",\"array\":{\"type\":\"bytes\",\"data\":\"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\"},\"shape\":[2203],\"dtype\":\"float64\",\"order\":\"little\"}]]}}},\"view\":{\"type\":\"object\",\"name\":\"CDSView\",\"id\":\"p1456\",\"attributes\":{\"filter\":{\"type\":\"object\",\"name\":\"AllIndices\",\"id\":\"p1457\"}}},\"glyph\":{\"type\":\"object\",\"name\":\"Line\",\"id\":\"p1452\",\"attributes\":{\"tags\":[\"apply_ranges\"],\"x\":{\"type\":\"field\",\"field\":\"DATE\"},\"y\":{\"type\":\"field\",\"field\":\"CLOSE\"},\"line_color\":\"#30a2da\",\"line_width\":2}},\"selection_glyph\":{\"type\":\"object\",\"name\":\"Line\",\"id\":\"p1460\",\"attributes\":{\"tags\":[\"apply_ranges\"],\"x\":{\"type\":\"field\",\"field\":\"DATE\"},\"y\":{\"type\":\"field\",\"field\":\"CLOSE\"},\"line_color\":\"#30a2da\",\"line_width\":2}},\"nonselection_glyph\":{\"type\":\"object\",\"name\":\"Line\",\"id\":\"p1453\",\"attributes\":{\"tags\":[\"apply_ranges\"],\"x\":{\"type\":\"field\",\"field\":\"DATE\"},\"y\":{\"type\":\"field\",\"field\":\"CLOSE\"},\"line_color\":\"#30a2da\",\"line_alpha\":0.1,\"line_width\":2}},\"muted_glyph\":{\"type\":\"object\",\"name\":\"Line\",\"id\":\"p1454\",\"attributes\":{\"tags\":[\"apply_ranges\"],\"x\":{\"type\":\"field\",\"field\":\"DATE\"},\"y\":{\"type\":\"field\",\"field\":\"CLOSE\"},\"line_color\":\"#30a2da\",\"line_alpha\":0.2,\"line_width\":2}}}},{\"type\":\"object\",\"name\":\"GlyphRenderer\",\"id\":\"p1470\",\"attributes\":{\"name\":\"News Search\",\"y_range_name\":\"BTC_NEWS_SEARCH\",\"data_source\":{\"type\":\"object\",\"name\":\"ColumnDataSource\",\"id\":\"p1461\",\"attributes\":{\"selected\":{\"type\":\"object\",\"name\":\"Selection\",\"id\":\"p1462\",\"attributes\":{\"indices\":[],\"line_indices\":[]}},\"selection_policy\":{\"type\":\"object\",\"name\":\"UnionRenderers\",\"id\":\"p1463\"},\"data\":{\"type\":\"map\",\"entries\":[[\"MONTH\",{\"type\":\"ndarray\",\"array\":{\"type\":\"bytes\",\"data\":\"AACALeiCdEIAAAAakIx0QgAAQGyKlnRCAADAWDKgdEIAAACrLKp0QgAAQP0mtHRCAABAHiq9dEIAAIBwJMd0QgAAAF3M0HRCAABAr8badEIAAMCbbuR0QgAAAO5o7nRCAABAQGP4dEIAAMAsCwJ1QgAAAH8FDHVCAACAa60VdUIAAMC9px91QgAAABCiKXVCAADAlvcydUIAAADp8Tx1QgAAgNWZRnVCAADAJ5RQdUIAAEAUPFp1QgAAgGY2ZHVCAADAuDBudUIAAECl2Hd1QgAAgPfSgXVCAAAA5HqLdUIAAEA2dZV1QgAAgIhvn3VCAACAqXKodUIAAMD7bLJ1QgAAQOgUvHVCAACAOg/GdUIAAAAnt891QgAAQHmx2XVCAACAy6vjdUIAAAC4U+11QgAAQApO93VCAADA9vUAdkIAAABJ8Ap2QgAAQJvqFHZCAABAvO0ddkIAAIAO6Cd2QgAAAPuPMXZCAABATYo7dkIAAMA5MkV2QgAAAIwsT3ZCAABA3iZZdkIAAMDKzmJ2QgAAAB3JbHZCAACACXF2dkIAAMBba4B2QgAAAK5linZCAAAAz2iTdkIAAEAhY512QgAAwA0Lp3ZCAAAAYAWxdkIAAIBMrbp2QgAAwJ6nxHZCAAAA8aHOdkIAAIDdSdh2QgAAwC9E4nZCAABAHOzrdkIAAIBu5vV2QgAAwMDg/3ZCAACARzYJd0IAAMCZMBN3QgAAQIbYHHdCAACA2NImd0IAAADFejB3QgAAQBd1OndCAACAaW9Ed0I=\"},\"shape\":[73],\"dtype\":\"float64\",\"order\":\"little\"}],[\"BTC_NEWS_SEARCH\",{\"type\":\"ndarray\",\"array\":{\"type\":\"bytes\",\"data\":\"BQAAAAQAAAAEAAAABAAAAAUAAAAEAAAABgAAAAMAAAADAAAAAwAAAAQAAAADAAAAAwAAAAMAAAAEAAAABQAAAAQAAAAEAAAABQAAAAMAAAAGAAAABgAAAAYAAAAGAAAABQAAAAUAAAAFAAAABgAAAAkAAAAIAAAADAAAAAUAAAAPAAAADQAAAA4AAAAWAAAAGgAAABkAAAAyAAAAZAAAAD4AAAA0AAAAHgAAABkAAAAVAAAAEgAAABIAAAAUAAAAEQAAAA4AAAAXAAAAEwAAAA8AAAAPAAAADgAAABMAAAAaAAAAGgAAABUAAAARAAAADwAAABAAAAAOAAAADgAAABAAAAASAAAADwAAAA8AAAAWAAAADQAAAA4AAAAQAAAADQAAAA==\"},\"shape\":[73],\"dtype\":\"int32\",\"order\":\"little\"}]]}}},\"view\":{\"type\":\"object\",\"name\":\"CDSView\",\"id\":\"p1471\",\"attributes\":{\"filter\":{\"type\":\"object\",\"name\":\"AllIndices\",\"id\":\"p1472\"}}},\"glyph\":{\"type\":\"object\",\"name\":\"Line\",\"id\":\"p1467\",\"attributes\":{\"tags\":[\"apply_ranges\"],\"x\":{\"type\":\"field\",\"field\":\"MONTH\"},\"y\":{\"type\":\"field\",\"field\":\"BTC_NEWS_SEARCH\"},\"line_color\":\"#fc4f30\",\"line_width\":2}},\"selection_glyph\":{\"type\":\"object\",\"name\":\"Line\",\"id\":\"p1474\",\"attributes\":{\"tags\":[\"apply_ranges\"],\"x\":{\"type\":\"field\",\"field\":\"MONTH\"},\"y\":{\"type\":\"field\",\"field\":\"BTC_NEWS_SEARCH\"},\"line_color\":\"#fc4f30\",\"line_width\":2}},\"nonselection_glyph\":{\"type\":\"object\",\"name\":\"Line\",\"id\":\"p1468\",\"attributes\":{\"tags\":[\"apply_ranges\"],\"x\":{\"type\":\"field\",\"field\":\"MONTH\"},\"y\":{\"type\":\"field\",\"field\":\"BTC_NEWS_SEARCH\"},\"line_color\":\"#fc4f30\",\"line_alpha\":0.1,\"line_width\":2}},\"muted_glyph\":{\"type\":\"object\",\"name\":\"Line\",\"id\":\"p1469\",\"attributes\":{\"tags\":[\"apply_ranges\"],\"x\":{\"type\":\"field\",\"field\":\"MONTH\"},\"y\":{\"type\":\"field\",\"field\":\"BTC_NEWS_SEARCH\"},\"line_color\":\"#fc4f30\",\"line_alpha\":0.2,\"line_width\":2}}}}],\"toolbar\":{\"type\":\"object\",\"name\":\"Toolbar\",\"id\":\"p1408\",\"attributes\":{\"tools\":[{\"type\":\"object\",\"name\":\"WheelZoomTool\",\"id\":\"p1394\",\"attributes\":{\"tags\":[\"hv_created\"],\"renderers\":\"auto\",\"zoom_together\":\"none\"}},{\"type\":\"object\",\"name\":\"HoverTool\",\"id\":\"p1395\",\"attributes\":{\"tags\":[\"hv_created\"],\"renderers\":[{\"id\":\"p1455\"}],\"tooltips\":[[\"DATE\",\"@{DATE}{%F %T}\"],[\"CLOSE\",\"@{CLOSE}\"]],\"formatters\":{\"type\":\"map\",\"entries\":[[\"@{DATE}\",\"datetime\"]]}}},{\"type\":\"object\",\"name\":\"HoverTool\",\"id\":\"p1398\",\"attributes\":{\"tags\":[\"hv_created\"],\"renderers\":[{\"id\":\"p1470\"}],\"tooltips\":[[\"MONTH\",\"@{MONTH}{%F %T}\"],[\"BTC_NEWS_SEARCH\",\"@{BTC_NEWS_SEARCH}\"]],\"formatters\":{\"type\":\"map\",\"entries\":[[\"@{MONTH}\",\"datetime\"]]}}},{\"type\":\"object\",\"name\":\"SaveTool\",\"id\":\"p1433\"},{\"type\":\"object\",\"name\":\"PanTool\",\"id\":\"p1434\"},{\"type\":\"object\",\"name\":\"BoxZoomTool\",\"id\":\"p1435\",\"attributes\":{\"overlay\":{\"type\":\"object\",\"name\":\"BoxAnnotation\",\"id\":\"p1436\",\"attributes\":{\"syncable\":false,\"level\":\"overlay\",\"visible\":false,\"left\":{\"type\":\"number\",\"value\":\"nan\"},\"right\":{\"type\":\"number\",\"value\":\"nan\"},\"top\":{\"type\":\"number\",\"value\":\"nan\"},\"bottom\":{\"type\":\"number\",\"value\":\"nan\"},\"left_units\":\"canvas\",\"right_units\":\"canvas\",\"top_units\":\"canvas\",\"bottom_units\":\"canvas\",\"line_color\":\"black\",\"line_alpha\":1.0,\"line_width\":2,\"line_dash\":[4,4],\"fill_color\":\"lightgrey\",\"fill_alpha\":0.5}}}},{\"type\":\"object\",\"name\":\"ResetTool\",\"id\":\"p1441\"}],\"active_drag\":{\"id\":\"p1434\"},\"active_scroll\":{\"id\":\"p1394\"}}},\"left\":[{\"type\":\"object\",\"name\":\"LinearAxis\",\"id\":\"p1428\",\"attributes\":{\"ticker\":{\"type\":\"object\",\"name\":\"BasicTicker\",\"id\":\"p1429\",\"attributes\":{\"mantissas\":[1,2,5]}},\"formatter\":{\"type\":\"object\",\"name\":\"BasicTickFormatter\",\"id\":\"p1430\"},\"axis_label\":\"CLOSE\",\"axis_label_text_font_size\":\"16.25px\",\"major_label_policy\":{\"type\":\"object\",\"name\":\"AllLabels\",\"id\":\"p1431\"},\"major_label_text_font_size\":\"13.75px\"}}],\"right\":[{\"type\":\"object\",\"name\":\"LinearAxis\",\"id\":\"p1442\",\"attributes\":{\"y_range_name\":\"BTC_NEWS_SEARCH\",\"ticker\":{\"type\":\"object\",\"name\":\"BasicTicker\",\"id\":\"p1443\",\"attributes\":{\"mantissas\":[1,2,5]}},\"formatter\":{\"type\":\"object\",\"name\":\"BasicTickFormatter\",\"id\":\"p1444\"},\"axis_label\":\"BTC_NEWS_SEARCH\",\"axis_label_text_font_size\":\"16.25px\",\"major_label_policy\":{\"type\":\"object\",\"name\":\"AllLabels\",\"id\":\"p1445\"},\"major_label_text_font_size\":\"13.75px\"}}],\"below\":[{\"type\":\"object\",\"name\":\"DatetimeAxis\",\"id\":\"p1411\",\"attributes\":{\"ticker\":{\"type\":\"object\",\"name\":\"DatetimeTicker\",\"id\":\"p1412\",\"attributes\":{\"num_minor_ticks\":5,\"tickers\":[{\"type\":\"object\",\"name\":\"AdaptiveTicker\",\"id\":\"p1413\",\"attributes\":{\"num_minor_ticks\":0,\"mantissas\":[1,2,5],\"max_interval\":500.0}},{\"type\":\"object\",\"name\":\"AdaptiveTicker\",\"id\":\"p1414\",\"attributes\":{\"num_minor_ticks\":0,\"base\":60,\"mantissas\":[1,2,5,10,15,20,30],\"min_interval\":1000.0,\"max_interval\":1800000.0}},{\"type\":\"object\",\"name\":\"AdaptiveTicker\",\"id\":\"p1415\",\"attributes\":{\"num_minor_ticks\":0,\"base\":24,\"mantissas\":[1,2,4,6,8,12],\"min_interval\":3600000.0,\"max_interval\":43200000.0}},{\"type\":\"object\",\"name\":\"DaysTicker\",\"id\":\"p1416\",\"attributes\":{\"days\":[1,2,3,4,5,6,7,8,9,10,11,12,13,14,15,16,17,18,19,20,21,22,23,24,25,26,27,28,29,30,31]}},{\"type\":\"object\",\"name\":\"DaysTicker\",\"id\":\"p1417\",\"attributes\":{\"days\":[1,4,7,10,13,16,19,22,25,28]}},{\"type\":\"object\",\"name\":\"DaysTicker\",\"id\":\"p1418\",\"attributes\":{\"days\":[1,8,15,22]}},{\"type\":\"object\",\"name\":\"DaysTicker\",\"id\":\"p1419\",\"attributes\":{\"days\":[1,15]}},{\"type\":\"object\",\"name\":\"MonthsTicker\",\"id\":\"p1420\",\"attributes\":{\"months\":[0,1,2,3,4,5,6,7,8,9,10,11]}},{\"type\":\"object\",\"name\":\"MonthsTicker\",\"id\":\"p1421\",\"attributes\":{\"months\":[0,2,4,6,8,10]}},{\"type\":\"object\",\"name\":\"MonthsTicker\",\"id\":\"p1422\",\"attributes\":{\"months\":[0,4,8]}},{\"type\":\"object\",\"name\":\"MonthsTicker\",\"id\":\"p1423\",\"attributes\":{\"months\":[0,6]}},{\"type\":\"object\",\"name\":\"YearsTicker\",\"id\":\"p1424\"}]}},\"formatter\":{\"type\":\"object\",\"name\":\"DatetimeTickFormatter\",\"id\":\"p1425\"},\"axis_label\":\"DATE\",\"major_label_policy\":{\"type\":\"object\",\"name\":\"AllLabels\",\"id\":\"p1426\"}}}],\"center\":[{\"type\":\"object\",\"name\":\"Grid\",\"id\":\"p1427\",\"attributes\":{\"axis\":{\"id\":\"p1411\"},\"grid_line_color\":null}},{\"type\":\"object\",\"name\":\"Grid\",\"id\":\"p1432\",\"attributes\":{\"dimension\":1,\"axis\":{\"id\":\"p1428\"},\"grid_line_color\":null}},{\"type\":\"object\",\"name\":\"Legend\",\"id\":\"p1458\",\"attributes\":{\"title_text_font_size\":\"16.25px\",\"click_policy\":\"mute\",\"label_text_font_size\":\"16.25px\",\"items\":[{\"type\":\"object\",\"name\":\"LegendItem\",\"id\":\"p1459\",\"attributes\":{\"label\":{\"type\":\"value\",\"value\":\"Price\"},\"renderers\":[{\"id\":\"p1455\"}]}},{\"type\":\"object\",\"name\":\"LegendItem\",\"id\":\"p1473\",\"attributes\":{\"label\":{\"type\":\"value\",\"value\":\"News Search\"},\"renderers\":[{\"id\":\"p1470\"}]}}]}}],\"min_border_top\":10,\"min_border_bottom\":10,\"min_border_left\":10,\"min_border_right\":10,\"output_backend\":\"webgl\"}},{\"type\":\"object\",\"name\":\"Spacer\",\"id\":\"p1476\",\"attributes\":{\"name\":\"HSpacer01653\",\"stylesheets\":[\"\\n:host(.pn-loading.pn-arc):before, .pn-loading.pn-arc:before {\\n  background-image: url(\\\"data:image/svg+xml;base64,PHN2ZyB4bWxucz0iaHR0cDovL3d3dy53My5vcmcvMjAwMC9zdmciIHN0eWxlPSJtYXJnaW46IGF1dG87IGJhY2tncm91bmQ6IG5vbmU7IGRpc3BsYXk6IGJsb2NrOyBzaGFwZS1yZW5kZXJpbmc6IGF1dG87IiB2aWV3Qm94PSIwIDAgMTAwIDEwMCIgcHJlc2VydmVBc3BlY3RSYXRpbz0ieE1pZFlNaWQiPiAgPGNpcmNsZSBjeD0iNTAiIGN5PSI1MCIgZmlsbD0ibm9uZSIgc3Ryb2tlPSIjYzNjM2MzIiBzdHJva2Utd2lkdGg9IjEwIiByPSIzNSIgc3Ryb2tlLWRhc2hhcnJheT0iMTY0LjkzMzYxNDMxMzQ2NDE1IDU2Ljk3Nzg3MTQzNzgyMTM4Ij4gICAgPGFuaW1hdGVUcmFuc2Zvcm0gYXR0cmlidXRlTmFtZT0idHJhbnNmb3JtIiB0eXBlPSJyb3RhdGUiIHJlcGVhdENvdW50PSJpbmRlZmluaXRlIiBkdXI9IjFzIiB2YWx1ZXM9IjAgNTAgNTA7MzYwIDUwIDUwIiBrZXlUaW1lcz0iMDsxIj48L2FuaW1hdGVUcmFuc2Zvcm0+ICA8L2NpcmNsZT48L3N2Zz4=\\\");\\n  background-size: auto calc(min(50%, 400px));\\n}\",{\"id\":\"p1385\"},{\"id\":\"p1383\"},{\"id\":\"p1384\"}],\"margin\":0,\"sizing_mode\":\"stretch_width\",\"align\":\"start\"}}]}}],\"defs\":[{\"type\":\"model\",\"name\":\"ReactiveHTML1\"},{\"type\":\"model\",\"name\":\"FlexBox1\",\"properties\":[{\"name\":\"align_content\",\"kind\":\"Any\",\"default\":\"flex-start\"},{\"name\":\"align_items\",\"kind\":\"Any\",\"default\":\"flex-start\"},{\"name\":\"flex_direction\",\"kind\":\"Any\",\"default\":\"row\"},{\"name\":\"flex_wrap\",\"kind\":\"Any\",\"default\":\"wrap\"},{\"name\":\"justify_content\",\"kind\":\"Any\",\"default\":\"flex-start\"}]},{\"type\":\"model\",\"name\":\"FloatPanel1\",\"properties\":[{\"name\":\"config\",\"kind\":\"Any\",\"default\":{\"type\":\"map\"}},{\"name\":\"contained\",\"kind\":\"Any\",\"default\":true},{\"name\":\"position\",\"kind\":\"Any\",\"default\":\"right-top\"},{\"name\":\"offsetx\",\"kind\":\"Any\",\"default\":null},{\"name\":\"offsety\",\"kind\":\"Any\",\"default\":null},{\"name\":\"theme\",\"kind\":\"Any\",\"default\":\"primary\"},{\"name\":\"status\",\"kind\":\"Any\",\"default\":\"normalized\"}]},{\"type\":\"model\",\"name\":\"GridStack1\",\"properties\":[{\"name\":\"mode\",\"kind\":\"Any\",\"default\":\"warn\"},{\"name\":\"ncols\",\"kind\":\"Any\",\"default\":null},{\"name\":\"nrows\",\"kind\":\"Any\",\"default\":null},{\"name\":\"allow_resize\",\"kind\":\"Any\",\"default\":true},{\"name\":\"allow_drag\",\"kind\":\"Any\",\"default\":true},{\"name\":\"state\",\"kind\":\"Any\",\"default\":[]}]},{\"type\":\"model\",\"name\":\"drag1\",\"properties\":[{\"name\":\"slider_width\",\"kind\":\"Any\",\"default\":5},{\"name\":\"slider_color\",\"kind\":\"Any\",\"default\":\"black\"},{\"name\":\"value\",\"kind\":\"Any\",\"default\":50}]},{\"type\":\"model\",\"name\":\"click1\",\"properties\":[{\"name\":\"terminal_output\",\"kind\":\"Any\",\"default\":\"\"},{\"name\":\"debug_name\",\"kind\":\"Any\",\"default\":\"\"},{\"name\":\"clears\",\"kind\":\"Any\",\"default\":0}]},{\"type\":\"model\",\"name\":\"copy_to_clipboard1\",\"properties\":[{\"name\":\"fill\",\"kind\":\"Any\",\"default\":\"none\"},{\"name\":\"value\",\"kind\":\"Any\",\"default\":null}]},{\"type\":\"model\",\"name\":\"FastWrapper1\",\"properties\":[{\"name\":\"object\",\"kind\":\"Any\",\"default\":null},{\"name\":\"style\",\"kind\":\"Any\",\"default\":null}]},{\"type\":\"model\",\"name\":\"NotificationAreaBase1\",\"properties\":[{\"name\":\"js_events\",\"kind\":\"Any\",\"default\":{\"type\":\"map\"}},{\"name\":\"position\",\"kind\":\"Any\",\"default\":\"bottom-right\"},{\"name\":\"_clear\",\"kind\":\"Any\",\"default\":0}]},{\"type\":\"model\",\"name\":\"NotificationArea1\",\"properties\":[{\"name\":\"js_events\",\"kind\":\"Any\",\"default\":{\"type\":\"map\"}},{\"name\":\"notifications\",\"kind\":\"Any\",\"default\":[]},{\"name\":\"position\",\"kind\":\"Any\",\"default\":\"bottom-right\"},{\"name\":\"_clear\",\"kind\":\"Any\",\"default\":0},{\"name\":\"types\",\"kind\":\"Any\",\"default\":[{\"type\":\"map\",\"entries\":[[\"type\",\"warning\"],[\"background\",\"#ffc107\"],[\"icon\",{\"type\":\"map\",\"entries\":[[\"className\",\"fas fa-exclamation-triangle\"],[\"tagName\",\"i\"],[\"color\",\"white\"]]}]]},{\"type\":\"map\",\"entries\":[[\"type\",\"info\"],[\"background\",\"#007bff\"],[\"icon\",{\"type\":\"map\",\"entries\":[[\"className\",\"fas fa-info-circle\"],[\"tagName\",\"i\"],[\"color\",\"white\"]]}]]}]}]},{\"type\":\"model\",\"name\":\"Notification\",\"properties\":[{\"name\":\"background\",\"kind\":\"Any\",\"default\":null},{\"name\":\"duration\",\"kind\":\"Any\",\"default\":3000},{\"name\":\"icon\",\"kind\":\"Any\",\"default\":null},{\"name\":\"message\",\"kind\":\"Any\",\"default\":\"\"},{\"name\":\"notification_type\",\"kind\":\"Any\",\"default\":null},{\"name\":\"_destroyed\",\"kind\":\"Any\",\"default\":false}]},{\"type\":\"model\",\"name\":\"TemplateActions1\",\"properties\":[{\"name\":\"open_modal\",\"kind\":\"Any\",\"default\":0},{\"name\":\"close_modal\",\"kind\":\"Any\",\"default\":0}]},{\"type\":\"model\",\"name\":\"BootstrapTemplateActions1\",\"properties\":[{\"name\":\"open_modal\",\"kind\":\"Any\",\"default\":0},{\"name\":\"close_modal\",\"kind\":\"Any\",\"default\":0}]},{\"type\":\"model\",\"name\":\"MaterialTemplateActions1\",\"properties\":[{\"name\":\"open_modal\",\"kind\":\"Any\",\"default\":0},{\"name\":\"close_modal\",\"kind\":\"Any\",\"default\":0}]}]}};\n",
       "  var render_items = [{\"docid\":\"87dd1669-daac-402e-b02a-0b80c0098b0a\",\"roots\":{\"p1382\":\"b4294ca5-5161-432d-b935-c9ff189512e7\"},\"root_ids\":[\"p1382\"]}];\n",
       "  var docs = Object.values(docs_json)\n",
       "  if (!docs) {\n",
       "    return\n",
       "  }\n",
       "  const py_version = docs[0].version.replace('rc', '-rc.').replace('.dev', '-dev.')\n",
       "  function embed_document(root) {\n",
       "    var Bokeh = get_bokeh(root)\n",
       "    Bokeh.embed.embed_items_notebook(docs_json, render_items);\n",
       "    for (const render_item of render_items) {\n",
       "      for (const root_id of render_item.root_ids) {\n",
       "\tconst id_el = document.getElementById(root_id)\n",
       "\tif (id_el.children.length && (id_el.children[0].className === 'bk-root')) {\n",
       "\t  const root_el = id_el.children[0]\n",
       "\t  root_el.id = root_el.id + '-rendered'\n",
       "\t}\n",
       "      }\n",
       "    }\n",
       "  }\n",
       "  function get_bokeh(root) {\n",
       "    if (root.Bokeh === undefined) {\n",
       "      return null\n",
       "    } else if (root.Bokeh.version !== py_version) {\n",
       "      if (root.Bokeh.versions === undefined || !root.Bokeh.versions.has(py_version)) {\n",
       "\treturn null\n",
       "      }\n",
       "      return root.Bokeh.versions.get(py_version);\n",
       "    } else if (root.Bokeh.version === py_version) {\n",
       "      return root.Bokeh\n",
       "    }\n",
       "    return null\n",
       "  }\n",
       "  function is_loaded(root) {\n",
       "    var Bokeh = get_bokeh(root)\n",
       "    return (Bokeh != null && Bokeh.Panel !== undefined)\n",
       "  }\n",
       "  if (is_loaded(root)) {\n",
       "    embed_document(root);\n",
       "  } else {\n",
       "    var attempts = 0;\n",
       "    var timer = setInterval(function(root) {\n",
       "      if (is_loaded(root)) {\n",
       "        clearInterval(timer);\n",
       "        embed_document(root);\n",
       "      } else if (document.readyState == \"complete\") {\n",
       "        attempts++;\n",
       "        if (attempts > 200) {\n",
       "          clearInterval(timer);\n",
       "\t  var Bokeh = get_bokeh(root)\n",
       "\t  if (Bokeh == null || Bokeh.Panel == null) {\n",
       "            console.warn(\"Panel: ERROR: Unable to run Panel code because Bokeh or Panel library is missing\");\n",
       "\t  } else {\n",
       "\t    console.warn(\"Panel: WARNING: Attempting to render but not all required libraries could be resolved.\")\n",
       "\t    embed_document(root)\n",
       "\t  }\n",
       "        }\n",
       "      }\n",
       "    }, 25, root)\n",
       "  }\n",
       "})(window);</script>"
      ],
      "text/plain": [
       ":Overlay\n",
       "   .Curve.Price       :Curve   [DATE]   (CLOSE)\n",
       "   .Curve.News_Search :Curve   [MONTH]   (BTC_NEWS_SEARCH)"
      ]
     },
     "execution_count": 36,
     "metadata": {
      "application/vnd.holoviews_exec.v0+json": {
       "id": "p1382"
      }
     },
     "output_type": "execute_result"
    }
   ],
   "source": [
    "(plot1 * plot2).opts(multi_y=True, fontscale=1.25, title=\"Tesla Web Search vs Price\", xformatter=formatter)"
   ]
  },
  {
   "cell_type": "markdown",
   "metadata": {},
   "source": [
    "### Bitcoin (BTC) Price v.s. Search Volume"
   ]
  },
  {
   "cell_type": "markdown",
   "metadata": {},
   "source": [
    "**Challenge**: Create the same chart for the Bitcoin Prices vs. Search volumes. <br>\n",
    "1. Modify the chart title to read 'Bitcoin News Search vs Resampled Price' <br>\n",
    "2. Change the y-axis label to 'BTC Price' <br>\n",
    "3. Change the y- and x-axis limits to improve the appearance <br>\n",
    "4. Investigate the [linestyles](https://matplotlib.org/3.2.1/api/_as_gen/matplotlib.pyplot.plot.html ) to make the BTC price a dashed line <br>\n",
    "5. Investigate the [marker types](https://matplotlib.org/3.2.1/api/markers_api.html) to make the search datapoints little circles <br>\n",
    "6. Were big increases in searches for Bitcoin accompanied by big increases in the price?"
   ]
  },
  {
   "cell_type": "code",
   "execution_count": 37,
   "metadata": {},
   "outputs": [
    {
     "data": {
      "application/javascript": "(function(root) {\n  function now() {\n    return new Date();\n  }\n\n  var force = true;\n  var py_version = '3.3.4'.replace('rc', '-rc.').replace('.dev', '-dev.');\n  var reloading = false;\n  var Bokeh = root.Bokeh;\n\n  if (typeof (root._bokeh_timeout) === \"undefined\" || force) {\n    root._bokeh_timeout = Date.now() + 5000;\n    root._bokeh_failed_load = false;\n  }\n\n  function run_callbacks() {\n    try {\n      root._bokeh_onload_callbacks.forEach(function(callback) {\n        if (callback != null)\n          callback();\n      });\n    } finally {\n      delete root._bokeh_onload_callbacks;\n    }\n    console.debug(\"Bokeh: all callbacks have finished\");\n  }\n\n  function load_libs(css_urls, js_urls, js_modules, js_exports, callback) {\n    if (css_urls == null) css_urls = [];\n    if (js_urls == null) js_urls = [];\n    if (js_modules == null) js_modules = [];\n    if (js_exports == null) js_exports = {};\n\n    root._bokeh_onload_callbacks.push(callback);\n\n    if (root._bokeh_is_loading > 0) {\n      console.debug(\"Bokeh: BokehJS is being loaded, scheduling callback at\", now());\n      return null;\n    }\n    if (js_urls.length === 0 && js_modules.length === 0 && Object.keys(js_exports).length === 0) {\n      run_callbacks();\n      return null;\n    }\n    if (!reloading) {\n      console.debug(\"Bokeh: BokehJS not loaded, scheduling load and callback at\", now());\n    }\n\n    function on_load() {\n      root._bokeh_is_loading--;\n      if (root._bokeh_is_loading === 0) {\n        console.debug(\"Bokeh: all BokehJS libraries/stylesheets loaded\");\n        run_callbacks()\n      }\n    }\n    window._bokeh_on_load = on_load\n\n    function on_error() {\n      console.error(\"failed to load \" + url);\n    }\n\n    var skip = [];\n    if (window.requirejs) {\n      window.requirejs.config({'packages': {}, 'paths': {'jspanel': 'https://cdn.jsdelivr.net/npm/jspanel4@4.12.0/dist/jspanel', 'jspanel-modal': 'https://cdn.jsdelivr.net/npm/jspanel4@4.12.0/dist/extensions/modal/jspanel.modal', 'jspanel-tooltip': 'https://cdn.jsdelivr.net/npm/jspanel4@4.12.0/dist/extensions/tooltip/jspanel.tooltip', 'jspanel-hint': 'https://cdn.jsdelivr.net/npm/jspanel4@4.12.0/dist/extensions/hint/jspanel.hint', 'jspanel-layout': 'https://cdn.jsdelivr.net/npm/jspanel4@4.12.0/dist/extensions/layout/jspanel.layout', 'jspanel-contextmenu': 'https://cdn.jsdelivr.net/npm/jspanel4@4.12.0/dist/extensions/contextmenu/jspanel.contextmenu', 'jspanel-dock': 'https://cdn.jsdelivr.net/npm/jspanel4@4.12.0/dist/extensions/dock/jspanel.dock', 'gridstack': 'https://cdn.jsdelivr.net/npm/gridstack@7.2.3/dist/gridstack-all', 'notyf': 'https://cdn.jsdelivr.net/npm/notyf@3/notyf.min'}, 'shim': {'jspanel': {'exports': 'jsPanel'}, 'gridstack': {'exports': 'GridStack'}}});\n      require([\"jspanel\"], function(jsPanel) {\n\twindow.jsPanel = jsPanel\n\ton_load()\n      })\n      require([\"jspanel-modal\"], function() {\n\ton_load()\n      })\n      require([\"jspanel-tooltip\"], function() {\n\ton_load()\n      })\n      require([\"jspanel-hint\"], function() {\n\ton_load()\n      })\n      require([\"jspanel-layout\"], function() {\n\ton_load()\n      })\n      require([\"jspanel-contextmenu\"], function() {\n\ton_load()\n      })\n      require([\"jspanel-dock\"], function() {\n\ton_load()\n      })\n      require([\"gridstack\"], function(GridStack) {\n\twindow.GridStack = GridStack\n\ton_load()\n      })\n      require([\"notyf\"], function() {\n\ton_load()\n      })\n      root._bokeh_is_loading = css_urls.length + 9;\n    } else {\n      root._bokeh_is_loading = css_urls.length + js_urls.length + js_modules.length + Object.keys(js_exports).length;\n    }\n\n    var existing_stylesheets = []\n    var links = document.getElementsByTagName('link')\n    for (var i = 0; i < links.length; i++) {\n      var link = links[i]\n      if (link.href != null) {\n\texisting_stylesheets.push(link.href)\n      }\n    }\n    for (var i = 0; i < css_urls.length; i++) {\n      var url = css_urls[i];\n      if (existing_stylesheets.indexOf(url) !== -1) {\n\ton_load()\n\tcontinue;\n      }\n      const element = document.createElement(\"link\");\n      element.onload = on_load;\n      element.onerror = on_error;\n      element.rel = \"stylesheet\";\n      element.type = \"text/css\";\n      element.href = url;\n      console.debug(\"Bokeh: injecting link tag for BokehJS stylesheet: \", url);\n      document.body.appendChild(element);\n    }    if (((window['jsPanel'] !== undefined) && (!(window['jsPanel'] instanceof HTMLElement))) || window.requirejs) {\n      var urls = ['https://cdn.holoviz.org/panel/1.3.8/dist/bundled/floatpanel/jspanel4@4.12.0/dist/jspanel.js', 'https://cdn.holoviz.org/panel/1.3.8/dist/bundled/floatpanel/jspanel4@4.12.0/dist/extensions/modal/jspanel.modal.js', 'https://cdn.holoviz.org/panel/1.3.8/dist/bundled/floatpanel/jspanel4@4.12.0/dist/extensions/tooltip/jspanel.tooltip.js', 'https://cdn.holoviz.org/panel/1.3.8/dist/bundled/floatpanel/jspanel4@4.12.0/dist/extensions/hint/jspanel.hint.js', 'https://cdn.holoviz.org/panel/1.3.8/dist/bundled/floatpanel/jspanel4@4.12.0/dist/extensions/layout/jspanel.layout.js', 'https://cdn.holoviz.org/panel/1.3.8/dist/bundled/floatpanel/jspanel4@4.12.0/dist/extensions/contextmenu/jspanel.contextmenu.js', 'https://cdn.holoviz.org/panel/1.3.8/dist/bundled/floatpanel/jspanel4@4.12.0/dist/extensions/dock/jspanel.dock.js'];\n      for (var i = 0; i < urls.length; i++) {\n        skip.push(urls[i])\n      }\n    }    if (((window['GridStack'] !== undefined) && (!(window['GridStack'] instanceof HTMLElement))) || window.requirejs) {\n      var urls = ['https://cdn.holoviz.org/panel/1.3.8/dist/bundled/gridstack/gridstack@7.2.3/dist/gridstack-all.js'];\n      for (var i = 0; i < urls.length; i++) {\n        skip.push(urls[i])\n      }\n    }    if (((window['Notyf'] !== undefined) && (!(window['Notyf'] instanceof HTMLElement))) || window.requirejs) {\n      var urls = ['https://cdn.holoviz.org/panel/1.3.8/dist/bundled/notificationarea/notyf@3/notyf.min.js'];\n      for (var i = 0; i < urls.length; i++) {\n        skip.push(urls[i])\n      }\n    }    var existing_scripts = []\n    var scripts = document.getElementsByTagName('script')\n    for (var i = 0; i < scripts.length; i++) {\n      var script = scripts[i]\n      if (script.src != null) {\n\texisting_scripts.push(script.src)\n      }\n    }\n    for (var i = 0; i < js_urls.length; i++) {\n      var url = js_urls[i];\n      if (skip.indexOf(url) !== -1 || existing_scripts.indexOf(url) !== -1) {\n\tif (!window.requirejs) {\n\t  on_load();\n\t}\n\tcontinue;\n      }\n      var element = document.createElement('script');\n      element.onload = on_load;\n      element.onerror = on_error;\n      element.async = false;\n      element.src = url;\n      console.debug(\"Bokeh: injecting script tag for BokehJS library: \", url);\n      document.head.appendChild(element);\n    }\n    for (var i = 0; i < js_modules.length; i++) {\n      var url = js_modules[i];\n      if (skip.indexOf(url) !== -1 || existing_scripts.indexOf(url) !== -1) {\n\tif (!window.requirejs) {\n\t  on_load();\n\t}\n\tcontinue;\n      }\n      var element = document.createElement('script');\n      element.onload = on_load;\n      element.onerror = on_error;\n      element.async = false;\n      element.src = url;\n      element.type = \"module\";\n      console.debug(\"Bokeh: injecting script tag for BokehJS library: \", url);\n      document.head.appendChild(element);\n    }\n    for (const name in js_exports) {\n      var url = js_exports[name];\n      if (skip.indexOf(url) >= 0 || root[name] != null) {\n\tif (!window.requirejs) {\n\t  on_load();\n\t}\n\tcontinue;\n      }\n      var element = document.createElement('script');\n      element.onerror = on_error;\n      element.async = false;\n      element.type = \"module\";\n      console.debug(\"Bokeh: injecting script tag for BokehJS library: \", url);\n      element.textContent = `\n      import ${name} from \"${url}\"\n      window.${name} = ${name}\n      window._bokeh_on_load()\n      `\n      document.head.appendChild(element);\n    }\n    if (!js_urls.length && !js_modules.length) {\n      on_load()\n    }\n  };\n\n  function inject_raw_css(css) {\n    const element = document.createElement(\"style\");\n    element.appendChild(document.createTextNode(css));\n    document.body.appendChild(element);\n  }\n\n  var js_urls = [\"https://cdn.bokeh.org/bokeh/release/bokeh-3.3.4.min.js\", \"https://cdn.bokeh.org/bokeh/release/bokeh-gl-3.3.4.min.js\", \"https://cdn.bokeh.org/bokeh/release/bokeh-widgets-3.3.4.min.js\", \"https://cdn.bokeh.org/bokeh/release/bokeh-tables-3.3.4.min.js\", \"https://cdn.holoviz.org/panel/1.3.8/dist/panel.min.js\"];\n  var js_modules = [];\n  var js_exports = {};\n  var css_urls = [];\n  var inline_js = [    function(Bokeh) {\n      Bokeh.set_log_level(\"info\");\n    },\nfunction(Bokeh) {} // ensure no trailing comma for IE\n  ];\n\n  function run_inline_js() {\n    if ((root.Bokeh !== undefined) || (force === true)) {\n      for (var i = 0; i < inline_js.length; i++) {\n\ttry {\n          inline_js[i].call(root, root.Bokeh);\n\t} catch(e) {\n\t  if (!reloading) {\n\t    throw e;\n\t  }\n\t}\n      }\n      // Cache old bokeh versions\n      if (Bokeh != undefined && !reloading) {\n\tvar NewBokeh = root.Bokeh;\n\tif (Bokeh.versions === undefined) {\n\t  Bokeh.versions = new Map();\n\t}\n\tif (NewBokeh.version !== Bokeh.version) {\n\t  Bokeh.versions.set(NewBokeh.version, NewBokeh)\n\t}\n\troot.Bokeh = Bokeh;\n      }} else if (Date.now() < root._bokeh_timeout) {\n      setTimeout(run_inline_js, 100);\n    } else if (!root._bokeh_failed_load) {\n      console.log(\"Bokeh: BokehJS failed to load within specified timeout.\");\n      root._bokeh_failed_load = true;\n    }\n    root._bokeh_is_initializing = false\n  }\n\n  function load_or_wait() {\n    // Implement a backoff loop that tries to ensure we do not load multiple\n    // versions of Bokeh and its dependencies at the same time.\n    // In recent versions we use the root._bokeh_is_initializing flag\n    // to determine whether there is an ongoing attempt to initialize\n    // bokeh, however for backward compatibility we also try to ensure\n    // that we do not start loading a newer (Panel>=1.0 and Bokeh>3) version\n    // before older versions are fully initialized.\n    if (root._bokeh_is_initializing && Date.now() > root._bokeh_timeout) {\n      root._bokeh_is_initializing = false;\n      root._bokeh_onload_callbacks = undefined;\n      console.log(\"Bokeh: BokehJS was loaded multiple times but one version failed to initialize.\");\n      load_or_wait();\n    } else if (root._bokeh_is_initializing || (typeof root._bokeh_is_initializing === \"undefined\" && root._bokeh_onload_callbacks !== undefined)) {\n      setTimeout(load_or_wait, 100);\n    } else {\n      root._bokeh_is_initializing = true\n      root._bokeh_onload_callbacks = []\n      var bokeh_loaded = Bokeh != null && (Bokeh.version === py_version || (Bokeh.versions !== undefined && Bokeh.versions.has(py_version)));\n      if (!reloading && !bokeh_loaded) {\n\troot.Bokeh = undefined;\n      }\n      load_libs(css_urls, js_urls, js_modules, js_exports, function() {\n\tconsole.debug(\"Bokeh: BokehJS plotting callback run at\", now());\n\trun_inline_js();\n      });\n    }\n  }\n  // Give older versions of the autoload script a head-start to ensure\n  // they initialize before we start loading newer version.\n  setTimeout(load_or_wait, 100)\n}(window));",
      "application/vnd.holoviews_load.v0+json": ""
     },
     "metadata": {},
     "output_type": "display_data"
    },
    {
     "data": {
      "application/javascript": "\nif ((window.PyViz === undefined) || (window.PyViz instanceof HTMLElement)) {\n  window.PyViz = {comms: {}, comm_status:{}, kernels:{}, receivers: {}, plot_index: []}\n}\n\n\n    function JupyterCommManager() {\n    }\n\n    JupyterCommManager.prototype.register_target = function(plot_id, comm_id, msg_handler) {\n      if (window.comm_manager || ((window.Jupyter !== undefined) && (Jupyter.notebook.kernel != null))) {\n        var comm_manager = window.comm_manager || Jupyter.notebook.kernel.comm_manager;\n        comm_manager.register_target(comm_id, function(comm) {\n          comm.on_msg(msg_handler);\n        });\n      } else if ((plot_id in window.PyViz.kernels) && (window.PyViz.kernels[plot_id])) {\n        window.PyViz.kernels[plot_id].registerCommTarget(comm_id, function(comm) {\n          comm.onMsg = msg_handler;\n        });\n      } else if (typeof google != 'undefined' && google.colab.kernel != null) {\n        google.colab.kernel.comms.registerTarget(comm_id, (comm) => {\n          var messages = comm.messages[Symbol.asyncIterator]();\n          function processIteratorResult(result) {\n            var message = result.value;\n            console.log(message)\n            var content = {data: message.data, comm_id};\n            var buffers = []\n            for (var buffer of message.buffers || []) {\n              buffers.push(new DataView(buffer))\n            }\n            var metadata = message.metadata || {};\n            var msg = {content, buffers, metadata}\n            msg_handler(msg);\n            return messages.next().then(processIteratorResult);\n          }\n          return messages.next().then(processIteratorResult);\n        })\n      }\n    }\n\n    JupyterCommManager.prototype.get_client_comm = function(plot_id, comm_id, msg_handler) {\n      if (comm_id in window.PyViz.comms) {\n        return window.PyViz.comms[comm_id];\n      } else if (window.comm_manager || ((window.Jupyter !== undefined) && (Jupyter.notebook.kernel != null))) {\n        var comm_manager = window.comm_manager || Jupyter.notebook.kernel.comm_manager;\n        var comm = comm_manager.new_comm(comm_id, {}, {}, {}, comm_id);\n        if (msg_handler) {\n          comm.on_msg(msg_handler);\n        }\n      } else if ((plot_id in window.PyViz.kernels) && (window.PyViz.kernels[plot_id])) {\n        var comm = window.PyViz.kernels[plot_id].connectToComm(comm_id);\n        comm.open();\n        if (msg_handler) {\n          comm.onMsg = msg_handler;\n        }\n      } else if (typeof google != 'undefined' && google.colab.kernel != null) {\n        var comm_promise = google.colab.kernel.comms.open(comm_id)\n        comm_promise.then((comm) => {\n          window.PyViz.comms[comm_id] = comm;\n          if (msg_handler) {\n            var messages = comm.messages[Symbol.asyncIterator]();\n            function processIteratorResult(result) {\n              var message = result.value;\n              var content = {data: message.data};\n              var metadata = message.metadata || {comm_id};\n              var msg = {content, metadata}\n              msg_handler(msg);\n              return messages.next().then(processIteratorResult);\n            }\n            return messages.next().then(processIteratorResult);\n          }\n        }) \n        var sendClosure = (data, metadata, buffers, disposeOnDone) => {\n          return comm_promise.then((comm) => {\n            comm.send(data, metadata, buffers, disposeOnDone);\n          });\n        };\n        var comm = {\n          send: sendClosure\n        };\n      }\n      window.PyViz.comms[comm_id] = comm;\n      return comm;\n    }\n    window.PyViz.comm_manager = new JupyterCommManager();\n    \n\n\nvar JS_MIME_TYPE = 'application/javascript';\nvar HTML_MIME_TYPE = 'text/html';\nvar EXEC_MIME_TYPE = 'application/vnd.holoviews_exec.v0+json';\nvar CLASS_NAME = 'output';\n\n/**\n * Render data to the DOM node\n */\nfunction render(props, node) {\n  var div = document.createElement(\"div\");\n  var script = document.createElement(\"script\");\n  node.appendChild(div);\n  node.appendChild(script);\n}\n\n/**\n * Handle when a new output is added\n */\nfunction handle_add_output(event, handle) {\n  var output_area = handle.output_area;\n  var output = handle.output;\n  if ((output.data == undefined) || (!output.data.hasOwnProperty(EXEC_MIME_TYPE))) {\n    return\n  }\n  var id = output.metadata[EXEC_MIME_TYPE][\"id\"];\n  var toinsert = output_area.element.find(\".\" + CLASS_NAME.split(' ')[0]);\n  if (id !== undefined) {\n    var nchildren = toinsert.length;\n    var html_node = toinsert[nchildren-1].children[0];\n    html_node.innerHTML = output.data[HTML_MIME_TYPE];\n    var scripts = [];\n    var nodelist = html_node.querySelectorAll(\"script\");\n    for (var i in nodelist) {\n      if (nodelist.hasOwnProperty(i)) {\n        scripts.push(nodelist[i])\n      }\n    }\n\n    scripts.forEach( function (oldScript) {\n      var newScript = document.createElement(\"script\");\n      var attrs = [];\n      var nodemap = oldScript.attributes;\n      for (var j in nodemap) {\n        if (nodemap.hasOwnProperty(j)) {\n          attrs.push(nodemap[j])\n        }\n      }\n      attrs.forEach(function(attr) { newScript.setAttribute(attr.name, attr.value) });\n      newScript.appendChild(document.createTextNode(oldScript.innerHTML));\n      oldScript.parentNode.replaceChild(newScript, oldScript);\n    });\n    if (JS_MIME_TYPE in output.data) {\n      toinsert[nchildren-1].children[1].textContent = output.data[JS_MIME_TYPE];\n    }\n    output_area._hv_plot_id = id;\n    if ((window.Bokeh !== undefined) && (id in Bokeh.index)) {\n      window.PyViz.plot_index[id] = Bokeh.index[id];\n    } else {\n      window.PyViz.plot_index[id] = null;\n    }\n  } else if (output.metadata[EXEC_MIME_TYPE][\"server_id\"] !== undefined) {\n    var bk_div = document.createElement(\"div\");\n    bk_div.innerHTML = output.data[HTML_MIME_TYPE];\n    var script_attrs = bk_div.children[0].attributes;\n    for (var i = 0; i < script_attrs.length; i++) {\n      toinsert[toinsert.length - 1].childNodes[1].setAttribute(script_attrs[i].name, script_attrs[i].value);\n    }\n    // store reference to server id on output_area\n    output_area._bokeh_server_id = output.metadata[EXEC_MIME_TYPE][\"server_id\"];\n  }\n}\n\n/**\n * Handle when an output is cleared or removed\n */\nfunction handle_clear_output(event, handle) {\n  var id = handle.cell.output_area._hv_plot_id;\n  var server_id = handle.cell.output_area._bokeh_server_id;\n  if (((id === undefined) || !(id in PyViz.plot_index)) && (server_id !== undefined)) { return; }\n  var comm = window.PyViz.comm_manager.get_client_comm(\"hv-extension-comm\", \"hv-extension-comm\", function () {});\n  if (server_id !== null) {\n    comm.send({event_type: 'server_delete', 'id': server_id});\n    return;\n  } else if (comm !== null) {\n    comm.send({event_type: 'delete', 'id': id});\n  }\n  delete PyViz.plot_index[id];\n  if ((window.Bokeh !== undefined) & (id in window.Bokeh.index)) {\n    var doc = window.Bokeh.index[id].model.document\n    doc.clear();\n    const i = window.Bokeh.documents.indexOf(doc);\n    if (i > -1) {\n      window.Bokeh.documents.splice(i, 1);\n    }\n  }\n}\n\n/**\n * Handle kernel restart event\n */\nfunction handle_kernel_cleanup(event, handle) {\n  delete PyViz.comms[\"hv-extension-comm\"];\n  window.PyViz.plot_index = {}\n}\n\n/**\n * Handle update_display_data messages\n */\nfunction handle_update_output(event, handle) {\n  handle_clear_output(event, {cell: {output_area: handle.output_area}})\n  handle_add_output(event, handle)\n}\n\nfunction register_renderer(events, OutputArea) {\n  function append_mime(data, metadata, element) {\n    // create a DOM node to render to\n    var toinsert = this.create_output_subarea(\n    metadata,\n    CLASS_NAME,\n    EXEC_MIME_TYPE\n    );\n    this.keyboard_manager.register_events(toinsert);\n    // Render to node\n    var props = {data: data, metadata: metadata[EXEC_MIME_TYPE]};\n    render(props, toinsert[0]);\n    element.append(toinsert);\n    return toinsert\n  }\n\n  events.on('output_added.OutputArea', handle_add_output);\n  events.on('output_updated.OutputArea', handle_update_output);\n  events.on('clear_output.CodeCell', handle_clear_output);\n  events.on('delete.Cell', handle_clear_output);\n  events.on('kernel_ready.Kernel', handle_kernel_cleanup);\n\n  OutputArea.prototype.register_mime_type(EXEC_MIME_TYPE, append_mime, {\n    safe: true,\n    index: 0\n  });\n}\n\nif (window.Jupyter !== undefined) {\n  try {\n    var events = require('base/js/events');\n    var OutputArea = require('notebook/js/outputarea').OutputArea;\n    if (OutputArea.prototype.mime_types().indexOf(EXEC_MIME_TYPE) == -1) {\n      register_renderer(events, OutputArea);\n    }\n  } catch(err) {\n  }\n}\n",
      "application/vnd.holoviews_load.v0+json": ""
     },
     "metadata": {},
     "output_type": "display_data"
    },
    {
     "data": {
      "text/html": [
       "<style>*[data-root-id],\n",
       "*[data-root-id] > * {\n",
       "  box-sizing: border-box;\n",
       "  font-family: var(--jp-ui-font-family);\n",
       "  font-size: var(--jp-ui-font-size1);\n",
       "  color: var(--vscode-editor-foreground, var(--jp-ui-font-color1));\n",
       "}\n",
       "\n",
       "/* Override VSCode background color */\n",
       ".cell-output-ipywidget-background:has(\n",
       "    > .cell-output-ipywidget-background > .lm-Widget > *[data-root-id]\n",
       "  ),\n",
       ".cell-output-ipywidget-background:has(> .lm-Widget > *[data-root-id]) {\n",
       "  background-color: transparent !important;\n",
       "}\n",
       "</style>"
      ]
     },
     "metadata": {},
     "output_type": "display_data"
    },
    {
     "data": {
      "application/vnd.holoviews_exec.v0+json": "",
      "text/html": [
       "<div id='p1411'>\n",
       "  <div id=\"ff938f8b-d349-4545-8e81-b9a00385d4c3\" data-root-id=\"p1411\" style=\"display: contents;\"></div>\n",
       "</div>\n",
       "<script type=\"application/javascript\">(function(root) {\n",
       "  var docs_json = {\"53631548-8138-40f0-84d6-ee894866b013\":{\"version\":\"3.3.4\",\"title\":\"Bokeh Application\",\"roots\":[{\"type\":\"object\",\"name\":\"panel.models.browser.BrowserInfo\",\"id\":\"p1411\"},{\"type\":\"object\",\"name\":\"panel.models.comm_manager.CommManager\",\"id\":\"p1412\",\"attributes\":{\"plot_id\":\"p1411\",\"comm_id\":\"8f265bd4d710433a8f988871cdbf2237\",\"client_comm_id\":\"0ba593bbf6a04e95be74e47b5bef02d8\"}}],\"defs\":[{\"type\":\"model\",\"name\":\"ReactiveHTML1\"},{\"type\":\"model\",\"name\":\"FlexBox1\",\"properties\":[{\"name\":\"align_content\",\"kind\":\"Any\",\"default\":\"flex-start\"},{\"name\":\"align_items\",\"kind\":\"Any\",\"default\":\"flex-start\"},{\"name\":\"flex_direction\",\"kind\":\"Any\",\"default\":\"row\"},{\"name\":\"flex_wrap\",\"kind\":\"Any\",\"default\":\"wrap\"},{\"name\":\"justify_content\",\"kind\":\"Any\",\"default\":\"flex-start\"}]},{\"type\":\"model\",\"name\":\"FloatPanel1\",\"properties\":[{\"name\":\"config\",\"kind\":\"Any\",\"default\":{\"type\":\"map\"}},{\"name\":\"contained\",\"kind\":\"Any\",\"default\":true},{\"name\":\"position\",\"kind\":\"Any\",\"default\":\"right-top\"},{\"name\":\"offsetx\",\"kind\":\"Any\",\"default\":null},{\"name\":\"offsety\",\"kind\":\"Any\",\"default\":null},{\"name\":\"theme\",\"kind\":\"Any\",\"default\":\"primary\"},{\"name\":\"status\",\"kind\":\"Any\",\"default\":\"normalized\"}]},{\"type\":\"model\",\"name\":\"GridStack1\",\"properties\":[{\"name\":\"mode\",\"kind\":\"Any\",\"default\":\"warn\"},{\"name\":\"ncols\",\"kind\":\"Any\",\"default\":null},{\"name\":\"nrows\",\"kind\":\"Any\",\"default\":null},{\"name\":\"allow_resize\",\"kind\":\"Any\",\"default\":true},{\"name\":\"allow_drag\",\"kind\":\"Any\",\"default\":true},{\"name\":\"state\",\"kind\":\"Any\",\"default\":[]}]},{\"type\":\"model\",\"name\":\"drag1\",\"properties\":[{\"name\":\"slider_width\",\"kind\":\"Any\",\"default\":5},{\"name\":\"slider_color\",\"kind\":\"Any\",\"default\":\"black\"},{\"name\":\"value\",\"kind\":\"Any\",\"default\":50}]},{\"type\":\"model\",\"name\":\"click1\",\"properties\":[{\"name\":\"terminal_output\",\"kind\":\"Any\",\"default\":\"\"},{\"name\":\"debug_name\",\"kind\":\"Any\",\"default\":\"\"},{\"name\":\"clears\",\"kind\":\"Any\",\"default\":0}]},{\"type\":\"model\",\"name\":\"copy_to_clipboard1\",\"properties\":[{\"name\":\"fill\",\"kind\":\"Any\",\"default\":\"none\"},{\"name\":\"value\",\"kind\":\"Any\",\"default\":null}]},{\"type\":\"model\",\"name\":\"FastWrapper1\",\"properties\":[{\"name\":\"object\",\"kind\":\"Any\",\"default\":null},{\"name\":\"style\",\"kind\":\"Any\",\"default\":null}]},{\"type\":\"model\",\"name\":\"NotificationAreaBase1\",\"properties\":[{\"name\":\"js_events\",\"kind\":\"Any\",\"default\":{\"type\":\"map\"}},{\"name\":\"position\",\"kind\":\"Any\",\"default\":\"bottom-right\"},{\"name\":\"_clear\",\"kind\":\"Any\",\"default\":0}]},{\"type\":\"model\",\"name\":\"NotificationArea1\",\"properties\":[{\"name\":\"js_events\",\"kind\":\"Any\",\"default\":{\"type\":\"map\"}},{\"name\":\"notifications\",\"kind\":\"Any\",\"default\":[]},{\"name\":\"position\",\"kind\":\"Any\",\"default\":\"bottom-right\"},{\"name\":\"_clear\",\"kind\":\"Any\",\"default\":0},{\"name\":\"types\",\"kind\":\"Any\",\"default\":[{\"type\":\"map\",\"entries\":[[\"type\",\"warning\"],[\"background\",\"#ffc107\"],[\"icon\",{\"type\":\"map\",\"entries\":[[\"className\",\"fas fa-exclamation-triangle\"],[\"tagName\",\"i\"],[\"color\",\"white\"]]}]]},{\"type\":\"map\",\"entries\":[[\"type\",\"info\"],[\"background\",\"#007bff\"],[\"icon\",{\"type\":\"map\",\"entries\":[[\"className\",\"fas fa-info-circle\"],[\"tagName\",\"i\"],[\"color\",\"white\"]]}]]}]}]},{\"type\":\"model\",\"name\":\"Notification\",\"properties\":[{\"name\":\"background\",\"kind\":\"Any\",\"default\":null},{\"name\":\"duration\",\"kind\":\"Any\",\"default\":3000},{\"name\":\"icon\",\"kind\":\"Any\",\"default\":null},{\"name\":\"message\",\"kind\":\"Any\",\"default\":\"\"},{\"name\":\"notification_type\",\"kind\":\"Any\",\"default\":null},{\"name\":\"_destroyed\",\"kind\":\"Any\",\"default\":false}]},{\"type\":\"model\",\"name\":\"TemplateActions1\",\"properties\":[{\"name\":\"open_modal\",\"kind\":\"Any\",\"default\":0},{\"name\":\"close_modal\",\"kind\":\"Any\",\"default\":0}]},{\"type\":\"model\",\"name\":\"BootstrapTemplateActions1\",\"properties\":[{\"name\":\"open_modal\",\"kind\":\"Any\",\"default\":0},{\"name\":\"close_modal\",\"kind\":\"Any\",\"default\":0}]},{\"type\":\"model\",\"name\":\"MaterialTemplateActions1\",\"properties\":[{\"name\":\"open_modal\",\"kind\":\"Any\",\"default\":0},{\"name\":\"close_modal\",\"kind\":\"Any\",\"default\":0}]}]}};\n",
       "  var render_items = [{\"docid\":\"53631548-8138-40f0-84d6-ee894866b013\",\"roots\":{\"p1411\":\"ff938f8b-d349-4545-8e81-b9a00385d4c3\"},\"root_ids\":[\"p1411\"]}];\n",
       "  var docs = Object.values(docs_json)\n",
       "  if (!docs) {\n",
       "    return\n",
       "  }\n",
       "  const py_version = docs[0].version.replace('rc', '-rc.').replace('.dev', '-dev.')\n",
       "  function embed_document(root) {\n",
       "    var Bokeh = get_bokeh(root)\n",
       "    Bokeh.embed.embed_items_notebook(docs_json, render_items);\n",
       "    for (const render_item of render_items) {\n",
       "      for (const root_id of render_item.root_ids) {\n",
       "\tconst id_el = document.getElementById(root_id)\n",
       "\tif (id_el.children.length && (id_el.children[0].className === 'bk-root')) {\n",
       "\t  const root_el = id_el.children[0]\n",
       "\t  root_el.id = root_el.id + '-rendered'\n",
       "\t}\n",
       "      }\n",
       "    }\n",
       "  }\n",
       "  function get_bokeh(root) {\n",
       "    if (root.Bokeh === undefined) {\n",
       "      return null\n",
       "    } else if (root.Bokeh.version !== py_version) {\n",
       "      if (root.Bokeh.versions === undefined || !root.Bokeh.versions.has(py_version)) {\n",
       "\treturn null\n",
       "      }\n",
       "      return root.Bokeh.versions.get(py_version);\n",
       "    } else if (root.Bokeh.version === py_version) {\n",
       "      return root.Bokeh\n",
       "    }\n",
       "    return null\n",
       "  }\n",
       "  function is_loaded(root) {\n",
       "    var Bokeh = get_bokeh(root)\n",
       "    return (Bokeh != null && Bokeh.Panel !== undefined)\n",
       "  }\n",
       "  if (is_loaded(root)) {\n",
       "    embed_document(root);\n",
       "  } else {\n",
       "    var attempts = 0;\n",
       "    var timer = setInterval(function(root) {\n",
       "      if (is_loaded(root)) {\n",
       "        clearInterval(timer);\n",
       "        embed_document(root);\n",
       "      } else if (document.readyState == \"complete\") {\n",
       "        attempts++;\n",
       "        if (attempts > 200) {\n",
       "          clearInterval(timer);\n",
       "\t  var Bokeh = get_bokeh(root)\n",
       "\t  if (Bokeh == null || Bokeh.Panel == null) {\n",
       "            console.warn(\"Panel: ERROR: Unable to run Panel code because Bokeh or Panel library is missing\");\n",
       "\t  } else {\n",
       "\t    console.warn(\"Panel: WARNING: Attempting to render but not all required libraries could be resolved.\")\n",
       "\t    embed_document(root)\n",
       "\t  }\n",
       "        }\n",
       "      }\n",
       "    }, 25, root)\n",
       "  }\n",
       "})(window);</script>"
      ]
     },
     "metadata": {
      "application/vnd.holoviews_exec.v0+json": {
       "id": "p1411"
      }
     },
     "output_type": "display_data"
    },
    {
     "data": {},
     "metadata": {},
     "output_type": "display_data"
    },
    {
     "data": {
      "application/vnd.holoviews_exec.v0+json": "",
      "text/html": [
       "<div id='p1413'>\n",
       "  <div id=\"ff597d0f-2db9-49ad-b508-6995fe74dbf6\" data-root-id=\"p1413\" style=\"display: contents;\"></div>\n",
       "</div>\n",
       "<script type=\"application/javascript\">(function(root) {\n",
       "  var docs_json = {\"70ed866b-6a15-4152-bcc9-05a63e8160de\":{\"version\":\"3.3.4\",\"title\":\"Bokeh Application\",\"roots\":[{\"type\":\"object\",\"name\":\"Row\",\"id\":\"p1413\",\"attributes\":{\"name\":\"Row01966\",\"tags\":[\"embedded\"],\"stylesheets\":[\"\\n:host(.pn-loading.pn-arc):before, .pn-loading.pn-arc:before {\\n  background-image: url(\\\"data:image/svg+xml;base64,PHN2ZyB4bWxucz0iaHR0cDovL3d3dy53My5vcmcvMjAwMC9zdmciIHN0eWxlPSJtYXJnaW46IGF1dG87IGJhY2tncm91bmQ6IG5vbmU7IGRpc3BsYXk6IGJsb2NrOyBzaGFwZS1yZW5kZXJpbmc6IGF1dG87IiB2aWV3Qm94PSIwIDAgMTAwIDEwMCIgcHJlc2VydmVBc3BlY3RSYXRpbz0ieE1pZFlNaWQiPiAgPGNpcmNsZSBjeD0iNTAiIGN5PSI1MCIgZmlsbD0ibm9uZSIgc3Ryb2tlPSIjYzNjM2MzIiBzdHJva2Utd2lkdGg9IjEwIiByPSIzNSIgc3Ryb2tlLWRhc2hhcnJheT0iMTY0LjkzMzYxNDMxMzQ2NDE1IDU2Ljk3Nzg3MTQzNzgyMTM4Ij4gICAgPGFuaW1hdGVUcmFuc2Zvcm0gYXR0cmlidXRlTmFtZT0idHJhbnNmb3JtIiB0eXBlPSJyb3RhdGUiIHJlcGVhdENvdW50PSJpbmRlZmluaXRlIiBkdXI9IjFzIiB2YWx1ZXM9IjAgNTAgNTA7MzYwIDUwIDUwIiBrZXlUaW1lcz0iMDsxIj48L2FuaW1hdGVUcmFuc2Zvcm0+ICA8L2NpcmNsZT48L3N2Zz4=\\\");\\n  background-size: auto calc(min(50%, 400px));\\n}\",{\"type\":\"object\",\"name\":\"ImportedStyleSheet\",\"id\":\"p1416\",\"attributes\":{\"url\":\"https://cdn.holoviz.org/panel/1.3.8/dist/css/loading.css\"}},{\"type\":\"object\",\"name\":\"ImportedStyleSheet\",\"id\":\"p1509\",\"attributes\":{\"url\":\"https://cdn.holoviz.org/panel/1.3.8/dist/css/listpanel.css\"}},{\"type\":\"object\",\"name\":\"ImportedStyleSheet\",\"id\":\"p1414\",\"attributes\":{\"url\":\"https://cdn.holoviz.org/panel/1.3.8/dist/bundled/theme/default.css\"}},{\"type\":\"object\",\"name\":\"ImportedStyleSheet\",\"id\":\"p1415\",\"attributes\":{\"url\":\"https://cdn.holoviz.org/panel/1.3.8/dist/bundled/theme/native.css\"}}],\"min_width\":700,\"margin\":0,\"sizing_mode\":\"stretch_width\",\"align\":\"start\",\"children\":[{\"type\":\"object\",\"name\":\"Spacer\",\"id\":\"p1417\",\"attributes\":{\"name\":\"HSpacer01973\",\"stylesheets\":[\"\\n:host(.pn-loading.pn-arc):before, .pn-loading.pn-arc:before {\\n  background-image: url(\\\"data:image/svg+xml;base64,PHN2ZyB4bWxucz0iaHR0cDovL3d3dy53My5vcmcvMjAwMC9zdmciIHN0eWxlPSJtYXJnaW46IGF1dG87IGJhY2tncm91bmQ6IG5vbmU7IGRpc3BsYXk6IGJsb2NrOyBzaGFwZS1yZW5kZXJpbmc6IGF1dG87IiB2aWV3Qm94PSIwIDAgMTAwIDEwMCIgcHJlc2VydmVBc3BlY3RSYXRpbz0ieE1pZFlNaWQiPiAgPGNpcmNsZSBjeD0iNTAiIGN5PSI1MCIgZmlsbD0ibm9uZSIgc3Ryb2tlPSIjYzNjM2MzIiBzdHJva2Utd2lkdGg9IjEwIiByPSIzNSIgc3Ryb2tlLWRhc2hhcnJheT0iMTY0LjkzMzYxNDMxMzQ2NDE1IDU2Ljk3Nzg3MTQzNzgyMTM4Ij4gICAgPGFuaW1hdGVUcmFuc2Zvcm0gYXR0cmlidXRlTmFtZT0idHJhbnNmb3JtIiB0eXBlPSJyb3RhdGUiIHJlcGVhdENvdW50PSJpbmRlZmluaXRlIiBkdXI9IjFzIiB2YWx1ZXM9IjAgNTAgNTA7MzYwIDUwIDUwIiBrZXlUaW1lcz0iMDsxIj48L2FuaW1hdGVUcmFuc2Zvcm0+ICA8L2NpcmNsZT48L3N2Zz4=\\\");\\n  background-size: auto calc(min(50%, 400px));\\n}\",{\"id\":\"p1416\"},{\"id\":\"p1414\"},{\"id\":\"p1415\"}],\"margin\":0,\"sizing_mode\":\"stretch_width\",\"align\":\"start\"}},{\"type\":\"object\",\"name\":\"Figure\",\"id\":\"p1430\",\"attributes\":{\"width\":700,\"height\":300,\"margin\":[5,10],\"sizing_mode\":\"fixed\",\"align\":\"start\",\"x_range\":{\"type\":\"object\",\"name\":\"Range1d\",\"id\":\"p1418\",\"attributes\":{\"tags\":[[[\"DATE\",\"DATE\",null]],[]],\"start\":1410912000000.0,\"end\":1601251200000.0,\"reset_start\":1410912000000.0,\"reset_end\":1601251200000.0}},\"y_range\":{\"type\":\"object\",\"name\":\"Range1d\",\"id\":\"p1419\",\"attributes\":{\"name\":\"CLOSE\",\"tags\":[[[\"CLOSE\",\"CLOSE\",null]],{\"type\":\"map\",\"entries\":[[\"invert_yaxis\",false],[\"autorange\",false]]}],\"start\":-1753.8267423999998,\"end\":21429.330130399998,\"reset_start\":-1753.8267423999998,\"reset_end\":21429.330130399998}},\"x_scale\":{\"type\":\"object\",\"name\":\"LinearScale\",\"id\":\"p1440\"},\"y_scale\":{\"type\":\"object\",\"name\":\"LinearScale\",\"id\":\"p1441\"},\"extra_y_ranges\":{\"type\":\"map\",\"entries\":[[\"BTC_NEWS_SEARCH\",{\"type\":\"object\",\"name\":\"Range1d\",\"id\":\"p1420\",\"attributes\":{\"name\":\"BTC_NEWS_SEARCH\",\"tags\":[[[\"BTC_NEWS_SEARCH\",\"BTC_NEWS_SEARCH\",null]],{\"type\":\"map\",\"entries\":[[\"invert_yaxis\",false],[\"autorange\",false]]}],\"start\":-6.700000000000001,\"end\":109.7,\"reset_start\":-6.700000000000001,\"reset_end\":109.7}}]]},\"extra_y_scales\":{\"type\":\"map\",\"entries\":[[\"BTC_NEWS_SEARCH\",{\"type\":\"object\",\"name\":\"LinearScale\",\"id\":\"p1423\"}]]},\"title\":{\"type\":\"object\",\"name\":\"Title\",\"id\":\"p1433\",\"attributes\":{\"text\":\"Bitcoin News Search vs Resampled Price\",\"text_color\":\"black\",\"text_font_size\":\"15pt\"}},\"renderers\":[{\"type\":\"object\",\"name\":\"GlyphRenderer\",\"id\":\"p1486\",\"attributes\":{\"name\":\"Price\",\"data_source\":{\"type\":\"object\",\"name\":\"ColumnDataSource\",\"id\":\"p1477\",\"attributes\":{\"selected\":{\"type\":\"object\",\"name\":\"Selection\",\"id\":\"p1478\",\"attributes\":{\"indices\":[],\"line_indices\":[]}},\"selection_policy\":{\"type\":\"object\",\"name\":\"UnionRenderers\",\"id\":\"p1479\"},\"data\":{\"type\":\"map\",\"entries\":[[\"DATE\",{\"type\":\"ndarray\",\"array\":{\"type\":\"bytes\",\"data\":\"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\"},\"shape\":[2203],\"dtype\":\"float64\",\"order\":\"little\"}],[\"CLOSE\",{\"type\":\"ndarray\",\"array\":{\"type\":\"bytes\",\"data\":\"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\"},\"shape\":[2203],\"dtype\":\"float64\",\"order\":\"little\"}]]}}},\"view\":{\"type\":\"object\",\"name\":\"CDSView\",\"id\":\"p1487\",\"attributes\":{\"filter\":{\"type\":\"object\",\"name\":\"AllIndices\",\"id\":\"p1488\"}}},\"glyph\":{\"type\":\"object\",\"name\":\"Line\",\"id\":\"p1483\",\"attributes\":{\"tags\":[\"apply_ranges\"],\"x\":{\"type\":\"field\",\"field\":\"DATE\"},\"y\":{\"type\":\"field\",\"field\":\"CLOSE\"},\"line_color\":\"#30a2da\",\"line_width\":2}},\"selection_glyph\":{\"type\":\"object\",\"name\":\"Line\",\"id\":\"p1491\",\"attributes\":{\"tags\":[\"apply_ranges\"],\"x\":{\"type\":\"field\",\"field\":\"DATE\"},\"y\":{\"type\":\"field\",\"field\":\"CLOSE\"},\"line_color\":\"#30a2da\",\"line_width\":2}},\"nonselection_glyph\":{\"type\":\"object\",\"name\":\"Line\",\"id\":\"p1484\",\"attributes\":{\"tags\":[\"apply_ranges\"],\"x\":{\"type\":\"field\",\"field\":\"DATE\"},\"y\":{\"type\":\"field\",\"field\":\"CLOSE\"},\"line_color\":\"#30a2da\",\"line_alpha\":0.1,\"line_width\":2}},\"muted_glyph\":{\"type\":\"object\",\"name\":\"Line\",\"id\":\"p1485\",\"attributes\":{\"tags\":[\"apply_ranges\"],\"x\":{\"type\":\"field\",\"field\":\"DATE\"},\"y\":{\"type\":\"field\",\"field\":\"CLOSE\"},\"line_color\":\"#30a2da\",\"line_alpha\":0.2,\"line_width\":2}}}},{\"type\":\"object\",\"name\":\"GlyphRenderer\",\"id\":\"p1501\",\"attributes\":{\"name\":\"News Search\",\"y_range_name\":\"BTC_NEWS_SEARCH\",\"data_source\":{\"type\":\"object\",\"name\":\"ColumnDataSource\",\"id\":\"p1492\",\"attributes\":{\"selected\":{\"type\":\"object\",\"name\":\"Selection\",\"id\":\"p1493\",\"attributes\":{\"indices\":[],\"line_indices\":[]}},\"selection_policy\":{\"type\":\"object\",\"name\":\"UnionRenderers\",\"id\":\"p1494\"},\"data\":{\"type\":\"map\",\"entries\":[[\"MONTH\",{\"type\":\"ndarray\",\"array\":{\"type\":\"bytes\",\"data\":\"AACALeiCdEIAAAAakIx0QgAAQGyKlnRCAADAWDKgdEIAAACrLKp0QgAAQP0mtHRCAABAHiq9dEIAAIBwJMd0QgAAAF3M0HRCAABAr8badEIAAMCbbuR0QgAAAO5o7nRCAABAQGP4dEIAAMAsCwJ1QgAAAH8FDHVCAACAa60VdUIAAMC9px91QgAAABCiKXVCAADAlvcydUIAAADp8Tx1QgAAgNWZRnVCAADAJ5RQdUIAAEAUPFp1QgAAgGY2ZHVCAADAuDBudUIAAECl2Hd1QgAAgPfSgXVCAAAA5HqLdUIAAEA2dZV1QgAAgIhvn3VCAACAqXKodUIAAMD7bLJ1QgAAQOgUvHVCAACAOg/GdUIAAAAnt891QgAAQHmx2XVCAACAy6vjdUIAAAC4U+11QgAAQApO93VCAADA9vUAdkIAAABJ8Ap2QgAAQJvqFHZCAABAvO0ddkIAAIAO6Cd2QgAAAPuPMXZCAABATYo7dkIAAMA5MkV2QgAAAIwsT3ZCAABA3iZZdkIAAMDKzmJ2QgAAAB3JbHZCAACACXF2dkIAAMBba4B2QgAAAK5linZCAAAAz2iTdkIAAEAhY512QgAAwA0Lp3ZCAAAAYAWxdkIAAIBMrbp2QgAAwJ6nxHZCAAAA8aHOdkIAAIDdSdh2QgAAwC9E4nZCAABAHOzrdkIAAIBu5vV2QgAAwMDg/3ZCAACARzYJd0IAAMCZMBN3QgAAQIbYHHdCAACA2NImd0IAAADFejB3QgAAQBd1OndCAACAaW9Ed0I=\"},\"shape\":[73],\"dtype\":\"float64\",\"order\":\"little\"}],[\"BTC_NEWS_SEARCH\",{\"type\":\"ndarray\",\"array\":{\"type\":\"bytes\",\"data\":\"BQAAAAQAAAAEAAAABAAAAAUAAAAEAAAABgAAAAMAAAADAAAAAwAAAAQAAAADAAAAAwAAAAMAAAAEAAAABQAAAAQAAAAEAAAABQAAAAMAAAAGAAAABgAAAAYAAAAGAAAABQAAAAUAAAAFAAAABgAAAAkAAAAIAAAADAAAAAUAAAAPAAAADQAAAA4AAAAWAAAAGgAAABkAAAAyAAAAZAAAAD4AAAA0AAAAHgAAABkAAAAVAAAAEgAAABIAAAAUAAAAEQAAAA4AAAAXAAAAEwAAAA8AAAAPAAAADgAAABMAAAAaAAAAGgAAABUAAAARAAAADwAAABAAAAAOAAAADgAAABAAAAASAAAADwAAAA8AAAAWAAAADQAAAA4AAAAQAAAADQAAAA==\"},\"shape\":[73],\"dtype\":\"int32\",\"order\":\"little\"}]]}}},\"view\":{\"type\":\"object\",\"name\":\"CDSView\",\"id\":\"p1502\",\"attributes\":{\"filter\":{\"type\":\"object\",\"name\":\"AllIndices\",\"id\":\"p1503\"}}},\"glyph\":{\"type\":\"object\",\"name\":\"Line\",\"id\":\"p1498\",\"attributes\":{\"tags\":[\"apply_ranges\"],\"x\":{\"type\":\"field\",\"field\":\"MONTH\"},\"y\":{\"type\":\"field\",\"field\":\"BTC_NEWS_SEARCH\"},\"line_color\":\"#fc4f30\",\"line_width\":2}},\"selection_glyph\":{\"type\":\"object\",\"name\":\"Line\",\"id\":\"p1505\",\"attributes\":{\"tags\":[\"apply_ranges\"],\"x\":{\"type\":\"field\",\"field\":\"MONTH\"},\"y\":{\"type\":\"field\",\"field\":\"BTC_NEWS_SEARCH\"},\"line_color\":\"#fc4f30\",\"line_width\":2}},\"nonselection_glyph\":{\"type\":\"object\",\"name\":\"Line\",\"id\":\"p1499\",\"attributes\":{\"tags\":[\"apply_ranges\"],\"x\":{\"type\":\"field\",\"field\":\"MONTH\"},\"y\":{\"type\":\"field\",\"field\":\"BTC_NEWS_SEARCH\"},\"line_color\":\"#fc4f30\",\"line_alpha\":0.1,\"line_width\":2}},\"muted_glyph\":{\"type\":\"object\",\"name\":\"Line\",\"id\":\"p1500\",\"attributes\":{\"tags\":[\"apply_ranges\"],\"x\":{\"type\":\"field\",\"field\":\"MONTH\"},\"y\":{\"type\":\"field\",\"field\":\"BTC_NEWS_SEARCH\"},\"line_color\":\"#fc4f30\",\"line_alpha\":0.2,\"line_width\":2}}}}],\"toolbar\":{\"type\":\"object\",\"name\":\"Toolbar\",\"id\":\"p1439\",\"attributes\":{\"tools\":[{\"type\":\"object\",\"name\":\"WheelZoomTool\",\"id\":\"p1425\",\"attributes\":{\"tags\":[\"hv_created\"],\"renderers\":\"auto\",\"zoom_together\":\"none\"}},{\"type\":\"object\",\"name\":\"HoverTool\",\"id\":\"p1426\",\"attributes\":{\"tags\":[\"hv_created\"],\"renderers\":[{\"id\":\"p1486\"}],\"tooltips\":[[\"DATE\",\"@{DATE}{%F %T}\"],[\"CLOSE\",\"@{CLOSE}\"]],\"formatters\":{\"type\":\"map\",\"entries\":[[\"@{DATE}\",\"datetime\"]]}}},{\"type\":\"object\",\"name\":\"HoverTool\",\"id\":\"p1429\",\"attributes\":{\"tags\":[\"hv_created\"],\"renderers\":[{\"id\":\"p1501\"}],\"tooltips\":[[\"MONTH\",\"@{MONTH}{%F %T}\"],[\"BTC_NEWS_SEARCH\",\"@{BTC_NEWS_SEARCH}\"]],\"formatters\":{\"type\":\"map\",\"entries\":[[\"@{MONTH}\",\"datetime\"]]}}},{\"type\":\"object\",\"name\":\"SaveTool\",\"id\":\"p1464\"},{\"type\":\"object\",\"name\":\"PanTool\",\"id\":\"p1465\"},{\"type\":\"object\",\"name\":\"BoxZoomTool\",\"id\":\"p1466\",\"attributes\":{\"overlay\":{\"type\":\"object\",\"name\":\"BoxAnnotation\",\"id\":\"p1467\",\"attributes\":{\"syncable\":false,\"level\":\"overlay\",\"visible\":false,\"left\":{\"type\":\"number\",\"value\":\"nan\"},\"right\":{\"type\":\"number\",\"value\":\"nan\"},\"top\":{\"type\":\"number\",\"value\":\"nan\"},\"bottom\":{\"type\":\"number\",\"value\":\"nan\"},\"left_units\":\"canvas\",\"right_units\":\"canvas\",\"top_units\":\"canvas\",\"bottom_units\":\"canvas\",\"line_color\":\"black\",\"line_alpha\":1.0,\"line_width\":2,\"line_dash\":[4,4],\"fill_color\":\"lightgrey\",\"fill_alpha\":0.5}}}},{\"type\":\"object\",\"name\":\"ResetTool\",\"id\":\"p1472\"}],\"active_drag\":{\"id\":\"p1465\"},\"active_scroll\":{\"id\":\"p1425\"}}},\"left\":[{\"type\":\"object\",\"name\":\"LinearAxis\",\"id\":\"p1459\",\"attributes\":{\"ticker\":{\"type\":\"object\",\"name\":\"BasicTicker\",\"id\":\"p1460\",\"attributes\":{\"mantissas\":[1,2,5]}},\"formatter\":{\"type\":\"object\",\"name\":\"BasicTickFormatter\",\"id\":\"p1461\"},\"axis_label\":\"CLOSE\",\"axis_label_text_font_size\":\"16.25px\",\"major_label_policy\":{\"type\":\"object\",\"name\":\"AllLabels\",\"id\":\"p1462\"},\"major_label_text_font_size\":\"13.75px\"}}],\"right\":[{\"type\":\"object\",\"name\":\"LinearAxis\",\"id\":\"p1473\",\"attributes\":{\"y_range_name\":\"BTC_NEWS_SEARCH\",\"ticker\":{\"type\":\"object\",\"name\":\"BasicTicker\",\"id\":\"p1474\",\"attributes\":{\"mantissas\":[1,2,5]}},\"formatter\":{\"type\":\"object\",\"name\":\"BasicTickFormatter\",\"id\":\"p1475\"},\"axis_label\":\"BTC_NEWS_SEARCH\",\"axis_label_text_font_size\":\"16.25px\",\"major_label_policy\":{\"type\":\"object\",\"name\":\"AllLabels\",\"id\":\"p1476\"},\"major_label_text_font_size\":\"13.75px\"}}],\"below\":[{\"type\":\"object\",\"name\":\"DatetimeAxis\",\"id\":\"p1442\",\"attributes\":{\"ticker\":{\"type\":\"object\",\"name\":\"DatetimeTicker\",\"id\":\"p1443\",\"attributes\":{\"num_minor_ticks\":5,\"tickers\":[{\"type\":\"object\",\"name\":\"AdaptiveTicker\",\"id\":\"p1444\",\"attributes\":{\"num_minor_ticks\":0,\"mantissas\":[1,2,5],\"max_interval\":500.0}},{\"type\":\"object\",\"name\":\"AdaptiveTicker\",\"id\":\"p1445\",\"attributes\":{\"num_minor_ticks\":0,\"base\":60,\"mantissas\":[1,2,5,10,15,20,30],\"min_interval\":1000.0,\"max_interval\":1800000.0}},{\"type\":\"object\",\"name\":\"AdaptiveTicker\",\"id\":\"p1446\",\"attributes\":{\"num_minor_ticks\":0,\"base\":24,\"mantissas\":[1,2,4,6,8,12],\"min_interval\":3600000.0,\"max_interval\":43200000.0}},{\"type\":\"object\",\"name\":\"DaysTicker\",\"id\":\"p1447\",\"attributes\":{\"days\":[1,2,3,4,5,6,7,8,9,10,11,12,13,14,15,16,17,18,19,20,21,22,23,24,25,26,27,28,29,30,31]}},{\"type\":\"object\",\"name\":\"DaysTicker\",\"id\":\"p1448\",\"attributes\":{\"days\":[1,4,7,10,13,16,19,22,25,28]}},{\"type\":\"object\",\"name\":\"DaysTicker\",\"id\":\"p1449\",\"attributes\":{\"days\":[1,8,15,22]}},{\"type\":\"object\",\"name\":\"DaysTicker\",\"id\":\"p1450\",\"attributes\":{\"days\":[1,15]}},{\"type\":\"object\",\"name\":\"MonthsTicker\",\"id\":\"p1451\",\"attributes\":{\"months\":[0,1,2,3,4,5,6,7,8,9,10,11]}},{\"type\":\"object\",\"name\":\"MonthsTicker\",\"id\":\"p1452\",\"attributes\":{\"months\":[0,2,4,6,8,10]}},{\"type\":\"object\",\"name\":\"MonthsTicker\",\"id\":\"p1453\",\"attributes\":{\"months\":[0,4,8]}},{\"type\":\"object\",\"name\":\"MonthsTicker\",\"id\":\"p1454\",\"attributes\":{\"months\":[0,6]}},{\"type\":\"object\",\"name\":\"YearsTicker\",\"id\":\"p1455\"}]}},\"formatter\":{\"type\":\"object\",\"name\":\"DatetimeTickFormatter\",\"id\":\"p1456\"},\"axis_label\":\"DATE\",\"major_label_policy\":{\"type\":\"object\",\"name\":\"AllLabels\",\"id\":\"p1457\"}}}],\"center\":[{\"type\":\"object\",\"name\":\"Grid\",\"id\":\"p1458\",\"attributes\":{\"axis\":{\"id\":\"p1442\"},\"grid_line_color\":null}},{\"type\":\"object\",\"name\":\"Grid\",\"id\":\"p1463\",\"attributes\":{\"dimension\":1,\"axis\":{\"id\":\"p1459\"},\"grid_line_color\":null}},{\"type\":\"object\",\"name\":\"Legend\",\"id\":\"p1489\",\"attributes\":{\"title_text_font_size\":\"16.25px\",\"click_policy\":\"mute\",\"label_text_font_size\":\"16.25px\",\"items\":[{\"type\":\"object\",\"name\":\"LegendItem\",\"id\":\"p1490\",\"attributes\":{\"label\":{\"type\":\"value\",\"value\":\"Price\"},\"renderers\":[{\"id\":\"p1486\"}]}},{\"type\":\"object\",\"name\":\"LegendItem\",\"id\":\"p1504\",\"attributes\":{\"label\":{\"type\":\"value\",\"value\":\"News Search\"},\"renderers\":[{\"id\":\"p1501\"}]}}]}}],\"min_border_top\":10,\"min_border_bottom\":10,\"min_border_left\":10,\"min_border_right\":10,\"output_backend\":\"webgl\"}},{\"type\":\"object\",\"name\":\"Spacer\",\"id\":\"p1507\",\"attributes\":{\"name\":\"HSpacer01974\",\"stylesheets\":[\"\\n:host(.pn-loading.pn-arc):before, .pn-loading.pn-arc:before {\\n  background-image: url(\\\"data:image/svg+xml;base64,PHN2ZyB4bWxucz0iaHR0cDovL3d3dy53My5vcmcvMjAwMC9zdmciIHN0eWxlPSJtYXJnaW46IGF1dG87IGJhY2tncm91bmQ6IG5vbmU7IGRpc3BsYXk6IGJsb2NrOyBzaGFwZS1yZW5kZXJpbmc6IGF1dG87IiB2aWV3Qm94PSIwIDAgMTAwIDEwMCIgcHJlc2VydmVBc3BlY3RSYXRpbz0ieE1pZFlNaWQiPiAgPGNpcmNsZSBjeD0iNTAiIGN5PSI1MCIgZmlsbD0ibm9uZSIgc3Ryb2tlPSIjYzNjM2MzIiBzdHJva2Utd2lkdGg9IjEwIiByPSIzNSIgc3Ryb2tlLWRhc2hhcnJheT0iMTY0LjkzMzYxNDMxMzQ2NDE1IDU2Ljk3Nzg3MTQzNzgyMTM4Ij4gICAgPGFuaW1hdGVUcmFuc2Zvcm0gYXR0cmlidXRlTmFtZT0idHJhbnNmb3JtIiB0eXBlPSJyb3RhdGUiIHJlcGVhdENvdW50PSJpbmRlZmluaXRlIiBkdXI9IjFzIiB2YWx1ZXM9IjAgNTAgNTA7MzYwIDUwIDUwIiBrZXlUaW1lcz0iMDsxIj48L2FuaW1hdGVUcmFuc2Zvcm0+ICA8L2NpcmNsZT48L3N2Zz4=\\\");\\n  background-size: auto calc(min(50%, 400px));\\n}\",{\"id\":\"p1416\"},{\"id\":\"p1414\"},{\"id\":\"p1415\"}],\"margin\":0,\"sizing_mode\":\"stretch_width\",\"align\":\"start\"}}]}}],\"defs\":[{\"type\":\"model\",\"name\":\"ReactiveHTML1\"},{\"type\":\"model\",\"name\":\"FlexBox1\",\"properties\":[{\"name\":\"align_content\",\"kind\":\"Any\",\"default\":\"flex-start\"},{\"name\":\"align_items\",\"kind\":\"Any\",\"default\":\"flex-start\"},{\"name\":\"flex_direction\",\"kind\":\"Any\",\"default\":\"row\"},{\"name\":\"flex_wrap\",\"kind\":\"Any\",\"default\":\"wrap\"},{\"name\":\"justify_content\",\"kind\":\"Any\",\"default\":\"flex-start\"}]},{\"type\":\"model\",\"name\":\"FloatPanel1\",\"properties\":[{\"name\":\"config\",\"kind\":\"Any\",\"default\":{\"type\":\"map\"}},{\"name\":\"contained\",\"kind\":\"Any\",\"default\":true},{\"name\":\"position\",\"kind\":\"Any\",\"default\":\"right-top\"},{\"name\":\"offsetx\",\"kind\":\"Any\",\"default\":null},{\"name\":\"offsety\",\"kind\":\"Any\",\"default\":null},{\"name\":\"theme\",\"kind\":\"Any\",\"default\":\"primary\"},{\"name\":\"status\",\"kind\":\"Any\",\"default\":\"normalized\"}]},{\"type\":\"model\",\"name\":\"GridStack1\",\"properties\":[{\"name\":\"mode\",\"kind\":\"Any\",\"default\":\"warn\"},{\"name\":\"ncols\",\"kind\":\"Any\",\"default\":null},{\"name\":\"nrows\",\"kind\":\"Any\",\"default\":null},{\"name\":\"allow_resize\",\"kind\":\"Any\",\"default\":true},{\"name\":\"allow_drag\",\"kind\":\"Any\",\"default\":true},{\"name\":\"state\",\"kind\":\"Any\",\"default\":[]}]},{\"type\":\"model\",\"name\":\"drag1\",\"properties\":[{\"name\":\"slider_width\",\"kind\":\"Any\",\"default\":5},{\"name\":\"slider_color\",\"kind\":\"Any\",\"default\":\"black\"},{\"name\":\"value\",\"kind\":\"Any\",\"default\":50}]},{\"type\":\"model\",\"name\":\"click1\",\"properties\":[{\"name\":\"terminal_output\",\"kind\":\"Any\",\"default\":\"\"},{\"name\":\"debug_name\",\"kind\":\"Any\",\"default\":\"\"},{\"name\":\"clears\",\"kind\":\"Any\",\"default\":0}]},{\"type\":\"model\",\"name\":\"copy_to_clipboard1\",\"properties\":[{\"name\":\"fill\",\"kind\":\"Any\",\"default\":\"none\"},{\"name\":\"value\",\"kind\":\"Any\",\"default\":null}]},{\"type\":\"model\",\"name\":\"FastWrapper1\",\"properties\":[{\"name\":\"object\",\"kind\":\"Any\",\"default\":null},{\"name\":\"style\",\"kind\":\"Any\",\"default\":null}]},{\"type\":\"model\",\"name\":\"NotificationAreaBase1\",\"properties\":[{\"name\":\"js_events\",\"kind\":\"Any\",\"default\":{\"type\":\"map\"}},{\"name\":\"position\",\"kind\":\"Any\",\"default\":\"bottom-right\"},{\"name\":\"_clear\",\"kind\":\"Any\",\"default\":0}]},{\"type\":\"model\",\"name\":\"NotificationArea1\",\"properties\":[{\"name\":\"js_events\",\"kind\":\"Any\",\"default\":{\"type\":\"map\"}},{\"name\":\"notifications\",\"kind\":\"Any\",\"default\":[]},{\"name\":\"position\",\"kind\":\"Any\",\"default\":\"bottom-right\"},{\"name\":\"_clear\",\"kind\":\"Any\",\"default\":0},{\"name\":\"types\",\"kind\":\"Any\",\"default\":[{\"type\":\"map\",\"entries\":[[\"type\",\"warning\"],[\"background\",\"#ffc107\"],[\"icon\",{\"type\":\"map\",\"entries\":[[\"className\",\"fas fa-exclamation-triangle\"],[\"tagName\",\"i\"],[\"color\",\"white\"]]}]]},{\"type\":\"map\",\"entries\":[[\"type\",\"info\"],[\"background\",\"#007bff\"],[\"icon\",{\"type\":\"map\",\"entries\":[[\"className\",\"fas fa-info-circle\"],[\"tagName\",\"i\"],[\"color\",\"white\"]]}]]}]}]},{\"type\":\"model\",\"name\":\"Notification\",\"properties\":[{\"name\":\"background\",\"kind\":\"Any\",\"default\":null},{\"name\":\"duration\",\"kind\":\"Any\",\"default\":3000},{\"name\":\"icon\",\"kind\":\"Any\",\"default\":null},{\"name\":\"message\",\"kind\":\"Any\",\"default\":\"\"},{\"name\":\"notification_type\",\"kind\":\"Any\",\"default\":null},{\"name\":\"_destroyed\",\"kind\":\"Any\",\"default\":false}]},{\"type\":\"model\",\"name\":\"TemplateActions1\",\"properties\":[{\"name\":\"open_modal\",\"kind\":\"Any\",\"default\":0},{\"name\":\"close_modal\",\"kind\":\"Any\",\"default\":0}]},{\"type\":\"model\",\"name\":\"BootstrapTemplateActions1\",\"properties\":[{\"name\":\"open_modal\",\"kind\":\"Any\",\"default\":0},{\"name\":\"close_modal\",\"kind\":\"Any\",\"default\":0}]},{\"type\":\"model\",\"name\":\"MaterialTemplateActions1\",\"properties\":[{\"name\":\"open_modal\",\"kind\":\"Any\",\"default\":0},{\"name\":\"close_modal\",\"kind\":\"Any\",\"default\":0}]}]}};\n",
       "  var render_items = [{\"docid\":\"70ed866b-6a15-4152-bcc9-05a63e8160de\",\"roots\":{\"p1413\":\"ff597d0f-2db9-49ad-b508-6995fe74dbf6\"},\"root_ids\":[\"p1413\"]}];\n",
       "  var docs = Object.values(docs_json)\n",
       "  if (!docs) {\n",
       "    return\n",
       "  }\n",
       "  const py_version = docs[0].version.replace('rc', '-rc.').replace('.dev', '-dev.')\n",
       "  function embed_document(root) {\n",
       "    var Bokeh = get_bokeh(root)\n",
       "    Bokeh.embed.embed_items_notebook(docs_json, render_items);\n",
       "    for (const render_item of render_items) {\n",
       "      for (const root_id of render_item.root_ids) {\n",
       "\tconst id_el = document.getElementById(root_id)\n",
       "\tif (id_el.children.length && (id_el.children[0].className === 'bk-root')) {\n",
       "\t  const root_el = id_el.children[0]\n",
       "\t  root_el.id = root_el.id + '-rendered'\n",
       "\t}\n",
       "      }\n",
       "    }\n",
       "  }\n",
       "  function get_bokeh(root) {\n",
       "    if (root.Bokeh === undefined) {\n",
       "      return null\n",
       "    } else if (root.Bokeh.version !== py_version) {\n",
       "      if (root.Bokeh.versions === undefined || !root.Bokeh.versions.has(py_version)) {\n",
       "\treturn null\n",
       "      }\n",
       "      return root.Bokeh.versions.get(py_version);\n",
       "    } else if (root.Bokeh.version === py_version) {\n",
       "      return root.Bokeh\n",
       "    }\n",
       "    return null\n",
       "  }\n",
       "  function is_loaded(root) {\n",
       "    var Bokeh = get_bokeh(root)\n",
       "    return (Bokeh != null && Bokeh.Panel !== undefined)\n",
       "  }\n",
       "  if (is_loaded(root)) {\n",
       "    embed_document(root);\n",
       "  } else {\n",
       "    var attempts = 0;\n",
       "    var timer = setInterval(function(root) {\n",
       "      if (is_loaded(root)) {\n",
       "        clearInterval(timer);\n",
       "        embed_document(root);\n",
       "      } else if (document.readyState == \"complete\") {\n",
       "        attempts++;\n",
       "        if (attempts > 200) {\n",
       "          clearInterval(timer);\n",
       "\t  var Bokeh = get_bokeh(root)\n",
       "\t  if (Bokeh == null || Bokeh.Panel == null) {\n",
       "            console.warn(\"Panel: ERROR: Unable to run Panel code because Bokeh or Panel library is missing\");\n",
       "\t  } else {\n",
       "\t    console.warn(\"Panel: WARNING: Attempting to render but not all required libraries could be resolved.\")\n",
       "\t    embed_document(root)\n",
       "\t  }\n",
       "        }\n",
       "      }\n",
       "    }, 25, root)\n",
       "  }\n",
       "})(window);</script>"
      ],
      "text/plain": [
       ":Overlay\n",
       "   .Curve.Price       :Curve   [DATE]   (CLOSE)\n",
       "   .Curve.News_Search :Curve   [MONTH]   (BTC_NEWS_SEARCH)"
      ]
     },
     "execution_count": 37,
     "metadata": {
      "application/vnd.holoviews_exec.v0+json": {
       "id": "p1413"
      }
     },
     "output_type": "execute_result"
    }
   ],
   "source": [
    "plt.extension('bokeh')\n",
    "plot1 = df_btc_price.plot(x='DATE', y='CLOSE', label=\"Price\")\n",
    "plot2 = df_btc_search.plot(x='MONTH', y='BTC_NEWS_SEARCH', label=\"News Search\")\n",
    "(plot1 * plot2).opts(multi_y=True, fontscale=1.25, title=\"Bitcoin News Search vs Resampled Price\", autorange='x')"
   ]
  },
  {
   "cell_type": "code",
   "execution_count": 155,
   "metadata": {},
   "outputs": [
    {
     "data": {
      "text/html": [
       "<div><style>\n",
       ".dataframe > thead > tr,\n",
       ".dataframe > tbody > tr {\n",
       "  text-align: right;\n",
       "  white-space: pre-wrap;\n",
       "}\n",
       "</style>\n",
       "<small>shape: (5, 3)</small><table border=\"1\" class=\"dataframe\"><thead><tr><th>DATE</th><th>CLOSE</th><th>VOLUME</th></tr><tr><td>date</td><td>f64</td><td>i64</td></tr></thead><tbody><tr><td>2014-09-17</td><td>457.334015</td><td>21056800</td></tr><tr><td>2014-09-18</td><td>424.440002</td><td>34483200</td></tr><tr><td>2014-09-19</td><td>394.79599</td><td>37919700</td></tr><tr><td>2014-09-20</td><td>408.903992</td><td>36863600</td></tr><tr><td>2014-09-21</td><td>398.821014</td><td>26580100</td></tr></tbody></table></div>"
      ],
      "text/plain": [
       "shape: (5, 3)\n",
       "┌────────────┬────────────┬──────────┐\n",
       "│ DATE       ┆ CLOSE      ┆ VOLUME   │\n",
       "│ ---        ┆ ---        ┆ ---      │\n",
       "│ date       ┆ f64        ┆ i64      │\n",
       "╞════════════╪════════════╪══════════╡\n",
       "│ 2014-09-17 ┆ 457.334015 ┆ 21056800 │\n",
       "│ 2014-09-18 ┆ 424.440002 ┆ 34483200 │\n",
       "│ 2014-09-19 ┆ 394.79599  ┆ 37919700 │\n",
       "│ 2014-09-20 ┆ 408.903992 ┆ 36863600 │\n",
       "│ 2014-09-21 ┆ 398.821014 ┆ 26580100 │\n",
       "└────────────┴────────────┴──────────┘"
      ]
     },
     "execution_count": 155,
     "metadata": {},
     "output_type": "execute_result"
    }
   ],
   "source": [
    "df_btc_price.head()"
   ]
  },
  {
   "cell_type": "code",
   "execution_count": 156,
   "metadata": {},
   "outputs": [
    {
     "data": {
      "text/html": [
       "<div><style>\n",
       ".dataframe > thead > tr,\n",
       ".dataframe > tbody > tr {\n",
       "  text-align: right;\n",
       "  white-space: pre-wrap;\n",
       "}\n",
       "</style>\n",
       "<small>shape: (5, 2)</small><table border=\"1\" class=\"dataframe\"><thead><tr><th>MONTH</th><th>BTC_NEWS_SEARCH</th></tr><tr><td>date</td><td>i64</td></tr></thead><tbody><tr><td>2014-09-01</td><td>5</td></tr><tr><td>2014-10-01</td><td>4</td></tr><tr><td>2014-11-01</td><td>4</td></tr><tr><td>2014-12-01</td><td>4</td></tr><tr><td>2015-01-01</td><td>5</td></tr></tbody></table></div>"
      ],
      "text/plain": [
       "shape: (5, 2)\n",
       "┌────────────┬─────────────────┐\n",
       "│ MONTH      ┆ BTC_NEWS_SEARCH │\n",
       "│ ---        ┆ ---             │\n",
       "│ date       ┆ i64             │\n",
       "╞════════════╪═════════════════╡\n",
       "│ 2014-09-01 ┆ 5               │\n",
       "│ 2014-10-01 ┆ 4               │\n",
       "│ 2014-11-01 ┆ 4               │\n",
       "│ 2014-12-01 ┆ 4               │\n",
       "│ 2015-01-01 ┆ 5               │\n",
       "└────────────┴─────────────────┘"
      ]
     },
     "execution_count": 156,
     "metadata": {},
     "output_type": "execute_result"
    }
   ],
   "source": [
    "df_btc_search.head()"
   ]
  },
  {
   "cell_type": "markdown",
   "metadata": {},
   "source": [
    "### Unemployement Benefits Search vs. Actual Unemployment in the U.S."
   ]
  },
  {
   "cell_type": "markdown",
   "metadata": {},
   "source": [
    "**Challenge** Plot the search for \"unemployment benefits\" against the unemployment rate. \n",
    "1. Change the title to: Monthly Search of \"Unemployment Benefits\" in the U.S. vs the U/E Rate <br>\n",
    "2. Change the y-axis label to: FRED U/E Rate <br>\n",
    "3. Change the axis limits <br>\n",
    "4. Add a grey [grid](https://matplotlib.org/3.2.1/api/_as_gen/matplotlib.pyplot.grid.html) to the chart to better see the years and the U/E rate values. Use dashes for the line style<br> \n",
    "5. Can you discern any seasonality in the searches? Is there a pattern? "
   ]
  },
  {
   "cell_type": "code",
   "execution_count": 37,
   "metadata": {},
   "outputs": [
    {
     "data": {
      "text/html": [
       "<div><style>\n",
       ".dataframe > thead > tr,\n",
       ".dataframe > tbody > tr {\n",
       "  text-align: right;\n",
       "  white-space: pre-wrap;\n",
       "}\n",
       "</style>\n",
       "<small>shape: (181, 3)</small><table border=\"1\" class=\"dataframe\"><thead><tr><th>MONTH</th><th>UE_BENEFITS_WEB_SEARCH</th><th>UNRATE</th></tr><tr><td>date</td><td>i64</td><td>f64</td></tr></thead><tbody><tr><td>2004-01-01</td><td>34</td><td>5.7</td></tr><tr><td>2004-02-01</td><td>33</td><td>5.6</td></tr><tr><td>2004-03-01</td><td>25</td><td>5.8</td></tr><tr><td>2004-04-01</td><td>29</td><td>5.6</td></tr><tr><td>2004-05-01</td><td>23</td><td>5.6</td></tr><tr><td>2004-06-01</td><td>29</td><td>5.6</td></tr><tr><td>2004-07-01</td><td>26</td><td>5.5</td></tr><tr><td>2004-08-01</td><td>26</td><td>5.4</td></tr><tr><td>2004-09-01</td><td>23</td><td>5.4</td></tr><tr><td>2004-10-01</td><td>26</td><td>5.5</td></tr><tr><td>2004-11-01</td><td>22</td><td>5.4</td></tr><tr><td>2004-12-01</td><td>22</td><td>5.4</td></tr><tr><td>&hellip;</td><td>&hellip;</td><td>&hellip;</td></tr><tr><td>2018-02-01</td><td>18</td><td>4.1</td></tr><tr><td>2018-03-01</td><td>15</td><td>4.0</td></tr><tr><td>2018-04-01</td><td>16</td><td>4.0</td></tr><tr><td>2018-05-01</td><td>14</td><td>3.8</td></tr><tr><td>2018-06-01</td><td>15</td><td>4.0</td></tr><tr><td>2018-07-01</td><td>16</td><td>3.8</td></tr><tr><td>2018-08-01</td><td>14</td><td>3.8</td></tr><tr><td>2018-09-01</td><td>14</td><td>3.7</td></tr><tr><td>2018-10-01</td><td>15</td><td>3.8</td></tr><tr><td>2018-11-01</td><td>16</td><td>3.7</td></tr><tr><td>2018-12-01</td><td>17</td><td>3.9</td></tr><tr><td>2019-01-01</td><td>21</td><td>4.0</td></tr></tbody></table></div>"
      ],
      "text/plain": [
       "shape: (181, 3)\n",
       "┌────────────┬────────────────────────┬────────┐\n",
       "│ MONTH      ┆ UE_BENEFITS_WEB_SEARCH ┆ UNRATE │\n",
       "│ ---        ┆ ---                    ┆ ---    │\n",
       "│ date       ┆ i64                    ┆ f64    │\n",
       "╞════════════╪════════════════════════╪════════╡\n",
       "│ 2004-01-01 ┆ 34                     ┆ 5.7    │\n",
       "│ 2004-02-01 ┆ 33                     ┆ 5.6    │\n",
       "│ 2004-03-01 ┆ 25                     ┆ 5.8    │\n",
       "│ 2004-04-01 ┆ 29                     ┆ 5.6    │\n",
       "│ 2004-05-01 ┆ 23                     ┆ 5.6    │\n",
       "│ …          ┆ …                      ┆ …      │\n",
       "│ 2018-09-01 ┆ 14                     ┆ 3.7    │\n",
       "│ 2018-10-01 ┆ 15                     ┆ 3.8    │\n",
       "│ 2018-11-01 ┆ 16                     ┆ 3.7    │\n",
       "│ 2018-12-01 ┆ 17                     ┆ 3.9    │\n",
       "│ 2019-01-01 ┆ 21                     ┆ 4.0    │\n",
       "└────────────┴────────────────────────┴────────┘"
      ]
     },
     "execution_count": 37,
     "metadata": {},
     "output_type": "execute_result"
    }
   ],
   "source": [
    "df_unemployment"
   ]
  },
  {
   "cell_type": "code",
   "execution_count": 51,
   "metadata": {},
   "outputs": [
    {
     "data": {
      "application/javascript": "(function(root) {\n  function now() {\n    return new Date();\n  }\n\n  var force = true;\n  var py_version = '3.3.4'.replace('rc', '-rc.').replace('.dev', '-dev.');\n  var reloading = false;\n  var Bokeh = root.Bokeh;\n\n  if (typeof (root._bokeh_timeout) === \"undefined\" || force) {\n    root._bokeh_timeout = Date.now() + 5000;\n    root._bokeh_failed_load = false;\n  }\n\n  function run_callbacks() {\n    try {\n      root._bokeh_onload_callbacks.forEach(function(callback) {\n        if (callback != null)\n          callback();\n      });\n    } finally {\n      delete root._bokeh_onload_callbacks;\n    }\n    console.debug(\"Bokeh: all callbacks have finished\");\n  }\n\n  function load_libs(css_urls, js_urls, js_modules, js_exports, callback) {\n    if (css_urls == null) css_urls = [];\n    if (js_urls == null) js_urls = [];\n    if (js_modules == null) js_modules = [];\n    if (js_exports == null) js_exports = {};\n\n    root._bokeh_onload_callbacks.push(callback);\n\n    if (root._bokeh_is_loading > 0) {\n      console.debug(\"Bokeh: BokehJS is being loaded, scheduling callback at\", now());\n      return null;\n    }\n    if (js_urls.length === 0 && js_modules.length === 0 && Object.keys(js_exports).length === 0) {\n      run_callbacks();\n      return null;\n    }\n    if (!reloading) {\n      console.debug(\"Bokeh: BokehJS not loaded, scheduling load and callback at\", now());\n    }\n\n    function on_load() {\n      root._bokeh_is_loading--;\n      if (root._bokeh_is_loading === 0) {\n        console.debug(\"Bokeh: all BokehJS libraries/stylesheets loaded\");\n        run_callbacks()\n      }\n    }\n    window._bokeh_on_load = on_load\n\n    function on_error() {\n      console.error(\"failed to load \" + url);\n    }\n\n    var skip = [];\n    if (window.requirejs) {\n      window.requirejs.config({'packages': {}, 'paths': {'jspanel': 'https://cdn.jsdelivr.net/npm/jspanel4@4.12.0/dist/jspanel', 'jspanel-modal': 'https://cdn.jsdelivr.net/npm/jspanel4@4.12.0/dist/extensions/modal/jspanel.modal', 'jspanel-tooltip': 'https://cdn.jsdelivr.net/npm/jspanel4@4.12.0/dist/extensions/tooltip/jspanel.tooltip', 'jspanel-hint': 'https://cdn.jsdelivr.net/npm/jspanel4@4.12.0/dist/extensions/hint/jspanel.hint', 'jspanel-layout': 'https://cdn.jsdelivr.net/npm/jspanel4@4.12.0/dist/extensions/layout/jspanel.layout', 'jspanel-contextmenu': 'https://cdn.jsdelivr.net/npm/jspanel4@4.12.0/dist/extensions/contextmenu/jspanel.contextmenu', 'jspanel-dock': 'https://cdn.jsdelivr.net/npm/jspanel4@4.12.0/dist/extensions/dock/jspanel.dock', 'gridstack': 'https://cdn.jsdelivr.net/npm/gridstack@7.2.3/dist/gridstack-all', 'notyf': 'https://cdn.jsdelivr.net/npm/notyf@3/notyf.min'}, 'shim': {'jspanel': {'exports': 'jsPanel'}, 'gridstack': {'exports': 'GridStack'}}});\n      require([\"jspanel\"], function(jsPanel) {\n\twindow.jsPanel = jsPanel\n\ton_load()\n      })\n      require([\"jspanel-modal\"], function() {\n\ton_load()\n      })\n      require([\"jspanel-tooltip\"], function() {\n\ton_load()\n      })\n      require([\"jspanel-hint\"], function() {\n\ton_load()\n      })\n      require([\"jspanel-layout\"], function() {\n\ton_load()\n      })\n      require([\"jspanel-contextmenu\"], function() {\n\ton_load()\n      })\n      require([\"jspanel-dock\"], function() {\n\ton_load()\n      })\n      require([\"gridstack\"], function(GridStack) {\n\twindow.GridStack = GridStack\n\ton_load()\n      })\n      require([\"notyf\"], function() {\n\ton_load()\n      })\n      root._bokeh_is_loading = css_urls.length + 9;\n    } else {\n      root._bokeh_is_loading = css_urls.length + js_urls.length + js_modules.length + Object.keys(js_exports).length;\n    }\n\n    var existing_stylesheets = []\n    var links = document.getElementsByTagName('link')\n    for (var i = 0; i < links.length; i++) {\n      var link = links[i]\n      if (link.href != null) {\n\texisting_stylesheets.push(link.href)\n      }\n    }\n    for (var i = 0; i < css_urls.length; i++) {\n      var url = css_urls[i];\n      if (existing_stylesheets.indexOf(url) !== -1) {\n\ton_load()\n\tcontinue;\n      }\n      const element = document.createElement(\"link\");\n      element.onload = on_load;\n      element.onerror = on_error;\n      element.rel = \"stylesheet\";\n      element.type = \"text/css\";\n      element.href = url;\n      console.debug(\"Bokeh: injecting link tag for BokehJS stylesheet: \", url);\n      document.body.appendChild(element);\n    }    if (((window['jsPanel'] !== undefined) && (!(window['jsPanel'] instanceof HTMLElement))) || window.requirejs) {\n      var urls = ['https://cdn.holoviz.org/panel/1.3.8/dist/bundled/floatpanel/jspanel4@4.12.0/dist/jspanel.js', 'https://cdn.holoviz.org/panel/1.3.8/dist/bundled/floatpanel/jspanel4@4.12.0/dist/extensions/modal/jspanel.modal.js', 'https://cdn.holoviz.org/panel/1.3.8/dist/bundled/floatpanel/jspanel4@4.12.0/dist/extensions/tooltip/jspanel.tooltip.js', 'https://cdn.holoviz.org/panel/1.3.8/dist/bundled/floatpanel/jspanel4@4.12.0/dist/extensions/hint/jspanel.hint.js', 'https://cdn.holoviz.org/panel/1.3.8/dist/bundled/floatpanel/jspanel4@4.12.0/dist/extensions/layout/jspanel.layout.js', 'https://cdn.holoviz.org/panel/1.3.8/dist/bundled/floatpanel/jspanel4@4.12.0/dist/extensions/contextmenu/jspanel.contextmenu.js', 'https://cdn.holoviz.org/panel/1.3.8/dist/bundled/floatpanel/jspanel4@4.12.0/dist/extensions/dock/jspanel.dock.js'];\n      for (var i = 0; i < urls.length; i++) {\n        skip.push(urls[i])\n      }\n    }    if (((window['GridStack'] !== undefined) && (!(window['GridStack'] instanceof HTMLElement))) || window.requirejs) {\n      var urls = ['https://cdn.holoviz.org/panel/1.3.8/dist/bundled/gridstack/gridstack@7.2.3/dist/gridstack-all.js'];\n      for (var i = 0; i < urls.length; i++) {\n        skip.push(urls[i])\n      }\n    }    if (((window['Notyf'] !== undefined) && (!(window['Notyf'] instanceof HTMLElement))) || window.requirejs) {\n      var urls = ['https://cdn.holoviz.org/panel/1.3.8/dist/bundled/notificationarea/notyf@3/notyf.min.js'];\n      for (var i = 0; i < urls.length; i++) {\n        skip.push(urls[i])\n      }\n    }    var existing_scripts = []\n    var scripts = document.getElementsByTagName('script')\n    for (var i = 0; i < scripts.length; i++) {\n      var script = scripts[i]\n      if (script.src != null) {\n\texisting_scripts.push(script.src)\n      }\n    }\n    for (var i = 0; i < js_urls.length; i++) {\n      var url = js_urls[i];\n      if (skip.indexOf(url) !== -1 || existing_scripts.indexOf(url) !== -1) {\n\tif (!window.requirejs) {\n\t  on_load();\n\t}\n\tcontinue;\n      }\n      var element = document.createElement('script');\n      element.onload = on_load;\n      element.onerror = on_error;\n      element.async = false;\n      element.src = url;\n      console.debug(\"Bokeh: injecting script tag for BokehJS library: \", url);\n      document.head.appendChild(element);\n    }\n    for (var i = 0; i < js_modules.length; i++) {\n      var url = js_modules[i];\n      if (skip.indexOf(url) !== -1 || existing_scripts.indexOf(url) !== -1) {\n\tif (!window.requirejs) {\n\t  on_load();\n\t}\n\tcontinue;\n      }\n      var element = document.createElement('script');\n      element.onload = on_load;\n      element.onerror = on_error;\n      element.async = false;\n      element.src = url;\n      element.type = \"module\";\n      console.debug(\"Bokeh: injecting script tag for BokehJS library: \", url);\n      document.head.appendChild(element);\n    }\n    for (const name in js_exports) {\n      var url = js_exports[name];\n      if (skip.indexOf(url) >= 0 || root[name] != null) {\n\tif (!window.requirejs) {\n\t  on_load();\n\t}\n\tcontinue;\n      }\n      var element = document.createElement('script');\n      element.onerror = on_error;\n      element.async = false;\n      element.type = \"module\";\n      console.debug(\"Bokeh: injecting script tag for BokehJS library: \", url);\n      element.textContent = `\n      import ${name} from \"${url}\"\n      window.${name} = ${name}\n      window._bokeh_on_load()\n      `\n      document.head.appendChild(element);\n    }\n    if (!js_urls.length && !js_modules.length) {\n      on_load()\n    }\n  };\n\n  function inject_raw_css(css) {\n    const element = document.createElement(\"style\");\n    element.appendChild(document.createTextNode(css));\n    document.body.appendChild(element);\n  }\n\n  var js_urls = [\"https://cdn.bokeh.org/bokeh/release/bokeh-3.3.4.min.js\", \"https://cdn.bokeh.org/bokeh/release/bokeh-gl-3.3.4.min.js\", \"https://cdn.bokeh.org/bokeh/release/bokeh-widgets-3.3.4.min.js\", \"https://cdn.bokeh.org/bokeh/release/bokeh-tables-3.3.4.min.js\", \"https://cdn.holoviz.org/panel/1.3.8/dist/panel.min.js\"];\n  var js_modules = [];\n  var js_exports = {};\n  var css_urls = [];\n  var inline_js = [    function(Bokeh) {\n      Bokeh.set_log_level(\"info\");\n    },\nfunction(Bokeh) {} // ensure no trailing comma for IE\n  ];\n\n  function run_inline_js() {\n    if ((root.Bokeh !== undefined) || (force === true)) {\n      for (var i = 0; i < inline_js.length; i++) {\n\ttry {\n          inline_js[i].call(root, root.Bokeh);\n\t} catch(e) {\n\t  if (!reloading) {\n\t    throw e;\n\t  }\n\t}\n      }\n      // Cache old bokeh versions\n      if (Bokeh != undefined && !reloading) {\n\tvar NewBokeh = root.Bokeh;\n\tif (Bokeh.versions === undefined) {\n\t  Bokeh.versions = new Map();\n\t}\n\tif (NewBokeh.version !== Bokeh.version) {\n\t  Bokeh.versions.set(NewBokeh.version, NewBokeh)\n\t}\n\troot.Bokeh = Bokeh;\n      }} else if (Date.now() < root._bokeh_timeout) {\n      setTimeout(run_inline_js, 100);\n    } else if (!root._bokeh_failed_load) {\n      console.log(\"Bokeh: BokehJS failed to load within specified timeout.\");\n      root._bokeh_failed_load = true;\n    }\n    root._bokeh_is_initializing = false\n  }\n\n  function load_or_wait() {\n    // Implement a backoff loop that tries to ensure we do not load multiple\n    // versions of Bokeh and its dependencies at the same time.\n    // In recent versions we use the root._bokeh_is_initializing flag\n    // to determine whether there is an ongoing attempt to initialize\n    // bokeh, however for backward compatibility we also try to ensure\n    // that we do not start loading a newer (Panel>=1.0 and Bokeh>3) version\n    // before older versions are fully initialized.\n    if (root._bokeh_is_initializing && Date.now() > root._bokeh_timeout) {\n      root._bokeh_is_initializing = false;\n      root._bokeh_onload_callbacks = undefined;\n      console.log(\"Bokeh: BokehJS was loaded multiple times but one version failed to initialize.\");\n      load_or_wait();\n    } else if (root._bokeh_is_initializing || (typeof root._bokeh_is_initializing === \"undefined\" && root._bokeh_onload_callbacks !== undefined)) {\n      setTimeout(load_or_wait, 100);\n    } else {\n      root._bokeh_is_initializing = true\n      root._bokeh_onload_callbacks = []\n      var bokeh_loaded = Bokeh != null && (Bokeh.version === py_version || (Bokeh.versions !== undefined && Bokeh.versions.has(py_version)));\n      if (!reloading && !bokeh_loaded) {\n\troot.Bokeh = undefined;\n      }\n      load_libs(css_urls, js_urls, js_modules, js_exports, function() {\n\tconsole.debug(\"Bokeh: BokehJS plotting callback run at\", now());\n\trun_inline_js();\n      });\n    }\n  }\n  // Give older versions of the autoload script a head-start to ensure\n  // they initialize before we start loading newer version.\n  setTimeout(load_or_wait, 100)\n}(window));",
      "application/vnd.holoviews_load.v0+json": ""
     },
     "metadata": {},
     "output_type": "display_data"
    },
    {
     "data": {
      "application/javascript": "\nif ((window.PyViz === undefined) || (window.PyViz instanceof HTMLElement)) {\n  window.PyViz = {comms: {}, comm_status:{}, kernels:{}, receivers: {}, plot_index: []}\n}\n\n\n    function JupyterCommManager() {\n    }\n\n    JupyterCommManager.prototype.register_target = function(plot_id, comm_id, msg_handler) {\n      if (window.comm_manager || ((window.Jupyter !== undefined) && (Jupyter.notebook.kernel != null))) {\n        var comm_manager = window.comm_manager || Jupyter.notebook.kernel.comm_manager;\n        comm_manager.register_target(comm_id, function(comm) {\n          comm.on_msg(msg_handler);\n        });\n      } else if ((plot_id in window.PyViz.kernels) && (window.PyViz.kernels[plot_id])) {\n        window.PyViz.kernels[plot_id].registerCommTarget(comm_id, function(comm) {\n          comm.onMsg = msg_handler;\n        });\n      } else if (typeof google != 'undefined' && google.colab.kernel != null) {\n        google.colab.kernel.comms.registerTarget(comm_id, (comm) => {\n          var messages = comm.messages[Symbol.asyncIterator]();\n          function processIteratorResult(result) {\n            var message = result.value;\n            console.log(message)\n            var content = {data: message.data, comm_id};\n            var buffers = []\n            for (var buffer of message.buffers || []) {\n              buffers.push(new DataView(buffer))\n            }\n            var metadata = message.metadata || {};\n            var msg = {content, buffers, metadata}\n            msg_handler(msg);\n            return messages.next().then(processIteratorResult);\n          }\n          return messages.next().then(processIteratorResult);\n        })\n      }\n    }\n\n    JupyterCommManager.prototype.get_client_comm = function(plot_id, comm_id, msg_handler) {\n      if (comm_id in window.PyViz.comms) {\n        return window.PyViz.comms[comm_id];\n      } else if (window.comm_manager || ((window.Jupyter !== undefined) && (Jupyter.notebook.kernel != null))) {\n        var comm_manager = window.comm_manager || Jupyter.notebook.kernel.comm_manager;\n        var comm = comm_manager.new_comm(comm_id, {}, {}, {}, comm_id);\n        if (msg_handler) {\n          comm.on_msg(msg_handler);\n        }\n      } else if ((plot_id in window.PyViz.kernels) && (window.PyViz.kernels[plot_id])) {\n        var comm = window.PyViz.kernels[plot_id].connectToComm(comm_id);\n        comm.open();\n        if (msg_handler) {\n          comm.onMsg = msg_handler;\n        }\n      } else if (typeof google != 'undefined' && google.colab.kernel != null) {\n        var comm_promise = google.colab.kernel.comms.open(comm_id)\n        comm_promise.then((comm) => {\n          window.PyViz.comms[comm_id] = comm;\n          if (msg_handler) {\n            var messages = comm.messages[Symbol.asyncIterator]();\n            function processIteratorResult(result) {\n              var message = result.value;\n              var content = {data: message.data};\n              var metadata = message.metadata || {comm_id};\n              var msg = {content, metadata}\n              msg_handler(msg);\n              return messages.next().then(processIteratorResult);\n            }\n            return messages.next().then(processIteratorResult);\n          }\n        }) \n        var sendClosure = (data, metadata, buffers, disposeOnDone) => {\n          return comm_promise.then((comm) => {\n            comm.send(data, metadata, buffers, disposeOnDone);\n          });\n        };\n        var comm = {\n          send: sendClosure\n        };\n      }\n      window.PyViz.comms[comm_id] = comm;\n      return comm;\n    }\n    window.PyViz.comm_manager = new JupyterCommManager();\n    \n\n\nvar JS_MIME_TYPE = 'application/javascript';\nvar HTML_MIME_TYPE = 'text/html';\nvar EXEC_MIME_TYPE = 'application/vnd.holoviews_exec.v0+json';\nvar CLASS_NAME = 'output';\n\n/**\n * Render data to the DOM node\n */\nfunction render(props, node) {\n  var div = document.createElement(\"div\");\n  var script = document.createElement(\"script\");\n  node.appendChild(div);\n  node.appendChild(script);\n}\n\n/**\n * Handle when a new output is added\n */\nfunction handle_add_output(event, handle) {\n  var output_area = handle.output_area;\n  var output = handle.output;\n  if ((output.data == undefined) || (!output.data.hasOwnProperty(EXEC_MIME_TYPE))) {\n    return\n  }\n  var id = output.metadata[EXEC_MIME_TYPE][\"id\"];\n  var toinsert = output_area.element.find(\".\" + CLASS_NAME.split(' ')[0]);\n  if (id !== undefined) {\n    var nchildren = toinsert.length;\n    var html_node = toinsert[nchildren-1].children[0];\n    html_node.innerHTML = output.data[HTML_MIME_TYPE];\n    var scripts = [];\n    var nodelist = html_node.querySelectorAll(\"script\");\n    for (var i in nodelist) {\n      if (nodelist.hasOwnProperty(i)) {\n        scripts.push(nodelist[i])\n      }\n    }\n\n    scripts.forEach( function (oldScript) {\n      var newScript = document.createElement(\"script\");\n      var attrs = [];\n      var nodemap = oldScript.attributes;\n      for (var j in nodemap) {\n        if (nodemap.hasOwnProperty(j)) {\n          attrs.push(nodemap[j])\n        }\n      }\n      attrs.forEach(function(attr) { newScript.setAttribute(attr.name, attr.value) });\n      newScript.appendChild(document.createTextNode(oldScript.innerHTML));\n      oldScript.parentNode.replaceChild(newScript, oldScript);\n    });\n    if (JS_MIME_TYPE in output.data) {\n      toinsert[nchildren-1].children[1].textContent = output.data[JS_MIME_TYPE];\n    }\n    output_area._hv_plot_id = id;\n    if ((window.Bokeh !== undefined) && (id in Bokeh.index)) {\n      window.PyViz.plot_index[id] = Bokeh.index[id];\n    } else {\n      window.PyViz.plot_index[id] = null;\n    }\n  } else if (output.metadata[EXEC_MIME_TYPE][\"server_id\"] !== undefined) {\n    var bk_div = document.createElement(\"div\");\n    bk_div.innerHTML = output.data[HTML_MIME_TYPE];\n    var script_attrs = bk_div.children[0].attributes;\n    for (var i = 0; i < script_attrs.length; i++) {\n      toinsert[toinsert.length - 1].childNodes[1].setAttribute(script_attrs[i].name, script_attrs[i].value);\n    }\n    // store reference to server id on output_area\n    output_area._bokeh_server_id = output.metadata[EXEC_MIME_TYPE][\"server_id\"];\n  }\n}\n\n/**\n * Handle when an output is cleared or removed\n */\nfunction handle_clear_output(event, handle) {\n  var id = handle.cell.output_area._hv_plot_id;\n  var server_id = handle.cell.output_area._bokeh_server_id;\n  if (((id === undefined) || !(id in PyViz.plot_index)) && (server_id !== undefined)) { return; }\n  var comm = window.PyViz.comm_manager.get_client_comm(\"hv-extension-comm\", \"hv-extension-comm\", function () {});\n  if (server_id !== null) {\n    comm.send({event_type: 'server_delete', 'id': server_id});\n    return;\n  } else if (comm !== null) {\n    comm.send({event_type: 'delete', 'id': id});\n  }\n  delete PyViz.plot_index[id];\n  if ((window.Bokeh !== undefined) & (id in window.Bokeh.index)) {\n    var doc = window.Bokeh.index[id].model.document\n    doc.clear();\n    const i = window.Bokeh.documents.indexOf(doc);\n    if (i > -1) {\n      window.Bokeh.documents.splice(i, 1);\n    }\n  }\n}\n\n/**\n * Handle kernel restart event\n */\nfunction handle_kernel_cleanup(event, handle) {\n  delete PyViz.comms[\"hv-extension-comm\"];\n  window.PyViz.plot_index = {}\n}\n\n/**\n * Handle update_display_data messages\n */\nfunction handle_update_output(event, handle) {\n  handle_clear_output(event, {cell: {output_area: handle.output_area}})\n  handle_add_output(event, handle)\n}\n\nfunction register_renderer(events, OutputArea) {\n  function append_mime(data, metadata, element) {\n    // create a DOM node to render to\n    var toinsert = this.create_output_subarea(\n    metadata,\n    CLASS_NAME,\n    EXEC_MIME_TYPE\n    );\n    this.keyboard_manager.register_events(toinsert);\n    // Render to node\n    var props = {data: data, metadata: metadata[EXEC_MIME_TYPE]};\n    render(props, toinsert[0]);\n    element.append(toinsert);\n    return toinsert\n  }\n\n  events.on('output_added.OutputArea', handle_add_output);\n  events.on('output_updated.OutputArea', handle_update_output);\n  events.on('clear_output.CodeCell', handle_clear_output);\n  events.on('delete.Cell', handle_clear_output);\n  events.on('kernel_ready.Kernel', handle_kernel_cleanup);\n\n  OutputArea.prototype.register_mime_type(EXEC_MIME_TYPE, append_mime, {\n    safe: true,\n    index: 0\n  });\n}\n\nif (window.Jupyter !== undefined) {\n  try {\n    var events = require('base/js/events');\n    var OutputArea = require('notebook/js/outputarea').OutputArea;\n    if (OutputArea.prototype.mime_types().indexOf(EXEC_MIME_TYPE) == -1) {\n      register_renderer(events, OutputArea);\n    }\n  } catch(err) {\n  }\n}\n",
      "application/vnd.holoviews_load.v0+json": ""
     },
     "metadata": {},
     "output_type": "display_data"
    },
    {
     "data": {
      "text/html": [
       "<style>*[data-root-id],\n",
       "*[data-root-id] > * {\n",
       "  box-sizing: border-box;\n",
       "  font-family: var(--jp-ui-font-family);\n",
       "  font-size: var(--jp-ui-font-size1);\n",
       "  color: var(--vscode-editor-foreground, var(--jp-ui-font-color1));\n",
       "}\n",
       "\n",
       "/* Override VSCode background color */\n",
       ".cell-output-ipywidget-background:has(\n",
       "    > .cell-output-ipywidget-background > .lm-Widget > *[data-root-id]\n",
       "  ),\n",
       ".cell-output-ipywidget-background:has(> .lm-Widget > *[data-root-id]) {\n",
       "  background-color: transparent !important;\n",
       "}\n",
       "</style>"
      ]
     },
     "metadata": {},
     "output_type": "display_data"
    },
    {
     "data": {
      "application/vnd.holoviews_exec.v0+json": "",
      "text/html": [
       "<div id='p2524'>\n",
       "  <div id=\"e762fe12-d59b-41bf-9b79-46e8e82cd4b9\" data-root-id=\"p2524\" style=\"display: contents;\"></div>\n",
       "</div>\n",
       "<script type=\"application/javascript\">(function(root) {\n",
       "  var docs_json = {\"1432e17d-a65f-4810-b98d-e357b3039b8c\":{\"version\":\"3.3.4\",\"title\":\"Bokeh Application\",\"roots\":[{\"type\":\"object\",\"name\":\"panel.models.browser.BrowserInfo\",\"id\":\"p2524\"},{\"type\":\"object\",\"name\":\"panel.models.comm_manager.CommManager\",\"id\":\"p2525\",\"attributes\":{\"plot_id\":\"p2524\",\"comm_id\":\"93aa9aed34d04ec7803f9fca8d591535\",\"client_comm_id\":\"ea5e23ec392d427db478623251490684\"}}],\"defs\":[{\"type\":\"model\",\"name\":\"ReactiveHTML1\"},{\"type\":\"model\",\"name\":\"FlexBox1\",\"properties\":[{\"name\":\"align_content\",\"kind\":\"Any\",\"default\":\"flex-start\"},{\"name\":\"align_items\",\"kind\":\"Any\",\"default\":\"flex-start\"},{\"name\":\"flex_direction\",\"kind\":\"Any\",\"default\":\"row\"},{\"name\":\"flex_wrap\",\"kind\":\"Any\",\"default\":\"wrap\"},{\"name\":\"justify_content\",\"kind\":\"Any\",\"default\":\"flex-start\"}]},{\"type\":\"model\",\"name\":\"FloatPanel1\",\"properties\":[{\"name\":\"config\",\"kind\":\"Any\",\"default\":{\"type\":\"map\"}},{\"name\":\"contained\",\"kind\":\"Any\",\"default\":true},{\"name\":\"position\",\"kind\":\"Any\",\"default\":\"right-top\"},{\"name\":\"offsetx\",\"kind\":\"Any\",\"default\":null},{\"name\":\"offsety\",\"kind\":\"Any\",\"default\":null},{\"name\":\"theme\",\"kind\":\"Any\",\"default\":\"primary\"},{\"name\":\"status\",\"kind\":\"Any\",\"default\":\"normalized\"}]},{\"type\":\"model\",\"name\":\"GridStack1\",\"properties\":[{\"name\":\"mode\",\"kind\":\"Any\",\"default\":\"warn\"},{\"name\":\"ncols\",\"kind\":\"Any\",\"default\":null},{\"name\":\"nrows\",\"kind\":\"Any\",\"default\":null},{\"name\":\"allow_resize\",\"kind\":\"Any\",\"default\":true},{\"name\":\"allow_drag\",\"kind\":\"Any\",\"default\":true},{\"name\":\"state\",\"kind\":\"Any\",\"default\":[]}]},{\"type\":\"model\",\"name\":\"drag1\",\"properties\":[{\"name\":\"slider_width\",\"kind\":\"Any\",\"default\":5},{\"name\":\"slider_color\",\"kind\":\"Any\",\"default\":\"black\"},{\"name\":\"value\",\"kind\":\"Any\",\"default\":50}]},{\"type\":\"model\",\"name\":\"click1\",\"properties\":[{\"name\":\"terminal_output\",\"kind\":\"Any\",\"default\":\"\"},{\"name\":\"debug_name\",\"kind\":\"Any\",\"default\":\"\"},{\"name\":\"clears\",\"kind\":\"Any\",\"default\":0}]},{\"type\":\"model\",\"name\":\"copy_to_clipboard1\",\"properties\":[{\"name\":\"fill\",\"kind\":\"Any\",\"default\":\"none\"},{\"name\":\"value\",\"kind\":\"Any\",\"default\":null}]},{\"type\":\"model\",\"name\":\"FastWrapper1\",\"properties\":[{\"name\":\"object\",\"kind\":\"Any\",\"default\":null},{\"name\":\"style\",\"kind\":\"Any\",\"default\":null}]},{\"type\":\"model\",\"name\":\"NotificationAreaBase1\",\"properties\":[{\"name\":\"js_events\",\"kind\":\"Any\",\"default\":{\"type\":\"map\"}},{\"name\":\"position\",\"kind\":\"Any\",\"default\":\"bottom-right\"},{\"name\":\"_clear\",\"kind\":\"Any\",\"default\":0}]},{\"type\":\"model\",\"name\":\"NotificationArea1\",\"properties\":[{\"name\":\"js_events\",\"kind\":\"Any\",\"default\":{\"type\":\"map\"}},{\"name\":\"notifications\",\"kind\":\"Any\",\"default\":[]},{\"name\":\"position\",\"kind\":\"Any\",\"default\":\"bottom-right\"},{\"name\":\"_clear\",\"kind\":\"Any\",\"default\":0},{\"name\":\"types\",\"kind\":\"Any\",\"default\":[{\"type\":\"map\",\"entries\":[[\"type\",\"warning\"],[\"background\",\"#ffc107\"],[\"icon\",{\"type\":\"map\",\"entries\":[[\"className\",\"fas fa-exclamation-triangle\"],[\"tagName\",\"i\"],[\"color\",\"white\"]]}]]},{\"type\":\"map\",\"entries\":[[\"type\",\"info\"],[\"background\",\"#007bff\"],[\"icon\",{\"type\":\"map\",\"entries\":[[\"className\",\"fas fa-info-circle\"],[\"tagName\",\"i\"],[\"color\",\"white\"]]}]]}]}]},{\"type\":\"model\",\"name\":\"Notification\",\"properties\":[{\"name\":\"background\",\"kind\":\"Any\",\"default\":null},{\"name\":\"duration\",\"kind\":\"Any\",\"default\":3000},{\"name\":\"icon\",\"kind\":\"Any\",\"default\":null},{\"name\":\"message\",\"kind\":\"Any\",\"default\":\"\"},{\"name\":\"notification_type\",\"kind\":\"Any\",\"default\":null},{\"name\":\"_destroyed\",\"kind\":\"Any\",\"default\":false}]},{\"type\":\"model\",\"name\":\"TemplateActions1\",\"properties\":[{\"name\":\"open_modal\",\"kind\":\"Any\",\"default\":0},{\"name\":\"close_modal\",\"kind\":\"Any\",\"default\":0}]},{\"type\":\"model\",\"name\":\"BootstrapTemplateActions1\",\"properties\":[{\"name\":\"open_modal\",\"kind\":\"Any\",\"default\":0},{\"name\":\"close_modal\",\"kind\":\"Any\",\"default\":0}]},{\"type\":\"model\",\"name\":\"MaterialTemplateActions1\",\"properties\":[{\"name\":\"open_modal\",\"kind\":\"Any\",\"default\":0},{\"name\":\"close_modal\",\"kind\":\"Any\",\"default\":0}]}]}};\n",
       "  var render_items = [{\"docid\":\"1432e17d-a65f-4810-b98d-e357b3039b8c\",\"roots\":{\"p2524\":\"e762fe12-d59b-41bf-9b79-46e8e82cd4b9\"},\"root_ids\":[\"p2524\"]}];\n",
       "  var docs = Object.values(docs_json)\n",
       "  if (!docs) {\n",
       "    return\n",
       "  }\n",
       "  const py_version = docs[0].version.replace('rc', '-rc.').replace('.dev', '-dev.')\n",
       "  function embed_document(root) {\n",
       "    var Bokeh = get_bokeh(root)\n",
       "    Bokeh.embed.embed_items_notebook(docs_json, render_items);\n",
       "    for (const render_item of render_items) {\n",
       "      for (const root_id of render_item.root_ids) {\n",
       "\tconst id_el = document.getElementById(root_id)\n",
       "\tif (id_el.children.length && (id_el.children[0].className === 'bk-root')) {\n",
       "\t  const root_el = id_el.children[0]\n",
       "\t  root_el.id = root_el.id + '-rendered'\n",
       "\t}\n",
       "      }\n",
       "    }\n",
       "  }\n",
       "  function get_bokeh(root) {\n",
       "    if (root.Bokeh === undefined) {\n",
       "      return null\n",
       "    } else if (root.Bokeh.version !== py_version) {\n",
       "      if (root.Bokeh.versions === undefined || !root.Bokeh.versions.has(py_version)) {\n",
       "\treturn null\n",
       "      }\n",
       "      return root.Bokeh.versions.get(py_version);\n",
       "    } else if (root.Bokeh.version === py_version) {\n",
       "      return root.Bokeh\n",
       "    }\n",
       "    return null\n",
       "  }\n",
       "  function is_loaded(root) {\n",
       "    var Bokeh = get_bokeh(root)\n",
       "    return (Bokeh != null && Bokeh.Panel !== undefined)\n",
       "  }\n",
       "  if (is_loaded(root)) {\n",
       "    embed_document(root);\n",
       "  } else {\n",
       "    var attempts = 0;\n",
       "    var timer = setInterval(function(root) {\n",
       "      if (is_loaded(root)) {\n",
       "        clearInterval(timer);\n",
       "        embed_document(root);\n",
       "      } else if (document.readyState == \"complete\") {\n",
       "        attempts++;\n",
       "        if (attempts > 200) {\n",
       "          clearInterval(timer);\n",
       "\t  var Bokeh = get_bokeh(root)\n",
       "\t  if (Bokeh == null || Bokeh.Panel == null) {\n",
       "            console.warn(\"Panel: ERROR: Unable to run Panel code because Bokeh or Panel library is missing\");\n",
       "\t  } else {\n",
       "\t    console.warn(\"Panel: WARNING: Attempting to render but not all required libraries could be resolved.\")\n",
       "\t    embed_document(root)\n",
       "\t  }\n",
       "        }\n",
       "      }\n",
       "    }, 25, root)\n",
       "  }\n",
       "})(window);</script>"
      ]
     },
     "metadata": {
      "application/vnd.holoviews_exec.v0+json": {
       "id": "p2524"
      }
     },
     "output_type": "display_data"
    },
    {
     "data": {},
     "metadata": {},
     "output_type": "display_data"
    },
    {
     "data": {
      "application/vnd.holoviews_exec.v0+json": "",
      "text/html": [
       "<div id='p2526'>\n",
       "  <div id=\"eef918c9-c3e6-436d-960b-20551e5ee4f4\" data-root-id=\"p2526\" style=\"display: contents;\"></div>\n",
       "</div>\n",
       "<script type=\"application/javascript\">(function(root) {\n",
       "  var docs_json = {\"a3a86a6f-09b0-4293-a965-2481d66af3bc\":{\"version\":\"3.3.4\",\"title\":\"Bokeh Application\",\"roots\":[{\"type\":\"object\",\"name\":\"Row\",\"id\":\"p2526\",\"attributes\":{\"name\":\"Row04907\",\"tags\":[\"embedded\"],\"stylesheets\":[\"\\n:host(.pn-loading.pn-arc):before, .pn-loading.pn-arc:before {\\n  background-image: url(\\\"data:image/svg+xml;base64,PHN2ZyB4bWxucz0iaHR0cDovL3d3dy53My5vcmcvMjAwMC9zdmciIHN0eWxlPSJtYXJnaW46IGF1dG87IGJhY2tncm91bmQ6IG5vbmU7IGRpc3BsYXk6IGJsb2NrOyBzaGFwZS1yZW5kZXJpbmc6IGF1dG87IiB2aWV3Qm94PSIwIDAgMTAwIDEwMCIgcHJlc2VydmVBc3BlY3RSYXRpbz0ieE1pZFlNaWQiPiAgPGNpcmNsZSBjeD0iNTAiIGN5PSI1MCIgZmlsbD0ibm9uZSIgc3Ryb2tlPSIjYzNjM2MzIiBzdHJva2Utd2lkdGg9IjEwIiByPSIzNSIgc3Ryb2tlLWRhc2hhcnJheT0iMTY0LjkzMzYxNDMxMzQ2NDE1IDU2Ljk3Nzg3MTQzNzgyMTM4Ij4gICAgPGFuaW1hdGVUcmFuc2Zvcm0gYXR0cmlidXRlTmFtZT0idHJhbnNmb3JtIiB0eXBlPSJyb3RhdGUiIHJlcGVhdENvdW50PSJpbmRlZmluaXRlIiBkdXI9IjFzIiB2YWx1ZXM9IjAgNTAgNTA7MzYwIDUwIDUwIiBrZXlUaW1lcz0iMDsxIj48L2FuaW1hdGVUcmFuc2Zvcm0+ICA8L2NpcmNsZT48L3N2Zz4=\\\");\\n  background-size: auto calc(min(50%, 400px));\\n}\",{\"type\":\"object\",\"name\":\"ImportedStyleSheet\",\"id\":\"p2529\",\"attributes\":{\"url\":\"https://cdn.holoviz.org/panel/1.3.8/dist/css/loading.css\"}},{\"type\":\"object\",\"name\":\"ImportedStyleSheet\",\"id\":\"p2622\",\"attributes\":{\"url\":\"https://cdn.holoviz.org/panel/1.3.8/dist/css/listpanel.css\"}},{\"type\":\"object\",\"name\":\"ImportedStyleSheet\",\"id\":\"p2527\",\"attributes\":{\"url\":\"https://cdn.holoviz.org/panel/1.3.8/dist/bundled/theme/default.css\"}},{\"type\":\"object\",\"name\":\"ImportedStyleSheet\",\"id\":\"p2528\",\"attributes\":{\"url\":\"https://cdn.holoviz.org/panel/1.3.8/dist/bundled/theme/native.css\"}}],\"min_width\":700,\"margin\":0,\"sizing_mode\":\"stretch_width\",\"align\":\"start\",\"children\":[{\"type\":\"object\",\"name\":\"Spacer\",\"id\":\"p2530\",\"attributes\":{\"name\":\"HSpacer04914\",\"stylesheets\":[\"\\n:host(.pn-loading.pn-arc):before, .pn-loading.pn-arc:before {\\n  background-image: url(\\\"data:image/svg+xml;base64,PHN2ZyB4bWxucz0iaHR0cDovL3d3dy53My5vcmcvMjAwMC9zdmciIHN0eWxlPSJtYXJnaW46IGF1dG87IGJhY2tncm91bmQ6IG5vbmU7IGRpc3BsYXk6IGJsb2NrOyBzaGFwZS1yZW5kZXJpbmc6IGF1dG87IiB2aWV3Qm94PSIwIDAgMTAwIDEwMCIgcHJlc2VydmVBc3BlY3RSYXRpbz0ieE1pZFlNaWQiPiAgPGNpcmNsZSBjeD0iNTAiIGN5PSI1MCIgZmlsbD0ibm9uZSIgc3Ryb2tlPSIjYzNjM2MzIiBzdHJva2Utd2lkdGg9IjEwIiByPSIzNSIgc3Ryb2tlLWRhc2hhcnJheT0iMTY0LjkzMzYxNDMxMzQ2NDE1IDU2Ljk3Nzg3MTQzNzgyMTM4Ij4gICAgPGFuaW1hdGVUcmFuc2Zvcm0gYXR0cmlidXRlTmFtZT0idHJhbnNmb3JtIiB0eXBlPSJyb3RhdGUiIHJlcGVhdENvdW50PSJpbmRlZmluaXRlIiBkdXI9IjFzIiB2YWx1ZXM9IjAgNTAgNTA7MzYwIDUwIDUwIiBrZXlUaW1lcz0iMDsxIj48L2FuaW1hdGVUcmFuc2Zvcm0+ICA8L2NpcmNsZT48L3N2Zz4=\\\");\\n  background-size: auto calc(min(50%, 400px));\\n}\",{\"id\":\"p2529\"},{\"id\":\"p2527\"},{\"id\":\"p2528\"}],\"margin\":0,\"sizing_mode\":\"stretch_width\",\"align\":\"start\"}},{\"type\":\"object\",\"name\":\"Figure\",\"id\":\"p2543\",\"attributes\":{\"width\":700,\"height\":300,\"margin\":[5,10],\"sizing_mode\":\"fixed\",\"align\":\"start\",\"x_range\":{\"type\":\"object\",\"name\":\"Range1d\",\"id\":\"p2531\",\"attributes\":{\"tags\":[[[\"MONTH\",\"MONTH\",null]],[]],\"start\":1072915200000.0,\"end\":1546300800000.0,\"reset_start\":1072915200000.0,\"reset_end\":1546300800000.0}},\"y_range\":{\"type\":\"object\",\"name\":\"Range1d\",\"id\":\"p2532\",\"attributes\":{\"name\":\"UE_BENEFITS_WEB_SEARCH\",\"tags\":[[[\"UE_BENEFITS_WEB_SEARCH\",\"UE_BENEFITS_WEB_SEARCH\",null]],{\"type\":\"map\",\"entries\":[[\"invert_yaxis\",false],[\"autorange\",false]]}],\"start\":5.4,\"end\":108.6,\"reset_start\":5.4,\"reset_end\":108.6}},\"x_scale\":{\"type\":\"object\",\"name\":\"LinearScale\",\"id\":\"p2553\"},\"y_scale\":{\"type\":\"object\",\"name\":\"LinearScale\",\"id\":\"p2554\"},\"extra_y_ranges\":{\"type\":\"map\",\"entries\":[[\"UNRATE\",{\"type\":\"object\",\"name\":\"Range1d\",\"id\":\"p2533\",\"attributes\":{\"name\":\"UNRATE\",\"tags\":[[[\"UNRATE\",\"UNRATE\",null]],{\"type\":\"map\",\"entries\":[[\"invert_yaxis\",false],[\"autorange\",false]]}],\"start\":3.0700000000000003,\"end\":10.63,\"reset_start\":3.0700000000000003,\"reset_end\":10.63}}]]},\"extra_y_scales\":{\"type\":\"map\",\"entries\":[[\"UNRATE\",{\"type\":\"object\",\"name\":\"LinearScale\",\"id\":\"p2536\"}]]},\"title\":{\"type\":\"object\",\"name\":\"Title\",\"id\":\"p2546\",\"attributes\":{\"text\":\"Unemployment Benefits in the U.S. vs the U/E Rate\",\"text_color\":\"black\",\"text_font_size\":\"15pt\"}},\"renderers\":[{\"type\":\"object\",\"name\":\"GlyphRenderer\",\"id\":\"p2599\",\"attributes\":{\"name\":\"Search\",\"data_source\":{\"type\":\"object\",\"name\":\"ColumnDataSource\",\"id\":\"p2590\",\"attributes\":{\"selected\":{\"type\":\"object\",\"name\":\"Selection\",\"id\":\"p2591\",\"attributes\":{\"indices\":[],\"line_indices\":[]}},\"selection_policy\":{\"type\":\"object\",\"name\":\"UnionRenderers\",\"id\":\"p2592\"},\"data\":{\"type\":\"map\",\"entries\":[[\"MONTH\",{\"type\":\"ndarray\",\"array\":{\"type\":\"bytes\",\"data\":\"AAAAV9c5b0IAAID7y01vQgAAAAl3YG9CAACArWt0b0IAAICGu4dvQgAAACuwm29CAAAABACvb0IAAICo9MJvQgAAAE3p1m9CAAAAJjnqb0IAAIDKLf5vQgAAwNG+CHBCAAAAJLkScEIAAEB2sxxwQgAAQJe2JXBCAACA6bAvcEIAAADWWDlwQgAAQChTQ3BCAADAFPtMcEIAAABn9VZwQgAAQLnvYHBCAADApZdqcEIAAAD4kXRwQgAAgOQ5fnBCAADANjSIcEIAAACJLpJwQgAAAKoxm3BCAABA/CulcEIAAMDo065wQgAAADvOuHBCAACAJ3bCcEIAAMB5cMxwQgAAAMxq1nBCAACAuBLgcEIAAMAKDepwQgAAQPe083BCAACASa/9cEIAAMCbqQdxQgAAwLysEHFCAAAAD6cacUIAAID7TiRxQgAAwE1JLnFCAABAOvE3cUIAAICM60FxQgAAwN7lS3FCAABAy41VcUIAAIAdiF9xQgAAAAowaXFCAABAXCpzcUIAAICuJH1xQgAAQDV6hnFCAACAh3SQcUIAAAB0HJpxQgAAQMYWpHFCAADAsr6tcUIAAAAFubdxQgAAQFezwXFCAADAQ1vLcUIAAACWVdVxQgAAgIL93nFCAADA1PfocUIAAAAn8vJxQgAAAEj1+3FCAABAmu8FckIAAMCGlw9yQgAAANmRGXJCAACAxTkjckIAAMAXNC1yQgAAAGouN3JCAACAVtZAckIAAMCo0EpyQgAAQJV4VHJCAACA53JeckIAAMA5bWhyQgAAwFpwcXJCAAAArWp7ckIAAICZEoVyQgAAwOsMj3JCAABA2LSYckIAAIAqr6JyQgAAwHyprHJCAABAaVG2ckIAAIC7S8ByQgAAAKjzyXJCAABA+u3TckIAAIBM6N1yQgAAgG3r5nJCAADAv+XwckIAAECsjfpyQgAAgP6HBHNCAAAA6y8Oc0IAAEA9KhhzQgAAgI8kInNCAAAAfMwrc0IAAEDOxjVzQgAAwLpuP3NCAAAADWlJc0IAAEBfY1NzQgAAAOa4XHNCAABAOLNmc0IAAMAkW3BzQgAAAHdVenNCAACAY/2Dc0IAAMC1941zQgAAAAjyl3NCAACA9Jmhc0IAAMBGlKtzQgAAQDM8tXNCAACAhTa/c0IAAMDXMMlzQgAAwPgz0nNCAAAASy7cc0IAAIA31uVzQgAAwInQ73NCAABAdnj5c0IAAIDIcgN0QgAAwBptDXRCAABABxUXdEIAAIBZDyF0QgAAAEa3KnRCAABAmLE0dEIAAIDqqz50QgAAgAuvR3RCAADAXalRdEIAAEBKUVt0QgAAgJxLZXRCAAAAifNudEIAAEDb7Xh0QgAAgC3ognRCAAAAGpCMdEIAAEBsipZ0QgAAwFgyoHRCAAAAqyyqdEIAAED9JrR0QgAAQB4qvXRCAACAcCTHdEIAAABdzNB0QgAAQK/G2nRCAADAm27kdEIAAADuaO50QgAAQEBj+HRCAADALAsCdUIAAAB/BQx1QgAAgGutFXVCAADAvacfdUIAAAAQoil1QgAAwJb3MnVCAAAA6fE8dUIAAIDVmUZ1QgAAwCeUUHVCAABAFDxadUIAAIBmNmR1QgAAwLgwbnVCAABApdh3dUIAAID30oF1QgAAAOR6i3VCAABANnWVdUIAAICIb591QgAAgKlyqHVCAADA+2yydUIAAEDoFLx1QgAAgDoPxnVCAAAAJ7fPdUIAAEB5sdl1QgAAgMur43VCAAAAuFPtdUIAAEAKTvd1QgAAwPb1AHZCAAAASfAKdkIAAECb6hR2QgAAQLztHXZCAACADugndkIAAAD7jzF2QgAAQE2KO3ZCAADAOTJFdkIAAACMLE92QgAAQN4mWXZCAADAys5idkIAAAAdyWx2QgAAgAlxdnZCAADAW2uAdkI=\"},\"shape\":[181],\"dtype\":\"float64\",\"order\":\"little\"}],[\"UE_BENEFITS_WEB_SEARCH\",{\"type\":\"ndarray\",\"array\":{\"type\":\"bytes\",\"data\":\"IgAAACEAAAAZAAAAHQAAABcAAAAdAAAAGgAAABoAAAAXAAAAGgAAABYAAAAWAAAAHAAAABkAAAAXAAAAFwAAABUAAAAWAAAAGAAAABYAAAAWAAAAFAAAABYAAAAUAAAAGgAAABYAAAAVAAAAFAAAABUAAAAWAAAAFwAAABYAAAAUAAAAFgAAABYAAAAVAAAAHQAAABoAAAAXAAAAGQAAABYAAAAZAAAAGwAAABkAAAAaAAAAGgAAABkAAAAcAAAAJgAAAB4AAAAdAAAAIQAAAB4AAAApAAAAKQAAACYAAAAwAAAAOgAAAEgAAABOAAAAYgAAAGQAAABUAAAATgAAAEgAAABOAAAAUgAAAFMAAABRAAAAVgAAAFgAAABLAAAATgAAAEcAAABOAAAARwAAAD4AAABQAAAAXgAAADwAAAAzAAAAMgAAADcAAABFAAAAQQAAADUAAAAuAAAAMAAAADAAAAAvAAAALwAAADIAAAAvAAAAMAAAACsAAAAvAAAAMgAAACoAAAAmAAAAJwAAACcAAAApAAAALAAAACUAAAAmAAAAJgAAACsAAAAzAAAANgAAACYAAAAjAAAAIgAAACIAAAAjAAAAJAAAAB4AAAAhAAAAJQAAAB4AAAApAAAARwAAADYAAAAuAAAALQAAACEAAAAeAAAAGwAAABYAAAAWAAAAFQAAABUAAAAWAAAAGAAAABUAAAAWAAAAEwAAABEAAAAUAAAAFgAAABQAAAATAAAAEgAAABMAAAAUAAAAGAAAABUAAAASAAAAEgAAABMAAAATAAAAEgAAABIAAAAQAAAAEgAAABEAAAATAAAAFwAAABMAAAASAAAAEQAAABAAAAARAAAAFAAAABIAAAASAAAAEQAAABAAAAASAAAAFgAAABIAAAAPAAAAEAAAAA4AAAAPAAAAEAAAAA4AAAAOAAAADwAAABAAAAARAAAAFQAAAA==\"},\"shape\":[181],\"dtype\":\"int32\",\"order\":\"little\"}]]}}},\"view\":{\"type\":\"object\",\"name\":\"CDSView\",\"id\":\"p2600\",\"attributes\":{\"filter\":{\"type\":\"object\",\"name\":\"AllIndices\",\"id\":\"p2601\"}}},\"glyph\":{\"type\":\"object\",\"name\":\"Line\",\"id\":\"p2596\",\"attributes\":{\"tags\":[\"apply_ranges\"],\"x\":{\"type\":\"field\",\"field\":\"MONTH\"},\"y\":{\"type\":\"field\",\"field\":\"UE_BENEFITS_WEB_SEARCH\"},\"line_color\":\"#30a2da\",\"line_width\":2}},\"selection_glyph\":{\"type\":\"object\",\"name\":\"Line\",\"id\":\"p2604\",\"attributes\":{\"tags\":[\"apply_ranges\"],\"x\":{\"type\":\"field\",\"field\":\"MONTH\"},\"y\":{\"type\":\"field\",\"field\":\"UE_BENEFITS_WEB_SEARCH\"},\"line_color\":\"#30a2da\",\"line_width\":2}},\"nonselection_glyph\":{\"type\":\"object\",\"name\":\"Line\",\"id\":\"p2597\",\"attributes\":{\"tags\":[\"apply_ranges\"],\"x\":{\"type\":\"field\",\"field\":\"MONTH\"},\"y\":{\"type\":\"field\",\"field\":\"UE_BENEFITS_WEB_SEARCH\"},\"line_color\":\"#30a2da\",\"line_alpha\":0.1,\"line_width\":2}},\"muted_glyph\":{\"type\":\"object\",\"name\":\"Line\",\"id\":\"p2598\",\"attributes\":{\"tags\":[\"apply_ranges\"],\"x\":{\"type\":\"field\",\"field\":\"MONTH\"},\"y\":{\"type\":\"field\",\"field\":\"UE_BENEFITS_WEB_SEARCH\"},\"line_color\":\"#30a2da\",\"line_alpha\":0.2,\"line_width\":2}}}},{\"type\":\"object\",\"name\":\"GlyphRenderer\",\"id\":\"p2614\",\"attributes\":{\"name\":\"Unemployment Rate\",\"y_range_name\":\"UNRATE\",\"data_source\":{\"type\":\"object\",\"name\":\"ColumnDataSource\",\"id\":\"p2605\",\"attributes\":{\"selected\":{\"type\":\"object\",\"name\":\"Selection\",\"id\":\"p2606\",\"attributes\":{\"indices\":[],\"line_indices\":[]}},\"selection_policy\":{\"type\":\"object\",\"name\":\"UnionRenderers\",\"id\":\"p2607\"},\"data\":{\"type\":\"map\",\"entries\":[[\"MONTH\",{\"type\":\"ndarray\",\"array\":{\"type\":\"bytes\",\"data\":\"AAAAV9c5b0IAAID7y01vQgAAAAl3YG9CAACArWt0b0IAAICGu4dvQgAAACuwm29CAAAABACvb0IAAICo9MJvQgAAAE3p1m9CAAAAJjnqb0IAAIDKLf5vQgAAwNG+CHBCAAAAJLkScEIAAEB2sxxwQgAAQJe2JXBCAACA6bAvcEIAAADWWDlwQgAAQChTQ3BCAADAFPtMcEIAAABn9VZwQgAAQLnvYHBCAADApZdqcEIAAAD4kXRwQgAAgOQ5fnBCAADANjSIcEIAAACJLpJwQgAAAKoxm3BCAABA/CulcEIAAMDo065wQgAAADvOuHBCAACAJ3bCcEIAAMB5cMxwQgAAAMxq1nBCAACAuBLgcEIAAMAKDepwQgAAQPe083BCAACASa/9cEIAAMCbqQdxQgAAwLysEHFCAAAAD6cacUIAAID7TiRxQgAAwE1JLnFCAABAOvE3cUIAAICM60FxQgAAwN7lS3FCAABAy41VcUIAAIAdiF9xQgAAAAowaXFCAABAXCpzcUIAAICuJH1xQgAAQDV6hnFCAACAh3SQcUIAAAB0HJpxQgAAQMYWpHFCAADAsr6tcUIAAAAFubdxQgAAQFezwXFCAADAQ1vLcUIAAACWVdVxQgAAgIL93nFCAADA1PfocUIAAAAn8vJxQgAAAEj1+3FCAABAmu8FckIAAMCGlw9yQgAAANmRGXJCAACAxTkjckIAAMAXNC1yQgAAAGouN3JCAACAVtZAckIAAMCo0EpyQgAAQJV4VHJCAACA53JeckIAAMA5bWhyQgAAwFpwcXJCAAAArWp7ckIAAICZEoVyQgAAwOsMj3JCAABA2LSYckIAAIAqr6JyQgAAwHyprHJCAABAaVG2ckIAAIC7S8ByQgAAAKjzyXJCAABA+u3TckIAAIBM6N1yQgAAgG3r5nJCAADAv+XwckIAAECsjfpyQgAAgP6HBHNCAAAA6y8Oc0IAAEA9KhhzQgAAgI8kInNCAAAAfMwrc0IAAEDOxjVzQgAAwLpuP3NCAAAADWlJc0IAAEBfY1NzQgAAAOa4XHNCAABAOLNmc0IAAMAkW3BzQgAAAHdVenNCAACAY/2Dc0IAAMC1941zQgAAAAjyl3NCAACA9Jmhc0IAAMBGlKtzQgAAQDM8tXNCAACAhTa/c0IAAMDXMMlzQgAAwPgz0nNCAAAASy7cc0IAAIA31uVzQgAAwInQ73NCAABAdnj5c0IAAIDIcgN0QgAAwBptDXRCAABABxUXdEIAAIBZDyF0QgAAAEa3KnRCAABAmLE0dEIAAIDqqz50QgAAgAuvR3RCAADAXalRdEIAAEBKUVt0QgAAgJxLZXRCAAAAifNudEIAAEDb7Xh0QgAAgC3ognRCAAAAGpCMdEIAAEBsipZ0QgAAwFgyoHRCAAAAqyyqdEIAAED9JrR0QgAAQB4qvXRCAACAcCTHdEIAAABdzNB0QgAAQK/G2nRCAADAm27kdEIAAADuaO50QgAAQEBj+HRCAADALAsCdUIAAAB/BQx1QgAAgGutFXVCAADAvacfdUIAAAAQoil1QgAAwJb3MnVCAAAA6fE8dUIAAIDVmUZ1QgAAwCeUUHVCAABAFDxadUIAAIBmNmR1QgAAwLgwbnVCAABApdh3dUIAAID30oF1QgAAAOR6i3VCAABANnWVdUIAAICIb591QgAAgKlyqHVCAADA+2yydUIAAEDoFLx1QgAAgDoPxnVCAAAAJ7fPdUIAAEB5sdl1QgAAgMur43VCAAAAuFPtdUIAAEAKTvd1QgAAwPb1AHZCAAAASfAKdkIAAECb6hR2QgAAQLztHXZCAACADugndkIAAAD7jzF2QgAAQE2KO3ZCAADAOTJFdkIAAACMLE92QgAAQN4mWXZCAADAys5idkIAAAAdyWx2QgAAgAlxdnZCAADAW2uAdkI=\"},\"shape\":[181],\"dtype\":\"float64\",\"order\":\"little\"}],[\"UNRATE\",{\"type\":\"ndarray\",\"array\":{\"type\":\"bytes\",\"data\":\"zczMzMzMFkBmZmZmZmYWQDMzMzMzMxdAZmZmZmZmFkBmZmZmZmYWQGZmZmZmZhZAAAAAAAAAFkCamZmZmZkVQJqZmZmZmRVAAAAAAAAAFkCamZmZmZkVQJqZmZmZmRVAMzMzMzMzFUCamZmZmZkVQM3MzMzMzBRAzczMzMzMFEBmZmZmZmYUQAAAAAAAABRAAAAAAAAAFECamZmZmZkTQAAAAAAAABRAAAAAAAAAFEAAAAAAAAAUQJqZmZmZmRNAzczMzMzMEkAzMzMzMzMTQM3MzMzMzBJAzczMzMzMEkBmZmZmZmYSQGZmZmZmZhJAzczMzMzMEkDNzMzMzMwSQAAAAAAAABJAmpmZmZmZEUAAAAAAAAASQJqZmZmZmRFAZmZmZmZmEkAAAAAAAAASQJqZmZmZmRFAAAAAAAAAEkCamZmZmZkRQGZmZmZmZhJAzczMzMzMEkBmZmZmZmYSQM3MzMzMzBJAzczMzMzMEkDNzMzMzMwSQAAAAAAAABRAAAAAAAAAFECamZmZmZkTQGZmZmZmZhRAAAAAAAAAFECamZmZmZkVQGZmZmZmZhZAMzMzMzMzF0BmZmZmZmYYQGZmZmZmZhhAAAAAAAAAGkAzMzMzMzMbQDMzMzMzMx1AMzMzMzMzH0CamZmZmZkgQGZmZmZmZiFAAAAAAAAAIkDNzMzMzMwiQAAAAAAAACNAAAAAAAAAI0AzMzMzMzMjQJqZmZmZmSNAAAAAAAAAJEDNzMzMzMwjQM3MzMzMzCNAmpmZmZmZI0CamZmZmZkjQM3MzMzMzCNAzczMzMzMI0AzMzMzMzMjQM3MzMzMzCJAzczMzMzMIkAAAAAAAAAjQAAAAAAAACNAzczMzMzMIkCamZmZmZkjQJqZmZmZmSJAMzMzMzMzIkAAAAAAAAAiQAAAAAAAACJAMzMzMzMzIkAAAAAAAAAiQDMzMzMzMyJAAAAAAAAAIkAAAAAAAAAiQAAAAAAAACJAmpmZmZmZIUAzMzMzMzMhQAAAAAAAACFAmpmZmZmZIECamZmZmZkgQGZmZmZmZiBAZmZmZmZmIEBmZmZmZmYgQGZmZmZmZiBAZmZmZmZmIEAzMzMzMzMgQDMzMzMzMx9AMzMzMzMzH0DNzMzMzMweQJqZmZmZmR9AAAAAAAAAIEDNzMzMzMweQAAAAAAAAB5AZmZmZmZmHkAAAAAAAAAeQAAAAAAAAB5AMzMzMzMzHUDNzMzMzMwcQM3MzMzMzBxAzczMzMzMHECamZmZmZkbQM3MzMzMzBpAZmZmZmZmGkDNzMzMzMwaQM3MzMzMzBpAzczMzMzMGEAzMzMzMzMZQGZmZmZmZhhAzczMzMzMGEBmZmZmZmYYQJqZmZmZmRdAzczMzMzMFkAzMzMzMzMXQGZmZmZmZhZAzczMzMzMFkAAAAAAAAAWQJqZmZmZmRVAmpmZmZmZFUBmZmZmZmYWQDMzMzMzMxVAzczMzMzMFEBmZmZmZmYUQAAAAAAAABRAAAAAAAAAFEBmZmZmZmYUQAAAAAAAABRAmpmZmZmZE0CamZmZmZkTQAAAAAAAABRAAAAAAAAAFEAzMzMzMzMTQJqZmZmZmRNAMzMzMzMzE0CamZmZmZkTQAAAAAAAABRAmpmZmZmZE0DNzMzMzMwSQM3MzMzMzBJAzczMzMzMEkBmZmZmZmYSQJqZmZmZmRFAmpmZmZmZEUCamZmZmZkRQDMzMzMzMxFAMzMzMzMzEUCamZmZmZkRQM3MzMzMzBBAZmZmZmZmEEDNzMzMzMwQQGZmZmZmZhBAZmZmZmZmEEBmZmZmZmYQQAAAAAAAABBAAAAAAAAAEEBmZmZmZmYOQAAAAAAAABBAZmZmZmZmDkBmZmZmZmYOQJqZmZmZmQ1AZmZmZmZmDkCamZmZmZkNQDMzMzMzMw9AAAAAAAAAEEA=\"},\"shape\":[181],\"dtype\":\"float64\",\"order\":\"little\"}]]}}},\"view\":{\"type\":\"object\",\"name\":\"CDSView\",\"id\":\"p2615\",\"attributes\":{\"filter\":{\"type\":\"object\",\"name\":\"AllIndices\",\"id\":\"p2616\"}}},\"glyph\":{\"type\":\"object\",\"name\":\"Line\",\"id\":\"p2611\",\"attributes\":{\"tags\":[\"apply_ranges\"],\"x\":{\"type\":\"field\",\"field\":\"MONTH\"},\"y\":{\"type\":\"field\",\"field\":\"UNRATE\"},\"line_color\":\"#fc4f30\",\"line_width\":2,\"line_dash\":[6]}},\"selection_glyph\":{\"type\":\"object\",\"name\":\"Line\",\"id\":\"p2618\",\"attributes\":{\"tags\":[\"apply_ranges\"],\"x\":{\"type\":\"field\",\"field\":\"MONTH\"},\"y\":{\"type\":\"field\",\"field\":\"UNRATE\"},\"line_color\":\"#fc4f30\",\"line_width\":2,\"line_dash\":[6]}},\"nonselection_glyph\":{\"type\":\"object\",\"name\":\"Line\",\"id\":\"p2612\",\"attributes\":{\"tags\":[\"apply_ranges\"],\"x\":{\"type\":\"field\",\"field\":\"MONTH\"},\"y\":{\"type\":\"field\",\"field\":\"UNRATE\"},\"line_color\":\"#fc4f30\",\"line_alpha\":0.1,\"line_width\":2,\"line_dash\":[6]}},\"muted_glyph\":{\"type\":\"object\",\"name\":\"Line\",\"id\":\"p2613\",\"attributes\":{\"tags\":[\"apply_ranges\"],\"x\":{\"type\":\"field\",\"field\":\"MONTH\"},\"y\":{\"type\":\"field\",\"field\":\"UNRATE\"},\"line_color\":\"#fc4f30\",\"line_alpha\":0.2,\"line_width\":2,\"line_dash\":[6]}}}}],\"toolbar\":{\"type\":\"object\",\"name\":\"Toolbar\",\"id\":\"p2552\",\"attributes\":{\"tools\":[{\"type\":\"object\",\"name\":\"WheelZoomTool\",\"id\":\"p2538\",\"attributes\":{\"tags\":[\"hv_created\"],\"renderers\":\"auto\",\"zoom_together\":\"none\"}},{\"type\":\"object\",\"name\":\"HoverTool\",\"id\":\"p2539\",\"attributes\":{\"tags\":[\"hv_created\"],\"renderers\":[{\"id\":\"p2599\"}],\"tooltips\":[[\"MONTH\",\"@{MONTH}{%F %T}\"],[\"UE_BENEFITS_WEB_SEARCH\",\"@{UE_BENEFITS_WEB_SEARCH}\"]],\"formatters\":{\"type\":\"map\",\"entries\":[[\"@{MONTH}\",\"datetime\"]]}}},{\"type\":\"object\",\"name\":\"HoverTool\",\"id\":\"p2542\",\"attributes\":{\"tags\":[\"hv_created\"],\"renderers\":[{\"id\":\"p2614\"}],\"tooltips\":[[\"MONTH\",\"@{MONTH}{%F %T}\"],[\"UNRATE\",\"@{UNRATE}\"]],\"formatters\":{\"type\":\"map\",\"entries\":[[\"@{MONTH}\",\"datetime\"]]}}},{\"type\":\"object\",\"name\":\"SaveTool\",\"id\":\"p2577\"},{\"type\":\"object\",\"name\":\"PanTool\",\"id\":\"p2578\"},{\"type\":\"object\",\"name\":\"BoxZoomTool\",\"id\":\"p2579\",\"attributes\":{\"overlay\":{\"type\":\"object\",\"name\":\"BoxAnnotation\",\"id\":\"p2580\",\"attributes\":{\"syncable\":false,\"level\":\"overlay\",\"visible\":false,\"left\":{\"type\":\"number\",\"value\":\"nan\"},\"right\":{\"type\":\"number\",\"value\":\"nan\"},\"top\":{\"type\":\"number\",\"value\":\"nan\"},\"bottom\":{\"type\":\"number\",\"value\":\"nan\"},\"left_units\":\"canvas\",\"right_units\":\"canvas\",\"top_units\":\"canvas\",\"bottom_units\":\"canvas\",\"line_color\":\"black\",\"line_alpha\":1.0,\"line_width\":2,\"line_dash\":[4,4],\"fill_color\":\"lightgrey\",\"fill_alpha\":0.5}}}},{\"type\":\"object\",\"name\":\"ResetTool\",\"id\":\"p2585\"}],\"active_drag\":{\"id\":\"p2578\"},\"active_scroll\":{\"id\":\"p2538\"}}},\"left\":[{\"type\":\"object\",\"name\":\"LinearAxis\",\"id\":\"p2572\",\"attributes\":{\"ticker\":{\"type\":\"object\",\"name\":\"BasicTicker\",\"id\":\"p2573\",\"attributes\":{\"mantissas\":[1,2,5]}},\"formatter\":{\"type\":\"object\",\"name\":\"BasicTickFormatter\",\"id\":\"p2574\"},\"axis_label\":\"FRED U/E Rate\",\"axis_label_text_font_size\":\"16.25px\",\"major_label_policy\":{\"type\":\"object\",\"name\":\"AllLabels\",\"id\":\"p2575\"},\"major_label_text_font_size\":\"13.75px\"}}],\"right\":[{\"type\":\"object\",\"name\":\"LinearAxis\",\"id\":\"p2586\",\"attributes\":{\"y_range_name\":\"UNRATE\",\"ticker\":{\"type\":\"object\",\"name\":\"BasicTicker\",\"id\":\"p2587\",\"attributes\":{\"mantissas\":[1,2,5]}},\"formatter\":{\"type\":\"object\",\"name\":\"BasicTickFormatter\",\"id\":\"p2588\"},\"axis_label\":\"UNRATE\",\"axis_label_text_font_size\":\"16.25px\",\"major_label_policy\":{\"type\":\"object\",\"name\":\"AllLabels\",\"id\":\"p2589\"},\"major_label_text_font_size\":\"13.75px\"}}],\"below\":[{\"type\":\"object\",\"name\":\"DatetimeAxis\",\"id\":\"p2555\",\"attributes\":{\"ticker\":{\"type\":\"object\",\"name\":\"DatetimeTicker\",\"id\":\"p2556\",\"attributes\":{\"num_minor_ticks\":5,\"tickers\":[{\"type\":\"object\",\"name\":\"AdaptiveTicker\",\"id\":\"p2557\",\"attributes\":{\"num_minor_ticks\":0,\"mantissas\":[1,2,5],\"max_interval\":500.0}},{\"type\":\"object\",\"name\":\"AdaptiveTicker\",\"id\":\"p2558\",\"attributes\":{\"num_minor_ticks\":0,\"base\":60,\"mantissas\":[1,2,5,10,15,20,30],\"min_interval\":1000.0,\"max_interval\":1800000.0}},{\"type\":\"object\",\"name\":\"AdaptiveTicker\",\"id\":\"p2559\",\"attributes\":{\"num_minor_ticks\":0,\"base\":24,\"mantissas\":[1,2,4,6,8,12],\"min_interval\":3600000.0,\"max_interval\":43200000.0}},{\"type\":\"object\",\"name\":\"DaysTicker\",\"id\":\"p2560\",\"attributes\":{\"days\":[1,2,3,4,5,6,7,8,9,10,11,12,13,14,15,16,17,18,19,20,21,22,23,24,25,26,27,28,29,30,31]}},{\"type\":\"object\",\"name\":\"DaysTicker\",\"id\":\"p2561\",\"attributes\":{\"days\":[1,4,7,10,13,16,19,22,25,28]}},{\"type\":\"object\",\"name\":\"DaysTicker\",\"id\":\"p2562\",\"attributes\":{\"days\":[1,8,15,22]}},{\"type\":\"object\",\"name\":\"DaysTicker\",\"id\":\"p2563\",\"attributes\":{\"days\":[1,15]}},{\"type\":\"object\",\"name\":\"MonthsTicker\",\"id\":\"p2564\",\"attributes\":{\"months\":[0,1,2,3,4,5,6,7,8,9,10,11]}},{\"type\":\"object\",\"name\":\"MonthsTicker\",\"id\":\"p2565\",\"attributes\":{\"months\":[0,2,4,6,8,10]}},{\"type\":\"object\",\"name\":\"MonthsTicker\",\"id\":\"p2566\",\"attributes\":{\"months\":[0,4,8]}},{\"type\":\"object\",\"name\":\"MonthsTicker\",\"id\":\"p2567\",\"attributes\":{\"months\":[0,6]}},{\"type\":\"object\",\"name\":\"YearsTicker\",\"id\":\"p2568\"}]}},\"formatter\":{\"type\":\"object\",\"name\":\"DatetimeTickFormatter\",\"id\":\"p2569\"},\"axis_label\":\"MONTH\",\"major_label_policy\":{\"type\":\"object\",\"name\":\"AllLabels\",\"id\":\"p2570\"}}}],\"center\":[{\"type\":\"object\",\"name\":\"Grid\",\"id\":\"p2571\",\"attributes\":{\"axis\":{\"id\":\"p2555\"},\"ticker\":{\"id\":\"p2556\"}}},{\"type\":\"object\",\"name\":\"Grid\",\"id\":\"p2576\",\"attributes\":{\"dimension\":1,\"axis\":{\"id\":\"p2572\"},\"ticker\":{\"id\":\"p2573\"}}},{\"type\":\"object\",\"name\":\"Legend\",\"id\":\"p2602\",\"attributes\":{\"title_text_font_size\":\"16.25px\",\"click_policy\":\"mute\",\"label_text_font_size\":\"16.25px\",\"items\":[{\"type\":\"object\",\"name\":\"LegendItem\",\"id\":\"p2603\",\"attributes\":{\"label\":{\"type\":\"value\",\"value\":\"Search\"},\"renderers\":[{\"id\":\"p2599\"}]}},{\"type\":\"object\",\"name\":\"LegendItem\",\"id\":\"p2617\",\"attributes\":{\"label\":{\"type\":\"value\",\"value\":\"Unemployment Rate\"},\"renderers\":[{\"id\":\"p2614\"}]}}]}}],\"min_border_top\":10,\"min_border_bottom\":10,\"min_border_left\":10,\"min_border_right\":10,\"output_backend\":\"webgl\"}},{\"type\":\"object\",\"name\":\"Spacer\",\"id\":\"p2620\",\"attributes\":{\"name\":\"HSpacer04915\",\"stylesheets\":[\"\\n:host(.pn-loading.pn-arc):before, .pn-loading.pn-arc:before {\\n  background-image: url(\\\"data:image/svg+xml;base64,PHN2ZyB4bWxucz0iaHR0cDovL3d3dy53My5vcmcvMjAwMC9zdmciIHN0eWxlPSJtYXJnaW46IGF1dG87IGJhY2tncm91bmQ6IG5vbmU7IGRpc3BsYXk6IGJsb2NrOyBzaGFwZS1yZW5kZXJpbmc6IGF1dG87IiB2aWV3Qm94PSIwIDAgMTAwIDEwMCIgcHJlc2VydmVBc3BlY3RSYXRpbz0ieE1pZFlNaWQiPiAgPGNpcmNsZSBjeD0iNTAiIGN5PSI1MCIgZmlsbD0ibm9uZSIgc3Ryb2tlPSIjYzNjM2MzIiBzdHJva2Utd2lkdGg9IjEwIiByPSIzNSIgc3Ryb2tlLWRhc2hhcnJheT0iMTY0LjkzMzYxNDMxMzQ2NDE1IDU2Ljk3Nzg3MTQzNzgyMTM4Ij4gICAgPGFuaW1hdGVUcmFuc2Zvcm0gYXR0cmlidXRlTmFtZT0idHJhbnNmb3JtIiB0eXBlPSJyb3RhdGUiIHJlcGVhdENvdW50PSJpbmRlZmluaXRlIiBkdXI9IjFzIiB2YWx1ZXM9IjAgNTAgNTA7MzYwIDUwIDUwIiBrZXlUaW1lcz0iMDsxIj48L2FuaW1hdGVUcmFuc2Zvcm0+ICA8L2NpcmNsZT48L3N2Zz4=\\\");\\n  background-size: auto calc(min(50%, 400px));\\n}\",{\"id\":\"p2529\"},{\"id\":\"p2527\"},{\"id\":\"p2528\"}],\"margin\":0,\"sizing_mode\":\"stretch_width\",\"align\":\"start\"}}]}}],\"defs\":[{\"type\":\"model\",\"name\":\"ReactiveHTML1\"},{\"type\":\"model\",\"name\":\"FlexBox1\",\"properties\":[{\"name\":\"align_content\",\"kind\":\"Any\",\"default\":\"flex-start\"},{\"name\":\"align_items\",\"kind\":\"Any\",\"default\":\"flex-start\"},{\"name\":\"flex_direction\",\"kind\":\"Any\",\"default\":\"row\"},{\"name\":\"flex_wrap\",\"kind\":\"Any\",\"default\":\"wrap\"},{\"name\":\"justify_content\",\"kind\":\"Any\",\"default\":\"flex-start\"}]},{\"type\":\"model\",\"name\":\"FloatPanel1\",\"properties\":[{\"name\":\"config\",\"kind\":\"Any\",\"default\":{\"type\":\"map\"}},{\"name\":\"contained\",\"kind\":\"Any\",\"default\":true},{\"name\":\"position\",\"kind\":\"Any\",\"default\":\"right-top\"},{\"name\":\"offsetx\",\"kind\":\"Any\",\"default\":null},{\"name\":\"offsety\",\"kind\":\"Any\",\"default\":null},{\"name\":\"theme\",\"kind\":\"Any\",\"default\":\"primary\"},{\"name\":\"status\",\"kind\":\"Any\",\"default\":\"normalized\"}]},{\"type\":\"model\",\"name\":\"GridStack1\",\"properties\":[{\"name\":\"mode\",\"kind\":\"Any\",\"default\":\"warn\"},{\"name\":\"ncols\",\"kind\":\"Any\",\"default\":null},{\"name\":\"nrows\",\"kind\":\"Any\",\"default\":null},{\"name\":\"allow_resize\",\"kind\":\"Any\",\"default\":true},{\"name\":\"allow_drag\",\"kind\":\"Any\",\"default\":true},{\"name\":\"state\",\"kind\":\"Any\",\"default\":[]}]},{\"type\":\"model\",\"name\":\"drag1\",\"properties\":[{\"name\":\"slider_width\",\"kind\":\"Any\",\"default\":5},{\"name\":\"slider_color\",\"kind\":\"Any\",\"default\":\"black\"},{\"name\":\"value\",\"kind\":\"Any\",\"default\":50}]},{\"type\":\"model\",\"name\":\"click1\",\"properties\":[{\"name\":\"terminal_output\",\"kind\":\"Any\",\"default\":\"\"},{\"name\":\"debug_name\",\"kind\":\"Any\",\"default\":\"\"},{\"name\":\"clears\",\"kind\":\"Any\",\"default\":0}]},{\"type\":\"model\",\"name\":\"copy_to_clipboard1\",\"properties\":[{\"name\":\"fill\",\"kind\":\"Any\",\"default\":\"none\"},{\"name\":\"value\",\"kind\":\"Any\",\"default\":null}]},{\"type\":\"model\",\"name\":\"FastWrapper1\",\"properties\":[{\"name\":\"object\",\"kind\":\"Any\",\"default\":null},{\"name\":\"style\",\"kind\":\"Any\",\"default\":null}]},{\"type\":\"model\",\"name\":\"NotificationAreaBase1\",\"properties\":[{\"name\":\"js_events\",\"kind\":\"Any\",\"default\":{\"type\":\"map\"}},{\"name\":\"position\",\"kind\":\"Any\",\"default\":\"bottom-right\"},{\"name\":\"_clear\",\"kind\":\"Any\",\"default\":0}]},{\"type\":\"model\",\"name\":\"NotificationArea1\",\"properties\":[{\"name\":\"js_events\",\"kind\":\"Any\",\"default\":{\"type\":\"map\"}},{\"name\":\"notifications\",\"kind\":\"Any\",\"default\":[]},{\"name\":\"position\",\"kind\":\"Any\",\"default\":\"bottom-right\"},{\"name\":\"_clear\",\"kind\":\"Any\",\"default\":0},{\"name\":\"types\",\"kind\":\"Any\",\"default\":[{\"type\":\"map\",\"entries\":[[\"type\",\"warning\"],[\"background\",\"#ffc107\"],[\"icon\",{\"type\":\"map\",\"entries\":[[\"className\",\"fas fa-exclamation-triangle\"],[\"tagName\",\"i\"],[\"color\",\"white\"]]}]]},{\"type\":\"map\",\"entries\":[[\"type\",\"info\"],[\"background\",\"#007bff\"],[\"icon\",{\"type\":\"map\",\"entries\":[[\"className\",\"fas fa-info-circle\"],[\"tagName\",\"i\"],[\"color\",\"white\"]]}]]}]}]},{\"type\":\"model\",\"name\":\"Notification\",\"properties\":[{\"name\":\"background\",\"kind\":\"Any\",\"default\":null},{\"name\":\"duration\",\"kind\":\"Any\",\"default\":3000},{\"name\":\"icon\",\"kind\":\"Any\",\"default\":null},{\"name\":\"message\",\"kind\":\"Any\",\"default\":\"\"},{\"name\":\"notification_type\",\"kind\":\"Any\",\"default\":null},{\"name\":\"_destroyed\",\"kind\":\"Any\",\"default\":false}]},{\"type\":\"model\",\"name\":\"TemplateActions1\",\"properties\":[{\"name\":\"open_modal\",\"kind\":\"Any\",\"default\":0},{\"name\":\"close_modal\",\"kind\":\"Any\",\"default\":0}]},{\"type\":\"model\",\"name\":\"BootstrapTemplateActions1\",\"properties\":[{\"name\":\"open_modal\",\"kind\":\"Any\",\"default\":0},{\"name\":\"close_modal\",\"kind\":\"Any\",\"default\":0}]},{\"type\":\"model\",\"name\":\"MaterialTemplateActions1\",\"properties\":[{\"name\":\"open_modal\",\"kind\":\"Any\",\"default\":0},{\"name\":\"close_modal\",\"kind\":\"Any\",\"default\":0}]}]}};\n",
       "  var render_items = [{\"docid\":\"a3a86a6f-09b0-4293-a965-2481d66af3bc\",\"roots\":{\"p2526\":\"eef918c9-c3e6-436d-960b-20551e5ee4f4\"},\"root_ids\":[\"p2526\"]}];\n",
       "  var docs = Object.values(docs_json)\n",
       "  if (!docs) {\n",
       "    return\n",
       "  }\n",
       "  const py_version = docs[0].version.replace('rc', '-rc.').replace('.dev', '-dev.')\n",
       "  function embed_document(root) {\n",
       "    var Bokeh = get_bokeh(root)\n",
       "    Bokeh.embed.embed_items_notebook(docs_json, render_items);\n",
       "    for (const render_item of render_items) {\n",
       "      for (const root_id of render_item.root_ids) {\n",
       "\tconst id_el = document.getElementById(root_id)\n",
       "\tif (id_el.children.length && (id_el.children[0].className === 'bk-root')) {\n",
       "\t  const root_el = id_el.children[0]\n",
       "\t  root_el.id = root_el.id + '-rendered'\n",
       "\t}\n",
       "      }\n",
       "    }\n",
       "  }\n",
       "  function get_bokeh(root) {\n",
       "    if (root.Bokeh === undefined) {\n",
       "      return null\n",
       "    } else if (root.Bokeh.version !== py_version) {\n",
       "      if (root.Bokeh.versions === undefined || !root.Bokeh.versions.has(py_version)) {\n",
       "\treturn null\n",
       "      }\n",
       "      return root.Bokeh.versions.get(py_version);\n",
       "    } else if (root.Bokeh.version === py_version) {\n",
       "      return root.Bokeh\n",
       "    }\n",
       "    return null\n",
       "  }\n",
       "  function is_loaded(root) {\n",
       "    var Bokeh = get_bokeh(root)\n",
       "    return (Bokeh != null && Bokeh.Panel !== undefined)\n",
       "  }\n",
       "  if (is_loaded(root)) {\n",
       "    embed_document(root);\n",
       "  } else {\n",
       "    var attempts = 0;\n",
       "    var timer = setInterval(function(root) {\n",
       "      if (is_loaded(root)) {\n",
       "        clearInterval(timer);\n",
       "        embed_document(root);\n",
       "      } else if (document.readyState == \"complete\") {\n",
       "        attempts++;\n",
       "        if (attempts > 200) {\n",
       "          clearInterval(timer);\n",
       "\t  var Bokeh = get_bokeh(root)\n",
       "\t  if (Bokeh == null || Bokeh.Panel == null) {\n",
       "            console.warn(\"Panel: ERROR: Unable to run Panel code because Bokeh or Panel library is missing\");\n",
       "\t  } else {\n",
       "\t    console.warn(\"Panel: WARNING: Attempting to render but not all required libraries could be resolved.\")\n",
       "\t    embed_document(root)\n",
       "\t  }\n",
       "        }\n",
       "      }\n",
       "    }, 25, root)\n",
       "  }\n",
       "})(window);</script>"
      ],
      "text/plain": [
       ":Overlay\n",
       "   .Curve.Search            :Curve   [MONTH]   (UE_BENEFITS_WEB_SEARCH)\n",
       "   .Curve.Unemployment_Rate :Curve   [MONTH]   (UNRATE)"
      ]
     },
     "execution_count": 51,
     "metadata": {
      "application/vnd.holoviews_exec.v0+json": {
       "id": "p2526"
      }
     },
     "output_type": "execute_result"
    }
   ],
   "source": [
    "plt.extension('bokeh')\n",
    "plot1 = df_unemployment.plot(x='MONTH', y='UE_BENEFITS_WEB_SEARCH', label=\"Search\", ylabel='FRED U/E Rate')\n",
    "plot2 = df_unemployment.plot(x='MONTH', y='UNRATE', label=\"Unemployment Rate\", line_dash=\"dashed\")\n",
    "(plot1 * plot2).opts(multi_y=True, fontscale=1.25, title=\"Unemployment Benefits in the U.S. vs the U/E Rate\", autorange='x', show_grid=True)"
   ]
  },
  {
   "cell_type": "markdown",
   "metadata": {},
   "source": [
    "**Challenge**: Calculate the 3-month or 6-month rolling average for the web searches. Plot the 6-month rolling average search data against the actual unemployment. What do you see in the chart? Which line moves first?\n"
   ]
  },
  {
   "cell_type": "code",
   "execution_count": 55,
   "metadata": {},
   "outputs": [],
   "source": [
    "df_unemployment_6mo = df_unemployment.set_sorted('MONTH').group_by_dynamic('MONTH', every='6mo').agg(pl.col('UE_BENEFITS_WEB_SEARCH').mean())"
   ]
  },
  {
   "cell_type": "code",
   "execution_count": 56,
   "metadata": {},
   "outputs": [
    {
     "data": {
      "application/javascript": "(function(root) {\n  function now() {\n    return new Date();\n  }\n\n  var force = true;\n  var py_version = '3.3.4'.replace('rc', '-rc.').replace('.dev', '-dev.');\n  var reloading = false;\n  var Bokeh = root.Bokeh;\n\n  if (typeof (root._bokeh_timeout) === \"undefined\" || force) {\n    root._bokeh_timeout = Date.now() + 5000;\n    root._bokeh_failed_load = false;\n  }\n\n  function run_callbacks() {\n    try {\n      root._bokeh_onload_callbacks.forEach(function(callback) {\n        if (callback != null)\n          callback();\n      });\n    } finally {\n      delete root._bokeh_onload_callbacks;\n    }\n    console.debug(\"Bokeh: all callbacks have finished\");\n  }\n\n  function load_libs(css_urls, js_urls, js_modules, js_exports, callback) {\n    if (css_urls == null) css_urls = [];\n    if (js_urls == null) js_urls = [];\n    if (js_modules == null) js_modules = [];\n    if (js_exports == null) js_exports = {};\n\n    root._bokeh_onload_callbacks.push(callback);\n\n    if (root._bokeh_is_loading > 0) {\n      console.debug(\"Bokeh: BokehJS is being loaded, scheduling callback at\", now());\n      return null;\n    }\n    if (js_urls.length === 0 && js_modules.length === 0 && Object.keys(js_exports).length === 0) {\n      run_callbacks();\n      return null;\n    }\n    if (!reloading) {\n      console.debug(\"Bokeh: BokehJS not loaded, scheduling load and callback at\", now());\n    }\n\n    function on_load() {\n      root._bokeh_is_loading--;\n      if (root._bokeh_is_loading === 0) {\n        console.debug(\"Bokeh: all BokehJS libraries/stylesheets loaded\");\n        run_callbacks()\n      }\n    }\n    window._bokeh_on_load = on_load\n\n    function on_error() {\n      console.error(\"failed to load \" + url);\n    }\n\n    var skip = [];\n    if (window.requirejs) {\n      window.requirejs.config({'packages': {}, 'paths': {'jspanel': 'https://cdn.jsdelivr.net/npm/jspanel4@4.12.0/dist/jspanel', 'jspanel-modal': 'https://cdn.jsdelivr.net/npm/jspanel4@4.12.0/dist/extensions/modal/jspanel.modal', 'jspanel-tooltip': 'https://cdn.jsdelivr.net/npm/jspanel4@4.12.0/dist/extensions/tooltip/jspanel.tooltip', 'jspanel-hint': 'https://cdn.jsdelivr.net/npm/jspanel4@4.12.0/dist/extensions/hint/jspanel.hint', 'jspanel-layout': 'https://cdn.jsdelivr.net/npm/jspanel4@4.12.0/dist/extensions/layout/jspanel.layout', 'jspanel-contextmenu': 'https://cdn.jsdelivr.net/npm/jspanel4@4.12.0/dist/extensions/contextmenu/jspanel.contextmenu', 'jspanel-dock': 'https://cdn.jsdelivr.net/npm/jspanel4@4.12.0/dist/extensions/dock/jspanel.dock', 'gridstack': 'https://cdn.jsdelivr.net/npm/gridstack@7.2.3/dist/gridstack-all', 'notyf': 'https://cdn.jsdelivr.net/npm/notyf@3/notyf.min'}, 'shim': {'jspanel': {'exports': 'jsPanel'}, 'gridstack': {'exports': 'GridStack'}}});\n      require([\"jspanel\"], function(jsPanel) {\n\twindow.jsPanel = jsPanel\n\ton_load()\n      })\n      require([\"jspanel-modal\"], function() {\n\ton_load()\n      })\n      require([\"jspanel-tooltip\"], function() {\n\ton_load()\n      })\n      require([\"jspanel-hint\"], function() {\n\ton_load()\n      })\n      require([\"jspanel-layout\"], function() {\n\ton_load()\n      })\n      require([\"jspanel-contextmenu\"], function() {\n\ton_load()\n      })\n      require([\"jspanel-dock\"], function() {\n\ton_load()\n      })\n      require([\"gridstack\"], function(GridStack) {\n\twindow.GridStack = GridStack\n\ton_load()\n      })\n      require([\"notyf\"], function() {\n\ton_load()\n      })\n      root._bokeh_is_loading = css_urls.length + 9;\n    } else {\n      root._bokeh_is_loading = css_urls.length + js_urls.length + js_modules.length + Object.keys(js_exports).length;\n    }\n\n    var existing_stylesheets = []\n    var links = document.getElementsByTagName('link')\n    for (var i = 0; i < links.length; i++) {\n      var link = links[i]\n      if (link.href != null) {\n\texisting_stylesheets.push(link.href)\n      }\n    }\n    for (var i = 0; i < css_urls.length; i++) {\n      var url = css_urls[i];\n      if (existing_stylesheets.indexOf(url) !== -1) {\n\ton_load()\n\tcontinue;\n      }\n      const element = document.createElement(\"link\");\n      element.onload = on_load;\n      element.onerror = on_error;\n      element.rel = \"stylesheet\";\n      element.type = \"text/css\";\n      element.href = url;\n      console.debug(\"Bokeh: injecting link tag for BokehJS stylesheet: \", url);\n      document.body.appendChild(element);\n    }    if (((window['jsPanel'] !== undefined) && (!(window['jsPanel'] instanceof HTMLElement))) || window.requirejs) {\n      var urls = ['https://cdn.holoviz.org/panel/1.3.8/dist/bundled/floatpanel/jspanel4@4.12.0/dist/jspanel.js', 'https://cdn.holoviz.org/panel/1.3.8/dist/bundled/floatpanel/jspanel4@4.12.0/dist/extensions/modal/jspanel.modal.js', 'https://cdn.holoviz.org/panel/1.3.8/dist/bundled/floatpanel/jspanel4@4.12.0/dist/extensions/tooltip/jspanel.tooltip.js', 'https://cdn.holoviz.org/panel/1.3.8/dist/bundled/floatpanel/jspanel4@4.12.0/dist/extensions/hint/jspanel.hint.js', 'https://cdn.holoviz.org/panel/1.3.8/dist/bundled/floatpanel/jspanel4@4.12.0/dist/extensions/layout/jspanel.layout.js', 'https://cdn.holoviz.org/panel/1.3.8/dist/bundled/floatpanel/jspanel4@4.12.0/dist/extensions/contextmenu/jspanel.contextmenu.js', 'https://cdn.holoviz.org/panel/1.3.8/dist/bundled/floatpanel/jspanel4@4.12.0/dist/extensions/dock/jspanel.dock.js'];\n      for (var i = 0; i < urls.length; i++) {\n        skip.push(urls[i])\n      }\n    }    if (((window['GridStack'] !== undefined) && (!(window['GridStack'] instanceof HTMLElement))) || window.requirejs) {\n      var urls = ['https://cdn.holoviz.org/panel/1.3.8/dist/bundled/gridstack/gridstack@7.2.3/dist/gridstack-all.js'];\n      for (var i = 0; i < urls.length; i++) {\n        skip.push(urls[i])\n      }\n    }    if (((window['Notyf'] !== undefined) && (!(window['Notyf'] instanceof HTMLElement))) || window.requirejs) {\n      var urls = ['https://cdn.holoviz.org/panel/1.3.8/dist/bundled/notificationarea/notyf@3/notyf.min.js'];\n      for (var i = 0; i < urls.length; i++) {\n        skip.push(urls[i])\n      }\n    }    var existing_scripts = []\n    var scripts = document.getElementsByTagName('script')\n    for (var i = 0; i < scripts.length; i++) {\n      var script = scripts[i]\n      if (script.src != null) {\n\texisting_scripts.push(script.src)\n      }\n    }\n    for (var i = 0; i < js_urls.length; i++) {\n      var url = js_urls[i];\n      if (skip.indexOf(url) !== -1 || existing_scripts.indexOf(url) !== -1) {\n\tif (!window.requirejs) {\n\t  on_load();\n\t}\n\tcontinue;\n      }\n      var element = document.createElement('script');\n      element.onload = on_load;\n      element.onerror = on_error;\n      element.async = false;\n      element.src = url;\n      console.debug(\"Bokeh: injecting script tag for BokehJS library: \", url);\n      document.head.appendChild(element);\n    }\n    for (var i = 0; i < js_modules.length; i++) {\n      var url = js_modules[i];\n      if (skip.indexOf(url) !== -1 || existing_scripts.indexOf(url) !== -1) {\n\tif (!window.requirejs) {\n\t  on_load();\n\t}\n\tcontinue;\n      }\n      var element = document.createElement('script');\n      element.onload = on_load;\n      element.onerror = on_error;\n      element.async = false;\n      element.src = url;\n      element.type = \"module\";\n      console.debug(\"Bokeh: injecting script tag for BokehJS library: \", url);\n      document.head.appendChild(element);\n    }\n    for (const name in js_exports) {\n      var url = js_exports[name];\n      if (skip.indexOf(url) >= 0 || root[name] != null) {\n\tif (!window.requirejs) {\n\t  on_load();\n\t}\n\tcontinue;\n      }\n      var element = document.createElement('script');\n      element.onerror = on_error;\n      element.async = false;\n      element.type = \"module\";\n      console.debug(\"Bokeh: injecting script tag for BokehJS library: \", url);\n      element.textContent = `\n      import ${name} from \"${url}\"\n      window.${name} = ${name}\n      window._bokeh_on_load()\n      `\n      document.head.appendChild(element);\n    }\n    if (!js_urls.length && !js_modules.length) {\n      on_load()\n    }\n  };\n\n  function inject_raw_css(css) {\n    const element = document.createElement(\"style\");\n    element.appendChild(document.createTextNode(css));\n    document.body.appendChild(element);\n  }\n\n  var js_urls = [\"https://cdn.bokeh.org/bokeh/release/bokeh-3.3.4.min.js\", \"https://cdn.bokeh.org/bokeh/release/bokeh-gl-3.3.4.min.js\", \"https://cdn.bokeh.org/bokeh/release/bokeh-widgets-3.3.4.min.js\", \"https://cdn.bokeh.org/bokeh/release/bokeh-tables-3.3.4.min.js\", \"https://cdn.holoviz.org/panel/1.3.8/dist/panel.min.js\"];\n  var js_modules = [];\n  var js_exports = {};\n  var css_urls = [];\n  var inline_js = [    function(Bokeh) {\n      Bokeh.set_log_level(\"info\");\n    },\nfunction(Bokeh) {} // ensure no trailing comma for IE\n  ];\n\n  function run_inline_js() {\n    if ((root.Bokeh !== undefined) || (force === true)) {\n      for (var i = 0; i < inline_js.length; i++) {\n\ttry {\n          inline_js[i].call(root, root.Bokeh);\n\t} catch(e) {\n\t  if (!reloading) {\n\t    throw e;\n\t  }\n\t}\n      }\n      // Cache old bokeh versions\n      if (Bokeh != undefined && !reloading) {\n\tvar NewBokeh = root.Bokeh;\n\tif (Bokeh.versions === undefined) {\n\t  Bokeh.versions = new Map();\n\t}\n\tif (NewBokeh.version !== Bokeh.version) {\n\t  Bokeh.versions.set(NewBokeh.version, NewBokeh)\n\t}\n\troot.Bokeh = Bokeh;\n      }} else if (Date.now() < root._bokeh_timeout) {\n      setTimeout(run_inline_js, 100);\n    } else if (!root._bokeh_failed_load) {\n      console.log(\"Bokeh: BokehJS failed to load within specified timeout.\");\n      root._bokeh_failed_load = true;\n    }\n    root._bokeh_is_initializing = false\n  }\n\n  function load_or_wait() {\n    // Implement a backoff loop that tries to ensure we do not load multiple\n    // versions of Bokeh and its dependencies at the same time.\n    // In recent versions we use the root._bokeh_is_initializing flag\n    // to determine whether there is an ongoing attempt to initialize\n    // bokeh, however for backward compatibility we also try to ensure\n    // that we do not start loading a newer (Panel>=1.0 and Bokeh>3) version\n    // before older versions are fully initialized.\n    if (root._bokeh_is_initializing && Date.now() > root._bokeh_timeout) {\n      root._bokeh_is_initializing = false;\n      root._bokeh_onload_callbacks = undefined;\n      console.log(\"Bokeh: BokehJS was loaded multiple times but one version failed to initialize.\");\n      load_or_wait();\n    } else if (root._bokeh_is_initializing || (typeof root._bokeh_is_initializing === \"undefined\" && root._bokeh_onload_callbacks !== undefined)) {\n      setTimeout(load_or_wait, 100);\n    } else {\n      root._bokeh_is_initializing = true\n      root._bokeh_onload_callbacks = []\n      var bokeh_loaded = Bokeh != null && (Bokeh.version === py_version || (Bokeh.versions !== undefined && Bokeh.versions.has(py_version)));\n      if (!reloading && !bokeh_loaded) {\n\troot.Bokeh = undefined;\n      }\n      load_libs(css_urls, js_urls, js_modules, js_exports, function() {\n\tconsole.debug(\"Bokeh: BokehJS plotting callback run at\", now());\n\trun_inline_js();\n      });\n    }\n  }\n  // Give older versions of the autoload script a head-start to ensure\n  // they initialize before we start loading newer version.\n  setTimeout(load_or_wait, 100)\n}(window));",
      "application/vnd.holoviews_load.v0+json": ""
     },
     "metadata": {},
     "output_type": "display_data"
    },
    {
     "data": {
      "application/javascript": "\nif ((window.PyViz === undefined) || (window.PyViz instanceof HTMLElement)) {\n  window.PyViz = {comms: {}, comm_status:{}, kernels:{}, receivers: {}, plot_index: []}\n}\n\n\n    function JupyterCommManager() {\n    }\n\n    JupyterCommManager.prototype.register_target = function(plot_id, comm_id, msg_handler) {\n      if (window.comm_manager || ((window.Jupyter !== undefined) && (Jupyter.notebook.kernel != null))) {\n        var comm_manager = window.comm_manager || Jupyter.notebook.kernel.comm_manager;\n        comm_manager.register_target(comm_id, function(comm) {\n          comm.on_msg(msg_handler);\n        });\n      } else if ((plot_id in window.PyViz.kernels) && (window.PyViz.kernels[plot_id])) {\n        window.PyViz.kernels[plot_id].registerCommTarget(comm_id, function(comm) {\n          comm.onMsg = msg_handler;\n        });\n      } else if (typeof google != 'undefined' && google.colab.kernel != null) {\n        google.colab.kernel.comms.registerTarget(comm_id, (comm) => {\n          var messages = comm.messages[Symbol.asyncIterator]();\n          function processIteratorResult(result) {\n            var message = result.value;\n            console.log(message)\n            var content = {data: message.data, comm_id};\n            var buffers = []\n            for (var buffer of message.buffers || []) {\n              buffers.push(new DataView(buffer))\n            }\n            var metadata = message.metadata || {};\n            var msg = {content, buffers, metadata}\n            msg_handler(msg);\n            return messages.next().then(processIteratorResult);\n          }\n          return messages.next().then(processIteratorResult);\n        })\n      }\n    }\n\n    JupyterCommManager.prototype.get_client_comm = function(plot_id, comm_id, msg_handler) {\n      if (comm_id in window.PyViz.comms) {\n        return window.PyViz.comms[comm_id];\n      } else if (window.comm_manager || ((window.Jupyter !== undefined) && (Jupyter.notebook.kernel != null))) {\n        var comm_manager = window.comm_manager || Jupyter.notebook.kernel.comm_manager;\n        var comm = comm_manager.new_comm(comm_id, {}, {}, {}, comm_id);\n        if (msg_handler) {\n          comm.on_msg(msg_handler);\n        }\n      } else if ((plot_id in window.PyViz.kernels) && (window.PyViz.kernels[plot_id])) {\n        var comm = window.PyViz.kernels[plot_id].connectToComm(comm_id);\n        comm.open();\n        if (msg_handler) {\n          comm.onMsg = msg_handler;\n        }\n      } else if (typeof google != 'undefined' && google.colab.kernel != null) {\n        var comm_promise = google.colab.kernel.comms.open(comm_id)\n        comm_promise.then((comm) => {\n          window.PyViz.comms[comm_id] = comm;\n          if (msg_handler) {\n            var messages = comm.messages[Symbol.asyncIterator]();\n            function processIteratorResult(result) {\n              var message = result.value;\n              var content = {data: message.data};\n              var metadata = message.metadata || {comm_id};\n              var msg = {content, metadata}\n              msg_handler(msg);\n              return messages.next().then(processIteratorResult);\n            }\n            return messages.next().then(processIteratorResult);\n          }\n        }) \n        var sendClosure = (data, metadata, buffers, disposeOnDone) => {\n          return comm_promise.then((comm) => {\n            comm.send(data, metadata, buffers, disposeOnDone);\n          });\n        };\n        var comm = {\n          send: sendClosure\n        };\n      }\n      window.PyViz.comms[comm_id] = comm;\n      return comm;\n    }\n    window.PyViz.comm_manager = new JupyterCommManager();\n    \n\n\nvar JS_MIME_TYPE = 'application/javascript';\nvar HTML_MIME_TYPE = 'text/html';\nvar EXEC_MIME_TYPE = 'application/vnd.holoviews_exec.v0+json';\nvar CLASS_NAME = 'output';\n\n/**\n * Render data to the DOM node\n */\nfunction render(props, node) {\n  var div = document.createElement(\"div\");\n  var script = document.createElement(\"script\");\n  node.appendChild(div);\n  node.appendChild(script);\n}\n\n/**\n * Handle when a new output is added\n */\nfunction handle_add_output(event, handle) {\n  var output_area = handle.output_area;\n  var output = handle.output;\n  if ((output.data == undefined) || (!output.data.hasOwnProperty(EXEC_MIME_TYPE))) {\n    return\n  }\n  var id = output.metadata[EXEC_MIME_TYPE][\"id\"];\n  var toinsert = output_area.element.find(\".\" + CLASS_NAME.split(' ')[0]);\n  if (id !== undefined) {\n    var nchildren = toinsert.length;\n    var html_node = toinsert[nchildren-1].children[0];\n    html_node.innerHTML = output.data[HTML_MIME_TYPE];\n    var scripts = [];\n    var nodelist = html_node.querySelectorAll(\"script\");\n    for (var i in nodelist) {\n      if (nodelist.hasOwnProperty(i)) {\n        scripts.push(nodelist[i])\n      }\n    }\n\n    scripts.forEach( function (oldScript) {\n      var newScript = document.createElement(\"script\");\n      var attrs = [];\n      var nodemap = oldScript.attributes;\n      for (var j in nodemap) {\n        if (nodemap.hasOwnProperty(j)) {\n          attrs.push(nodemap[j])\n        }\n      }\n      attrs.forEach(function(attr) { newScript.setAttribute(attr.name, attr.value) });\n      newScript.appendChild(document.createTextNode(oldScript.innerHTML));\n      oldScript.parentNode.replaceChild(newScript, oldScript);\n    });\n    if (JS_MIME_TYPE in output.data) {\n      toinsert[nchildren-1].children[1].textContent = output.data[JS_MIME_TYPE];\n    }\n    output_area._hv_plot_id = id;\n    if ((window.Bokeh !== undefined) && (id in Bokeh.index)) {\n      window.PyViz.plot_index[id] = Bokeh.index[id];\n    } else {\n      window.PyViz.plot_index[id] = null;\n    }\n  } else if (output.metadata[EXEC_MIME_TYPE][\"server_id\"] !== undefined) {\n    var bk_div = document.createElement(\"div\");\n    bk_div.innerHTML = output.data[HTML_MIME_TYPE];\n    var script_attrs = bk_div.children[0].attributes;\n    for (var i = 0; i < script_attrs.length; i++) {\n      toinsert[toinsert.length - 1].childNodes[1].setAttribute(script_attrs[i].name, script_attrs[i].value);\n    }\n    // store reference to server id on output_area\n    output_area._bokeh_server_id = output.metadata[EXEC_MIME_TYPE][\"server_id\"];\n  }\n}\n\n/**\n * Handle when an output is cleared or removed\n */\nfunction handle_clear_output(event, handle) {\n  var id = handle.cell.output_area._hv_plot_id;\n  var server_id = handle.cell.output_area._bokeh_server_id;\n  if (((id === undefined) || !(id in PyViz.plot_index)) && (server_id !== undefined)) { return; }\n  var comm = window.PyViz.comm_manager.get_client_comm(\"hv-extension-comm\", \"hv-extension-comm\", function () {});\n  if (server_id !== null) {\n    comm.send({event_type: 'server_delete', 'id': server_id});\n    return;\n  } else if (comm !== null) {\n    comm.send({event_type: 'delete', 'id': id});\n  }\n  delete PyViz.plot_index[id];\n  if ((window.Bokeh !== undefined) & (id in window.Bokeh.index)) {\n    var doc = window.Bokeh.index[id].model.document\n    doc.clear();\n    const i = window.Bokeh.documents.indexOf(doc);\n    if (i > -1) {\n      window.Bokeh.documents.splice(i, 1);\n    }\n  }\n}\n\n/**\n * Handle kernel restart event\n */\nfunction handle_kernel_cleanup(event, handle) {\n  delete PyViz.comms[\"hv-extension-comm\"];\n  window.PyViz.plot_index = {}\n}\n\n/**\n * Handle update_display_data messages\n */\nfunction handle_update_output(event, handle) {\n  handle_clear_output(event, {cell: {output_area: handle.output_area}})\n  handle_add_output(event, handle)\n}\n\nfunction register_renderer(events, OutputArea) {\n  function append_mime(data, metadata, element) {\n    // create a DOM node to render to\n    var toinsert = this.create_output_subarea(\n    metadata,\n    CLASS_NAME,\n    EXEC_MIME_TYPE\n    );\n    this.keyboard_manager.register_events(toinsert);\n    // Render to node\n    var props = {data: data, metadata: metadata[EXEC_MIME_TYPE]};\n    render(props, toinsert[0]);\n    element.append(toinsert);\n    return toinsert\n  }\n\n  events.on('output_added.OutputArea', handle_add_output);\n  events.on('output_updated.OutputArea', handle_update_output);\n  events.on('clear_output.CodeCell', handle_clear_output);\n  events.on('delete.Cell', handle_clear_output);\n  events.on('kernel_ready.Kernel', handle_kernel_cleanup);\n\n  OutputArea.prototype.register_mime_type(EXEC_MIME_TYPE, append_mime, {\n    safe: true,\n    index: 0\n  });\n}\n\nif (window.Jupyter !== undefined) {\n  try {\n    var events = require('base/js/events');\n    var OutputArea = require('notebook/js/outputarea').OutputArea;\n    if (OutputArea.prototype.mime_types().indexOf(EXEC_MIME_TYPE) == -1) {\n      register_renderer(events, OutputArea);\n    }\n  } catch(err) {\n  }\n}\n",
      "application/vnd.holoviews_load.v0+json": ""
     },
     "metadata": {},
     "output_type": "display_data"
    },
    {
     "data": {
      "text/html": [
       "<style>*[data-root-id],\n",
       "*[data-root-id] > * {\n",
       "  box-sizing: border-box;\n",
       "  font-family: var(--jp-ui-font-family);\n",
       "  font-size: var(--jp-ui-font-size1);\n",
       "  color: var(--vscode-editor-foreground, var(--jp-ui-font-color1));\n",
       "}\n",
       "\n",
       "/* Override VSCode background color */\n",
       ".cell-output-ipywidget-background:has(\n",
       "    > .cell-output-ipywidget-background > .lm-Widget > *[data-root-id]\n",
       "  ),\n",
       ".cell-output-ipywidget-background:has(> .lm-Widget > *[data-root-id]) {\n",
       "  background-color: transparent !important;\n",
       "}\n",
       "</style>"
      ]
     },
     "metadata": {},
     "output_type": "display_data"
    },
    {
     "data": {
      "application/vnd.holoviews_exec.v0+json": "",
      "text/html": [
       "<div id='p2628'>\n",
       "  <div id=\"b2155541-d16c-4a5d-90c4-f2a1ff175e5d\" data-root-id=\"p2628\" style=\"display: contents;\"></div>\n",
       "</div>\n",
       "<script type=\"application/javascript\">(function(root) {\n",
       "  var docs_json = {\"deedfaad-b7b6-49a8-adae-5180ec12579a\":{\"version\":\"3.3.4\",\"title\":\"Bokeh Application\",\"roots\":[{\"type\":\"object\",\"name\":\"panel.models.browser.BrowserInfo\",\"id\":\"p2628\"},{\"type\":\"object\",\"name\":\"panel.models.comm_manager.CommManager\",\"id\":\"p2629\",\"attributes\":{\"plot_id\":\"p2628\",\"comm_id\":\"22ad27fd09f14d1aaf6c990be54f9f86\",\"client_comm_id\":\"46ff5745d2ea49a386293427d89c0005\"}}],\"defs\":[{\"type\":\"model\",\"name\":\"ReactiveHTML1\"},{\"type\":\"model\",\"name\":\"FlexBox1\",\"properties\":[{\"name\":\"align_content\",\"kind\":\"Any\",\"default\":\"flex-start\"},{\"name\":\"align_items\",\"kind\":\"Any\",\"default\":\"flex-start\"},{\"name\":\"flex_direction\",\"kind\":\"Any\",\"default\":\"row\"},{\"name\":\"flex_wrap\",\"kind\":\"Any\",\"default\":\"wrap\"},{\"name\":\"justify_content\",\"kind\":\"Any\",\"default\":\"flex-start\"}]},{\"type\":\"model\",\"name\":\"FloatPanel1\",\"properties\":[{\"name\":\"config\",\"kind\":\"Any\",\"default\":{\"type\":\"map\"}},{\"name\":\"contained\",\"kind\":\"Any\",\"default\":true},{\"name\":\"position\",\"kind\":\"Any\",\"default\":\"right-top\"},{\"name\":\"offsetx\",\"kind\":\"Any\",\"default\":null},{\"name\":\"offsety\",\"kind\":\"Any\",\"default\":null},{\"name\":\"theme\",\"kind\":\"Any\",\"default\":\"primary\"},{\"name\":\"status\",\"kind\":\"Any\",\"default\":\"normalized\"}]},{\"type\":\"model\",\"name\":\"GridStack1\",\"properties\":[{\"name\":\"mode\",\"kind\":\"Any\",\"default\":\"warn\"},{\"name\":\"ncols\",\"kind\":\"Any\",\"default\":null},{\"name\":\"nrows\",\"kind\":\"Any\",\"default\":null},{\"name\":\"allow_resize\",\"kind\":\"Any\",\"default\":true},{\"name\":\"allow_drag\",\"kind\":\"Any\",\"default\":true},{\"name\":\"state\",\"kind\":\"Any\",\"default\":[]}]},{\"type\":\"model\",\"name\":\"drag1\",\"properties\":[{\"name\":\"slider_width\",\"kind\":\"Any\",\"default\":5},{\"name\":\"slider_color\",\"kind\":\"Any\",\"default\":\"black\"},{\"name\":\"value\",\"kind\":\"Any\",\"default\":50}]},{\"type\":\"model\",\"name\":\"click1\",\"properties\":[{\"name\":\"terminal_output\",\"kind\":\"Any\",\"default\":\"\"},{\"name\":\"debug_name\",\"kind\":\"Any\",\"default\":\"\"},{\"name\":\"clears\",\"kind\":\"Any\",\"default\":0}]},{\"type\":\"model\",\"name\":\"copy_to_clipboard1\",\"properties\":[{\"name\":\"fill\",\"kind\":\"Any\",\"default\":\"none\"},{\"name\":\"value\",\"kind\":\"Any\",\"default\":null}]},{\"type\":\"model\",\"name\":\"FastWrapper1\",\"properties\":[{\"name\":\"object\",\"kind\":\"Any\",\"default\":null},{\"name\":\"style\",\"kind\":\"Any\",\"default\":null}]},{\"type\":\"model\",\"name\":\"NotificationAreaBase1\",\"properties\":[{\"name\":\"js_events\",\"kind\":\"Any\",\"default\":{\"type\":\"map\"}},{\"name\":\"position\",\"kind\":\"Any\",\"default\":\"bottom-right\"},{\"name\":\"_clear\",\"kind\":\"Any\",\"default\":0}]},{\"type\":\"model\",\"name\":\"NotificationArea1\",\"properties\":[{\"name\":\"js_events\",\"kind\":\"Any\",\"default\":{\"type\":\"map\"}},{\"name\":\"notifications\",\"kind\":\"Any\",\"default\":[]},{\"name\":\"position\",\"kind\":\"Any\",\"default\":\"bottom-right\"},{\"name\":\"_clear\",\"kind\":\"Any\",\"default\":0},{\"name\":\"types\",\"kind\":\"Any\",\"default\":[{\"type\":\"map\",\"entries\":[[\"type\",\"warning\"],[\"background\",\"#ffc107\"],[\"icon\",{\"type\":\"map\",\"entries\":[[\"className\",\"fas fa-exclamation-triangle\"],[\"tagName\",\"i\"],[\"color\",\"white\"]]}]]},{\"type\":\"map\",\"entries\":[[\"type\",\"info\"],[\"background\",\"#007bff\"],[\"icon\",{\"type\":\"map\",\"entries\":[[\"className\",\"fas fa-info-circle\"],[\"tagName\",\"i\"],[\"color\",\"white\"]]}]]}]}]},{\"type\":\"model\",\"name\":\"Notification\",\"properties\":[{\"name\":\"background\",\"kind\":\"Any\",\"default\":null},{\"name\":\"duration\",\"kind\":\"Any\",\"default\":3000},{\"name\":\"icon\",\"kind\":\"Any\",\"default\":null},{\"name\":\"message\",\"kind\":\"Any\",\"default\":\"\"},{\"name\":\"notification_type\",\"kind\":\"Any\",\"default\":null},{\"name\":\"_destroyed\",\"kind\":\"Any\",\"default\":false}]},{\"type\":\"model\",\"name\":\"TemplateActions1\",\"properties\":[{\"name\":\"open_modal\",\"kind\":\"Any\",\"default\":0},{\"name\":\"close_modal\",\"kind\":\"Any\",\"default\":0}]},{\"type\":\"model\",\"name\":\"BootstrapTemplateActions1\",\"properties\":[{\"name\":\"open_modal\",\"kind\":\"Any\",\"default\":0},{\"name\":\"close_modal\",\"kind\":\"Any\",\"default\":0}]},{\"type\":\"model\",\"name\":\"MaterialTemplateActions1\",\"properties\":[{\"name\":\"open_modal\",\"kind\":\"Any\",\"default\":0},{\"name\":\"close_modal\",\"kind\":\"Any\",\"default\":0}]}]}};\n",
       "  var render_items = [{\"docid\":\"deedfaad-b7b6-49a8-adae-5180ec12579a\",\"roots\":{\"p2628\":\"b2155541-d16c-4a5d-90c4-f2a1ff175e5d\"},\"root_ids\":[\"p2628\"]}];\n",
       "  var docs = Object.values(docs_json)\n",
       "  if (!docs) {\n",
       "    return\n",
       "  }\n",
       "  const py_version = docs[0].version.replace('rc', '-rc.').replace('.dev', '-dev.')\n",
       "  function embed_document(root) {\n",
       "    var Bokeh = get_bokeh(root)\n",
       "    Bokeh.embed.embed_items_notebook(docs_json, render_items);\n",
       "    for (const render_item of render_items) {\n",
       "      for (const root_id of render_item.root_ids) {\n",
       "\tconst id_el = document.getElementById(root_id)\n",
       "\tif (id_el.children.length && (id_el.children[0].className === 'bk-root')) {\n",
       "\t  const root_el = id_el.children[0]\n",
       "\t  root_el.id = root_el.id + '-rendered'\n",
       "\t}\n",
       "      }\n",
       "    }\n",
       "  }\n",
       "  function get_bokeh(root) {\n",
       "    if (root.Bokeh === undefined) {\n",
       "      return null\n",
       "    } else if (root.Bokeh.version !== py_version) {\n",
       "      if (root.Bokeh.versions === undefined || !root.Bokeh.versions.has(py_version)) {\n",
       "\treturn null\n",
       "      }\n",
       "      return root.Bokeh.versions.get(py_version);\n",
       "    } else if (root.Bokeh.version === py_version) {\n",
       "      return root.Bokeh\n",
       "    }\n",
       "    return null\n",
       "  }\n",
       "  function is_loaded(root) {\n",
       "    var Bokeh = get_bokeh(root)\n",
       "    return (Bokeh != null && Bokeh.Panel !== undefined)\n",
       "  }\n",
       "  if (is_loaded(root)) {\n",
       "    embed_document(root);\n",
       "  } else {\n",
       "    var attempts = 0;\n",
       "    var timer = setInterval(function(root) {\n",
       "      if (is_loaded(root)) {\n",
       "        clearInterval(timer);\n",
       "        embed_document(root);\n",
       "      } else if (document.readyState == \"complete\") {\n",
       "        attempts++;\n",
       "        if (attempts > 200) {\n",
       "          clearInterval(timer);\n",
       "\t  var Bokeh = get_bokeh(root)\n",
       "\t  if (Bokeh == null || Bokeh.Panel == null) {\n",
       "            console.warn(\"Panel: ERROR: Unable to run Panel code because Bokeh or Panel library is missing\");\n",
       "\t  } else {\n",
       "\t    console.warn(\"Panel: WARNING: Attempting to render but not all required libraries could be resolved.\")\n",
       "\t    embed_document(root)\n",
       "\t  }\n",
       "        }\n",
       "      }\n",
       "    }, 25, root)\n",
       "  }\n",
       "})(window);</script>"
      ]
     },
     "metadata": {
      "application/vnd.holoviews_exec.v0+json": {
       "id": "p2628"
      }
     },
     "output_type": "display_data"
    },
    {
     "data": {},
     "metadata": {},
     "output_type": "display_data"
    },
    {
     "data": {
      "application/vnd.holoviews_exec.v0+json": "",
      "text/html": [
       "<div id='p2630'>\n",
       "  <div id=\"b6f857c2-88fe-4b6f-911e-4800cee38a79\" data-root-id=\"p2630\" style=\"display: contents;\"></div>\n",
       "</div>\n",
       "<script type=\"application/javascript\">(function(root) {\n",
       "  var docs_json = {\"032e956d-ccee-48a6-91ca-5d7e3e614f25\":{\"version\":\"3.3.4\",\"title\":\"Bokeh Application\",\"roots\":[{\"type\":\"object\",\"name\":\"Row\",\"id\":\"p2630\",\"attributes\":{\"name\":\"Row05174\",\"tags\":[\"embedded\"],\"stylesheets\":[\"\\n:host(.pn-loading.pn-arc):before, .pn-loading.pn-arc:before {\\n  background-image: url(\\\"data:image/svg+xml;base64,PHN2ZyB4bWxucz0iaHR0cDovL3d3dy53My5vcmcvMjAwMC9zdmciIHN0eWxlPSJtYXJnaW46IGF1dG87IGJhY2tncm91bmQ6IG5vbmU7IGRpc3BsYXk6IGJsb2NrOyBzaGFwZS1yZW5kZXJpbmc6IGF1dG87IiB2aWV3Qm94PSIwIDAgMTAwIDEwMCIgcHJlc2VydmVBc3BlY3RSYXRpbz0ieE1pZFlNaWQiPiAgPGNpcmNsZSBjeD0iNTAiIGN5PSI1MCIgZmlsbD0ibm9uZSIgc3Ryb2tlPSIjYzNjM2MzIiBzdHJva2Utd2lkdGg9IjEwIiByPSIzNSIgc3Ryb2tlLWRhc2hhcnJheT0iMTY0LjkzMzYxNDMxMzQ2NDE1IDU2Ljk3Nzg3MTQzNzgyMTM4Ij4gICAgPGFuaW1hdGVUcmFuc2Zvcm0gYXR0cmlidXRlTmFtZT0idHJhbnNmb3JtIiB0eXBlPSJyb3RhdGUiIHJlcGVhdENvdW50PSJpbmRlZmluaXRlIiBkdXI9IjFzIiB2YWx1ZXM9IjAgNTAgNTA7MzYwIDUwIDUwIiBrZXlUaW1lcz0iMDsxIj48L2FuaW1hdGVUcmFuc2Zvcm0+ICA8L2NpcmNsZT48L3N2Zz4=\\\");\\n  background-size: auto calc(min(50%, 400px));\\n}\",{\"type\":\"object\",\"name\":\"ImportedStyleSheet\",\"id\":\"p2633\",\"attributes\":{\"url\":\"https://cdn.holoviz.org/panel/1.3.8/dist/css/loading.css\"}},{\"type\":\"object\",\"name\":\"ImportedStyleSheet\",\"id\":\"p2726\",\"attributes\":{\"url\":\"https://cdn.holoviz.org/panel/1.3.8/dist/css/listpanel.css\"}},{\"type\":\"object\",\"name\":\"ImportedStyleSheet\",\"id\":\"p2631\",\"attributes\":{\"url\":\"https://cdn.holoviz.org/panel/1.3.8/dist/bundled/theme/default.css\"}},{\"type\":\"object\",\"name\":\"ImportedStyleSheet\",\"id\":\"p2632\",\"attributes\":{\"url\":\"https://cdn.holoviz.org/panel/1.3.8/dist/bundled/theme/native.css\"}}],\"min_width\":700,\"margin\":0,\"sizing_mode\":\"stretch_width\",\"align\":\"start\",\"children\":[{\"type\":\"object\",\"name\":\"Spacer\",\"id\":\"p2634\",\"attributes\":{\"name\":\"HSpacer05181\",\"stylesheets\":[\"\\n:host(.pn-loading.pn-arc):before, .pn-loading.pn-arc:before {\\n  background-image: url(\\\"data:image/svg+xml;base64,PHN2ZyB4bWxucz0iaHR0cDovL3d3dy53My5vcmcvMjAwMC9zdmciIHN0eWxlPSJtYXJnaW46IGF1dG87IGJhY2tncm91bmQ6IG5vbmU7IGRpc3BsYXk6IGJsb2NrOyBzaGFwZS1yZW5kZXJpbmc6IGF1dG87IiB2aWV3Qm94PSIwIDAgMTAwIDEwMCIgcHJlc2VydmVBc3BlY3RSYXRpbz0ieE1pZFlNaWQiPiAgPGNpcmNsZSBjeD0iNTAiIGN5PSI1MCIgZmlsbD0ibm9uZSIgc3Ryb2tlPSIjYzNjM2MzIiBzdHJva2Utd2lkdGg9IjEwIiByPSIzNSIgc3Ryb2tlLWRhc2hhcnJheT0iMTY0LjkzMzYxNDMxMzQ2NDE1IDU2Ljk3Nzg3MTQzNzgyMTM4Ij4gICAgPGFuaW1hdGVUcmFuc2Zvcm0gYXR0cmlidXRlTmFtZT0idHJhbnNmb3JtIiB0eXBlPSJyb3RhdGUiIHJlcGVhdENvdW50PSJpbmRlZmluaXRlIiBkdXI9IjFzIiB2YWx1ZXM9IjAgNTAgNTA7MzYwIDUwIDUwIiBrZXlUaW1lcz0iMDsxIj48L2FuaW1hdGVUcmFuc2Zvcm0+ICA8L2NpcmNsZT48L3N2Zz4=\\\");\\n  background-size: auto calc(min(50%, 400px));\\n}\",{\"id\":\"p2633\"},{\"id\":\"p2631\"},{\"id\":\"p2632\"}],\"margin\":0,\"sizing_mode\":\"stretch_width\",\"align\":\"start\"}},{\"type\":\"object\",\"name\":\"Figure\",\"id\":\"p2647\",\"attributes\":{\"width\":700,\"height\":300,\"margin\":[5,10],\"sizing_mode\":\"fixed\",\"align\":\"start\",\"x_range\":{\"type\":\"object\",\"name\":\"Range1d\",\"id\":\"p2635\",\"attributes\":{\"tags\":[[[\"MONTH\",\"MONTH\",null]],[]],\"start\":1072915200000.0,\"end\":1546300800000.0,\"reset_start\":1072915200000.0,\"reset_end\":1546300800000.0}},\"y_range\":{\"type\":\"object\",\"name\":\"Range1d\",\"id\":\"p2636\",\"attributes\":{\"name\":\"UE_BENEFITS_WEB_SEARCH\",\"tags\":[[[\"UE_BENEFITS_WEB_SEARCH\",\"UE_BENEFITS_WEB_SEARCH\",null]],{\"type\":\"map\",\"entries\":[[\"invert_yaxis\",false],[\"autorange\",false]]}],\"start\":8.366666666666667,\"end\":91.96666666666667,\"reset_start\":8.366666666666667,\"reset_end\":91.96666666666667}},\"x_scale\":{\"type\":\"object\",\"name\":\"LinearScale\",\"id\":\"p2657\"},\"y_scale\":{\"type\":\"object\",\"name\":\"LinearScale\",\"id\":\"p2658\"},\"extra_y_ranges\":{\"type\":\"map\",\"entries\":[[\"UNRATE\",{\"type\":\"object\",\"name\":\"Range1d\",\"id\":\"p2637\",\"attributes\":{\"name\":\"UNRATE\",\"tags\":[[[\"UNRATE\",\"UNRATE\",null]],{\"type\":\"map\",\"entries\":[[\"invert_yaxis\",false],[\"autorange\",false]]}],\"start\":3.0700000000000003,\"end\":10.63,\"reset_start\":3.0700000000000003,\"reset_end\":10.63}}]]},\"extra_y_scales\":{\"type\":\"map\",\"entries\":[[\"UNRATE\",{\"type\":\"object\",\"name\":\"LinearScale\",\"id\":\"p2640\"}]]},\"title\":{\"type\":\"object\",\"name\":\"Title\",\"id\":\"p2650\",\"attributes\":{\"text\":\"Unemployment Benefits in the U.S. vs the U/E Rate\",\"text_color\":\"black\",\"text_font_size\":\"15pt\"}},\"renderers\":[{\"type\":\"object\",\"name\":\"GlyphRenderer\",\"id\":\"p2703\",\"attributes\":{\"name\":\"Search\",\"data_source\":{\"type\":\"object\",\"name\":\"ColumnDataSource\",\"id\":\"p2694\",\"attributes\":{\"selected\":{\"type\":\"object\",\"name\":\"Selection\",\"id\":\"p2695\",\"attributes\":{\"indices\":[],\"line_indices\":[]}},\"selection_policy\":{\"type\":\"object\",\"name\":\"UnionRenderers\",\"id\":\"p2696\"},\"data\":{\"type\":\"map\",\"entries\":[[\"MONTH\",{\"type\":\"ndarray\",\"array\":{\"type\":\"bytes\",\"data\":\"AAAAV9c5b0IAAAAEAK9vQgAAACS5EnBCAADAFPtMcEIAAMA2NIhwQgAAgCd2wnBCAACASa/9cEIAAEA68TdxQgAAQFwqc3FCAADAsr6tcUIAAMDU9+hxQgAAgMU5I3JCAACA53JeckIAAEDYtJhyQgAAQPrt03JCAAAA6y8Oc0IAAAANaUlzQgAAgGP9g3NCAACAhTa/c0IAAEB2ePlzQgAAQJixNHRCAAAAifNudEIAAACrLKp0QgAAwJtu5HRCAADAvacfdUIAAEAUPFp1QgAAQDZ1lXVCAAAAJ7fPdUIAAABJ8Ap2QgAAwDkyRXZCAADAW2uAdkI=\"},\"shape\":[31],\"dtype\":\"float64\",\"order\":\"little\"}],[\"UE_BENEFITS_WEB_SEARCH\",{\"type\":\"ndarray\",\"array\":{\"type\":\"bytes\",\"data\":\"VVVVVVXVPECrqqqqqio4QKuqqqqqqjdAq6qqqqqqNUAAAAAAAAA2QKuqqqqqqjVAAAAAAAAAOUCrqqqqqio6QAAAAAAAwEBAq6qqqqrqS0AAAAAAAEBVQAAAAAAAoFRAVVVVVVVVUkBVVVVVVZVPQFVVVVVVlUlAAAAAAACAR0AAAAAAAMBEQKuqqqqq6kRAq6qqqqoqQ0AAAAAAAEBBQAAAAAAAQEdAAAAAAACANkAAAAAAAIA0QKuqqqqqqjNAVVVVVVXVM0CrqqqqqqoxQFVVVVVVVTJAVVVVVVXVMUCrqqqqqqowQKuqqqqqqi5AAAAAAAAANUA=\"},\"shape\":[31],\"dtype\":\"float64\",\"order\":\"little\"}]]}}},\"view\":{\"type\":\"object\",\"name\":\"CDSView\",\"id\":\"p2704\",\"attributes\":{\"filter\":{\"type\":\"object\",\"name\":\"AllIndices\",\"id\":\"p2705\"}}},\"glyph\":{\"type\":\"object\",\"name\":\"Line\",\"id\":\"p2700\",\"attributes\":{\"tags\":[\"apply_ranges\"],\"x\":{\"type\":\"field\",\"field\":\"MONTH\"},\"y\":{\"type\":\"field\",\"field\":\"UE_BENEFITS_WEB_SEARCH\"},\"line_color\":\"#30a2da\",\"line_width\":2}},\"selection_glyph\":{\"type\":\"object\",\"name\":\"Line\",\"id\":\"p2708\",\"attributes\":{\"tags\":[\"apply_ranges\"],\"x\":{\"type\":\"field\",\"field\":\"MONTH\"},\"y\":{\"type\":\"field\",\"field\":\"UE_BENEFITS_WEB_SEARCH\"},\"line_color\":\"#30a2da\",\"line_width\":2}},\"nonselection_glyph\":{\"type\":\"object\",\"name\":\"Line\",\"id\":\"p2701\",\"attributes\":{\"tags\":[\"apply_ranges\"],\"x\":{\"type\":\"field\",\"field\":\"MONTH\"},\"y\":{\"type\":\"field\",\"field\":\"UE_BENEFITS_WEB_SEARCH\"},\"line_color\":\"#30a2da\",\"line_alpha\":0.1,\"line_width\":2}},\"muted_glyph\":{\"type\":\"object\",\"name\":\"Line\",\"id\":\"p2702\",\"attributes\":{\"tags\":[\"apply_ranges\"],\"x\":{\"type\":\"field\",\"field\":\"MONTH\"},\"y\":{\"type\":\"field\",\"field\":\"UE_BENEFITS_WEB_SEARCH\"},\"line_color\":\"#30a2da\",\"line_alpha\":0.2,\"line_width\":2}}}},{\"type\":\"object\",\"name\":\"GlyphRenderer\",\"id\":\"p2718\",\"attributes\":{\"name\":\"Unemployment Rate\",\"y_range_name\":\"UNRATE\",\"data_source\":{\"type\":\"object\",\"name\":\"ColumnDataSource\",\"id\":\"p2709\",\"attributes\":{\"selected\":{\"type\":\"object\",\"name\":\"Selection\",\"id\":\"p2710\",\"attributes\":{\"indices\":[],\"line_indices\":[]}},\"selection_policy\":{\"type\":\"object\",\"name\":\"UnionRenderers\",\"id\":\"p2711\"},\"data\":{\"type\":\"map\",\"entries\":[[\"MONTH\",{\"type\":\"ndarray\",\"array\":{\"type\":\"bytes\",\"data\":\"AAAAV9c5b0IAAID7y01vQgAAAAl3YG9CAACArWt0b0IAAICGu4dvQgAAACuwm29CAAAABACvb0IAAICo9MJvQgAAAE3p1m9CAAAAJjnqb0IAAIDKLf5vQgAAwNG+CHBCAAAAJLkScEIAAEB2sxxwQgAAQJe2JXBCAACA6bAvcEIAAADWWDlwQgAAQChTQ3BCAADAFPtMcEIAAABn9VZwQgAAQLnvYHBCAADApZdqcEIAAAD4kXRwQgAAgOQ5fnBCAADANjSIcEIAAACJLpJwQgAAAKoxm3BCAABA/CulcEIAAMDo065wQgAAADvOuHBCAACAJ3bCcEIAAMB5cMxwQgAAAMxq1nBCAACAuBLgcEIAAMAKDepwQgAAQPe083BCAACASa/9cEIAAMCbqQdxQgAAwLysEHFCAAAAD6cacUIAAID7TiRxQgAAwE1JLnFCAABAOvE3cUIAAICM60FxQgAAwN7lS3FCAABAy41VcUIAAIAdiF9xQgAAAAowaXFCAABAXCpzcUIAAICuJH1xQgAAQDV6hnFCAACAh3SQcUIAAAB0HJpxQgAAQMYWpHFCAADAsr6tcUIAAAAFubdxQgAAQFezwXFCAADAQ1vLcUIAAACWVdVxQgAAgIL93nFCAADA1PfocUIAAAAn8vJxQgAAAEj1+3FCAABAmu8FckIAAMCGlw9yQgAAANmRGXJCAACAxTkjckIAAMAXNC1yQgAAAGouN3JCAACAVtZAckIAAMCo0EpyQgAAQJV4VHJCAACA53JeckIAAMA5bWhyQgAAwFpwcXJCAAAArWp7ckIAAICZEoVyQgAAwOsMj3JCAABA2LSYckIAAIAqr6JyQgAAwHyprHJCAABAaVG2ckIAAIC7S8ByQgAAAKjzyXJCAABA+u3TckIAAIBM6N1yQgAAgG3r5nJCAADAv+XwckIAAECsjfpyQgAAgP6HBHNCAAAA6y8Oc0IAAEA9KhhzQgAAgI8kInNCAAAAfMwrc0IAAEDOxjVzQgAAwLpuP3NCAAAADWlJc0IAAEBfY1NzQgAAAOa4XHNCAABAOLNmc0IAAMAkW3BzQgAAAHdVenNCAACAY/2Dc0IAAMC1941zQgAAAAjyl3NCAACA9Jmhc0IAAMBGlKtzQgAAQDM8tXNCAACAhTa/c0IAAMDXMMlzQgAAwPgz0nNCAAAASy7cc0IAAIA31uVzQgAAwInQ73NCAABAdnj5c0IAAIDIcgN0QgAAwBptDXRCAABABxUXdEIAAIBZDyF0QgAAAEa3KnRCAABAmLE0dEIAAIDqqz50QgAAgAuvR3RCAADAXalRdEIAAEBKUVt0QgAAgJxLZXRCAAAAifNudEIAAEDb7Xh0QgAAgC3ognRCAAAAGpCMdEIAAEBsipZ0QgAAwFgyoHRCAAAAqyyqdEIAAED9JrR0QgAAQB4qvXRCAACAcCTHdEIAAABdzNB0QgAAQK/G2nRCAADAm27kdEIAAADuaO50QgAAQEBj+HRCAADALAsCdUIAAAB/BQx1QgAAgGutFXVCAADAvacfdUIAAAAQoil1QgAAwJb3MnVCAAAA6fE8dUIAAIDVmUZ1QgAAwCeUUHVCAABAFDxadUIAAIBmNmR1QgAAwLgwbnVCAABApdh3dUIAAID30oF1QgAAAOR6i3VCAABANnWVdUIAAICIb591QgAAgKlyqHVCAADA+2yydUIAAEDoFLx1QgAAgDoPxnVCAAAAJ7fPdUIAAEB5sdl1QgAAgMur43VCAAAAuFPtdUIAAEAKTvd1QgAAwPb1AHZCAAAASfAKdkIAAECb6hR2QgAAQLztHXZCAACADugndkIAAAD7jzF2QgAAQE2KO3ZCAADAOTJFdkIAAACMLE92QgAAQN4mWXZCAADAys5idkIAAAAdyWx2QgAAgAlxdnZCAADAW2uAdkI=\"},\"shape\":[181],\"dtype\":\"float64\",\"order\":\"little\"}],[\"UNRATE\",{\"type\":\"ndarray\",\"array\":{\"type\":\"bytes\",\"data\":\"zczMzMzMFkBmZmZmZmYWQDMzMzMzMxdAZmZmZmZmFkBmZmZmZmYWQGZmZmZmZhZAAAAAAAAAFkCamZmZmZkVQJqZmZmZmRVAAAAAAAAAFkCamZmZmZkVQJqZmZmZmRVAMzMzMzMzFUCamZmZmZkVQM3MzMzMzBRAzczMzMzMFEBmZmZmZmYUQAAAAAAAABRAAAAAAAAAFECamZmZmZkTQAAAAAAAABRAAAAAAAAAFEAAAAAAAAAUQJqZmZmZmRNAzczMzMzMEkAzMzMzMzMTQM3MzMzMzBJAzczMzMzMEkBmZmZmZmYSQGZmZmZmZhJAzczMzMzMEkDNzMzMzMwSQAAAAAAAABJAmpmZmZmZEUAAAAAAAAASQJqZmZmZmRFAZmZmZmZmEkAAAAAAAAASQJqZmZmZmRFAAAAAAAAAEkCamZmZmZkRQGZmZmZmZhJAzczMzMzMEkBmZmZmZmYSQM3MzMzMzBJAzczMzMzMEkDNzMzMzMwSQAAAAAAAABRAAAAAAAAAFECamZmZmZkTQGZmZmZmZhRAAAAAAAAAFECamZmZmZkVQGZmZmZmZhZAMzMzMzMzF0BmZmZmZmYYQGZmZmZmZhhAAAAAAAAAGkAzMzMzMzMbQDMzMzMzMx1AMzMzMzMzH0CamZmZmZkgQGZmZmZmZiFAAAAAAAAAIkDNzMzMzMwiQAAAAAAAACNAAAAAAAAAI0AzMzMzMzMjQJqZmZmZmSNAAAAAAAAAJEDNzMzMzMwjQM3MzMzMzCNAmpmZmZmZI0CamZmZmZkjQM3MzMzMzCNAzczMzMzMI0AzMzMzMzMjQM3MzMzMzCJAzczMzMzMIkAAAAAAAAAjQAAAAAAAACNAzczMzMzMIkCamZmZmZkjQJqZmZmZmSJAMzMzMzMzIkAAAAAAAAAiQAAAAAAAACJAMzMzMzMzIkAAAAAAAAAiQDMzMzMzMyJAAAAAAAAAIkAAAAAAAAAiQAAAAAAAACJAmpmZmZmZIUAzMzMzMzMhQAAAAAAAACFAmpmZmZmZIECamZmZmZkgQGZmZmZmZiBAZmZmZmZmIEBmZmZmZmYgQGZmZmZmZiBAZmZmZmZmIEAzMzMzMzMgQDMzMzMzMx9AMzMzMzMzH0DNzMzMzMweQJqZmZmZmR9AAAAAAAAAIEDNzMzMzMweQAAAAAAAAB5AZmZmZmZmHkAAAAAAAAAeQAAAAAAAAB5AMzMzMzMzHUDNzMzMzMwcQM3MzMzMzBxAzczMzMzMHECamZmZmZkbQM3MzMzMzBpAZmZmZmZmGkDNzMzMzMwaQM3MzMzMzBpAzczMzMzMGEAzMzMzMzMZQGZmZmZmZhhAzczMzMzMGEBmZmZmZmYYQJqZmZmZmRdAzczMzMzMFkAzMzMzMzMXQGZmZmZmZhZAzczMzMzMFkAAAAAAAAAWQJqZmZmZmRVAmpmZmZmZFUBmZmZmZmYWQDMzMzMzMxVAzczMzMzMFEBmZmZmZmYUQAAAAAAAABRAAAAAAAAAFEBmZmZmZmYUQAAAAAAAABRAmpmZmZmZE0CamZmZmZkTQAAAAAAAABRAAAAAAAAAFEAzMzMzMzMTQJqZmZmZmRNAMzMzMzMzE0CamZmZmZkTQAAAAAAAABRAmpmZmZmZE0DNzMzMzMwSQM3MzMzMzBJAzczMzMzMEkBmZmZmZmYSQJqZmZmZmRFAmpmZmZmZEUCamZmZmZkRQDMzMzMzMxFAMzMzMzMzEUCamZmZmZkRQM3MzMzMzBBAZmZmZmZmEEDNzMzMzMwQQGZmZmZmZhBAZmZmZmZmEEBmZmZmZmYQQAAAAAAAABBAAAAAAAAAEEBmZmZmZmYOQAAAAAAAABBAZmZmZmZmDkBmZmZmZmYOQJqZmZmZmQ1AZmZmZmZmDkCamZmZmZkNQDMzMzMzMw9AAAAAAAAAEEA=\"},\"shape\":[181],\"dtype\":\"float64\",\"order\":\"little\"}]]}}},\"view\":{\"type\":\"object\",\"name\":\"CDSView\",\"id\":\"p2719\",\"attributes\":{\"filter\":{\"type\":\"object\",\"name\":\"AllIndices\",\"id\":\"p2720\"}}},\"glyph\":{\"type\":\"object\",\"name\":\"Line\",\"id\":\"p2715\",\"attributes\":{\"tags\":[\"apply_ranges\"],\"x\":{\"type\":\"field\",\"field\":\"MONTH\"},\"y\":{\"type\":\"field\",\"field\":\"UNRATE\"},\"line_color\":\"#fc4f30\",\"line_width\":2,\"line_dash\":[6]}},\"selection_glyph\":{\"type\":\"object\",\"name\":\"Line\",\"id\":\"p2722\",\"attributes\":{\"tags\":[\"apply_ranges\"],\"x\":{\"type\":\"field\",\"field\":\"MONTH\"},\"y\":{\"type\":\"field\",\"field\":\"UNRATE\"},\"line_color\":\"#fc4f30\",\"line_width\":2,\"line_dash\":[6]}},\"nonselection_glyph\":{\"type\":\"object\",\"name\":\"Line\",\"id\":\"p2716\",\"attributes\":{\"tags\":[\"apply_ranges\"],\"x\":{\"type\":\"field\",\"field\":\"MONTH\"},\"y\":{\"type\":\"field\",\"field\":\"UNRATE\"},\"line_color\":\"#fc4f30\",\"line_alpha\":0.1,\"line_width\":2,\"line_dash\":[6]}},\"muted_glyph\":{\"type\":\"object\",\"name\":\"Line\",\"id\":\"p2717\",\"attributes\":{\"tags\":[\"apply_ranges\"],\"x\":{\"type\":\"field\",\"field\":\"MONTH\"},\"y\":{\"type\":\"field\",\"field\":\"UNRATE\"},\"line_color\":\"#fc4f30\",\"line_alpha\":0.2,\"line_width\":2,\"line_dash\":[6]}}}}],\"toolbar\":{\"type\":\"object\",\"name\":\"Toolbar\",\"id\":\"p2656\",\"attributes\":{\"tools\":[{\"type\":\"object\",\"name\":\"WheelZoomTool\",\"id\":\"p2642\",\"attributes\":{\"tags\":[\"hv_created\"],\"renderers\":\"auto\",\"zoom_together\":\"none\"}},{\"type\":\"object\",\"name\":\"HoverTool\",\"id\":\"p2643\",\"attributes\":{\"tags\":[\"hv_created\"],\"renderers\":[{\"id\":\"p2703\"}],\"tooltips\":[[\"MONTH\",\"@{MONTH}{%F %T}\"],[\"UE_BENEFITS_WEB_SEARCH\",\"@{UE_BENEFITS_WEB_SEARCH}\"]],\"formatters\":{\"type\":\"map\",\"entries\":[[\"@{MONTH}\",\"datetime\"]]}}},{\"type\":\"object\",\"name\":\"HoverTool\",\"id\":\"p2646\",\"attributes\":{\"tags\":[\"hv_created\"],\"renderers\":[{\"id\":\"p2718\"}],\"tooltips\":[[\"MONTH\",\"@{MONTH}{%F %T}\"],[\"UNRATE\",\"@{UNRATE}\"]],\"formatters\":{\"type\":\"map\",\"entries\":[[\"@{MONTH}\",\"datetime\"]]}}},{\"type\":\"object\",\"name\":\"SaveTool\",\"id\":\"p2681\"},{\"type\":\"object\",\"name\":\"PanTool\",\"id\":\"p2682\"},{\"type\":\"object\",\"name\":\"BoxZoomTool\",\"id\":\"p2683\",\"attributes\":{\"overlay\":{\"type\":\"object\",\"name\":\"BoxAnnotation\",\"id\":\"p2684\",\"attributes\":{\"syncable\":false,\"level\":\"overlay\",\"visible\":false,\"left\":{\"type\":\"number\",\"value\":\"nan\"},\"right\":{\"type\":\"number\",\"value\":\"nan\"},\"top\":{\"type\":\"number\",\"value\":\"nan\"},\"bottom\":{\"type\":\"number\",\"value\":\"nan\"},\"left_units\":\"canvas\",\"right_units\":\"canvas\",\"top_units\":\"canvas\",\"bottom_units\":\"canvas\",\"line_color\":\"black\",\"line_alpha\":1.0,\"line_width\":2,\"line_dash\":[4,4],\"fill_color\":\"lightgrey\",\"fill_alpha\":0.5}}}},{\"type\":\"object\",\"name\":\"ResetTool\",\"id\":\"p2689\"}],\"active_drag\":{\"id\":\"p2682\"},\"active_scroll\":{\"id\":\"p2642\"}}},\"left\":[{\"type\":\"object\",\"name\":\"LinearAxis\",\"id\":\"p2676\",\"attributes\":{\"ticker\":{\"type\":\"object\",\"name\":\"BasicTicker\",\"id\":\"p2677\",\"attributes\":{\"mantissas\":[1,2,5]}},\"formatter\":{\"type\":\"object\",\"name\":\"BasicTickFormatter\",\"id\":\"p2678\"},\"axis_label\":\"FRED U/E Rate\",\"axis_label_text_font_size\":\"16.25px\",\"major_label_policy\":{\"type\":\"object\",\"name\":\"AllLabels\",\"id\":\"p2679\"},\"major_label_text_font_size\":\"13.75px\"}}],\"right\":[{\"type\":\"object\",\"name\":\"LinearAxis\",\"id\":\"p2690\",\"attributes\":{\"y_range_name\":\"UNRATE\",\"ticker\":{\"type\":\"object\",\"name\":\"BasicTicker\",\"id\":\"p2691\",\"attributes\":{\"mantissas\":[1,2,5]}},\"formatter\":{\"type\":\"object\",\"name\":\"BasicTickFormatter\",\"id\":\"p2692\"},\"axis_label\":\"UNRATE\",\"axis_label_text_font_size\":\"16.25px\",\"major_label_policy\":{\"type\":\"object\",\"name\":\"AllLabels\",\"id\":\"p2693\"},\"major_label_text_font_size\":\"13.75px\"}}],\"below\":[{\"type\":\"object\",\"name\":\"DatetimeAxis\",\"id\":\"p2659\",\"attributes\":{\"ticker\":{\"type\":\"object\",\"name\":\"DatetimeTicker\",\"id\":\"p2660\",\"attributes\":{\"num_minor_ticks\":5,\"tickers\":[{\"type\":\"object\",\"name\":\"AdaptiveTicker\",\"id\":\"p2661\",\"attributes\":{\"num_minor_ticks\":0,\"mantissas\":[1,2,5],\"max_interval\":500.0}},{\"type\":\"object\",\"name\":\"AdaptiveTicker\",\"id\":\"p2662\",\"attributes\":{\"num_minor_ticks\":0,\"base\":60,\"mantissas\":[1,2,5,10,15,20,30],\"min_interval\":1000.0,\"max_interval\":1800000.0}},{\"type\":\"object\",\"name\":\"AdaptiveTicker\",\"id\":\"p2663\",\"attributes\":{\"num_minor_ticks\":0,\"base\":24,\"mantissas\":[1,2,4,6,8,12],\"min_interval\":3600000.0,\"max_interval\":43200000.0}},{\"type\":\"object\",\"name\":\"DaysTicker\",\"id\":\"p2664\",\"attributes\":{\"days\":[1,2,3,4,5,6,7,8,9,10,11,12,13,14,15,16,17,18,19,20,21,22,23,24,25,26,27,28,29,30,31]}},{\"type\":\"object\",\"name\":\"DaysTicker\",\"id\":\"p2665\",\"attributes\":{\"days\":[1,4,7,10,13,16,19,22,25,28]}},{\"type\":\"object\",\"name\":\"DaysTicker\",\"id\":\"p2666\",\"attributes\":{\"days\":[1,8,15,22]}},{\"type\":\"object\",\"name\":\"DaysTicker\",\"id\":\"p2667\",\"attributes\":{\"days\":[1,15]}},{\"type\":\"object\",\"name\":\"MonthsTicker\",\"id\":\"p2668\",\"attributes\":{\"months\":[0,1,2,3,4,5,6,7,8,9,10,11]}},{\"type\":\"object\",\"name\":\"MonthsTicker\",\"id\":\"p2669\",\"attributes\":{\"months\":[0,2,4,6,8,10]}},{\"type\":\"object\",\"name\":\"MonthsTicker\",\"id\":\"p2670\",\"attributes\":{\"months\":[0,4,8]}},{\"type\":\"object\",\"name\":\"MonthsTicker\",\"id\":\"p2671\",\"attributes\":{\"months\":[0,6]}},{\"type\":\"object\",\"name\":\"YearsTicker\",\"id\":\"p2672\"}]}},\"formatter\":{\"type\":\"object\",\"name\":\"DatetimeTickFormatter\",\"id\":\"p2673\"},\"axis_label\":\"MONTH\",\"major_label_policy\":{\"type\":\"object\",\"name\":\"AllLabels\",\"id\":\"p2674\"}}}],\"center\":[{\"type\":\"object\",\"name\":\"Grid\",\"id\":\"p2675\",\"attributes\":{\"axis\":{\"id\":\"p2659\"},\"ticker\":{\"id\":\"p2660\"}}},{\"type\":\"object\",\"name\":\"Grid\",\"id\":\"p2680\",\"attributes\":{\"dimension\":1,\"axis\":{\"id\":\"p2676\"},\"ticker\":{\"id\":\"p2677\"}}},{\"type\":\"object\",\"name\":\"Legend\",\"id\":\"p2706\",\"attributes\":{\"title_text_font_size\":\"16.25px\",\"click_policy\":\"mute\",\"label_text_font_size\":\"16.25px\",\"items\":[{\"type\":\"object\",\"name\":\"LegendItem\",\"id\":\"p2707\",\"attributes\":{\"label\":{\"type\":\"value\",\"value\":\"Search\"},\"renderers\":[{\"id\":\"p2703\"}]}},{\"type\":\"object\",\"name\":\"LegendItem\",\"id\":\"p2721\",\"attributes\":{\"label\":{\"type\":\"value\",\"value\":\"Unemployment Rate\"},\"renderers\":[{\"id\":\"p2718\"}]}}]}}],\"min_border_top\":10,\"min_border_bottom\":10,\"min_border_left\":10,\"min_border_right\":10,\"output_backend\":\"webgl\"}},{\"type\":\"object\",\"name\":\"Spacer\",\"id\":\"p2724\",\"attributes\":{\"name\":\"HSpacer05182\",\"stylesheets\":[\"\\n:host(.pn-loading.pn-arc):before, .pn-loading.pn-arc:before {\\n  background-image: url(\\\"data:image/svg+xml;base64,PHN2ZyB4bWxucz0iaHR0cDovL3d3dy53My5vcmcvMjAwMC9zdmciIHN0eWxlPSJtYXJnaW46IGF1dG87IGJhY2tncm91bmQ6IG5vbmU7IGRpc3BsYXk6IGJsb2NrOyBzaGFwZS1yZW5kZXJpbmc6IGF1dG87IiB2aWV3Qm94PSIwIDAgMTAwIDEwMCIgcHJlc2VydmVBc3BlY3RSYXRpbz0ieE1pZFlNaWQiPiAgPGNpcmNsZSBjeD0iNTAiIGN5PSI1MCIgZmlsbD0ibm9uZSIgc3Ryb2tlPSIjYzNjM2MzIiBzdHJva2Utd2lkdGg9IjEwIiByPSIzNSIgc3Ryb2tlLWRhc2hhcnJheT0iMTY0LjkzMzYxNDMxMzQ2NDE1IDU2Ljk3Nzg3MTQzNzgyMTM4Ij4gICAgPGFuaW1hdGVUcmFuc2Zvcm0gYXR0cmlidXRlTmFtZT0idHJhbnNmb3JtIiB0eXBlPSJyb3RhdGUiIHJlcGVhdENvdW50PSJpbmRlZmluaXRlIiBkdXI9IjFzIiB2YWx1ZXM9IjAgNTAgNTA7MzYwIDUwIDUwIiBrZXlUaW1lcz0iMDsxIj48L2FuaW1hdGVUcmFuc2Zvcm0+ICA8L2NpcmNsZT48L3N2Zz4=\\\");\\n  background-size: auto calc(min(50%, 400px));\\n}\",{\"id\":\"p2633\"},{\"id\":\"p2631\"},{\"id\":\"p2632\"}],\"margin\":0,\"sizing_mode\":\"stretch_width\",\"align\":\"start\"}}]}}],\"defs\":[{\"type\":\"model\",\"name\":\"ReactiveHTML1\"},{\"type\":\"model\",\"name\":\"FlexBox1\",\"properties\":[{\"name\":\"align_content\",\"kind\":\"Any\",\"default\":\"flex-start\"},{\"name\":\"align_items\",\"kind\":\"Any\",\"default\":\"flex-start\"},{\"name\":\"flex_direction\",\"kind\":\"Any\",\"default\":\"row\"},{\"name\":\"flex_wrap\",\"kind\":\"Any\",\"default\":\"wrap\"},{\"name\":\"justify_content\",\"kind\":\"Any\",\"default\":\"flex-start\"}]},{\"type\":\"model\",\"name\":\"FloatPanel1\",\"properties\":[{\"name\":\"config\",\"kind\":\"Any\",\"default\":{\"type\":\"map\"}},{\"name\":\"contained\",\"kind\":\"Any\",\"default\":true},{\"name\":\"position\",\"kind\":\"Any\",\"default\":\"right-top\"},{\"name\":\"offsetx\",\"kind\":\"Any\",\"default\":null},{\"name\":\"offsety\",\"kind\":\"Any\",\"default\":null},{\"name\":\"theme\",\"kind\":\"Any\",\"default\":\"primary\"},{\"name\":\"status\",\"kind\":\"Any\",\"default\":\"normalized\"}]},{\"type\":\"model\",\"name\":\"GridStack1\",\"properties\":[{\"name\":\"mode\",\"kind\":\"Any\",\"default\":\"warn\"},{\"name\":\"ncols\",\"kind\":\"Any\",\"default\":null},{\"name\":\"nrows\",\"kind\":\"Any\",\"default\":null},{\"name\":\"allow_resize\",\"kind\":\"Any\",\"default\":true},{\"name\":\"allow_drag\",\"kind\":\"Any\",\"default\":true},{\"name\":\"state\",\"kind\":\"Any\",\"default\":[]}]},{\"type\":\"model\",\"name\":\"drag1\",\"properties\":[{\"name\":\"slider_width\",\"kind\":\"Any\",\"default\":5},{\"name\":\"slider_color\",\"kind\":\"Any\",\"default\":\"black\"},{\"name\":\"value\",\"kind\":\"Any\",\"default\":50}]},{\"type\":\"model\",\"name\":\"click1\",\"properties\":[{\"name\":\"terminal_output\",\"kind\":\"Any\",\"default\":\"\"},{\"name\":\"debug_name\",\"kind\":\"Any\",\"default\":\"\"},{\"name\":\"clears\",\"kind\":\"Any\",\"default\":0}]},{\"type\":\"model\",\"name\":\"copy_to_clipboard1\",\"properties\":[{\"name\":\"fill\",\"kind\":\"Any\",\"default\":\"none\"},{\"name\":\"value\",\"kind\":\"Any\",\"default\":null}]},{\"type\":\"model\",\"name\":\"FastWrapper1\",\"properties\":[{\"name\":\"object\",\"kind\":\"Any\",\"default\":null},{\"name\":\"style\",\"kind\":\"Any\",\"default\":null}]},{\"type\":\"model\",\"name\":\"NotificationAreaBase1\",\"properties\":[{\"name\":\"js_events\",\"kind\":\"Any\",\"default\":{\"type\":\"map\"}},{\"name\":\"position\",\"kind\":\"Any\",\"default\":\"bottom-right\"},{\"name\":\"_clear\",\"kind\":\"Any\",\"default\":0}]},{\"type\":\"model\",\"name\":\"NotificationArea1\",\"properties\":[{\"name\":\"js_events\",\"kind\":\"Any\",\"default\":{\"type\":\"map\"}},{\"name\":\"notifications\",\"kind\":\"Any\",\"default\":[]},{\"name\":\"position\",\"kind\":\"Any\",\"default\":\"bottom-right\"},{\"name\":\"_clear\",\"kind\":\"Any\",\"default\":0},{\"name\":\"types\",\"kind\":\"Any\",\"default\":[{\"type\":\"map\",\"entries\":[[\"type\",\"warning\"],[\"background\",\"#ffc107\"],[\"icon\",{\"type\":\"map\",\"entries\":[[\"className\",\"fas fa-exclamation-triangle\"],[\"tagName\",\"i\"],[\"color\",\"white\"]]}]]},{\"type\":\"map\",\"entries\":[[\"type\",\"info\"],[\"background\",\"#007bff\"],[\"icon\",{\"type\":\"map\",\"entries\":[[\"className\",\"fas fa-info-circle\"],[\"tagName\",\"i\"],[\"color\",\"white\"]]}]]}]}]},{\"type\":\"model\",\"name\":\"Notification\",\"properties\":[{\"name\":\"background\",\"kind\":\"Any\",\"default\":null},{\"name\":\"duration\",\"kind\":\"Any\",\"default\":3000},{\"name\":\"icon\",\"kind\":\"Any\",\"default\":null},{\"name\":\"message\",\"kind\":\"Any\",\"default\":\"\"},{\"name\":\"notification_type\",\"kind\":\"Any\",\"default\":null},{\"name\":\"_destroyed\",\"kind\":\"Any\",\"default\":false}]},{\"type\":\"model\",\"name\":\"TemplateActions1\",\"properties\":[{\"name\":\"open_modal\",\"kind\":\"Any\",\"default\":0},{\"name\":\"close_modal\",\"kind\":\"Any\",\"default\":0}]},{\"type\":\"model\",\"name\":\"BootstrapTemplateActions1\",\"properties\":[{\"name\":\"open_modal\",\"kind\":\"Any\",\"default\":0},{\"name\":\"close_modal\",\"kind\":\"Any\",\"default\":0}]},{\"type\":\"model\",\"name\":\"MaterialTemplateActions1\",\"properties\":[{\"name\":\"open_modal\",\"kind\":\"Any\",\"default\":0},{\"name\":\"close_modal\",\"kind\":\"Any\",\"default\":0}]}]}};\n",
       "  var render_items = [{\"docid\":\"032e956d-ccee-48a6-91ca-5d7e3e614f25\",\"roots\":{\"p2630\":\"b6f857c2-88fe-4b6f-911e-4800cee38a79\"},\"root_ids\":[\"p2630\"]}];\n",
       "  var docs = Object.values(docs_json)\n",
       "  if (!docs) {\n",
       "    return\n",
       "  }\n",
       "  const py_version = docs[0].version.replace('rc', '-rc.').replace('.dev', '-dev.')\n",
       "  function embed_document(root) {\n",
       "    var Bokeh = get_bokeh(root)\n",
       "    Bokeh.embed.embed_items_notebook(docs_json, render_items);\n",
       "    for (const render_item of render_items) {\n",
       "      for (const root_id of render_item.root_ids) {\n",
       "\tconst id_el = document.getElementById(root_id)\n",
       "\tif (id_el.children.length && (id_el.children[0].className === 'bk-root')) {\n",
       "\t  const root_el = id_el.children[0]\n",
       "\t  root_el.id = root_el.id + '-rendered'\n",
       "\t}\n",
       "      }\n",
       "    }\n",
       "  }\n",
       "  function get_bokeh(root) {\n",
       "    if (root.Bokeh === undefined) {\n",
       "      return null\n",
       "    } else if (root.Bokeh.version !== py_version) {\n",
       "      if (root.Bokeh.versions === undefined || !root.Bokeh.versions.has(py_version)) {\n",
       "\treturn null\n",
       "      }\n",
       "      return root.Bokeh.versions.get(py_version);\n",
       "    } else if (root.Bokeh.version === py_version) {\n",
       "      return root.Bokeh\n",
       "    }\n",
       "    return null\n",
       "  }\n",
       "  function is_loaded(root) {\n",
       "    var Bokeh = get_bokeh(root)\n",
       "    return (Bokeh != null && Bokeh.Panel !== undefined)\n",
       "  }\n",
       "  if (is_loaded(root)) {\n",
       "    embed_document(root);\n",
       "  } else {\n",
       "    var attempts = 0;\n",
       "    var timer = setInterval(function(root) {\n",
       "      if (is_loaded(root)) {\n",
       "        clearInterval(timer);\n",
       "        embed_document(root);\n",
       "      } else if (document.readyState == \"complete\") {\n",
       "        attempts++;\n",
       "        if (attempts > 200) {\n",
       "          clearInterval(timer);\n",
       "\t  var Bokeh = get_bokeh(root)\n",
       "\t  if (Bokeh == null || Bokeh.Panel == null) {\n",
       "            console.warn(\"Panel: ERROR: Unable to run Panel code because Bokeh or Panel library is missing\");\n",
       "\t  } else {\n",
       "\t    console.warn(\"Panel: WARNING: Attempting to render but not all required libraries could be resolved.\")\n",
       "\t    embed_document(root)\n",
       "\t  }\n",
       "        }\n",
       "      }\n",
       "    }, 25, root)\n",
       "  }\n",
       "})(window);</script>"
      ],
      "text/plain": [
       ":Overlay\n",
       "   .Curve.Search            :Curve   [MONTH]   (UE_BENEFITS_WEB_SEARCH)\n",
       "   .Curve.Unemployment_Rate :Curve   [MONTH]   (UNRATE)"
      ]
     },
     "execution_count": 56,
     "metadata": {
      "application/vnd.holoviews_exec.v0+json": {
       "id": "p2630"
      }
     },
     "output_type": "execute_result"
    }
   ],
   "source": [
    "plt.extension('bokeh')\n",
    "plot1 = df_unemployment_6mo.plot(x='MONTH', y='UE_BENEFITS_WEB_SEARCH', label=\"Search\", ylabel='FRED U/E Rate')\n",
    "plot2 = df_unemployment.plot(x='MONTH', y='UNRATE', label=\"Unemployment Rate\", line_dash=\"dashed\")\n",
    "(plot1 * plot2).opts(multi_y=True, fontscale=1.25, title=\"Unemployment Benefits in the U.S. vs the U/E Rate\", autorange='x', show_grid=True)"
   ]
  },
  {
   "cell_type": "markdown",
   "metadata": {},
   "source": [
    "### Including 2020 in Unemployment Charts"
   ]
  },
  {
   "cell_type": "markdown",
   "metadata": {},
   "source": [
    "**Challenge**: Read the data in the 'UE Benefits Search vs UE Rate 2004-20.csv' into a DataFrame. Convert the MONTH column to Pandas Datetime objects and then plot the chart. What do you see?"
   ]
  },
  {
   "cell_type": "code",
   "execution_count": 58,
   "metadata": {},
   "outputs": [],
   "source": [
    "df_unemployment_2020 = pl.read_csv('UE Benefits Search vs UE Rate 2004-20.csv')"
   ]
  },
  {
   "cell_type": "code",
   "execution_count": 59,
   "metadata": {},
   "outputs": [
    {
     "data": {
      "text/html": [
       "<div><style>\n",
       ".dataframe > thead > tr,\n",
       ".dataframe > tbody > tr {\n",
       "  text-align: right;\n",
       "  white-space: pre-wrap;\n",
       "}\n",
       "</style>\n",
       "<small>shape: (200, 3)</small><table border=\"1\" class=\"dataframe\"><thead><tr><th>MONTH</th><th>UE_BENEFITS_WEB_SEARCH</th><th>UNRATE</th></tr><tr><td>str</td><td>i64</td><td>f64</td></tr></thead><tbody><tr><td>&quot;2004-01&quot;</td><td>9</td><td>5.7</td></tr><tr><td>&quot;2004-02&quot;</td><td>8</td><td>5.6</td></tr><tr><td>&quot;2004-03&quot;</td><td>7</td><td>5.8</td></tr><tr><td>&quot;2004-04&quot;</td><td>8</td><td>5.6</td></tr><tr><td>&quot;2004-05&quot;</td><td>6</td><td>5.6</td></tr><tr><td>&quot;2004-06&quot;</td><td>7</td><td>5.6</td></tr><tr><td>&quot;2004-07&quot;</td><td>7</td><td>5.5</td></tr><tr><td>&quot;2004-08&quot;</td><td>7</td><td>5.4</td></tr><tr><td>&quot;2004-09&quot;</td><td>6</td><td>5.4</td></tr><tr><td>&quot;2004-10&quot;</td><td>6</td><td>5.5</td></tr><tr><td>&quot;2004-11&quot;</td><td>6</td><td>5.4</td></tr><tr><td>&quot;2004-12&quot;</td><td>6</td><td>5.4</td></tr><tr><td>&hellip;</td><td>&hellip;</td><td>&hellip;</td></tr><tr><td>&quot;2019-09&quot;</td><td>4</td><td>3.5</td></tr><tr><td>&quot;2019-10&quot;</td><td>4</td><td>3.6</td></tr><tr><td>&quot;2019-11&quot;</td><td>4</td><td>3.5</td></tr><tr><td>&quot;2019-12&quot;</td><td>5</td><td>3.5</td></tr><tr><td>&quot;2020-01&quot;</td><td>5</td><td>3.6</td></tr><tr><td>&quot;2020-02&quot;</td><td>5</td><td>3.5</td></tr><tr><td>&quot;2020-03&quot;</td><td>47</td><td>4.4</td></tr><tr><td>&quot;2020-04&quot;</td><td>100</td><td>14.7</td></tr><tr><td>&quot;2020-05&quot;</td><td>63</td><td>13.3</td></tr><tr><td>&quot;2020-06&quot;</td><td>53</td><td>11.1</td></tr><tr><td>&quot;2020-07&quot;</td><td>54</td><td>10.2</td></tr><tr><td>&quot;2020-08&quot;</td><td>50</td><td>8.4</td></tr></tbody></table></div>"
      ],
      "text/plain": [
       "shape: (200, 3)\n",
       "┌─────────┬────────────────────────┬────────┐\n",
       "│ MONTH   ┆ UE_BENEFITS_WEB_SEARCH ┆ UNRATE │\n",
       "│ ---     ┆ ---                    ┆ ---    │\n",
       "│ str     ┆ i64                    ┆ f64    │\n",
       "╞═════════╪════════════════════════╪════════╡\n",
       "│ 2004-01 ┆ 9                      ┆ 5.7    │\n",
       "│ 2004-02 ┆ 8                      ┆ 5.6    │\n",
       "│ 2004-03 ┆ 7                      ┆ 5.8    │\n",
       "│ 2004-04 ┆ 8                      ┆ 5.6    │\n",
       "│ 2004-05 ┆ 6                      ┆ 5.6    │\n",
       "│ …       ┆ …                      ┆ …      │\n",
       "│ 2020-04 ┆ 100                    ┆ 14.7   │\n",
       "│ 2020-05 ┆ 63                     ┆ 13.3   │\n",
       "│ 2020-06 ┆ 53                     ┆ 11.1   │\n",
       "│ 2020-07 ┆ 54                     ┆ 10.2   │\n",
       "│ 2020-08 ┆ 50                     ┆ 8.4    │\n",
       "└─────────┴────────────────────────┴────────┘"
      ]
     },
     "execution_count": 59,
     "metadata": {},
     "output_type": "execute_result"
    }
   ],
   "source": [
    "df_unemployment_2020"
   ]
  },
  {
   "cell_type": "code",
   "execution_count": 60,
   "metadata": {},
   "outputs": [
    {
     "data": {
      "application/javascript": "(function(root) {\n  function now() {\n    return new Date();\n  }\n\n  var force = true;\n  var py_version = '3.3.4'.replace('rc', '-rc.').replace('.dev', '-dev.');\n  var reloading = false;\n  var Bokeh = root.Bokeh;\n\n  if (typeof (root._bokeh_timeout) === \"undefined\" || force) {\n    root._bokeh_timeout = Date.now() + 5000;\n    root._bokeh_failed_load = false;\n  }\n\n  function run_callbacks() {\n    try {\n      root._bokeh_onload_callbacks.forEach(function(callback) {\n        if (callback != null)\n          callback();\n      });\n    } finally {\n      delete root._bokeh_onload_callbacks;\n    }\n    console.debug(\"Bokeh: all callbacks have finished\");\n  }\n\n  function load_libs(css_urls, js_urls, js_modules, js_exports, callback) {\n    if (css_urls == null) css_urls = [];\n    if (js_urls == null) js_urls = [];\n    if (js_modules == null) js_modules = [];\n    if (js_exports == null) js_exports = {};\n\n    root._bokeh_onload_callbacks.push(callback);\n\n    if (root._bokeh_is_loading > 0) {\n      console.debug(\"Bokeh: BokehJS is being loaded, scheduling callback at\", now());\n      return null;\n    }\n    if (js_urls.length === 0 && js_modules.length === 0 && Object.keys(js_exports).length === 0) {\n      run_callbacks();\n      return null;\n    }\n    if (!reloading) {\n      console.debug(\"Bokeh: BokehJS not loaded, scheduling load and callback at\", now());\n    }\n\n    function on_load() {\n      root._bokeh_is_loading--;\n      if (root._bokeh_is_loading === 0) {\n        console.debug(\"Bokeh: all BokehJS libraries/stylesheets loaded\");\n        run_callbacks()\n      }\n    }\n    window._bokeh_on_load = on_load\n\n    function on_error() {\n      console.error(\"failed to load \" + url);\n    }\n\n    var skip = [];\n    if (window.requirejs) {\n      window.requirejs.config({'packages': {}, 'paths': {'jspanel': 'https://cdn.jsdelivr.net/npm/jspanel4@4.12.0/dist/jspanel', 'jspanel-modal': 'https://cdn.jsdelivr.net/npm/jspanel4@4.12.0/dist/extensions/modal/jspanel.modal', 'jspanel-tooltip': 'https://cdn.jsdelivr.net/npm/jspanel4@4.12.0/dist/extensions/tooltip/jspanel.tooltip', 'jspanel-hint': 'https://cdn.jsdelivr.net/npm/jspanel4@4.12.0/dist/extensions/hint/jspanel.hint', 'jspanel-layout': 'https://cdn.jsdelivr.net/npm/jspanel4@4.12.0/dist/extensions/layout/jspanel.layout', 'jspanel-contextmenu': 'https://cdn.jsdelivr.net/npm/jspanel4@4.12.0/dist/extensions/contextmenu/jspanel.contextmenu', 'jspanel-dock': 'https://cdn.jsdelivr.net/npm/jspanel4@4.12.0/dist/extensions/dock/jspanel.dock', 'gridstack': 'https://cdn.jsdelivr.net/npm/gridstack@7.2.3/dist/gridstack-all', 'notyf': 'https://cdn.jsdelivr.net/npm/notyf@3/notyf.min'}, 'shim': {'jspanel': {'exports': 'jsPanel'}, 'gridstack': {'exports': 'GridStack'}}});\n      require([\"jspanel\"], function(jsPanel) {\n\twindow.jsPanel = jsPanel\n\ton_load()\n      })\n      require([\"jspanel-modal\"], function() {\n\ton_load()\n      })\n      require([\"jspanel-tooltip\"], function() {\n\ton_load()\n      })\n      require([\"jspanel-hint\"], function() {\n\ton_load()\n      })\n      require([\"jspanel-layout\"], function() {\n\ton_load()\n      })\n      require([\"jspanel-contextmenu\"], function() {\n\ton_load()\n      })\n      require([\"jspanel-dock\"], function() {\n\ton_load()\n      })\n      require([\"gridstack\"], function(GridStack) {\n\twindow.GridStack = GridStack\n\ton_load()\n      })\n      require([\"notyf\"], function() {\n\ton_load()\n      })\n      root._bokeh_is_loading = css_urls.length + 9;\n    } else {\n      root._bokeh_is_loading = css_urls.length + js_urls.length + js_modules.length + Object.keys(js_exports).length;\n    }\n\n    var existing_stylesheets = []\n    var links = document.getElementsByTagName('link')\n    for (var i = 0; i < links.length; i++) {\n      var link = links[i]\n      if (link.href != null) {\n\texisting_stylesheets.push(link.href)\n      }\n    }\n    for (var i = 0; i < css_urls.length; i++) {\n      var url = css_urls[i];\n      if (existing_stylesheets.indexOf(url) !== -1) {\n\ton_load()\n\tcontinue;\n      }\n      const element = document.createElement(\"link\");\n      element.onload = on_load;\n      element.onerror = on_error;\n      element.rel = \"stylesheet\";\n      element.type = \"text/css\";\n      element.href = url;\n      console.debug(\"Bokeh: injecting link tag for BokehJS stylesheet: \", url);\n      document.body.appendChild(element);\n    }    if (((window['jsPanel'] !== undefined) && (!(window['jsPanel'] instanceof HTMLElement))) || window.requirejs) {\n      var urls = ['https://cdn.holoviz.org/panel/1.3.8/dist/bundled/floatpanel/jspanel4@4.12.0/dist/jspanel.js', 'https://cdn.holoviz.org/panel/1.3.8/dist/bundled/floatpanel/jspanel4@4.12.0/dist/extensions/modal/jspanel.modal.js', 'https://cdn.holoviz.org/panel/1.3.8/dist/bundled/floatpanel/jspanel4@4.12.0/dist/extensions/tooltip/jspanel.tooltip.js', 'https://cdn.holoviz.org/panel/1.3.8/dist/bundled/floatpanel/jspanel4@4.12.0/dist/extensions/hint/jspanel.hint.js', 'https://cdn.holoviz.org/panel/1.3.8/dist/bundled/floatpanel/jspanel4@4.12.0/dist/extensions/layout/jspanel.layout.js', 'https://cdn.holoviz.org/panel/1.3.8/dist/bundled/floatpanel/jspanel4@4.12.0/dist/extensions/contextmenu/jspanel.contextmenu.js', 'https://cdn.holoviz.org/panel/1.3.8/dist/bundled/floatpanel/jspanel4@4.12.0/dist/extensions/dock/jspanel.dock.js'];\n      for (var i = 0; i < urls.length; i++) {\n        skip.push(urls[i])\n      }\n    }    if (((window['GridStack'] !== undefined) && (!(window['GridStack'] instanceof HTMLElement))) || window.requirejs) {\n      var urls = ['https://cdn.holoviz.org/panel/1.3.8/dist/bundled/gridstack/gridstack@7.2.3/dist/gridstack-all.js'];\n      for (var i = 0; i < urls.length; i++) {\n        skip.push(urls[i])\n      }\n    }    if (((window['Notyf'] !== undefined) && (!(window['Notyf'] instanceof HTMLElement))) || window.requirejs) {\n      var urls = ['https://cdn.holoviz.org/panel/1.3.8/dist/bundled/notificationarea/notyf@3/notyf.min.js'];\n      for (var i = 0; i < urls.length; i++) {\n        skip.push(urls[i])\n      }\n    }    var existing_scripts = []\n    var scripts = document.getElementsByTagName('script')\n    for (var i = 0; i < scripts.length; i++) {\n      var script = scripts[i]\n      if (script.src != null) {\n\texisting_scripts.push(script.src)\n      }\n    }\n    for (var i = 0; i < js_urls.length; i++) {\n      var url = js_urls[i];\n      if (skip.indexOf(url) !== -1 || existing_scripts.indexOf(url) !== -1) {\n\tif (!window.requirejs) {\n\t  on_load();\n\t}\n\tcontinue;\n      }\n      var element = document.createElement('script');\n      element.onload = on_load;\n      element.onerror = on_error;\n      element.async = false;\n      element.src = url;\n      console.debug(\"Bokeh: injecting script tag for BokehJS library: \", url);\n      document.head.appendChild(element);\n    }\n    for (var i = 0; i < js_modules.length; i++) {\n      var url = js_modules[i];\n      if (skip.indexOf(url) !== -1 || existing_scripts.indexOf(url) !== -1) {\n\tif (!window.requirejs) {\n\t  on_load();\n\t}\n\tcontinue;\n      }\n      var element = document.createElement('script');\n      element.onload = on_load;\n      element.onerror = on_error;\n      element.async = false;\n      element.src = url;\n      element.type = \"module\";\n      console.debug(\"Bokeh: injecting script tag for BokehJS library: \", url);\n      document.head.appendChild(element);\n    }\n    for (const name in js_exports) {\n      var url = js_exports[name];\n      if (skip.indexOf(url) >= 0 || root[name] != null) {\n\tif (!window.requirejs) {\n\t  on_load();\n\t}\n\tcontinue;\n      }\n      var element = document.createElement('script');\n      element.onerror = on_error;\n      element.async = false;\n      element.type = \"module\";\n      console.debug(\"Bokeh: injecting script tag for BokehJS library: \", url);\n      element.textContent = `\n      import ${name} from \"${url}\"\n      window.${name} = ${name}\n      window._bokeh_on_load()\n      `\n      document.head.appendChild(element);\n    }\n    if (!js_urls.length && !js_modules.length) {\n      on_load()\n    }\n  };\n\n  function inject_raw_css(css) {\n    const element = document.createElement(\"style\");\n    element.appendChild(document.createTextNode(css));\n    document.body.appendChild(element);\n  }\n\n  var js_urls = [\"https://cdn.bokeh.org/bokeh/release/bokeh-3.3.4.min.js\", \"https://cdn.bokeh.org/bokeh/release/bokeh-gl-3.3.4.min.js\", \"https://cdn.bokeh.org/bokeh/release/bokeh-widgets-3.3.4.min.js\", \"https://cdn.bokeh.org/bokeh/release/bokeh-tables-3.3.4.min.js\", \"https://cdn.holoviz.org/panel/1.3.8/dist/panel.min.js\"];\n  var js_modules = [];\n  var js_exports = {};\n  var css_urls = [];\n  var inline_js = [    function(Bokeh) {\n      Bokeh.set_log_level(\"info\");\n    },\nfunction(Bokeh) {} // ensure no trailing comma for IE\n  ];\n\n  function run_inline_js() {\n    if ((root.Bokeh !== undefined) || (force === true)) {\n      for (var i = 0; i < inline_js.length; i++) {\n\ttry {\n          inline_js[i].call(root, root.Bokeh);\n\t} catch(e) {\n\t  if (!reloading) {\n\t    throw e;\n\t  }\n\t}\n      }\n      // Cache old bokeh versions\n      if (Bokeh != undefined && !reloading) {\n\tvar NewBokeh = root.Bokeh;\n\tif (Bokeh.versions === undefined) {\n\t  Bokeh.versions = new Map();\n\t}\n\tif (NewBokeh.version !== Bokeh.version) {\n\t  Bokeh.versions.set(NewBokeh.version, NewBokeh)\n\t}\n\troot.Bokeh = Bokeh;\n      }} else if (Date.now() < root._bokeh_timeout) {\n      setTimeout(run_inline_js, 100);\n    } else if (!root._bokeh_failed_load) {\n      console.log(\"Bokeh: BokehJS failed to load within specified timeout.\");\n      root._bokeh_failed_load = true;\n    }\n    root._bokeh_is_initializing = false\n  }\n\n  function load_or_wait() {\n    // Implement a backoff loop that tries to ensure we do not load multiple\n    // versions of Bokeh and its dependencies at the same time.\n    // In recent versions we use the root._bokeh_is_initializing flag\n    // to determine whether there is an ongoing attempt to initialize\n    // bokeh, however for backward compatibility we also try to ensure\n    // that we do not start loading a newer (Panel>=1.0 and Bokeh>3) version\n    // before older versions are fully initialized.\n    if (root._bokeh_is_initializing && Date.now() > root._bokeh_timeout) {\n      root._bokeh_is_initializing = false;\n      root._bokeh_onload_callbacks = undefined;\n      console.log(\"Bokeh: BokehJS was loaded multiple times but one version failed to initialize.\");\n      load_or_wait();\n    } else if (root._bokeh_is_initializing || (typeof root._bokeh_is_initializing === \"undefined\" && root._bokeh_onload_callbacks !== undefined)) {\n      setTimeout(load_or_wait, 100);\n    } else {\n      root._bokeh_is_initializing = true\n      root._bokeh_onload_callbacks = []\n      var bokeh_loaded = Bokeh != null && (Bokeh.version === py_version || (Bokeh.versions !== undefined && Bokeh.versions.has(py_version)));\n      if (!reloading && !bokeh_loaded) {\n\troot.Bokeh = undefined;\n      }\n      load_libs(css_urls, js_urls, js_modules, js_exports, function() {\n\tconsole.debug(\"Bokeh: BokehJS plotting callback run at\", now());\n\trun_inline_js();\n      });\n    }\n  }\n  // Give older versions of the autoload script a head-start to ensure\n  // they initialize before we start loading newer version.\n  setTimeout(load_or_wait, 100)\n}(window));",
      "application/vnd.holoviews_load.v0+json": ""
     },
     "metadata": {},
     "output_type": "display_data"
    },
    {
     "data": {
      "application/javascript": "\nif ((window.PyViz === undefined) || (window.PyViz instanceof HTMLElement)) {\n  window.PyViz = {comms: {}, comm_status:{}, kernels:{}, receivers: {}, plot_index: []}\n}\n\n\n    function JupyterCommManager() {\n    }\n\n    JupyterCommManager.prototype.register_target = function(plot_id, comm_id, msg_handler) {\n      if (window.comm_manager || ((window.Jupyter !== undefined) && (Jupyter.notebook.kernel != null))) {\n        var comm_manager = window.comm_manager || Jupyter.notebook.kernel.comm_manager;\n        comm_manager.register_target(comm_id, function(comm) {\n          comm.on_msg(msg_handler);\n        });\n      } else if ((plot_id in window.PyViz.kernels) && (window.PyViz.kernels[plot_id])) {\n        window.PyViz.kernels[plot_id].registerCommTarget(comm_id, function(comm) {\n          comm.onMsg = msg_handler;\n        });\n      } else if (typeof google != 'undefined' && google.colab.kernel != null) {\n        google.colab.kernel.comms.registerTarget(comm_id, (comm) => {\n          var messages = comm.messages[Symbol.asyncIterator]();\n          function processIteratorResult(result) {\n            var message = result.value;\n            console.log(message)\n            var content = {data: message.data, comm_id};\n            var buffers = []\n            for (var buffer of message.buffers || []) {\n              buffers.push(new DataView(buffer))\n            }\n            var metadata = message.metadata || {};\n            var msg = {content, buffers, metadata}\n            msg_handler(msg);\n            return messages.next().then(processIteratorResult);\n          }\n          return messages.next().then(processIteratorResult);\n        })\n      }\n    }\n\n    JupyterCommManager.prototype.get_client_comm = function(plot_id, comm_id, msg_handler) {\n      if (comm_id in window.PyViz.comms) {\n        return window.PyViz.comms[comm_id];\n      } else if (window.comm_manager || ((window.Jupyter !== undefined) && (Jupyter.notebook.kernel != null))) {\n        var comm_manager = window.comm_manager || Jupyter.notebook.kernel.comm_manager;\n        var comm = comm_manager.new_comm(comm_id, {}, {}, {}, comm_id);\n        if (msg_handler) {\n          comm.on_msg(msg_handler);\n        }\n      } else if ((plot_id in window.PyViz.kernels) && (window.PyViz.kernels[plot_id])) {\n        var comm = window.PyViz.kernels[plot_id].connectToComm(comm_id);\n        comm.open();\n        if (msg_handler) {\n          comm.onMsg = msg_handler;\n        }\n      } else if (typeof google != 'undefined' && google.colab.kernel != null) {\n        var comm_promise = google.colab.kernel.comms.open(comm_id)\n        comm_promise.then((comm) => {\n          window.PyViz.comms[comm_id] = comm;\n          if (msg_handler) {\n            var messages = comm.messages[Symbol.asyncIterator]();\n            function processIteratorResult(result) {\n              var message = result.value;\n              var content = {data: message.data};\n              var metadata = message.metadata || {comm_id};\n              var msg = {content, metadata}\n              msg_handler(msg);\n              return messages.next().then(processIteratorResult);\n            }\n            return messages.next().then(processIteratorResult);\n          }\n        }) \n        var sendClosure = (data, metadata, buffers, disposeOnDone) => {\n          return comm_promise.then((comm) => {\n            comm.send(data, metadata, buffers, disposeOnDone);\n          });\n        };\n        var comm = {\n          send: sendClosure\n        };\n      }\n      window.PyViz.comms[comm_id] = comm;\n      return comm;\n    }\n    window.PyViz.comm_manager = new JupyterCommManager();\n    \n\n\nvar JS_MIME_TYPE = 'application/javascript';\nvar HTML_MIME_TYPE = 'text/html';\nvar EXEC_MIME_TYPE = 'application/vnd.holoviews_exec.v0+json';\nvar CLASS_NAME = 'output';\n\n/**\n * Render data to the DOM node\n */\nfunction render(props, node) {\n  var div = document.createElement(\"div\");\n  var script = document.createElement(\"script\");\n  node.appendChild(div);\n  node.appendChild(script);\n}\n\n/**\n * Handle when a new output is added\n */\nfunction handle_add_output(event, handle) {\n  var output_area = handle.output_area;\n  var output = handle.output;\n  if ((output.data == undefined) || (!output.data.hasOwnProperty(EXEC_MIME_TYPE))) {\n    return\n  }\n  var id = output.metadata[EXEC_MIME_TYPE][\"id\"];\n  var toinsert = output_area.element.find(\".\" + CLASS_NAME.split(' ')[0]);\n  if (id !== undefined) {\n    var nchildren = toinsert.length;\n    var html_node = toinsert[nchildren-1].children[0];\n    html_node.innerHTML = output.data[HTML_MIME_TYPE];\n    var scripts = [];\n    var nodelist = html_node.querySelectorAll(\"script\");\n    for (var i in nodelist) {\n      if (nodelist.hasOwnProperty(i)) {\n        scripts.push(nodelist[i])\n      }\n    }\n\n    scripts.forEach( function (oldScript) {\n      var newScript = document.createElement(\"script\");\n      var attrs = [];\n      var nodemap = oldScript.attributes;\n      for (var j in nodemap) {\n        if (nodemap.hasOwnProperty(j)) {\n          attrs.push(nodemap[j])\n        }\n      }\n      attrs.forEach(function(attr) { newScript.setAttribute(attr.name, attr.value) });\n      newScript.appendChild(document.createTextNode(oldScript.innerHTML));\n      oldScript.parentNode.replaceChild(newScript, oldScript);\n    });\n    if (JS_MIME_TYPE in output.data) {\n      toinsert[nchildren-1].children[1].textContent = output.data[JS_MIME_TYPE];\n    }\n    output_area._hv_plot_id = id;\n    if ((window.Bokeh !== undefined) && (id in Bokeh.index)) {\n      window.PyViz.plot_index[id] = Bokeh.index[id];\n    } else {\n      window.PyViz.plot_index[id] = null;\n    }\n  } else if (output.metadata[EXEC_MIME_TYPE][\"server_id\"] !== undefined) {\n    var bk_div = document.createElement(\"div\");\n    bk_div.innerHTML = output.data[HTML_MIME_TYPE];\n    var script_attrs = bk_div.children[0].attributes;\n    for (var i = 0; i < script_attrs.length; i++) {\n      toinsert[toinsert.length - 1].childNodes[1].setAttribute(script_attrs[i].name, script_attrs[i].value);\n    }\n    // store reference to server id on output_area\n    output_area._bokeh_server_id = output.metadata[EXEC_MIME_TYPE][\"server_id\"];\n  }\n}\n\n/**\n * Handle when an output is cleared or removed\n */\nfunction handle_clear_output(event, handle) {\n  var id = handle.cell.output_area._hv_plot_id;\n  var server_id = handle.cell.output_area._bokeh_server_id;\n  if (((id === undefined) || !(id in PyViz.plot_index)) && (server_id !== undefined)) { return; }\n  var comm = window.PyViz.comm_manager.get_client_comm(\"hv-extension-comm\", \"hv-extension-comm\", function () {});\n  if (server_id !== null) {\n    comm.send({event_type: 'server_delete', 'id': server_id});\n    return;\n  } else if (comm !== null) {\n    comm.send({event_type: 'delete', 'id': id});\n  }\n  delete PyViz.plot_index[id];\n  if ((window.Bokeh !== undefined) & (id in window.Bokeh.index)) {\n    var doc = window.Bokeh.index[id].model.document\n    doc.clear();\n    const i = window.Bokeh.documents.indexOf(doc);\n    if (i > -1) {\n      window.Bokeh.documents.splice(i, 1);\n    }\n  }\n}\n\n/**\n * Handle kernel restart event\n */\nfunction handle_kernel_cleanup(event, handle) {\n  delete PyViz.comms[\"hv-extension-comm\"];\n  window.PyViz.plot_index = {}\n}\n\n/**\n * Handle update_display_data messages\n */\nfunction handle_update_output(event, handle) {\n  handle_clear_output(event, {cell: {output_area: handle.output_area}})\n  handle_add_output(event, handle)\n}\n\nfunction register_renderer(events, OutputArea) {\n  function append_mime(data, metadata, element) {\n    // create a DOM node to render to\n    var toinsert = this.create_output_subarea(\n    metadata,\n    CLASS_NAME,\n    EXEC_MIME_TYPE\n    );\n    this.keyboard_manager.register_events(toinsert);\n    // Render to node\n    var props = {data: data, metadata: metadata[EXEC_MIME_TYPE]};\n    render(props, toinsert[0]);\n    element.append(toinsert);\n    return toinsert\n  }\n\n  events.on('output_added.OutputArea', handle_add_output);\n  events.on('output_updated.OutputArea', handle_update_output);\n  events.on('clear_output.CodeCell', handle_clear_output);\n  events.on('delete.Cell', handle_clear_output);\n  events.on('kernel_ready.Kernel', handle_kernel_cleanup);\n\n  OutputArea.prototype.register_mime_type(EXEC_MIME_TYPE, append_mime, {\n    safe: true,\n    index: 0\n  });\n}\n\nif (window.Jupyter !== undefined) {\n  try {\n    var events = require('base/js/events');\n    var OutputArea = require('notebook/js/outputarea').OutputArea;\n    if (OutputArea.prototype.mime_types().indexOf(EXEC_MIME_TYPE) == -1) {\n      register_renderer(events, OutputArea);\n    }\n  } catch(err) {\n  }\n}\n",
      "application/vnd.holoviews_load.v0+json": ""
     },
     "metadata": {},
     "output_type": "display_data"
    },
    {
     "data": {
      "text/html": [
       "<style>*[data-root-id],\n",
       "*[data-root-id] > * {\n",
       "  box-sizing: border-box;\n",
       "  font-family: var(--jp-ui-font-family);\n",
       "  font-size: var(--jp-ui-font-size1);\n",
       "  color: var(--vscode-editor-foreground, var(--jp-ui-font-color1));\n",
       "}\n",
       "\n",
       "/* Override VSCode background color */\n",
       ".cell-output-ipywidget-background:has(\n",
       "    > .cell-output-ipywidget-background > .lm-Widget > *[data-root-id]\n",
       "  ),\n",
       ".cell-output-ipywidget-background:has(> .lm-Widget > *[data-root-id]) {\n",
       "  background-color: transparent !important;\n",
       "}\n",
       "</style>"
      ]
     },
     "metadata": {},
     "output_type": "display_data"
    },
    {
     "data": {
      "application/vnd.holoviews_exec.v0+json": "",
      "text/html": [
       "<div id='p2732'>\n",
       "  <div id=\"df8a05fb-796e-4858-8005-58a51381c689\" data-root-id=\"p2732\" style=\"display: contents;\"></div>\n",
       "</div>\n",
       "<script type=\"application/javascript\">(function(root) {\n",
       "  var docs_json = {\"19f4c80c-09ab-4e08-a154-d413da1812bb\":{\"version\":\"3.3.4\",\"title\":\"Bokeh Application\",\"roots\":[{\"type\":\"object\",\"name\":\"panel.models.browser.BrowserInfo\",\"id\":\"p2732\"},{\"type\":\"object\",\"name\":\"panel.models.comm_manager.CommManager\",\"id\":\"p2733\",\"attributes\":{\"plot_id\":\"p2732\",\"comm_id\":\"bc320848b2704eb1830bee0de8858a53\",\"client_comm_id\":\"10465e21fd4d419f98c5b35d8fad66b5\"}}],\"defs\":[{\"type\":\"model\",\"name\":\"ReactiveHTML1\"},{\"type\":\"model\",\"name\":\"FlexBox1\",\"properties\":[{\"name\":\"align_content\",\"kind\":\"Any\",\"default\":\"flex-start\"},{\"name\":\"align_items\",\"kind\":\"Any\",\"default\":\"flex-start\"},{\"name\":\"flex_direction\",\"kind\":\"Any\",\"default\":\"row\"},{\"name\":\"flex_wrap\",\"kind\":\"Any\",\"default\":\"wrap\"},{\"name\":\"justify_content\",\"kind\":\"Any\",\"default\":\"flex-start\"}]},{\"type\":\"model\",\"name\":\"FloatPanel1\",\"properties\":[{\"name\":\"config\",\"kind\":\"Any\",\"default\":{\"type\":\"map\"}},{\"name\":\"contained\",\"kind\":\"Any\",\"default\":true},{\"name\":\"position\",\"kind\":\"Any\",\"default\":\"right-top\"},{\"name\":\"offsetx\",\"kind\":\"Any\",\"default\":null},{\"name\":\"offsety\",\"kind\":\"Any\",\"default\":null},{\"name\":\"theme\",\"kind\":\"Any\",\"default\":\"primary\"},{\"name\":\"status\",\"kind\":\"Any\",\"default\":\"normalized\"}]},{\"type\":\"model\",\"name\":\"GridStack1\",\"properties\":[{\"name\":\"mode\",\"kind\":\"Any\",\"default\":\"warn\"},{\"name\":\"ncols\",\"kind\":\"Any\",\"default\":null},{\"name\":\"nrows\",\"kind\":\"Any\",\"default\":null},{\"name\":\"allow_resize\",\"kind\":\"Any\",\"default\":true},{\"name\":\"allow_drag\",\"kind\":\"Any\",\"default\":true},{\"name\":\"state\",\"kind\":\"Any\",\"default\":[]}]},{\"type\":\"model\",\"name\":\"drag1\",\"properties\":[{\"name\":\"slider_width\",\"kind\":\"Any\",\"default\":5},{\"name\":\"slider_color\",\"kind\":\"Any\",\"default\":\"black\"},{\"name\":\"value\",\"kind\":\"Any\",\"default\":50}]},{\"type\":\"model\",\"name\":\"click1\",\"properties\":[{\"name\":\"terminal_output\",\"kind\":\"Any\",\"default\":\"\"},{\"name\":\"debug_name\",\"kind\":\"Any\",\"default\":\"\"},{\"name\":\"clears\",\"kind\":\"Any\",\"default\":0}]},{\"type\":\"model\",\"name\":\"copy_to_clipboard1\",\"properties\":[{\"name\":\"fill\",\"kind\":\"Any\",\"default\":\"none\"},{\"name\":\"value\",\"kind\":\"Any\",\"default\":null}]},{\"type\":\"model\",\"name\":\"FastWrapper1\",\"properties\":[{\"name\":\"object\",\"kind\":\"Any\",\"default\":null},{\"name\":\"style\",\"kind\":\"Any\",\"default\":null}]},{\"type\":\"model\",\"name\":\"NotificationAreaBase1\",\"properties\":[{\"name\":\"js_events\",\"kind\":\"Any\",\"default\":{\"type\":\"map\"}},{\"name\":\"position\",\"kind\":\"Any\",\"default\":\"bottom-right\"},{\"name\":\"_clear\",\"kind\":\"Any\",\"default\":0}]},{\"type\":\"model\",\"name\":\"NotificationArea1\",\"properties\":[{\"name\":\"js_events\",\"kind\":\"Any\",\"default\":{\"type\":\"map\"}},{\"name\":\"notifications\",\"kind\":\"Any\",\"default\":[]},{\"name\":\"position\",\"kind\":\"Any\",\"default\":\"bottom-right\"},{\"name\":\"_clear\",\"kind\":\"Any\",\"default\":0},{\"name\":\"types\",\"kind\":\"Any\",\"default\":[{\"type\":\"map\",\"entries\":[[\"type\",\"warning\"],[\"background\",\"#ffc107\"],[\"icon\",{\"type\":\"map\",\"entries\":[[\"className\",\"fas fa-exclamation-triangle\"],[\"tagName\",\"i\"],[\"color\",\"white\"]]}]]},{\"type\":\"map\",\"entries\":[[\"type\",\"info\"],[\"background\",\"#007bff\"],[\"icon\",{\"type\":\"map\",\"entries\":[[\"className\",\"fas fa-info-circle\"],[\"tagName\",\"i\"],[\"color\",\"white\"]]}]]}]}]},{\"type\":\"model\",\"name\":\"Notification\",\"properties\":[{\"name\":\"background\",\"kind\":\"Any\",\"default\":null},{\"name\":\"duration\",\"kind\":\"Any\",\"default\":3000},{\"name\":\"icon\",\"kind\":\"Any\",\"default\":null},{\"name\":\"message\",\"kind\":\"Any\",\"default\":\"\"},{\"name\":\"notification_type\",\"kind\":\"Any\",\"default\":null},{\"name\":\"_destroyed\",\"kind\":\"Any\",\"default\":false}]},{\"type\":\"model\",\"name\":\"TemplateActions1\",\"properties\":[{\"name\":\"open_modal\",\"kind\":\"Any\",\"default\":0},{\"name\":\"close_modal\",\"kind\":\"Any\",\"default\":0}]},{\"type\":\"model\",\"name\":\"BootstrapTemplateActions1\",\"properties\":[{\"name\":\"open_modal\",\"kind\":\"Any\",\"default\":0},{\"name\":\"close_modal\",\"kind\":\"Any\",\"default\":0}]},{\"type\":\"model\",\"name\":\"MaterialTemplateActions1\",\"properties\":[{\"name\":\"open_modal\",\"kind\":\"Any\",\"default\":0},{\"name\":\"close_modal\",\"kind\":\"Any\",\"default\":0}]}]}};\n",
       "  var render_items = [{\"docid\":\"19f4c80c-09ab-4e08-a154-d413da1812bb\",\"roots\":{\"p2732\":\"df8a05fb-796e-4858-8005-58a51381c689\"},\"root_ids\":[\"p2732\"]}];\n",
       "  var docs = Object.values(docs_json)\n",
       "  if (!docs) {\n",
       "    return\n",
       "  }\n",
       "  const py_version = docs[0].version.replace('rc', '-rc.').replace('.dev', '-dev.')\n",
       "  function embed_document(root) {\n",
       "    var Bokeh = get_bokeh(root)\n",
       "    Bokeh.embed.embed_items_notebook(docs_json, render_items);\n",
       "    for (const render_item of render_items) {\n",
       "      for (const root_id of render_item.root_ids) {\n",
       "\tconst id_el = document.getElementById(root_id)\n",
       "\tif (id_el.children.length && (id_el.children[0].className === 'bk-root')) {\n",
       "\t  const root_el = id_el.children[0]\n",
       "\t  root_el.id = root_el.id + '-rendered'\n",
       "\t}\n",
       "      }\n",
       "    }\n",
       "  }\n",
       "  function get_bokeh(root) {\n",
       "    if (root.Bokeh === undefined) {\n",
       "      return null\n",
       "    } else if (root.Bokeh.version !== py_version) {\n",
       "      if (root.Bokeh.versions === undefined || !root.Bokeh.versions.has(py_version)) {\n",
       "\treturn null\n",
       "      }\n",
       "      return root.Bokeh.versions.get(py_version);\n",
       "    } else if (root.Bokeh.version === py_version) {\n",
       "      return root.Bokeh\n",
       "    }\n",
       "    return null\n",
       "  }\n",
       "  function is_loaded(root) {\n",
       "    var Bokeh = get_bokeh(root)\n",
       "    return (Bokeh != null && Bokeh.Panel !== undefined)\n",
       "  }\n",
       "  if (is_loaded(root)) {\n",
       "    embed_document(root);\n",
       "  } else {\n",
       "    var attempts = 0;\n",
       "    var timer = setInterval(function(root) {\n",
       "      if (is_loaded(root)) {\n",
       "        clearInterval(timer);\n",
       "        embed_document(root);\n",
       "      } else if (document.readyState == \"complete\") {\n",
       "        attempts++;\n",
       "        if (attempts > 200) {\n",
       "          clearInterval(timer);\n",
       "\t  var Bokeh = get_bokeh(root)\n",
       "\t  if (Bokeh == null || Bokeh.Panel == null) {\n",
       "            console.warn(\"Panel: ERROR: Unable to run Panel code because Bokeh or Panel library is missing\");\n",
       "\t  } else {\n",
       "\t    console.warn(\"Panel: WARNING: Attempting to render but not all required libraries could be resolved.\")\n",
       "\t    embed_document(root)\n",
       "\t  }\n",
       "        }\n",
       "      }\n",
       "    }, 25, root)\n",
       "  }\n",
       "})(window);</script>"
      ]
     },
     "metadata": {
      "application/vnd.holoviews_exec.v0+json": {
       "id": "p2732"
      }
     },
     "output_type": "display_data"
    },
    {
     "data": {},
     "metadata": {},
     "output_type": "display_data"
    },
    {
     "data": {
      "application/vnd.holoviews_exec.v0+json": "",
      "text/html": [
       "<div id='p2734'>\n",
       "  <div id=\"ab683a51-6baa-40a2-88af-7a0818ec2197\" data-root-id=\"p2734\" style=\"display: contents;\"></div>\n",
       "</div>\n",
       "<script type=\"application/javascript\">(function(root) {\n",
       "  var docs_json = {\"fa987ed3-bfa6-40e3-aa33-1878b2424d50\":{\"version\":\"3.3.4\",\"title\":\"Bokeh Application\",\"roots\":[{\"type\":\"object\",\"name\":\"Row\",\"id\":\"p2734\",\"attributes\":{\"name\":\"Row05441\",\"tags\":[\"embedded\"],\"stylesheets\":[\"\\n:host(.pn-loading.pn-arc):before, .pn-loading.pn-arc:before {\\n  background-image: url(\\\"data:image/svg+xml;base64,PHN2ZyB4bWxucz0iaHR0cDovL3d3dy53My5vcmcvMjAwMC9zdmciIHN0eWxlPSJtYXJnaW46IGF1dG87IGJhY2tncm91bmQ6IG5vbmU7IGRpc3BsYXk6IGJsb2NrOyBzaGFwZS1yZW5kZXJpbmc6IGF1dG87IiB2aWV3Qm94PSIwIDAgMTAwIDEwMCIgcHJlc2VydmVBc3BlY3RSYXRpbz0ieE1pZFlNaWQiPiAgPGNpcmNsZSBjeD0iNTAiIGN5PSI1MCIgZmlsbD0ibm9uZSIgc3Ryb2tlPSIjYzNjM2MzIiBzdHJva2Utd2lkdGg9IjEwIiByPSIzNSIgc3Ryb2tlLWRhc2hhcnJheT0iMTY0LjkzMzYxNDMxMzQ2NDE1IDU2Ljk3Nzg3MTQzNzgyMTM4Ij4gICAgPGFuaW1hdGVUcmFuc2Zvcm0gYXR0cmlidXRlTmFtZT0idHJhbnNmb3JtIiB0eXBlPSJyb3RhdGUiIHJlcGVhdENvdW50PSJpbmRlZmluaXRlIiBkdXI9IjFzIiB2YWx1ZXM9IjAgNTAgNTA7MzYwIDUwIDUwIiBrZXlUaW1lcz0iMDsxIj48L2FuaW1hdGVUcmFuc2Zvcm0+ICA8L2NpcmNsZT48L3N2Zz4=\\\");\\n  background-size: auto calc(min(50%, 400px));\\n}\",{\"type\":\"object\",\"name\":\"ImportedStyleSheet\",\"id\":\"p2737\",\"attributes\":{\"url\":\"https://cdn.holoviz.org/panel/1.3.8/dist/css/loading.css\"}},{\"type\":\"object\",\"name\":\"ImportedStyleSheet\",\"id\":\"p2818\",\"attributes\":{\"url\":\"https://cdn.holoviz.org/panel/1.3.8/dist/css/listpanel.css\"}},{\"type\":\"object\",\"name\":\"ImportedStyleSheet\",\"id\":\"p2735\",\"attributes\":{\"url\":\"https://cdn.holoviz.org/panel/1.3.8/dist/bundled/theme/default.css\"}},{\"type\":\"object\",\"name\":\"ImportedStyleSheet\",\"id\":\"p2736\",\"attributes\":{\"url\":\"https://cdn.holoviz.org/panel/1.3.8/dist/bundled/theme/native.css\"}}],\"min_width\":700,\"margin\":0,\"sizing_mode\":\"stretch_width\",\"align\":\"start\",\"children\":[{\"type\":\"object\",\"name\":\"Spacer\",\"id\":\"p2738\",\"attributes\":{\"name\":\"HSpacer05448\",\"stylesheets\":[\"\\n:host(.pn-loading.pn-arc):before, .pn-loading.pn-arc:before {\\n  background-image: url(\\\"data:image/svg+xml;base64,PHN2ZyB4bWxucz0iaHR0cDovL3d3dy53My5vcmcvMjAwMC9zdmciIHN0eWxlPSJtYXJnaW46IGF1dG87IGJhY2tncm91bmQ6IG5vbmU7IGRpc3BsYXk6IGJsb2NrOyBzaGFwZS1yZW5kZXJpbmc6IGF1dG87IiB2aWV3Qm94PSIwIDAgMTAwIDEwMCIgcHJlc2VydmVBc3BlY3RSYXRpbz0ieE1pZFlNaWQiPiAgPGNpcmNsZSBjeD0iNTAiIGN5PSI1MCIgZmlsbD0ibm9uZSIgc3Ryb2tlPSIjYzNjM2MzIiBzdHJva2Utd2lkdGg9IjEwIiByPSIzNSIgc3Ryb2tlLWRhc2hhcnJheT0iMTY0LjkzMzYxNDMxMzQ2NDE1IDU2Ljk3Nzg3MTQzNzgyMTM4Ij4gICAgPGFuaW1hdGVUcmFuc2Zvcm0gYXR0cmlidXRlTmFtZT0idHJhbnNmb3JtIiB0eXBlPSJyb3RhdGUiIHJlcGVhdENvdW50PSJpbmRlZmluaXRlIiBkdXI9IjFzIiB2YWx1ZXM9IjAgNTAgNTA7MzYwIDUwIDUwIiBrZXlUaW1lcz0iMDsxIj48L2FuaW1hdGVUcmFuc2Zvcm0+ICA8L2NpcmNsZT48L3N2Zz4=\\\");\\n  background-size: auto calc(min(50%, 400px));\\n}\",{\"id\":\"p2737\"},{\"id\":\"p2735\"},{\"id\":\"p2736\"}],\"margin\":0,\"sizing_mode\":\"stretch_width\",\"align\":\"start\"}},{\"type\":\"object\",\"name\":\"Figure\",\"id\":\"p2751\",\"attributes\":{\"width\":700,\"height\":300,\"margin\":[5,10],\"sizing_mode\":\"fixed\",\"align\":\"start\",\"x_range\":{\"type\":\"object\",\"name\":\"FactorRange\",\"id\":\"p2739\",\"attributes\":{\"tags\":[[[\"MONTH\",\"MONTH\",null]],[]],\"factors\":[\"2004-01\",\"2004-02\",\"2004-03\",\"2004-04\",\"2004-05\",\"2004-06\",\"2004-07\",\"2004-08\",\"2004-09\",\"2004-10\",\"2004-11\",\"2004-12\",\"2005-01\",\"2005-02\",\"2005-03\",\"2005-04\",\"2005-05\",\"2005-06\",\"2005-07\",\"2005-08\",\"2005-09\",\"2005-10\",\"2005-11\",\"2005-12\",\"2006-01\",\"2006-02\",\"2006-03\",\"2006-04\",\"2006-05\",\"2006-06\",\"2006-07\",\"2006-08\",\"2006-09\",\"2006-10\",\"2006-11\",\"2006-12\",\"2007-01\",\"2007-02\",\"2007-03\",\"2007-04\",\"2007-05\",\"2007-06\",\"2007-07\",\"2007-08\",\"2007-09\",\"2007-10\",\"2007-11\",\"2007-12\",\"2008-01\",\"2008-02\",\"2008-03\",\"2008-04\",\"2008-05\",\"2008-06\",\"2008-07\",\"2008-08\",\"2008-09\",\"2008-10\",\"2008-11\",\"2008-12\",\"2009-01\",\"2009-02\",\"2009-03\",\"2009-04\",\"2009-05\",\"2009-06\",\"2009-07\",\"2009-08\",\"2009-09\",\"2009-10\",\"2009-11\",\"2009-12\",\"2010-01\",\"2010-02\",\"2010-03\",\"2010-04\",\"2010-05\",\"2010-06\",\"2010-07\",\"2010-08\",\"2010-09\",\"2010-10\",\"2010-11\",\"2010-12\",\"2011-01\",\"2011-02\",\"2011-03\",\"2011-04\",\"2011-05\",\"2011-06\",\"2011-07\",\"2011-08\",\"2011-09\",\"2011-10\",\"2011-11\",\"2011-12\",\"2012-01\",\"2012-02\",\"2012-03\",\"2012-04\",\"2012-05\",\"2012-06\",\"2012-07\",\"2012-08\",\"2012-09\",\"2012-10\",\"2012-11\",\"2012-12\",\"2013-01\",\"2013-02\",\"2013-03\",\"2013-04\",\"2013-05\",\"2013-06\",\"2013-07\",\"2013-08\",\"2013-09\",\"2013-10\",\"2013-11\",\"2013-12\",\"2014-01\",\"2014-02\",\"2014-03\",\"2014-04\",\"2014-05\",\"2014-06\",\"2014-07\",\"2014-08\",\"2014-09\",\"2014-10\",\"2014-11\",\"2014-12\",\"2015-01\",\"2015-02\",\"2015-03\",\"2015-04\",\"2015-05\",\"2015-06\",\"2015-07\",\"2015-08\",\"2015-09\",\"2015-10\",\"2015-11\",\"2015-12\",\"2016-01\",\"2016-02\",\"2016-03\",\"2016-04\",\"2016-05\",\"2016-06\",\"2016-07\",\"2016-08\",\"2016-09\",\"2016-10\",\"2016-11\",\"2016-12\",\"2017-01\",\"2017-02\",\"2017-03\",\"2017-04\",\"2017-05\",\"2017-06\",\"2017-07\",\"2017-08\",\"2017-09\",\"2017-10\",\"2017-11\",\"2017-12\",\"2018-01\",\"2018-02\",\"2018-03\",\"2018-04\",\"2018-05\",\"2018-06\",\"2018-07\",\"2018-08\",\"2018-09\",\"2018-10\",\"2018-11\",\"2018-12\",\"2019-01\",\"2019-02\",\"2019-03\",\"2019-04\",\"2019-05\",\"2019-06\",\"2019-07\",\"2019-08\",\"2019-09\",\"2019-10\",\"2019-11\",\"2019-12\",\"2020-01\",\"2020-02\",\"2020-03\",\"2020-04\",\"2020-05\",\"2020-06\",\"2020-07\",\"2020-08\"]}},\"y_range\":{\"type\":\"object\",\"name\":\"Range1d\",\"id\":\"p2740\",\"attributes\":{\"name\":\"UE_BENEFITS_WEB_SEARCH\",\"tags\":[[[\"UE_BENEFITS_WEB_SEARCH\",\"UE_BENEFITS_WEB_SEARCH\",null]],{\"type\":\"map\",\"entries\":[[\"invert_yaxis\",false],[\"autorange\",false]]}],\"start\":-5.600000000000001,\"end\":109.6,\"reset_start\":-5.600000000000001,\"reset_end\":109.6}},\"x_scale\":{\"type\":\"object\",\"name\":\"CategoricalScale\",\"id\":\"p2761\"},\"y_scale\":{\"type\":\"object\",\"name\":\"LinearScale\",\"id\":\"p2762\"},\"extra_y_ranges\":{\"type\":\"map\",\"entries\":[[\"UNRATE\",{\"type\":\"object\",\"name\":\"Range1d\",\"id\":\"p2741\",\"attributes\":{\"name\":\"UNRATE\",\"tags\":[[[\"UNRATE\",\"UNRATE\",null]],{\"type\":\"map\",\"entries\":[[\"invert_yaxis\",false],[\"autorange\",false]]}],\"start\":2.38,\"end\":15.819999999999999,\"reset_start\":2.38,\"reset_end\":15.819999999999999}}]]},\"extra_y_scales\":{\"type\":\"map\",\"entries\":[[\"UNRATE\",{\"type\":\"object\",\"name\":\"LinearScale\",\"id\":\"p2744\"}]]},\"title\":{\"type\":\"object\",\"name\":\"Title\",\"id\":\"p2754\",\"attributes\":{\"text\":\"Unemployment Benefits in the U.S. vs the U/E Rate\",\"text_color\":\"black\",\"text_font_size\":\"15pt\"}},\"renderers\":[{\"type\":\"object\",\"name\":\"GlyphRenderer\",\"id\":\"p2795\",\"attributes\":{\"name\":\"Search\",\"data_source\":{\"type\":\"object\",\"name\":\"ColumnDataSource\",\"id\":\"p2786\",\"attributes\":{\"selected\":{\"type\":\"object\",\"name\":\"Selection\",\"id\":\"p2787\",\"attributes\":{\"indices\":[],\"line_indices\":[]}},\"selection_policy\":{\"type\":\"object\",\"name\":\"UnionRenderers\",\"id\":\"p2788\"},\"data\":{\"type\":\"map\",\"entries\":[[\"MONTH\",[\"2004-01\",\"2004-02\",\"2004-03\",\"2004-04\",\"2004-05\",\"2004-06\",\"2004-07\",\"2004-08\",\"2004-09\",\"2004-10\",\"2004-11\",\"2004-12\",\"2005-01\",\"2005-02\",\"2005-03\",\"2005-04\",\"2005-05\",\"2005-06\",\"2005-07\",\"2005-08\",\"2005-09\",\"2005-10\",\"2005-11\",\"2005-12\",\"2006-01\",\"2006-02\",\"2006-03\",\"2006-04\",\"2006-05\",\"2006-06\",\"2006-07\",\"2006-08\",\"2006-09\",\"2006-10\",\"2006-11\",\"2006-12\",\"2007-01\",\"2007-02\",\"2007-03\",\"2007-04\",\"2007-05\",\"2007-06\",\"2007-07\",\"2007-08\",\"2007-09\",\"2007-10\",\"2007-11\",\"2007-12\",\"2008-01\",\"2008-02\",\"2008-03\",\"2008-04\",\"2008-05\",\"2008-06\",\"2008-07\",\"2008-08\",\"2008-09\",\"2008-10\",\"2008-11\",\"2008-12\",\"2009-01\",\"2009-02\",\"2009-03\",\"2009-04\",\"2009-05\",\"2009-06\",\"2009-07\",\"2009-08\",\"2009-09\",\"2009-10\",\"2009-11\",\"2009-12\",\"2010-01\",\"2010-02\",\"2010-03\",\"2010-04\",\"2010-05\",\"2010-06\",\"2010-07\",\"2010-08\",\"2010-09\",\"2010-10\",\"2010-11\",\"2010-12\",\"2011-01\",\"2011-02\",\"2011-03\",\"2011-04\",\"2011-05\",\"2011-06\",\"2011-07\",\"2011-08\",\"2011-09\",\"2011-10\",\"2011-11\",\"2011-12\",\"2012-01\",\"2012-02\",\"2012-03\",\"2012-04\",\"2012-05\",\"2012-06\",\"2012-07\",\"2012-08\",\"2012-09\",\"2012-10\",\"2012-11\",\"2012-12\",\"2013-01\",\"2013-02\",\"2013-03\",\"2013-04\",\"2013-05\",\"2013-06\",\"2013-07\",\"2013-08\",\"2013-09\",\"2013-10\",\"2013-11\",\"2013-12\",\"2014-01\",\"2014-02\",\"2014-03\",\"2014-04\",\"2014-05\",\"2014-06\",\"2014-07\",\"2014-08\",\"2014-09\",\"2014-10\",\"2014-11\",\"2014-12\",\"2015-01\",\"2015-02\",\"2015-03\",\"2015-04\",\"2015-05\",\"2015-06\",\"2015-07\",\"2015-08\",\"2015-09\",\"2015-10\",\"2015-11\",\"2015-12\",\"2016-01\",\"2016-02\",\"2016-03\",\"2016-04\",\"2016-05\",\"2016-06\",\"2016-07\",\"2016-08\",\"2016-09\",\"2016-10\",\"2016-11\",\"2016-12\",\"2017-01\",\"2017-02\",\"2017-03\",\"2017-04\",\"2017-05\",\"2017-06\",\"2017-07\",\"2017-08\",\"2017-09\",\"2017-10\",\"2017-11\",\"2017-12\",\"2018-01\",\"2018-02\",\"2018-03\",\"2018-04\",\"2018-05\",\"2018-06\",\"2018-07\",\"2018-08\",\"2018-09\",\"2018-10\",\"2018-11\",\"2018-12\",\"2019-01\",\"2019-02\",\"2019-03\",\"2019-04\",\"2019-05\",\"2019-06\",\"2019-07\",\"2019-08\",\"2019-09\",\"2019-10\",\"2019-11\",\"2019-12\",\"2020-01\",\"2020-02\",\"2020-03\",\"2020-04\",\"2020-05\",\"2020-06\",\"2020-07\",\"2020-08\"]],[\"UE_BENEFITS_WEB_SEARCH\",{\"type\":\"ndarray\",\"array\":{\"type\":\"bytes\",\"data\":\"CQAAAAgAAAAHAAAACAAAAAYAAAAHAAAABwAAAAcAAAAGAAAABgAAAAYAAAAGAAAABwAAAAYAAAAGAAAABgAAAAUAAAAGAAAABwAAAAcAAAAGAAAABQAAAAUAAAAFAAAABgAAAAYAAAAFAAAABQAAAAYAAAAGAAAABgAAAAYAAAAFAAAABQAAAAYAAAAGAAAACAAAAAcAAAAGAAAABgAAAAYAAAAHAAAABwAAAAcAAAAGAAAABwAAAAYAAAAHAAAACgAAAAgAAAAIAAAACAAAAAgAAAAKAAAACgAAAAoAAAAMAAAADgAAABIAAAATAAAAGQAAABoAAAAWAAAAFAAAABMAAAAUAAAAFQAAABYAAAAUAAAAFQAAABcAAAATAAAAFAAAABIAAAAUAAAAEgAAABAAAAAVAAAAGQAAAA8AAAANAAAADQAAAA4AAAASAAAAEQAAAA0AAAAMAAAADAAAAAwAAAANAAAADAAAAA0AAAAMAAAADAAAAAsAAAAMAAAADQAAAAsAAAAKAAAACgAAAAoAAAAKAAAACwAAAAkAAAAKAAAACgAAAAsAAAANAAAADgAAAAkAAAAJAAAACQAAAAkAAAAJAAAACQAAAAgAAAAIAAAACgAAAAgAAAAKAAAAEgAAAA4AAAAMAAAACwAAAAkAAAAIAAAABwAAAAYAAAAGAAAABgAAAAYAAAAFAAAABgAAAAYAAAAFAAAABQAAAAQAAAAFAAAABQAAAAUAAAAFAAAABQAAAAUAAAAFAAAABgAAAAUAAAAFAAAABQAAAAUAAAAFAAAABQAAAAUAAAAEAAAABQAAAAQAAAAFAAAABgAAAAUAAAAFAAAABAAAAAQAAAAEAAAABQAAAAUAAAAFAAAABAAAAAQAAAAFAAAABgAAAAUAAAAEAAAABAAAAAQAAAAEAAAABAAAAAQAAAAEAAAABAAAAAQAAAAFAAAABgAAAAUAAAAEAAAABAAAAAQAAAAEAAAABQAAAAQAAAAEAAAABAAAAAQAAAAFAAAABQAAAAUAAAAvAAAAZAAAAD8AAAA1AAAANgAAADIAAAA=\"},\"shape\":[200],\"dtype\":\"int32\",\"order\":\"little\"}]]}}},\"view\":{\"type\":\"object\",\"name\":\"CDSView\",\"id\":\"p2796\",\"attributes\":{\"filter\":{\"type\":\"object\",\"name\":\"AllIndices\",\"id\":\"p2797\"}}},\"glyph\":{\"type\":\"object\",\"name\":\"Line\",\"id\":\"p2792\",\"attributes\":{\"tags\":[\"apply_ranges\"],\"x\":{\"type\":\"field\",\"field\":\"MONTH\"},\"y\":{\"type\":\"field\",\"field\":\"UE_BENEFITS_WEB_SEARCH\"},\"line_color\":\"#30a2da\",\"line_width\":2}},\"selection_glyph\":{\"type\":\"object\",\"name\":\"Line\",\"id\":\"p2800\",\"attributes\":{\"tags\":[\"apply_ranges\"],\"x\":{\"type\":\"field\",\"field\":\"MONTH\"},\"y\":{\"type\":\"field\",\"field\":\"UE_BENEFITS_WEB_SEARCH\"},\"line_color\":\"#30a2da\",\"line_width\":2}},\"nonselection_glyph\":{\"type\":\"object\",\"name\":\"Line\",\"id\":\"p2793\",\"attributes\":{\"tags\":[\"apply_ranges\"],\"x\":{\"type\":\"field\",\"field\":\"MONTH\"},\"y\":{\"type\":\"field\",\"field\":\"UE_BENEFITS_WEB_SEARCH\"},\"line_color\":\"#30a2da\",\"line_alpha\":0.1,\"line_width\":2}},\"muted_glyph\":{\"type\":\"object\",\"name\":\"Line\",\"id\":\"p2794\",\"attributes\":{\"tags\":[\"apply_ranges\"],\"x\":{\"type\":\"field\",\"field\":\"MONTH\"},\"y\":{\"type\":\"field\",\"field\":\"UE_BENEFITS_WEB_SEARCH\"},\"line_color\":\"#30a2da\",\"line_alpha\":0.2,\"line_width\":2}}}},{\"type\":\"object\",\"name\":\"GlyphRenderer\",\"id\":\"p2810\",\"attributes\":{\"name\":\"Unemployment Rate\",\"y_range_name\":\"UNRATE\",\"data_source\":{\"type\":\"object\",\"name\":\"ColumnDataSource\",\"id\":\"p2801\",\"attributes\":{\"selected\":{\"type\":\"object\",\"name\":\"Selection\",\"id\":\"p2802\",\"attributes\":{\"indices\":[],\"line_indices\":[]}},\"selection_policy\":{\"type\":\"object\",\"name\":\"UnionRenderers\",\"id\":\"p2803\"},\"data\":{\"type\":\"map\",\"entries\":[[\"MONTH\",[\"2004-01\",\"2004-02\",\"2004-03\",\"2004-04\",\"2004-05\",\"2004-06\",\"2004-07\",\"2004-08\",\"2004-09\",\"2004-10\",\"2004-11\",\"2004-12\",\"2005-01\",\"2005-02\",\"2005-03\",\"2005-04\",\"2005-05\",\"2005-06\",\"2005-07\",\"2005-08\",\"2005-09\",\"2005-10\",\"2005-11\",\"2005-12\",\"2006-01\",\"2006-02\",\"2006-03\",\"2006-04\",\"2006-05\",\"2006-06\",\"2006-07\",\"2006-08\",\"2006-09\",\"2006-10\",\"2006-11\",\"2006-12\",\"2007-01\",\"2007-02\",\"2007-03\",\"2007-04\",\"2007-05\",\"2007-06\",\"2007-07\",\"2007-08\",\"2007-09\",\"2007-10\",\"2007-11\",\"2007-12\",\"2008-01\",\"2008-02\",\"2008-03\",\"2008-04\",\"2008-05\",\"2008-06\",\"2008-07\",\"2008-08\",\"2008-09\",\"2008-10\",\"2008-11\",\"2008-12\",\"2009-01\",\"2009-02\",\"2009-03\",\"2009-04\",\"2009-05\",\"2009-06\",\"2009-07\",\"2009-08\",\"2009-09\",\"2009-10\",\"2009-11\",\"2009-12\",\"2010-01\",\"2010-02\",\"2010-03\",\"2010-04\",\"2010-05\",\"2010-06\",\"2010-07\",\"2010-08\",\"2010-09\",\"2010-10\",\"2010-11\",\"2010-12\",\"2011-01\",\"2011-02\",\"2011-03\",\"2011-04\",\"2011-05\",\"2011-06\",\"2011-07\",\"2011-08\",\"2011-09\",\"2011-10\",\"2011-11\",\"2011-12\",\"2012-01\",\"2012-02\",\"2012-03\",\"2012-04\",\"2012-05\",\"2012-06\",\"2012-07\",\"2012-08\",\"2012-09\",\"2012-10\",\"2012-11\",\"2012-12\",\"2013-01\",\"2013-02\",\"2013-03\",\"2013-04\",\"2013-05\",\"2013-06\",\"2013-07\",\"2013-08\",\"2013-09\",\"2013-10\",\"2013-11\",\"2013-12\",\"2014-01\",\"2014-02\",\"2014-03\",\"2014-04\",\"2014-05\",\"2014-06\",\"2014-07\",\"2014-08\",\"2014-09\",\"2014-10\",\"2014-11\",\"2014-12\",\"2015-01\",\"2015-02\",\"2015-03\",\"2015-04\",\"2015-05\",\"2015-06\",\"2015-07\",\"2015-08\",\"2015-09\",\"2015-10\",\"2015-11\",\"2015-12\",\"2016-01\",\"2016-02\",\"2016-03\",\"2016-04\",\"2016-05\",\"2016-06\",\"2016-07\",\"2016-08\",\"2016-09\",\"2016-10\",\"2016-11\",\"2016-12\",\"2017-01\",\"2017-02\",\"2017-03\",\"2017-04\",\"2017-05\",\"2017-06\",\"2017-07\",\"2017-08\",\"2017-09\",\"2017-10\",\"2017-11\",\"2017-12\",\"2018-01\",\"2018-02\",\"2018-03\",\"2018-04\",\"2018-05\",\"2018-06\",\"2018-07\",\"2018-08\",\"2018-09\",\"2018-10\",\"2018-11\",\"2018-12\",\"2019-01\",\"2019-02\",\"2019-03\",\"2019-04\",\"2019-05\",\"2019-06\",\"2019-07\",\"2019-08\",\"2019-09\",\"2019-10\",\"2019-11\",\"2019-12\",\"2020-01\",\"2020-02\",\"2020-03\",\"2020-04\",\"2020-05\",\"2020-06\",\"2020-07\",\"2020-08\"]],[\"UNRATE\",{\"type\":\"ndarray\",\"array\":{\"type\":\"bytes\",\"data\":\"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\"},\"shape\":[200],\"dtype\":\"float64\",\"order\":\"little\"}]]}}},\"view\":{\"type\":\"object\",\"name\":\"CDSView\",\"id\":\"p2811\",\"attributes\":{\"filter\":{\"type\":\"object\",\"name\":\"AllIndices\",\"id\":\"p2812\"}}},\"glyph\":{\"type\":\"object\",\"name\":\"Line\",\"id\":\"p2807\",\"attributes\":{\"tags\":[\"apply_ranges\"],\"x\":{\"type\":\"field\",\"field\":\"MONTH\"},\"y\":{\"type\":\"field\",\"field\":\"UNRATE\"},\"line_color\":\"#fc4f30\",\"line_width\":2,\"line_dash\":[6]}},\"selection_glyph\":{\"type\":\"object\",\"name\":\"Line\",\"id\":\"p2814\",\"attributes\":{\"tags\":[\"apply_ranges\"],\"x\":{\"type\":\"field\",\"field\":\"MONTH\"},\"y\":{\"type\":\"field\",\"field\":\"UNRATE\"},\"line_color\":\"#fc4f30\",\"line_width\":2,\"line_dash\":[6]}},\"nonselection_glyph\":{\"type\":\"object\",\"name\":\"Line\",\"id\":\"p2808\",\"attributes\":{\"tags\":[\"apply_ranges\"],\"x\":{\"type\":\"field\",\"field\":\"MONTH\"},\"y\":{\"type\":\"field\",\"field\":\"UNRATE\"},\"line_color\":\"#fc4f30\",\"line_alpha\":0.1,\"line_width\":2,\"line_dash\":[6]}},\"muted_glyph\":{\"type\":\"object\",\"name\":\"Line\",\"id\":\"p2809\",\"attributes\":{\"tags\":[\"apply_ranges\"],\"x\":{\"type\":\"field\",\"field\":\"MONTH\"},\"y\":{\"type\":\"field\",\"field\":\"UNRATE\"},\"line_color\":\"#fc4f30\",\"line_alpha\":0.2,\"line_width\":2,\"line_dash\":[6]}}}}],\"toolbar\":{\"type\":\"object\",\"name\":\"Toolbar\",\"id\":\"p2760\",\"attributes\":{\"tools\":[{\"type\":\"object\",\"name\":\"WheelZoomTool\",\"id\":\"p2746\",\"attributes\":{\"tags\":[\"hv_created\"],\"renderers\":\"auto\",\"zoom_together\":\"none\"}},{\"type\":\"object\",\"name\":\"HoverTool\",\"id\":\"p2747\",\"attributes\":{\"tags\":[\"hv_created\"],\"renderers\":[{\"id\":\"p2795\"}],\"tooltips\":[[\"MONTH\",\"@{MONTH}\"],[\"UE_BENEFITS_WEB_SEARCH\",\"@{UE_BENEFITS_WEB_SEARCH}\"]]}},{\"type\":\"object\",\"name\":\"HoverTool\",\"id\":\"p2750\",\"attributes\":{\"tags\":[\"hv_created\"],\"renderers\":[{\"id\":\"p2810\"}],\"tooltips\":[[\"MONTH\",\"@{MONTH}\"],[\"UNRATE\",\"@{UNRATE}\"]]}},{\"type\":\"object\",\"name\":\"SaveTool\",\"id\":\"p2773\"},{\"type\":\"object\",\"name\":\"PanTool\",\"id\":\"p2774\"},{\"type\":\"object\",\"name\":\"BoxZoomTool\",\"id\":\"p2775\",\"attributes\":{\"overlay\":{\"type\":\"object\",\"name\":\"BoxAnnotation\",\"id\":\"p2776\",\"attributes\":{\"syncable\":false,\"level\":\"overlay\",\"visible\":false,\"left\":{\"type\":\"number\",\"value\":\"nan\"},\"right\":{\"type\":\"number\",\"value\":\"nan\"},\"top\":{\"type\":\"number\",\"value\":\"nan\"},\"bottom\":{\"type\":\"number\",\"value\":\"nan\"},\"left_units\":\"canvas\",\"right_units\":\"canvas\",\"top_units\":\"canvas\",\"bottom_units\":\"canvas\",\"line_color\":\"black\",\"line_alpha\":1.0,\"line_width\":2,\"line_dash\":[4,4],\"fill_color\":\"lightgrey\",\"fill_alpha\":0.5}}}},{\"type\":\"object\",\"name\":\"ResetTool\",\"id\":\"p2781\"}],\"active_drag\":{\"id\":\"p2774\"},\"active_scroll\":{\"id\":\"p2746\"}}},\"left\":[{\"type\":\"object\",\"name\":\"LinearAxis\",\"id\":\"p2768\",\"attributes\":{\"ticker\":{\"type\":\"object\",\"name\":\"BasicTicker\",\"id\":\"p2769\",\"attributes\":{\"mantissas\":[1,2,5]}},\"formatter\":{\"type\":\"object\",\"name\":\"BasicTickFormatter\",\"id\":\"p2770\"},\"axis_label\":\"FRED U/E Rate\",\"axis_label_text_font_size\":\"16.25px\",\"major_label_policy\":{\"type\":\"object\",\"name\":\"AllLabels\",\"id\":\"p2771\"},\"major_label_text_font_size\":\"13.75px\"}}],\"right\":[{\"type\":\"object\",\"name\":\"LinearAxis\",\"id\":\"p2782\",\"attributes\":{\"y_range_name\":\"UNRATE\",\"ticker\":{\"type\":\"object\",\"name\":\"BasicTicker\",\"id\":\"p2783\",\"attributes\":{\"mantissas\":[1,2,5]}},\"formatter\":{\"type\":\"object\",\"name\":\"BasicTickFormatter\",\"id\":\"p2784\"},\"axis_label\":\"UNRATE\",\"axis_label_text_font_size\":\"16.25px\",\"major_label_policy\":{\"type\":\"object\",\"name\":\"AllLabels\",\"id\":\"p2785\"},\"major_label_text_font_size\":\"13.75px\"}}],\"below\":[{\"type\":\"object\",\"name\":\"CategoricalAxis\",\"id\":\"p2763\",\"attributes\":{\"ticker\":{\"type\":\"object\",\"name\":\"CategoricalTicker\",\"id\":\"p2764\"},\"formatter\":{\"type\":\"object\",\"name\":\"CategoricalTickFormatter\",\"id\":\"p2765\"},\"axis_label\":\"MONTH\",\"major_label_policy\":{\"type\":\"object\",\"name\":\"AllLabels\",\"id\":\"p2766\"}}}],\"center\":[{\"type\":\"object\",\"name\":\"Grid\",\"id\":\"p2767\",\"attributes\":{\"axis\":{\"id\":\"p2763\"},\"ticker\":{\"id\":\"p2764\"}}},{\"type\":\"object\",\"name\":\"Grid\",\"id\":\"p2772\",\"attributes\":{\"dimension\":1,\"axis\":{\"id\":\"p2768\"},\"ticker\":{\"id\":\"p2769\"}}},{\"type\":\"object\",\"name\":\"Legend\",\"id\":\"p2798\",\"attributes\":{\"title_text_font_size\":\"16.25px\",\"click_policy\":\"mute\",\"label_text_font_size\":\"16.25px\",\"items\":[{\"type\":\"object\",\"name\":\"LegendItem\",\"id\":\"p2799\",\"attributes\":{\"label\":{\"type\":\"value\",\"value\":\"Search\"},\"renderers\":[{\"id\":\"p2795\"}]}},{\"type\":\"object\",\"name\":\"LegendItem\",\"id\":\"p2813\",\"attributes\":{\"label\":{\"type\":\"value\",\"value\":\"Unemployment Rate\"},\"renderers\":[{\"id\":\"p2810\"}]}}]}}],\"min_border_top\":10,\"min_border_bottom\":10,\"min_border_left\":10,\"min_border_right\":10,\"output_backend\":\"webgl\"}},{\"type\":\"object\",\"name\":\"Spacer\",\"id\":\"p2816\",\"attributes\":{\"name\":\"HSpacer05449\",\"stylesheets\":[\"\\n:host(.pn-loading.pn-arc):before, .pn-loading.pn-arc:before {\\n  background-image: url(\\\"data:image/svg+xml;base64,PHN2ZyB4bWxucz0iaHR0cDovL3d3dy53My5vcmcvMjAwMC9zdmciIHN0eWxlPSJtYXJnaW46IGF1dG87IGJhY2tncm91bmQ6IG5vbmU7IGRpc3BsYXk6IGJsb2NrOyBzaGFwZS1yZW5kZXJpbmc6IGF1dG87IiB2aWV3Qm94PSIwIDAgMTAwIDEwMCIgcHJlc2VydmVBc3BlY3RSYXRpbz0ieE1pZFlNaWQiPiAgPGNpcmNsZSBjeD0iNTAiIGN5PSI1MCIgZmlsbD0ibm9uZSIgc3Ryb2tlPSIjYzNjM2MzIiBzdHJva2Utd2lkdGg9IjEwIiByPSIzNSIgc3Ryb2tlLWRhc2hhcnJheT0iMTY0LjkzMzYxNDMxMzQ2NDE1IDU2Ljk3Nzg3MTQzNzgyMTM4Ij4gICAgPGFuaW1hdGVUcmFuc2Zvcm0gYXR0cmlidXRlTmFtZT0idHJhbnNmb3JtIiB0eXBlPSJyb3RhdGUiIHJlcGVhdENvdW50PSJpbmRlZmluaXRlIiBkdXI9IjFzIiB2YWx1ZXM9IjAgNTAgNTA7MzYwIDUwIDUwIiBrZXlUaW1lcz0iMDsxIj48L2FuaW1hdGVUcmFuc2Zvcm0+ICA8L2NpcmNsZT48L3N2Zz4=\\\");\\n  background-size: auto calc(min(50%, 400px));\\n}\",{\"id\":\"p2737\"},{\"id\":\"p2735\"},{\"id\":\"p2736\"}],\"margin\":0,\"sizing_mode\":\"stretch_width\",\"align\":\"start\"}}]}}],\"defs\":[{\"type\":\"model\",\"name\":\"ReactiveHTML1\"},{\"type\":\"model\",\"name\":\"FlexBox1\",\"properties\":[{\"name\":\"align_content\",\"kind\":\"Any\",\"default\":\"flex-start\"},{\"name\":\"align_items\",\"kind\":\"Any\",\"default\":\"flex-start\"},{\"name\":\"flex_direction\",\"kind\":\"Any\",\"default\":\"row\"},{\"name\":\"flex_wrap\",\"kind\":\"Any\",\"default\":\"wrap\"},{\"name\":\"justify_content\",\"kind\":\"Any\",\"default\":\"flex-start\"}]},{\"type\":\"model\",\"name\":\"FloatPanel1\",\"properties\":[{\"name\":\"config\",\"kind\":\"Any\",\"default\":{\"type\":\"map\"}},{\"name\":\"contained\",\"kind\":\"Any\",\"default\":true},{\"name\":\"position\",\"kind\":\"Any\",\"default\":\"right-top\"},{\"name\":\"offsetx\",\"kind\":\"Any\",\"default\":null},{\"name\":\"offsety\",\"kind\":\"Any\",\"default\":null},{\"name\":\"theme\",\"kind\":\"Any\",\"default\":\"primary\"},{\"name\":\"status\",\"kind\":\"Any\",\"default\":\"normalized\"}]},{\"type\":\"model\",\"name\":\"GridStack1\",\"properties\":[{\"name\":\"mode\",\"kind\":\"Any\",\"default\":\"warn\"},{\"name\":\"ncols\",\"kind\":\"Any\",\"default\":null},{\"name\":\"nrows\",\"kind\":\"Any\",\"default\":null},{\"name\":\"allow_resize\",\"kind\":\"Any\",\"default\":true},{\"name\":\"allow_drag\",\"kind\":\"Any\",\"default\":true},{\"name\":\"state\",\"kind\":\"Any\",\"default\":[]}]},{\"type\":\"model\",\"name\":\"drag1\",\"properties\":[{\"name\":\"slider_width\",\"kind\":\"Any\",\"default\":5},{\"name\":\"slider_color\",\"kind\":\"Any\",\"default\":\"black\"},{\"name\":\"value\",\"kind\":\"Any\",\"default\":50}]},{\"type\":\"model\",\"name\":\"click1\",\"properties\":[{\"name\":\"terminal_output\",\"kind\":\"Any\",\"default\":\"\"},{\"name\":\"debug_name\",\"kind\":\"Any\",\"default\":\"\"},{\"name\":\"clears\",\"kind\":\"Any\",\"default\":0}]},{\"type\":\"model\",\"name\":\"copy_to_clipboard1\",\"properties\":[{\"name\":\"fill\",\"kind\":\"Any\",\"default\":\"none\"},{\"name\":\"value\",\"kind\":\"Any\",\"default\":null}]},{\"type\":\"model\",\"name\":\"FastWrapper1\",\"properties\":[{\"name\":\"object\",\"kind\":\"Any\",\"default\":null},{\"name\":\"style\",\"kind\":\"Any\",\"default\":null}]},{\"type\":\"model\",\"name\":\"NotificationAreaBase1\",\"properties\":[{\"name\":\"js_events\",\"kind\":\"Any\",\"default\":{\"type\":\"map\"}},{\"name\":\"position\",\"kind\":\"Any\",\"default\":\"bottom-right\"},{\"name\":\"_clear\",\"kind\":\"Any\",\"default\":0}]},{\"type\":\"model\",\"name\":\"NotificationArea1\",\"properties\":[{\"name\":\"js_events\",\"kind\":\"Any\",\"default\":{\"type\":\"map\"}},{\"name\":\"notifications\",\"kind\":\"Any\",\"default\":[]},{\"name\":\"position\",\"kind\":\"Any\",\"default\":\"bottom-right\"},{\"name\":\"_clear\",\"kind\":\"Any\",\"default\":0},{\"name\":\"types\",\"kind\":\"Any\",\"default\":[{\"type\":\"map\",\"entries\":[[\"type\",\"warning\"],[\"background\",\"#ffc107\"],[\"icon\",{\"type\":\"map\",\"entries\":[[\"className\",\"fas fa-exclamation-triangle\"],[\"tagName\",\"i\"],[\"color\",\"white\"]]}]]},{\"type\":\"map\",\"entries\":[[\"type\",\"info\"],[\"background\",\"#007bff\"],[\"icon\",{\"type\":\"map\",\"entries\":[[\"className\",\"fas fa-info-circle\"],[\"tagName\",\"i\"],[\"color\",\"white\"]]}]]}]}]},{\"type\":\"model\",\"name\":\"Notification\",\"properties\":[{\"name\":\"background\",\"kind\":\"Any\",\"default\":null},{\"name\":\"duration\",\"kind\":\"Any\",\"default\":3000},{\"name\":\"icon\",\"kind\":\"Any\",\"default\":null},{\"name\":\"message\",\"kind\":\"Any\",\"default\":\"\"},{\"name\":\"notification_type\",\"kind\":\"Any\",\"default\":null},{\"name\":\"_destroyed\",\"kind\":\"Any\",\"default\":false}]},{\"type\":\"model\",\"name\":\"TemplateActions1\",\"properties\":[{\"name\":\"open_modal\",\"kind\":\"Any\",\"default\":0},{\"name\":\"close_modal\",\"kind\":\"Any\",\"default\":0}]},{\"type\":\"model\",\"name\":\"BootstrapTemplateActions1\",\"properties\":[{\"name\":\"open_modal\",\"kind\":\"Any\",\"default\":0},{\"name\":\"close_modal\",\"kind\":\"Any\",\"default\":0}]},{\"type\":\"model\",\"name\":\"MaterialTemplateActions1\",\"properties\":[{\"name\":\"open_modal\",\"kind\":\"Any\",\"default\":0},{\"name\":\"close_modal\",\"kind\":\"Any\",\"default\":0}]}]}};\n",
       "  var render_items = [{\"docid\":\"fa987ed3-bfa6-40e3-aa33-1878b2424d50\",\"roots\":{\"p2734\":\"ab683a51-6baa-40a2-88af-7a0818ec2197\"},\"root_ids\":[\"p2734\"]}];\n",
       "  var docs = Object.values(docs_json)\n",
       "  if (!docs) {\n",
       "    return\n",
       "  }\n",
       "  const py_version = docs[0].version.replace('rc', '-rc.').replace('.dev', '-dev.')\n",
       "  function embed_document(root) {\n",
       "    var Bokeh = get_bokeh(root)\n",
       "    Bokeh.embed.embed_items_notebook(docs_json, render_items);\n",
       "    for (const render_item of render_items) {\n",
       "      for (const root_id of render_item.root_ids) {\n",
       "\tconst id_el = document.getElementById(root_id)\n",
       "\tif (id_el.children.length && (id_el.children[0].className === 'bk-root')) {\n",
       "\t  const root_el = id_el.children[0]\n",
       "\t  root_el.id = root_el.id + '-rendered'\n",
       "\t}\n",
       "      }\n",
       "    }\n",
       "  }\n",
       "  function get_bokeh(root) {\n",
       "    if (root.Bokeh === undefined) {\n",
       "      return null\n",
       "    } else if (root.Bokeh.version !== py_version) {\n",
       "      if (root.Bokeh.versions === undefined || !root.Bokeh.versions.has(py_version)) {\n",
       "\treturn null\n",
       "      }\n",
       "      return root.Bokeh.versions.get(py_version);\n",
       "    } else if (root.Bokeh.version === py_version) {\n",
       "      return root.Bokeh\n",
       "    }\n",
       "    return null\n",
       "  }\n",
       "  function is_loaded(root) {\n",
       "    var Bokeh = get_bokeh(root)\n",
       "    return (Bokeh != null && Bokeh.Panel !== undefined)\n",
       "  }\n",
       "  if (is_loaded(root)) {\n",
       "    embed_document(root);\n",
       "  } else {\n",
       "    var attempts = 0;\n",
       "    var timer = setInterval(function(root) {\n",
       "      if (is_loaded(root)) {\n",
       "        clearInterval(timer);\n",
       "        embed_document(root);\n",
       "      } else if (document.readyState == \"complete\") {\n",
       "        attempts++;\n",
       "        if (attempts > 200) {\n",
       "          clearInterval(timer);\n",
       "\t  var Bokeh = get_bokeh(root)\n",
       "\t  if (Bokeh == null || Bokeh.Panel == null) {\n",
       "            console.warn(\"Panel: ERROR: Unable to run Panel code because Bokeh or Panel library is missing\");\n",
       "\t  } else {\n",
       "\t    console.warn(\"Panel: WARNING: Attempting to render but not all required libraries could be resolved.\")\n",
       "\t    embed_document(root)\n",
       "\t  }\n",
       "        }\n",
       "      }\n",
       "    }, 25, root)\n",
       "  }\n",
       "})(window);</script>"
      ],
      "text/plain": [
       ":Overlay\n",
       "   .Curve.Search            :Curve   [MONTH]   (UE_BENEFITS_WEB_SEARCH)\n",
       "   .Curve.Unemployment_Rate :Curve   [MONTH]   (UNRATE)"
      ]
     },
     "execution_count": 60,
     "metadata": {
      "application/vnd.holoviews_exec.v0+json": {
       "id": "p2734"
      }
     },
     "output_type": "execute_result"
    }
   ],
   "source": [
    "plt.extension('bokeh')\n",
    "plot1 = df_unemployment_2020.plot(x='MONTH', y='UE_BENEFITS_WEB_SEARCH', label=\"Search\", ylabel='FRED U/E Rate')\n",
    "plot2 = df_unemployment_2020.plot(x='MONTH', y='UNRATE', label=\"Unemployment Rate\", line_dash=\"dashed\")\n",
    "(plot1 * plot2).opts(multi_y=True, fontscale=1.25, title=\"Unemployment Benefits in the U.S. vs the U/E Rate\", autorange='x', show_grid=True)"
   ]
  },
  {
   "cell_type": "code",
   "execution_count": null,
   "metadata": {},
   "outputs": [],
   "source": []
  }
 ],
 "metadata": {
  "kernelspec": {
   "display_name": "Python 3 (ipykernel)",
   "language": "python",
   "name": "python3"
  },
  "language_info": {
   "codemirror_mode": {
    "name": "ipython",
    "version": 3
   },
   "file_extension": ".py",
   "mimetype": "text/x-python",
   "name": "python",
   "nbconvert_exporter": "python",
   "pygments_lexer": "ipython3",
   "version": "3.10.12"
  }
 },
 "nbformat": 4,
 "nbformat_minor": 4
}
